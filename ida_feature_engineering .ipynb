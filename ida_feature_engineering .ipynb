{
 "cells": [
  {
   "cell_type": "markdown",
   "metadata": {},
   "source": [
    "### FEATURE ENGINEERING"
   ]
  },
  {
   "cell_type": "code",
   "execution_count": 293,
   "metadata": {},
   "outputs": [],
   "source": [
    "import pandas as pd\n",
    "import numpy as np\n",
    "%matplotlib inline \n",
    "import seaborn as sns \n",
    "import matplotlib.pyplot as plt \n",
    "plt.style.use('seaborn') \n",
    "np.set_printoptions(suppress=True)\n",
    "pd.set_option('display.max_columns', 40)\n",
    "pd.set_option('display.float_format', lambda x: '%.3f' % x)"
   ]
  },
  {
   "cell_type": "code",
   "execution_count": 294,
   "metadata": {},
   "outputs": [],
   "source": [
    "df = pd.read_csv('ida_prepared.csv')"
   ]
  },
  {
   "cell_type": "markdown",
   "metadata": {},
   "source": [
    "#####  Dropping 'Africa' as a value of the column 'Country'"
   ]
  },
  {
   "cell_type": "code",
   "execution_count": 295,
   "metadata": {},
   "outputs": [],
   "source": [
    "df.drop(df.loc[df['Country'] == 'Africa'].index, inplace=True)\n"
   ]
  },
  {
   "cell_type": "markdown",
   "metadata": {},
   "source": [
    "### Which Countries have borrowed the most from the IDA?"
   ]
  },
  {
   "cell_type": "code",
   "execution_count": 296,
   "metadata": {},
   "outputs": [
    {
     "data": {
      "application/vnd.plotly.v1+json": {
       "config": {
        "plotlyServerURL": "https://plot.ly"
       },
       "data": [
        {
         "branchvalues": "total",
         "customdata": [
          [
           182965795.84616664
          ],
          [
           47502254.8662191
          ],
          [
           153605524.50200072
          ],
          [
           80078463.42046559
          ],
          [
           100484937.34812547
          ],
          [
           577567797.921488
          ],
          [
           118279076.38405031
          ],
          [
           56743773.8654298
          ],
          [
           99581099.523311
          ],
          [
           93888766.89284123
          ],
          [
           170135380.40252683
          ],
          [
           85567748.8858834
          ],
          [
           38017608.97488143
          ],
          [
           117325174.70110437
          ],
          [
           222973311.15506825
          ],
          [
           20893408.325649127
          ],
          [
           62538321.76600191
          ],
          [
           111193139.57359955
          ],
          [
           75796499.35196206
          ],
          [
           260125516.11445907
          ],
          [
           22426530.373197567
          ],
          [
           419903983.1994392
          ],
          [
           122028598.48771828
          ],
          [
           332097902.7336126
          ],
          [
           28142207.603488322
          ],
          [
           18970121.201057
          ],
          [
           182115468.80839786
          ],
          [
           14426139.424531197
          ],
          [
           119481211.0354246
          ],
          [
           643915634.4794757
          ],
          [
           69744902.6122388
          ],
          [
           45018442.88262768
          ],
          [
           93057578.88228911
          ],
          [
           233213514.7940892
          ],
          [
           30971508.2839934
          ],
          [
           95107519.07678092
          ],
          [
           72527370.50206175
          ],
          [
           64389589.505417444
          ],
          [
           72118414.04907984
          ],
          [
           135996047.6083814
          ],
          [
           617859494.5568438
          ],
          [
           226632155.91671756
          ],
          [
           270491178.34891003
          ],
          [
           240499664.1801338
          ],
          [
           585806849.0439383
          ],
          [
           50370112.88770356
          ],
          [
           65708528.26005796
          ],
          [
           65066519.62843036
          ],
          [
           240499664.1801338
          ],
          [
           54475856.13386852
          ],
          [
           132194948.59369461
          ],
          [
           146867531.91692558
          ],
          [
           143469016.746771
          ],
          [
           26591768.202910505
          ],
          [
           141609831.3945099
          ],
          [
           69442518.49060926
          ],
          [
           66563562.39866975
          ],
          [
           99132956.5477581
          ],
          [
           26525913.465913054
          ],
          [
           201683287.7850872
          ],
          [
           572968661.8049138
          ],
          [
           231765022.25534955
          ],
          [
           99573463.93449418
          ],
          [
           161288011.27123532
          ],
          [
           622112763.1436636
          ],
          [
           97053455.28977816
          ],
          [
           576964319.3374133
          ],
          [
           185330954.99815378
          ],
          [
           137856222.5998578
          ],
          [
           188873020.08963874
          ],
          [
           26364625.508078467
          ],
          [
           17692342.965368897
          ],
          [
           179150160.71947867
          ],
          [
           133904822.93370612
          ],
          [
           72485014.04824106
          ],
          [
           38374331.936364226
          ],
          [
           71260019.05870906
          ],
          [
           134708106.01901376
          ],
          [
           192226509.13703874
          ],
          [
           3607494.962702007
          ],
          [
           41944435.09408726
          ],
          [
           45483658.714849226
          ],
          [
           123172865.11571068
          ],
          [
           108704846.22144948
          ],
          [
           400344922.860529
          ],
          [
           60124916.04503345
          ],
          [
           74470582.46679099
          ],
          [
           73941031.93558998
          ],
          [
           15061963.652945079
          ],
          [
           299918639.36315876
          ],
          [
           447071702.8736501
          ],
          [
           90857257.82045293
          ],
          [
           414849614.50035745
          ],
          [
           230668080.28869265
          ],
          [
           97601890.0056355
          ],
          [
           212518207.81870288
          ],
          [
           219185754.4371616
          ],
          [
           359587262.52782494
          ],
          [
           339328443.4090784
          ],
          [
           158546764.70017412
          ],
          [
           102170258.6640845
          ],
          [
           143624042.76502502
          ],
          [
           553246654.1891394
          ]
         ],
         "domain": {
          "x": [
           0,
           1
          ],
          "y": [
           0,
           1
          ]
         },
         "hovertemplate": "labels=%{label}<br>Original Principal Amount_sum=%{value}<br>parent=%{parent}<br>id=%{id}<br>Original Principal Amount=%{color}<extra></extra>",
         "ids": [
          "SOUTH ASIA/Afghanistan",
          "EUROPE AND CENTRAL ASIA/Albania",
          "AFRICA/Angola",
          "EUROPE AND CENTRAL ASIA/Armenia",
          "EUROPE AND CENTRAL ASIA/Azerbaijan",
          "SOUTH ASIA/Bangladesh",
          "AFRICA/Benin",
          "SOUTH ASIA/Bhutan",
          "LATIN AMERICA AND CARIBBEAN/Bolivia",
          "EUROPE AND CENTRAL ASIA/Bosnia and Herzegovina",
          "AFRICA/Burkina Faso",
          "AFRICA/Burundi",
          "AFRICA/Cabo Verde",
          "EAST ASIA AND PACIFIC/Cambodia",
          "AFRICA/Cameroon",
          "LATIN AMERICA AND CARIBBEAN/Caribbean",
          "AFRICA/Central Africa",
          "AFRICA/Central African Republic",
          "AFRICA/Chad",
          "EAST ASIA AND PACIFIC/China",
          "AFRICA/Comoros",
          "AFRICA/Congo, Democratic Republic of",
          "AFRICA/Congo, Republic of",
          "AFRICA/Cote d'Ivoire",
          "MIDDLE EAST AND NORTH AFRICA/Djibouti",
          "LATIN AMERICA AND CARIBBEAN/Dominica",
          "MIDDLE EAST AND NORTH AFRICA/Egypt, Arab Republic of",
          "AFRICA/Equatorial Guinea",
          "AFRICA/Eritrea",
          "AFRICA/Ethiopia",
          "EAST ASIA AND PACIFIC/Fiji",
          "AFRICA/Gambia, The",
          "EUROPE AND CENTRAL ASIA/Georgia",
          "AFRICA/Ghana",
          "LATIN AMERICA AND CARIBBEAN/Grenada",
          "AFRICA/Guinea",
          "AFRICA/Guinea-Bissau",
          "LATIN AMERICA AND CARIBBEAN/Guyana",
          "LATIN AMERICA AND CARIBBEAN/Haiti",
          "LATIN AMERICA AND CARIBBEAN/Honduras",
          "SOUTH ASIA/India",
          "EAST ASIA AND PACIFIC/Indonesia",
          "MIDDLE EAST AND NORTH AFRICA/Iraq",
          "MIDDLE EAST AND NORTH AFRICA/Jordan",
          "AFRICA/Kenya",
          "EUROPE AND CENTRAL ASIA/Kosovo",
          "EUROPE AND CENTRAL ASIA/Kyrgyz Republic",
          "EAST ASIA AND PACIFIC/Lao People's Democratic Republic",
          "MIDDLE EAST AND NORTH AFRICA/Lebanon",
          "AFRICA/Lesotho",
          "AFRICA/Liberia",
          "AFRICA/Madagascar",
          "AFRICA/Malawi",
          "SOUTH ASIA/Maldives",
          "AFRICA/Mali",
          "AFRICA/Mauritania",
          "EUROPE AND CENTRAL ASIA/Moldova",
          "EAST ASIA AND PACIFIC/Mongolia",
          "EUROPE AND CENTRAL ASIA/Montenegro",
          "AFRICA/Mozambique",
          "EAST ASIA AND PACIFIC/Myanmar",
          "SOUTH ASIA/Nepal",
          "LATIN AMERICA AND CARIBBEAN/Nicaragua",
          "AFRICA/Niger",
          "AFRICA/Nigeria",
          "EUROPE AND CENTRAL ASIA/North Macedonia",
          "SOUTH ASIA/Pakistan",
          "EAST ASIA AND PACIFIC/Papua New Guinea",
          "EAST ASIA AND PACIFIC/Philippines",
          "AFRICA/Rwanda",
          "EAST ASIA AND PACIFIC/Samoa",
          "AFRICA/Sao Tome and Principe",
          "AFRICA/Senegal",
          "EUROPE AND CENTRAL ASIA/Serbia",
          "AFRICA/Sierra Leone",
          "EAST ASIA AND PACIFIC/Solomon Islands",
          "AFRICA/Somalia",
          "AFRICA/South Sudan",
          "SOUTH ASIA/Sri Lanka",
          "LATIN AMERICA AND CARIBBEAN/St. Kitts and Nevis",
          "LATIN AMERICA AND CARIBBEAN/St. Lucia",
          "LATIN AMERICA AND CARIBBEAN/St. Vincent and the Grenadines",
          "AFRICA/Sudan",
          "EUROPE AND CENTRAL ASIA/Tajikistan",
          "AFRICA/Tanzania",
          "EAST ASIA AND PACIFIC/Thailand",
          "EAST ASIA AND PACIFIC/Timor-Leste",
          "AFRICA/Togo",
          "EAST ASIA AND PACIFIC/Tonga",
          "AFRICA/Uganda",
          "EUROPE AND CENTRAL ASIA/Uzbekistan",
          "EAST ASIA AND PACIFIC/Vanuatu",
          "EAST ASIA AND PACIFIC/Vietnam",
          "AFRICA/Western Africa",
          "MIDDLE EAST AND NORTH AFRICA/Yemen, Republic of",
          "AFRICA/Zambia",
          "AFRICA/Zimbabwe",
          "AFRICA",
          "EAST ASIA AND PACIFIC",
          "EUROPE AND CENTRAL ASIA",
          "LATIN AMERICA AND CARIBBEAN",
          "MIDDLE EAST AND NORTH AFRICA",
          "SOUTH ASIA"
         ],
         "labels": [
          "Afghanistan",
          "Albania",
          "Angola",
          "Armenia",
          "Azerbaijan",
          "Bangladesh",
          "Benin",
          "Bhutan",
          "Bolivia",
          "Bosnia and Herzegovina",
          "Burkina Faso",
          "Burundi",
          "Cabo Verde",
          "Cambodia",
          "Cameroon",
          "Caribbean",
          "Central Africa",
          "Central African Republic",
          "Chad",
          "China",
          "Comoros",
          "Congo, Democratic Republic of",
          "Congo, Republic of",
          "Cote d'Ivoire",
          "Djibouti",
          "Dominica",
          "Egypt, Arab Republic of",
          "Equatorial Guinea",
          "Eritrea",
          "Ethiopia",
          "Fiji",
          "Gambia, The",
          "Georgia",
          "Ghana",
          "Grenada",
          "Guinea",
          "Guinea-Bissau",
          "Guyana",
          "Haiti",
          "Honduras",
          "India",
          "Indonesia",
          "Iraq",
          "Jordan",
          "Kenya",
          "Kosovo",
          "Kyrgyz Republic",
          "Lao People's Democratic Republic",
          "Lebanon",
          "Lesotho",
          "Liberia",
          "Madagascar",
          "Malawi",
          "Maldives",
          "Mali",
          "Mauritania",
          "Moldova",
          "Mongolia",
          "Montenegro",
          "Mozambique",
          "Myanmar",
          "Nepal",
          "Nicaragua",
          "Niger",
          "Nigeria",
          "North Macedonia",
          "Pakistan",
          "Papua New Guinea",
          "Philippines",
          "Rwanda",
          "Samoa",
          "Sao Tome and Principe",
          "Senegal",
          "Serbia",
          "Sierra Leone",
          "Solomon Islands",
          "Somalia",
          "South Sudan",
          "Sri Lanka",
          "St. Kitts and Nevis",
          "St. Lucia",
          "St. Vincent and the Grenadines",
          "Sudan",
          "Tajikistan",
          "Tanzania",
          "Thailand",
          "Timor-Leste",
          "Togo",
          "Tonga",
          "Uganda",
          "Uzbekistan",
          "Vanuatu",
          "Vietnam",
          "Western Africa",
          "Yemen, Republic of",
          "Zambia",
          "Zimbabwe",
          "AFRICA",
          "EAST ASIA AND PACIFIC",
          "EUROPE AND CENTRAL ASIA",
          "LATIN AMERICA AND CARIBBEAN",
          "MIDDLE EAST AND NORTH AFRICA",
          "SOUTH ASIA"
         ],
         "marker": {
          "coloraxis": "coloraxis",
          "colors": [
           182965795.84616664,
           47502254.8662191,
           153605524.50200072,
           80078463.42046559,
           100484937.34812547,
           577567797.921488,
           118279076.38405031,
           56743773.8654298,
           99581099.523311,
           93888766.89284123,
           170135380.40252683,
           85567748.8858834,
           38017608.97488143,
           117325174.70110437,
           222973311.15506825,
           20893408.325649127,
           62538321.76600191,
           111193139.57359955,
           75796499.35196206,
           260125516.11445907,
           22426530.373197567,
           419903983.1994392,
           122028598.48771828,
           332097902.7336126,
           28142207.603488322,
           18970121.201057,
           182115468.80839786,
           14426139.424531197,
           119481211.0354246,
           643915634.4794757,
           69744902.6122388,
           45018442.88262768,
           93057578.88228911,
           233213514.7940892,
           30971508.2839934,
           95107519.07678092,
           72527370.50206175,
           64389589.505417444,
           72118414.04907984,
           135996047.6083814,
           617859494.5568438,
           226632155.91671756,
           270491178.34891003,
           240499664.1801338,
           585806849.0439383,
           50370112.88770356,
           65708528.26005796,
           65066519.62843036,
           240499664.1801338,
           54475856.13386852,
           132194948.59369461,
           146867531.91692558,
           143469016.746771,
           26591768.202910505,
           141609831.3945099,
           69442518.49060926,
           66563562.39866975,
           99132956.5477581,
           26525913.465913054,
           201683287.7850872,
           572968661.8049138,
           231765022.25534955,
           99573463.93449418,
           161288011.27123532,
           622112763.1436636,
           97053455.28977816,
           576964319.3374133,
           185330954.99815378,
           137856222.5998578,
           188873020.08963874,
           26364625.508078467,
           17692342.965368897,
           179150160.71947867,
           133904822.93370612,
           72485014.04824106,
           38374331.936364226,
           71260019.05870906,
           134708106.01901376,
           192226509.13703874,
           3607494.962702007,
           41944435.09408726,
           45483658.714849226,
           123172865.11571068,
           108704846.22144948,
           400344922.860529,
           60124916.04503345,
           74470582.46679099,
           73941031.93558998,
           15061963.652945079,
           299918639.36315876,
           447071702.8736501,
           90857257.82045293,
           414849614.50035745,
           230668080.28869265,
           97601890.0056355,
           212518207.81870288,
           219185754.4371616,
           359587262.52782494,
           339328443.4090784,
           158546764.70017412,
           102170258.6640845,
           143624042.76502502,
           553246654.1891394
          ]
         },
         "name": "",
         "parents": [
          "SOUTH ASIA",
          "EUROPE AND CENTRAL ASIA",
          "AFRICA",
          "EUROPE AND CENTRAL ASIA",
          "EUROPE AND CENTRAL ASIA",
          "SOUTH ASIA",
          "AFRICA",
          "SOUTH ASIA",
          "LATIN AMERICA AND CARIBBEAN",
          "EUROPE AND CENTRAL ASIA",
          "AFRICA",
          "AFRICA",
          "AFRICA",
          "EAST ASIA AND PACIFIC",
          "AFRICA",
          "LATIN AMERICA AND CARIBBEAN",
          "AFRICA",
          "AFRICA",
          "AFRICA",
          "EAST ASIA AND PACIFIC",
          "AFRICA",
          "AFRICA",
          "AFRICA",
          "AFRICA",
          "MIDDLE EAST AND NORTH AFRICA",
          "LATIN AMERICA AND CARIBBEAN",
          "MIDDLE EAST AND NORTH AFRICA",
          "AFRICA",
          "AFRICA",
          "AFRICA",
          "EAST ASIA AND PACIFIC",
          "AFRICA",
          "EUROPE AND CENTRAL ASIA",
          "AFRICA",
          "LATIN AMERICA AND CARIBBEAN",
          "AFRICA",
          "AFRICA",
          "LATIN AMERICA AND CARIBBEAN",
          "LATIN AMERICA AND CARIBBEAN",
          "LATIN AMERICA AND CARIBBEAN",
          "SOUTH ASIA",
          "EAST ASIA AND PACIFIC",
          "MIDDLE EAST AND NORTH AFRICA",
          "MIDDLE EAST AND NORTH AFRICA",
          "AFRICA",
          "EUROPE AND CENTRAL ASIA",
          "EUROPE AND CENTRAL ASIA",
          "EAST ASIA AND PACIFIC",
          "MIDDLE EAST AND NORTH AFRICA",
          "AFRICA",
          "AFRICA",
          "AFRICA",
          "AFRICA",
          "SOUTH ASIA",
          "AFRICA",
          "AFRICA",
          "EUROPE AND CENTRAL ASIA",
          "EAST ASIA AND PACIFIC",
          "EUROPE AND CENTRAL ASIA",
          "AFRICA",
          "EAST ASIA AND PACIFIC",
          "SOUTH ASIA",
          "LATIN AMERICA AND CARIBBEAN",
          "AFRICA",
          "AFRICA",
          "EUROPE AND CENTRAL ASIA",
          "SOUTH ASIA",
          "EAST ASIA AND PACIFIC",
          "EAST ASIA AND PACIFIC",
          "AFRICA",
          "EAST ASIA AND PACIFIC",
          "AFRICA",
          "AFRICA",
          "EUROPE AND CENTRAL ASIA",
          "AFRICA",
          "EAST ASIA AND PACIFIC",
          "AFRICA",
          "AFRICA",
          "SOUTH ASIA",
          "LATIN AMERICA AND CARIBBEAN",
          "LATIN AMERICA AND CARIBBEAN",
          "LATIN AMERICA AND CARIBBEAN",
          "AFRICA",
          "EUROPE AND CENTRAL ASIA",
          "AFRICA",
          "EAST ASIA AND PACIFIC",
          "EAST ASIA AND PACIFIC",
          "AFRICA",
          "EAST ASIA AND PACIFIC",
          "AFRICA",
          "EUROPE AND CENTRAL ASIA",
          "EAST ASIA AND PACIFIC",
          "EAST ASIA AND PACIFIC",
          "AFRICA",
          "MIDDLE EAST AND NORTH AFRICA",
          "AFRICA",
          "AFRICA",
          "",
          "",
          "",
          "",
          "",
          ""
         ],
         "type": "sunburst",
         "values": [
          1049540534.4821038,
          2284650609.845599,
          2269787730.5992665,
          3385922622.09285,
          2713365311.213106,
          66227578989.491684,
          5551213312.65091,
          874883665.8628861,
          5933280842.3956375,
          3635729623.2767544,
          8352503174.758591,
          2011289071.551892,
          1226379937.5537562,
          3335153142.984423,
          7129198525.145632,
          76959892.5376428,
          171957259.88879564,
          1452954671.1778603,
          2467406304.656083,
          23681304482.791622,
          342591771.6246006,
          8488171097.607223,
          1398049559.8441925,
          12508892583.303537,
          710556257.8202055,
          158493126.68933508,
          3410140938.275789,
          113106992.06391694,
          1104903557.1763706,
          40230285816.010956,
          139489805.2244776,
          707735704.8870628,
          3671203323.7433243,
          21182712154.719875,
          400207795.1729069,
          4318772719.514751,
          1290897584.7750335,
          900495635.4401585,
          1173878860.8632333,
          5488759589.151387,
          105005340001.59676,
          4702970933.042517,
          1222940792.3559804,
          240499664.1801338,
          32662403692.102448,
          487997868.58790946,
          2583699917.270387,
          2873658337.389165,
          240499664.1801338,
          1732487430.85443,
          1731573532.1305451,
          10067528112.466387,
          7297028483.7897005,
          365655689.41947544,
          8762985606.493187,
          2398576592.250926,
          2267618423.6283617,
          2246062438.727896,
          197098665.17763674,
          12959225261.823147,
          6685770414.37563,
          12073370728.936142,
          3989027293.873557,
          6582431414.031702,
          41122484428.933464,
          879266772.2425693,
          52151402203.78846,
          1616927342.2158754,
          509859288.0618837,
          8618726224.097975,
          362517168.80192465,
          186001914.61679947,
          13077527189.345848,
          1594647882.930778,
          2304519405.282658,
          278618860.952685,
          919911215.4890118,
          408849429.10622746,
          13116677803.12729,
          3607494.962702007,
          391737397.00048256,
          330905411.9427595,
          2158243986.3525205,
          1410662805.2317839,
          33250571531.471123,
          60124916.04503345,
          144783818.51222265,
          2226064891.6513186,
          132298865.2654916,
          19700347276.529846,
          6388931298.864657,
          356841376.72727346,
          48793601296.413086,
          704231116.6522677,
          5452872935.922593,
          9657283374.486387,
          1541001598.2342072,
          342388813237.7009,
          95919982487.53116,
          31500795124.105705,
          18847353340.029778,
          11277510252.734829,
          250864449616.70493
         ]
        }
       ],
       "layout": {
        "coloraxis": {
         "cmid": 403565668.4129107,
         "colorbar": {
          "title": {
           "text": "Original Principal Amount"
          }
         },
         "colorscale": [
          [
           0,
           "rgb(103,0,31)"
          ],
          [
           0.1,
           "rgb(178,24,43)"
          ],
          [
           0.2,
           "rgb(214,96,77)"
          ],
          [
           0.3,
           "rgb(244,165,130)"
          ],
          [
           0.4,
           "rgb(253,219,199)"
          ],
          [
           0.5,
           "rgb(247,247,247)"
          ],
          [
           0.6,
           "rgb(209,229,240)"
          ],
          [
           0.7,
           "rgb(146,197,222)"
          ],
          [
           0.8,
           "rgb(67,147,195)"
          ],
          [
           0.9,
           "rgb(33,102,172)"
          ],
          [
           1,
           "rgb(5,48,97)"
          ]
         ]
        },
        "legend": {
         "tracegroupgap": 0
        },
        "margin": {
         "t": 60
        },
        "template": {
         "data": {
          "bar": [
           {
            "error_x": {
             "color": "#2a3f5f"
            },
            "error_y": {
             "color": "#2a3f5f"
            },
            "marker": {
             "line": {
              "color": "#E5ECF6",
              "width": 0.5
             }
            },
            "type": "bar"
           }
          ],
          "barpolar": [
           {
            "marker": {
             "line": {
              "color": "#E5ECF6",
              "width": 0.5
             }
            },
            "type": "barpolar"
           }
          ],
          "carpet": [
           {
            "aaxis": {
             "endlinecolor": "#2a3f5f",
             "gridcolor": "white",
             "linecolor": "white",
             "minorgridcolor": "white",
             "startlinecolor": "#2a3f5f"
            },
            "baxis": {
             "endlinecolor": "#2a3f5f",
             "gridcolor": "white",
             "linecolor": "white",
             "minorgridcolor": "white",
             "startlinecolor": "#2a3f5f"
            },
            "type": "carpet"
           }
          ],
          "choropleth": [
           {
            "colorbar": {
             "outlinewidth": 0,
             "ticks": ""
            },
            "type": "choropleth"
           }
          ],
          "contour": [
           {
            "colorbar": {
             "outlinewidth": 0,
             "ticks": ""
            },
            "colorscale": [
             [
              0,
              "#0d0887"
             ],
             [
              0.1111111111111111,
              "#46039f"
             ],
             [
              0.2222222222222222,
              "#7201a8"
             ],
             [
              0.3333333333333333,
              "#9c179e"
             ],
             [
              0.4444444444444444,
              "#bd3786"
             ],
             [
              0.5555555555555556,
              "#d8576b"
             ],
             [
              0.6666666666666666,
              "#ed7953"
             ],
             [
              0.7777777777777778,
              "#fb9f3a"
             ],
             [
              0.8888888888888888,
              "#fdca26"
             ],
             [
              1,
              "#f0f921"
             ]
            ],
            "type": "contour"
           }
          ],
          "contourcarpet": [
           {
            "colorbar": {
             "outlinewidth": 0,
             "ticks": ""
            },
            "type": "contourcarpet"
           }
          ],
          "heatmap": [
           {
            "colorbar": {
             "outlinewidth": 0,
             "ticks": ""
            },
            "colorscale": [
             [
              0,
              "#0d0887"
             ],
             [
              0.1111111111111111,
              "#46039f"
             ],
             [
              0.2222222222222222,
              "#7201a8"
             ],
             [
              0.3333333333333333,
              "#9c179e"
             ],
             [
              0.4444444444444444,
              "#bd3786"
             ],
             [
              0.5555555555555556,
              "#d8576b"
             ],
             [
              0.6666666666666666,
              "#ed7953"
             ],
             [
              0.7777777777777778,
              "#fb9f3a"
             ],
             [
              0.8888888888888888,
              "#fdca26"
             ],
             [
              1,
              "#f0f921"
             ]
            ],
            "type": "heatmap"
           }
          ],
          "heatmapgl": [
           {
            "colorbar": {
             "outlinewidth": 0,
             "ticks": ""
            },
            "colorscale": [
             [
              0,
              "#0d0887"
             ],
             [
              0.1111111111111111,
              "#46039f"
             ],
             [
              0.2222222222222222,
              "#7201a8"
             ],
             [
              0.3333333333333333,
              "#9c179e"
             ],
             [
              0.4444444444444444,
              "#bd3786"
             ],
             [
              0.5555555555555556,
              "#d8576b"
             ],
             [
              0.6666666666666666,
              "#ed7953"
             ],
             [
              0.7777777777777778,
              "#fb9f3a"
             ],
             [
              0.8888888888888888,
              "#fdca26"
             ],
             [
              1,
              "#f0f921"
             ]
            ],
            "type": "heatmapgl"
           }
          ],
          "histogram": [
           {
            "marker": {
             "colorbar": {
              "outlinewidth": 0,
              "ticks": ""
             }
            },
            "type": "histogram"
           }
          ],
          "histogram2d": [
           {
            "colorbar": {
             "outlinewidth": 0,
             "ticks": ""
            },
            "colorscale": [
             [
              0,
              "#0d0887"
             ],
             [
              0.1111111111111111,
              "#46039f"
             ],
             [
              0.2222222222222222,
              "#7201a8"
             ],
             [
              0.3333333333333333,
              "#9c179e"
             ],
             [
              0.4444444444444444,
              "#bd3786"
             ],
             [
              0.5555555555555556,
              "#d8576b"
             ],
             [
              0.6666666666666666,
              "#ed7953"
             ],
             [
              0.7777777777777778,
              "#fb9f3a"
             ],
             [
              0.8888888888888888,
              "#fdca26"
             ],
             [
              1,
              "#f0f921"
             ]
            ],
            "type": "histogram2d"
           }
          ],
          "histogram2dcontour": [
           {
            "colorbar": {
             "outlinewidth": 0,
             "ticks": ""
            },
            "colorscale": [
             [
              0,
              "#0d0887"
             ],
             [
              0.1111111111111111,
              "#46039f"
             ],
             [
              0.2222222222222222,
              "#7201a8"
             ],
             [
              0.3333333333333333,
              "#9c179e"
             ],
             [
              0.4444444444444444,
              "#bd3786"
             ],
             [
              0.5555555555555556,
              "#d8576b"
             ],
             [
              0.6666666666666666,
              "#ed7953"
             ],
             [
              0.7777777777777778,
              "#fb9f3a"
             ],
             [
              0.8888888888888888,
              "#fdca26"
             ],
             [
              1,
              "#f0f921"
             ]
            ],
            "type": "histogram2dcontour"
           }
          ],
          "mesh3d": [
           {
            "colorbar": {
             "outlinewidth": 0,
             "ticks": ""
            },
            "type": "mesh3d"
           }
          ],
          "parcoords": [
           {
            "line": {
             "colorbar": {
              "outlinewidth": 0,
              "ticks": ""
             }
            },
            "type": "parcoords"
           }
          ],
          "pie": [
           {
            "automargin": true,
            "type": "pie"
           }
          ],
          "scatter": [
           {
            "marker": {
             "colorbar": {
              "outlinewidth": 0,
              "ticks": ""
             }
            },
            "type": "scatter"
           }
          ],
          "scatter3d": [
           {
            "line": {
             "colorbar": {
              "outlinewidth": 0,
              "ticks": ""
             }
            },
            "marker": {
             "colorbar": {
              "outlinewidth": 0,
              "ticks": ""
             }
            },
            "type": "scatter3d"
           }
          ],
          "scattercarpet": [
           {
            "marker": {
             "colorbar": {
              "outlinewidth": 0,
              "ticks": ""
             }
            },
            "type": "scattercarpet"
           }
          ],
          "scattergeo": [
           {
            "marker": {
             "colorbar": {
              "outlinewidth": 0,
              "ticks": ""
             }
            },
            "type": "scattergeo"
           }
          ],
          "scattergl": [
           {
            "marker": {
             "colorbar": {
              "outlinewidth": 0,
              "ticks": ""
             }
            },
            "type": "scattergl"
           }
          ],
          "scattermapbox": [
           {
            "marker": {
             "colorbar": {
              "outlinewidth": 0,
              "ticks": ""
             }
            },
            "type": "scattermapbox"
           }
          ],
          "scatterpolar": [
           {
            "marker": {
             "colorbar": {
              "outlinewidth": 0,
              "ticks": ""
             }
            },
            "type": "scatterpolar"
           }
          ],
          "scatterpolargl": [
           {
            "marker": {
             "colorbar": {
              "outlinewidth": 0,
              "ticks": ""
             }
            },
            "type": "scatterpolargl"
           }
          ],
          "scatterternary": [
           {
            "marker": {
             "colorbar": {
              "outlinewidth": 0,
              "ticks": ""
             }
            },
            "type": "scatterternary"
           }
          ],
          "surface": [
           {
            "colorbar": {
             "outlinewidth": 0,
             "ticks": ""
            },
            "colorscale": [
             [
              0,
              "#0d0887"
             ],
             [
              0.1111111111111111,
              "#46039f"
             ],
             [
              0.2222222222222222,
              "#7201a8"
             ],
             [
              0.3333333333333333,
              "#9c179e"
             ],
             [
              0.4444444444444444,
              "#bd3786"
             ],
             [
              0.5555555555555556,
              "#d8576b"
             ],
             [
              0.6666666666666666,
              "#ed7953"
             ],
             [
              0.7777777777777778,
              "#fb9f3a"
             ],
             [
              0.8888888888888888,
              "#fdca26"
             ],
             [
              1,
              "#f0f921"
             ]
            ],
            "type": "surface"
           }
          ],
          "table": [
           {
            "cells": {
             "fill": {
              "color": "#EBF0F8"
             },
             "line": {
              "color": "white"
             }
            },
            "header": {
             "fill": {
              "color": "#C8D4E3"
             },
             "line": {
              "color": "white"
             }
            },
            "type": "table"
           }
          ]
         },
         "layout": {
          "annotationdefaults": {
           "arrowcolor": "#2a3f5f",
           "arrowhead": 0,
           "arrowwidth": 1
          },
          "coloraxis": {
           "colorbar": {
            "outlinewidth": 0,
            "ticks": ""
           }
          },
          "colorscale": {
           "diverging": [
            [
             0,
             "#8e0152"
            ],
            [
             0.1,
             "#c51b7d"
            ],
            [
             0.2,
             "#de77ae"
            ],
            [
             0.3,
             "#f1b6da"
            ],
            [
             0.4,
             "#fde0ef"
            ],
            [
             0.5,
             "#f7f7f7"
            ],
            [
             0.6,
             "#e6f5d0"
            ],
            [
             0.7,
             "#b8e186"
            ],
            [
             0.8,
             "#7fbc41"
            ],
            [
             0.9,
             "#4d9221"
            ],
            [
             1,
             "#276419"
            ]
           ],
           "sequential": [
            [
             0,
             "#0d0887"
            ],
            [
             0.1111111111111111,
             "#46039f"
            ],
            [
             0.2222222222222222,
             "#7201a8"
            ],
            [
             0.3333333333333333,
             "#9c179e"
            ],
            [
             0.4444444444444444,
             "#bd3786"
            ],
            [
             0.5555555555555556,
             "#d8576b"
            ],
            [
             0.6666666666666666,
             "#ed7953"
            ],
            [
             0.7777777777777778,
             "#fb9f3a"
            ],
            [
             0.8888888888888888,
             "#fdca26"
            ],
            [
             1,
             "#f0f921"
            ]
           ],
           "sequentialminus": [
            [
             0,
             "#0d0887"
            ],
            [
             0.1111111111111111,
             "#46039f"
            ],
            [
             0.2222222222222222,
             "#7201a8"
            ],
            [
             0.3333333333333333,
             "#9c179e"
            ],
            [
             0.4444444444444444,
             "#bd3786"
            ],
            [
             0.5555555555555556,
             "#d8576b"
            ],
            [
             0.6666666666666666,
             "#ed7953"
            ],
            [
             0.7777777777777778,
             "#fb9f3a"
            ],
            [
             0.8888888888888888,
             "#fdca26"
            ],
            [
             1,
             "#f0f921"
            ]
           ]
          },
          "colorway": [
           "#636efa",
           "#EF553B",
           "#00cc96",
           "#ab63fa",
           "#FFA15A",
           "#19d3f3",
           "#FF6692",
           "#B6E880",
           "#FF97FF",
           "#FECB52"
          ],
          "font": {
           "color": "#2a3f5f"
          },
          "geo": {
           "bgcolor": "white",
           "lakecolor": "white",
           "landcolor": "#E5ECF6",
           "showlakes": true,
           "showland": true,
           "subunitcolor": "white"
          },
          "hoverlabel": {
           "align": "left"
          },
          "hovermode": "closest",
          "mapbox": {
           "style": "light"
          },
          "paper_bgcolor": "white",
          "plot_bgcolor": "#E5ECF6",
          "polar": {
           "angularaxis": {
            "gridcolor": "white",
            "linecolor": "white",
            "ticks": ""
           },
           "bgcolor": "#E5ECF6",
           "radialaxis": {
            "gridcolor": "white",
            "linecolor": "white",
            "ticks": ""
           }
          },
          "scene": {
           "xaxis": {
            "backgroundcolor": "#E5ECF6",
            "gridcolor": "white",
            "gridwidth": 2,
            "linecolor": "white",
            "showbackground": true,
            "ticks": "",
            "zerolinecolor": "white"
           },
           "yaxis": {
            "backgroundcolor": "#E5ECF6",
            "gridcolor": "white",
            "gridwidth": 2,
            "linecolor": "white",
            "showbackground": true,
            "ticks": "",
            "zerolinecolor": "white"
           },
           "zaxis": {
            "backgroundcolor": "#E5ECF6",
            "gridcolor": "white",
            "gridwidth": 2,
            "linecolor": "white",
            "showbackground": true,
            "ticks": "",
            "zerolinecolor": "white"
           }
          },
          "shapedefaults": {
           "line": {
            "color": "#2a3f5f"
           }
          },
          "ternary": {
           "aaxis": {
            "gridcolor": "white",
            "linecolor": "white",
            "ticks": ""
           },
           "baxis": {
            "gridcolor": "white",
            "linecolor": "white",
            "ticks": ""
           },
           "bgcolor": "#E5ECF6",
           "caxis": {
            "gridcolor": "white",
            "linecolor": "white",
            "ticks": ""
           }
          },
          "title": {
           "x": 0.05
          },
          "xaxis": {
           "automargin": true,
           "gridcolor": "white",
           "linecolor": "white",
           "ticks": "",
           "title": {
            "standoff": 15
           },
           "zerolinecolor": "white",
           "zerolinewidth": 2
          },
          "yaxis": {
           "automargin": true,
           "gridcolor": "white",
           "linecolor": "white",
           "ticks": "",
           "title": {
            "standoff": 15
           },
           "zerolinecolor": "white",
           "zerolinewidth": 2
          }
         }
        }
       }
      },
      "text/html": [
       "<div>\n",
       "        \n",
       "        \n",
       "            <div id=\"c1cdea1a-b9c6-4952-b1e6-1de541ef89d4\" class=\"plotly-graph-div\" style=\"height:525px; width:100%;\"></div>\n",
       "            <script type=\"text/javascript\">\n",
       "                require([\"plotly\"], function(Plotly) {\n",
       "                    window.PLOTLYENV=window.PLOTLYENV || {};\n",
       "                    \n",
       "                if (document.getElementById(\"c1cdea1a-b9c6-4952-b1e6-1de541ef89d4\")) {\n",
       "                    Plotly.newPlot(\n",
       "                        'c1cdea1a-b9c6-4952-b1e6-1de541ef89d4',\n",
       "                        [{\"branchvalues\": \"total\", \"customdata\": [[182965795.84616664], [47502254.8662191], [153605524.50200072], [80078463.42046559], [100484937.34812547], [577567797.921488], [118279076.38405031], [56743773.8654298], [99581099.523311], [93888766.89284123], [170135380.40252683], [85567748.8858834], [38017608.97488143], [117325174.70110437], [222973311.15506825], [20893408.325649127], [62538321.76600191], [111193139.57359955], [75796499.35196206], [260125516.11445907], [22426530.373197567], [419903983.1994392], [122028598.48771828], [332097902.7336126], [28142207.603488322], [18970121.201057], [182115468.80839786], [14426139.424531197], [119481211.0354246], [643915634.4794757], [69744902.6122388], [45018442.88262768], [93057578.88228911], [233213514.7940892], [30971508.2839934], [95107519.07678092], [72527370.50206175], [64389589.505417444], [72118414.04907984], [135996047.6083814], [617859494.5568438], [226632155.91671756], [270491178.34891003], [240499664.1801338], [585806849.0439383], [50370112.88770356], [65708528.26005796], [65066519.62843036], [240499664.1801338], [54475856.13386852], [132194948.59369461], [146867531.91692558], [143469016.746771], [26591768.202910505], [141609831.3945099], [69442518.49060926], [66563562.39866975], [99132956.5477581], [26525913.465913054], [201683287.7850872], [572968661.8049138], [231765022.25534955], [99573463.93449418], [161288011.27123532], [622112763.1436636], [97053455.28977816], [576964319.3374133], [185330954.99815378], [137856222.5998578], [188873020.08963874], [26364625.508078467], [17692342.965368897], [179150160.71947867], [133904822.93370612], [72485014.04824106], [38374331.936364226], [71260019.05870906], [134708106.01901376], [192226509.13703874], [3607494.962702007], [41944435.09408726], [45483658.714849226], [123172865.11571068], [108704846.22144948], [400344922.860529], [60124916.04503345], [74470582.46679099], [73941031.93558998], [15061963.652945079], [299918639.36315876], [447071702.8736501], [90857257.82045293], [414849614.50035745], [230668080.28869265], [97601890.0056355], [212518207.81870288], [219185754.4371616], [359587262.52782494], [339328443.4090784], [158546764.70017412], [102170258.6640845], [143624042.76502502], [553246654.1891394]], \"domain\": {\"x\": [0.0, 1.0], \"y\": [0.0, 1.0]}, \"hovertemplate\": \"labels=%{label}<br>Original Principal Amount_sum=%{value}<br>parent=%{parent}<br>id=%{id}<br>Original Principal Amount=%{color}<extra></extra>\", \"ids\": [\"SOUTH ASIA/Afghanistan\", \"EUROPE AND CENTRAL ASIA/Albania\", \"AFRICA/Angola\", \"EUROPE AND CENTRAL ASIA/Armenia\", \"EUROPE AND CENTRAL ASIA/Azerbaijan\", \"SOUTH ASIA/Bangladesh\", \"AFRICA/Benin\", \"SOUTH ASIA/Bhutan\", \"LATIN AMERICA AND CARIBBEAN/Bolivia\", \"EUROPE AND CENTRAL ASIA/Bosnia and Herzegovina\", \"AFRICA/Burkina Faso\", \"AFRICA/Burundi\", \"AFRICA/Cabo Verde\", \"EAST ASIA AND PACIFIC/Cambodia\", \"AFRICA/Cameroon\", \"LATIN AMERICA AND CARIBBEAN/Caribbean\", \"AFRICA/Central Africa\", \"AFRICA/Central African Republic\", \"AFRICA/Chad\", \"EAST ASIA AND PACIFIC/China\", \"AFRICA/Comoros\", \"AFRICA/Congo, Democratic Republic of\", \"AFRICA/Congo, Republic of\", \"AFRICA/Cote d'Ivoire\", \"MIDDLE EAST AND NORTH AFRICA/Djibouti\", \"LATIN AMERICA AND CARIBBEAN/Dominica\", \"MIDDLE EAST AND NORTH AFRICA/Egypt, Arab Republic of\", \"AFRICA/Equatorial Guinea\", \"AFRICA/Eritrea\", \"AFRICA/Ethiopia\", \"EAST ASIA AND PACIFIC/Fiji\", \"AFRICA/Gambia, The\", \"EUROPE AND CENTRAL ASIA/Georgia\", \"AFRICA/Ghana\", \"LATIN AMERICA AND CARIBBEAN/Grenada\", \"AFRICA/Guinea\", \"AFRICA/Guinea-Bissau\", \"LATIN AMERICA AND CARIBBEAN/Guyana\", \"LATIN AMERICA AND CARIBBEAN/Haiti\", \"LATIN AMERICA AND CARIBBEAN/Honduras\", \"SOUTH ASIA/India\", \"EAST ASIA AND PACIFIC/Indonesia\", \"MIDDLE EAST AND NORTH AFRICA/Iraq\", \"MIDDLE EAST AND NORTH AFRICA/Jordan\", \"AFRICA/Kenya\", \"EUROPE AND CENTRAL ASIA/Kosovo\", \"EUROPE AND CENTRAL ASIA/Kyrgyz Republic\", \"EAST ASIA AND PACIFIC/Lao People's Democratic Republic\", \"MIDDLE EAST AND NORTH AFRICA/Lebanon\", \"AFRICA/Lesotho\", \"AFRICA/Liberia\", \"AFRICA/Madagascar\", \"AFRICA/Malawi\", \"SOUTH ASIA/Maldives\", \"AFRICA/Mali\", \"AFRICA/Mauritania\", \"EUROPE AND CENTRAL ASIA/Moldova\", \"EAST ASIA AND PACIFIC/Mongolia\", \"EUROPE AND CENTRAL ASIA/Montenegro\", \"AFRICA/Mozambique\", \"EAST ASIA AND PACIFIC/Myanmar\", \"SOUTH ASIA/Nepal\", \"LATIN AMERICA AND CARIBBEAN/Nicaragua\", \"AFRICA/Niger\", \"AFRICA/Nigeria\", \"EUROPE AND CENTRAL ASIA/North Macedonia\", \"SOUTH ASIA/Pakistan\", \"EAST ASIA AND PACIFIC/Papua New Guinea\", \"EAST ASIA AND PACIFIC/Philippines\", \"AFRICA/Rwanda\", \"EAST ASIA AND PACIFIC/Samoa\", \"AFRICA/Sao Tome and Principe\", \"AFRICA/Senegal\", \"EUROPE AND CENTRAL ASIA/Serbia\", \"AFRICA/Sierra Leone\", \"EAST ASIA AND PACIFIC/Solomon Islands\", \"AFRICA/Somalia\", \"AFRICA/South Sudan\", \"SOUTH ASIA/Sri Lanka\", \"LATIN AMERICA AND CARIBBEAN/St. Kitts and Nevis\", \"LATIN AMERICA AND CARIBBEAN/St. Lucia\", \"LATIN AMERICA AND CARIBBEAN/St. Vincent and the Grenadines\", \"AFRICA/Sudan\", \"EUROPE AND CENTRAL ASIA/Tajikistan\", \"AFRICA/Tanzania\", \"EAST ASIA AND PACIFIC/Thailand\", \"EAST ASIA AND PACIFIC/Timor-Leste\", \"AFRICA/Togo\", \"EAST ASIA AND PACIFIC/Tonga\", \"AFRICA/Uganda\", \"EUROPE AND CENTRAL ASIA/Uzbekistan\", \"EAST ASIA AND PACIFIC/Vanuatu\", \"EAST ASIA AND PACIFIC/Vietnam\", \"AFRICA/Western Africa\", \"MIDDLE EAST AND NORTH AFRICA/Yemen, Republic of\", \"AFRICA/Zambia\", \"AFRICA/Zimbabwe\", \"AFRICA\", \"EAST ASIA AND PACIFIC\", \"EUROPE AND CENTRAL ASIA\", \"LATIN AMERICA AND CARIBBEAN\", \"MIDDLE EAST AND NORTH AFRICA\", \"SOUTH ASIA\"], \"labels\": [\"Afghanistan\", \"Albania\", \"Angola\", \"Armenia\", \"Azerbaijan\", \"Bangladesh\", \"Benin\", \"Bhutan\", \"Bolivia\", \"Bosnia and Herzegovina\", \"Burkina Faso\", \"Burundi\", \"Cabo Verde\", \"Cambodia\", \"Cameroon\", \"Caribbean\", \"Central Africa\", \"Central African Republic\", \"Chad\", \"China\", \"Comoros\", \"Congo, Democratic Republic of\", \"Congo, Republic of\", \"Cote d'Ivoire\", \"Djibouti\", \"Dominica\", \"Egypt, Arab Republic of\", \"Equatorial Guinea\", \"Eritrea\", \"Ethiopia\", \"Fiji\", \"Gambia, The\", \"Georgia\", \"Ghana\", \"Grenada\", \"Guinea\", \"Guinea-Bissau\", \"Guyana\", \"Haiti\", \"Honduras\", \"India\", \"Indonesia\", \"Iraq\", \"Jordan\", \"Kenya\", \"Kosovo\", \"Kyrgyz Republic\", \"Lao People's Democratic Republic\", \"Lebanon\", \"Lesotho\", \"Liberia\", \"Madagascar\", \"Malawi\", \"Maldives\", \"Mali\", \"Mauritania\", \"Moldova\", \"Mongolia\", \"Montenegro\", \"Mozambique\", \"Myanmar\", \"Nepal\", \"Nicaragua\", \"Niger\", \"Nigeria\", \"North Macedonia\", \"Pakistan\", \"Papua New Guinea\", \"Philippines\", \"Rwanda\", \"Samoa\", \"Sao Tome and Principe\", \"Senegal\", \"Serbia\", \"Sierra Leone\", \"Solomon Islands\", \"Somalia\", \"South Sudan\", \"Sri Lanka\", \"St. Kitts and Nevis\", \"St. Lucia\", \"St. Vincent and the Grenadines\", \"Sudan\", \"Tajikistan\", \"Tanzania\", \"Thailand\", \"Timor-Leste\", \"Togo\", \"Tonga\", \"Uganda\", \"Uzbekistan\", \"Vanuatu\", \"Vietnam\", \"Western Africa\", \"Yemen, Republic of\", \"Zambia\", \"Zimbabwe\", \"AFRICA\", \"EAST ASIA AND PACIFIC\", \"EUROPE AND CENTRAL ASIA\", \"LATIN AMERICA AND CARIBBEAN\", \"MIDDLE EAST AND NORTH AFRICA\", \"SOUTH ASIA\"], \"marker\": {\"coloraxis\": \"coloraxis\", \"colors\": [182965795.84616664, 47502254.8662191, 153605524.50200072, 80078463.42046559, 100484937.34812547, 577567797.921488, 118279076.38405031, 56743773.8654298, 99581099.523311, 93888766.89284123, 170135380.40252683, 85567748.8858834, 38017608.97488143, 117325174.70110437, 222973311.15506825, 20893408.325649127, 62538321.76600191, 111193139.57359955, 75796499.35196206, 260125516.11445907, 22426530.373197567, 419903983.1994392, 122028598.48771828, 332097902.7336126, 28142207.603488322, 18970121.201057, 182115468.80839786, 14426139.424531197, 119481211.0354246, 643915634.4794757, 69744902.6122388, 45018442.88262768, 93057578.88228911, 233213514.7940892, 30971508.2839934, 95107519.07678092, 72527370.50206175, 64389589.505417444, 72118414.04907984, 135996047.6083814, 617859494.5568438, 226632155.91671756, 270491178.34891003, 240499664.1801338, 585806849.0439383, 50370112.88770356, 65708528.26005796, 65066519.62843036, 240499664.1801338, 54475856.13386852, 132194948.59369461, 146867531.91692558, 143469016.746771, 26591768.202910505, 141609831.3945099, 69442518.49060926, 66563562.39866975, 99132956.5477581, 26525913.465913054, 201683287.7850872, 572968661.8049138, 231765022.25534955, 99573463.93449418, 161288011.27123532, 622112763.1436636, 97053455.28977816, 576964319.3374133, 185330954.99815378, 137856222.5998578, 188873020.08963874, 26364625.508078467, 17692342.965368897, 179150160.71947867, 133904822.93370612, 72485014.04824106, 38374331.936364226, 71260019.05870906, 134708106.01901376, 192226509.13703874, 3607494.962702007, 41944435.09408726, 45483658.714849226, 123172865.11571068, 108704846.22144948, 400344922.860529, 60124916.04503345, 74470582.46679099, 73941031.93558998, 15061963.652945079, 299918639.36315876, 447071702.8736501, 90857257.82045293, 414849614.50035745, 230668080.28869265, 97601890.0056355, 212518207.81870288, 219185754.4371616, 359587262.52782494, 339328443.4090784, 158546764.70017412, 102170258.6640845, 143624042.76502502, 553246654.1891394]}, \"name\": \"\", \"parents\": [\"SOUTH ASIA\", \"EUROPE AND CENTRAL ASIA\", \"AFRICA\", \"EUROPE AND CENTRAL ASIA\", \"EUROPE AND CENTRAL ASIA\", \"SOUTH ASIA\", \"AFRICA\", \"SOUTH ASIA\", \"LATIN AMERICA AND CARIBBEAN\", \"EUROPE AND CENTRAL ASIA\", \"AFRICA\", \"AFRICA\", \"AFRICA\", \"EAST ASIA AND PACIFIC\", \"AFRICA\", \"LATIN AMERICA AND CARIBBEAN\", \"AFRICA\", \"AFRICA\", \"AFRICA\", \"EAST ASIA AND PACIFIC\", \"AFRICA\", \"AFRICA\", \"AFRICA\", \"AFRICA\", \"MIDDLE EAST AND NORTH AFRICA\", \"LATIN AMERICA AND CARIBBEAN\", \"MIDDLE EAST AND NORTH AFRICA\", \"AFRICA\", \"AFRICA\", \"AFRICA\", \"EAST ASIA AND PACIFIC\", \"AFRICA\", \"EUROPE AND CENTRAL ASIA\", \"AFRICA\", \"LATIN AMERICA AND CARIBBEAN\", \"AFRICA\", \"AFRICA\", \"LATIN AMERICA AND CARIBBEAN\", \"LATIN AMERICA AND CARIBBEAN\", \"LATIN AMERICA AND CARIBBEAN\", \"SOUTH ASIA\", \"EAST ASIA AND PACIFIC\", \"MIDDLE EAST AND NORTH AFRICA\", \"MIDDLE EAST AND NORTH AFRICA\", \"AFRICA\", \"EUROPE AND CENTRAL ASIA\", \"EUROPE AND CENTRAL ASIA\", \"EAST ASIA AND PACIFIC\", \"MIDDLE EAST AND NORTH AFRICA\", \"AFRICA\", \"AFRICA\", \"AFRICA\", \"AFRICA\", \"SOUTH ASIA\", \"AFRICA\", \"AFRICA\", \"EUROPE AND CENTRAL ASIA\", \"EAST ASIA AND PACIFIC\", \"EUROPE AND CENTRAL ASIA\", \"AFRICA\", \"EAST ASIA AND PACIFIC\", \"SOUTH ASIA\", \"LATIN AMERICA AND CARIBBEAN\", \"AFRICA\", \"AFRICA\", \"EUROPE AND CENTRAL ASIA\", \"SOUTH ASIA\", \"EAST ASIA AND PACIFIC\", \"EAST ASIA AND PACIFIC\", \"AFRICA\", \"EAST ASIA AND PACIFIC\", \"AFRICA\", \"AFRICA\", \"EUROPE AND CENTRAL ASIA\", \"AFRICA\", \"EAST ASIA AND PACIFIC\", \"AFRICA\", \"AFRICA\", \"SOUTH ASIA\", \"LATIN AMERICA AND CARIBBEAN\", \"LATIN AMERICA AND CARIBBEAN\", \"LATIN AMERICA AND CARIBBEAN\", \"AFRICA\", \"EUROPE AND CENTRAL ASIA\", \"AFRICA\", \"EAST ASIA AND PACIFIC\", \"EAST ASIA AND PACIFIC\", \"AFRICA\", \"EAST ASIA AND PACIFIC\", \"AFRICA\", \"EUROPE AND CENTRAL ASIA\", \"EAST ASIA AND PACIFIC\", \"EAST ASIA AND PACIFIC\", \"AFRICA\", \"MIDDLE EAST AND NORTH AFRICA\", \"AFRICA\", \"AFRICA\", \"\", \"\", \"\", \"\", \"\", \"\"], \"type\": \"sunburst\", \"values\": [1049540534.4821038, 2284650609.845599, 2269787730.5992665, 3385922622.09285, 2713365311.213106, 66227578989.491684, 5551213312.65091, 874883665.8628861, 5933280842.3956375, 3635729623.2767544, 8352503174.758591, 2011289071.551892, 1226379937.5537562, 3335153142.984423, 7129198525.145632, 76959892.5376428, 171957259.88879564, 1452954671.1778603, 2467406304.656083, 23681304482.791622, 342591771.6246006, 8488171097.607223, 1398049559.8441925, 12508892583.303537, 710556257.8202055, 158493126.68933508, 3410140938.275789, 113106992.06391694, 1104903557.1763706, 40230285816.010956, 139489805.2244776, 707735704.8870628, 3671203323.7433243, 21182712154.719875, 400207795.1729069, 4318772719.514751, 1290897584.7750335, 900495635.4401585, 1173878860.8632333, 5488759589.151387, 105005340001.59676, 4702970933.042517, 1222940792.3559804, 240499664.1801338, 32662403692.102448, 487997868.58790946, 2583699917.270387, 2873658337.389165, 240499664.1801338, 1732487430.85443, 1731573532.1305451, 10067528112.466387, 7297028483.7897005, 365655689.41947544, 8762985606.493187, 2398576592.250926, 2267618423.6283617, 2246062438.727896, 197098665.17763674, 12959225261.823147, 6685770414.37563, 12073370728.936142, 3989027293.873557, 6582431414.031702, 41122484428.933464, 879266772.2425693, 52151402203.78846, 1616927342.2158754, 509859288.0618837, 8618726224.097975, 362517168.80192465, 186001914.61679947, 13077527189.345848, 1594647882.930778, 2304519405.282658, 278618860.952685, 919911215.4890118, 408849429.10622746, 13116677803.12729, 3607494.962702007, 391737397.00048256, 330905411.9427595, 2158243986.3525205, 1410662805.2317839, 33250571531.471123, 60124916.04503345, 144783818.51222265, 2226064891.6513186, 132298865.2654916, 19700347276.529846, 6388931298.864657, 356841376.72727346, 48793601296.413086, 704231116.6522677, 5452872935.922593, 9657283374.486387, 1541001598.2342072, 342388813237.7009, 95919982487.53116, 31500795124.105705, 18847353340.029778, 11277510252.734829, 250864449616.70493]}],\n",
       "                        {\"coloraxis\": {\"cmid\": 403565668.4129107, \"colorbar\": {\"title\": {\"text\": \"Original Principal Amount\"}}, \"colorscale\": [[0.0, \"rgb(103,0,31)\"], [0.1, \"rgb(178,24,43)\"], [0.2, \"rgb(214,96,77)\"], [0.3, \"rgb(244,165,130)\"], [0.4, \"rgb(253,219,199)\"], [0.5, \"rgb(247,247,247)\"], [0.6, \"rgb(209,229,240)\"], [0.7, \"rgb(146,197,222)\"], [0.8, \"rgb(67,147,195)\"], [0.9, \"rgb(33,102,172)\"], [1.0, \"rgb(5,48,97)\"]]}, \"legend\": {\"tracegroupgap\": 0}, \"margin\": {\"t\": 60}, \"template\": {\"data\": {\"bar\": [{\"error_x\": {\"color\": \"#2a3f5f\"}, \"error_y\": {\"color\": \"#2a3f5f\"}, \"marker\": {\"line\": {\"color\": \"#E5ECF6\", \"width\": 0.5}}, \"type\": \"bar\"}], \"barpolar\": [{\"marker\": {\"line\": {\"color\": \"#E5ECF6\", \"width\": 0.5}}, \"type\": \"barpolar\"}], \"carpet\": [{\"aaxis\": {\"endlinecolor\": \"#2a3f5f\", \"gridcolor\": \"white\", \"linecolor\": \"white\", \"minorgridcolor\": \"white\", \"startlinecolor\": \"#2a3f5f\"}, \"baxis\": {\"endlinecolor\": \"#2a3f5f\", \"gridcolor\": \"white\", \"linecolor\": \"white\", \"minorgridcolor\": \"white\", \"startlinecolor\": \"#2a3f5f\"}, \"type\": \"carpet\"}], \"choropleth\": [{\"colorbar\": {\"outlinewidth\": 0, \"ticks\": \"\"}, \"type\": \"choropleth\"}], \"contour\": [{\"colorbar\": {\"outlinewidth\": 0, \"ticks\": \"\"}, \"colorscale\": [[0.0, \"#0d0887\"], [0.1111111111111111, \"#46039f\"], [0.2222222222222222, \"#7201a8\"], [0.3333333333333333, \"#9c179e\"], [0.4444444444444444, \"#bd3786\"], [0.5555555555555556, \"#d8576b\"], [0.6666666666666666, \"#ed7953\"], [0.7777777777777778, \"#fb9f3a\"], [0.8888888888888888, \"#fdca26\"], [1.0, \"#f0f921\"]], \"type\": \"contour\"}], \"contourcarpet\": [{\"colorbar\": {\"outlinewidth\": 0, \"ticks\": \"\"}, \"type\": \"contourcarpet\"}], \"heatmap\": [{\"colorbar\": {\"outlinewidth\": 0, \"ticks\": \"\"}, \"colorscale\": [[0.0, \"#0d0887\"], [0.1111111111111111, \"#46039f\"], [0.2222222222222222, \"#7201a8\"], [0.3333333333333333, \"#9c179e\"], [0.4444444444444444, \"#bd3786\"], [0.5555555555555556, \"#d8576b\"], [0.6666666666666666, \"#ed7953\"], [0.7777777777777778, \"#fb9f3a\"], [0.8888888888888888, \"#fdca26\"], [1.0, \"#f0f921\"]], \"type\": \"heatmap\"}], \"heatmapgl\": [{\"colorbar\": {\"outlinewidth\": 0, \"ticks\": \"\"}, \"colorscale\": [[0.0, \"#0d0887\"], [0.1111111111111111, \"#46039f\"], [0.2222222222222222, \"#7201a8\"], [0.3333333333333333, \"#9c179e\"], [0.4444444444444444, \"#bd3786\"], [0.5555555555555556, \"#d8576b\"], [0.6666666666666666, \"#ed7953\"], [0.7777777777777778, \"#fb9f3a\"], [0.8888888888888888, \"#fdca26\"], [1.0, \"#f0f921\"]], \"type\": \"heatmapgl\"}], \"histogram\": [{\"marker\": {\"colorbar\": {\"outlinewidth\": 0, \"ticks\": \"\"}}, \"type\": \"histogram\"}], \"histogram2d\": [{\"colorbar\": {\"outlinewidth\": 0, \"ticks\": \"\"}, \"colorscale\": [[0.0, \"#0d0887\"], [0.1111111111111111, \"#46039f\"], [0.2222222222222222, \"#7201a8\"], [0.3333333333333333, \"#9c179e\"], [0.4444444444444444, \"#bd3786\"], [0.5555555555555556, \"#d8576b\"], [0.6666666666666666, \"#ed7953\"], [0.7777777777777778, \"#fb9f3a\"], [0.8888888888888888, \"#fdca26\"], [1.0, \"#f0f921\"]], \"type\": \"histogram2d\"}], \"histogram2dcontour\": [{\"colorbar\": {\"outlinewidth\": 0, \"ticks\": \"\"}, \"colorscale\": [[0.0, \"#0d0887\"], [0.1111111111111111, \"#46039f\"], [0.2222222222222222, \"#7201a8\"], [0.3333333333333333, \"#9c179e\"], [0.4444444444444444, \"#bd3786\"], [0.5555555555555556, \"#d8576b\"], [0.6666666666666666, \"#ed7953\"], [0.7777777777777778, \"#fb9f3a\"], [0.8888888888888888, \"#fdca26\"], [1.0, \"#f0f921\"]], \"type\": \"histogram2dcontour\"}], \"mesh3d\": [{\"colorbar\": {\"outlinewidth\": 0, \"ticks\": \"\"}, \"type\": \"mesh3d\"}], \"parcoords\": [{\"line\": {\"colorbar\": {\"outlinewidth\": 0, \"ticks\": \"\"}}, \"type\": \"parcoords\"}], \"pie\": [{\"automargin\": true, \"type\": \"pie\"}], \"scatter\": [{\"marker\": {\"colorbar\": {\"outlinewidth\": 0, \"ticks\": \"\"}}, \"type\": \"scatter\"}], \"scatter3d\": [{\"line\": {\"colorbar\": {\"outlinewidth\": 0, \"ticks\": \"\"}}, \"marker\": {\"colorbar\": {\"outlinewidth\": 0, \"ticks\": \"\"}}, \"type\": \"scatter3d\"}], \"scattercarpet\": [{\"marker\": {\"colorbar\": {\"outlinewidth\": 0, \"ticks\": \"\"}}, \"type\": \"scattercarpet\"}], \"scattergeo\": [{\"marker\": {\"colorbar\": {\"outlinewidth\": 0, \"ticks\": \"\"}}, \"type\": \"scattergeo\"}], \"scattergl\": [{\"marker\": {\"colorbar\": {\"outlinewidth\": 0, \"ticks\": \"\"}}, \"type\": \"scattergl\"}], \"scattermapbox\": [{\"marker\": {\"colorbar\": {\"outlinewidth\": 0, \"ticks\": \"\"}}, \"type\": \"scattermapbox\"}], \"scatterpolar\": [{\"marker\": {\"colorbar\": {\"outlinewidth\": 0, \"ticks\": \"\"}}, \"type\": \"scatterpolar\"}], \"scatterpolargl\": [{\"marker\": {\"colorbar\": {\"outlinewidth\": 0, \"ticks\": \"\"}}, \"type\": \"scatterpolargl\"}], \"scatterternary\": [{\"marker\": {\"colorbar\": {\"outlinewidth\": 0, \"ticks\": \"\"}}, \"type\": \"scatterternary\"}], \"surface\": [{\"colorbar\": {\"outlinewidth\": 0, \"ticks\": \"\"}, \"colorscale\": [[0.0, \"#0d0887\"], [0.1111111111111111, \"#46039f\"], [0.2222222222222222, \"#7201a8\"], [0.3333333333333333, \"#9c179e\"], [0.4444444444444444, \"#bd3786\"], [0.5555555555555556, \"#d8576b\"], [0.6666666666666666, \"#ed7953\"], [0.7777777777777778, \"#fb9f3a\"], [0.8888888888888888, \"#fdca26\"], [1.0, \"#f0f921\"]], \"type\": \"surface\"}], \"table\": [{\"cells\": {\"fill\": {\"color\": \"#EBF0F8\"}, \"line\": {\"color\": \"white\"}}, \"header\": {\"fill\": {\"color\": \"#C8D4E3\"}, \"line\": {\"color\": \"white\"}}, \"type\": \"table\"}]}, \"layout\": {\"annotationdefaults\": {\"arrowcolor\": \"#2a3f5f\", \"arrowhead\": 0, \"arrowwidth\": 1}, \"coloraxis\": {\"colorbar\": {\"outlinewidth\": 0, \"ticks\": \"\"}}, \"colorscale\": {\"diverging\": [[0, \"#8e0152\"], [0.1, \"#c51b7d\"], [0.2, \"#de77ae\"], [0.3, \"#f1b6da\"], [0.4, \"#fde0ef\"], [0.5, \"#f7f7f7\"], [0.6, \"#e6f5d0\"], [0.7, \"#b8e186\"], [0.8, \"#7fbc41\"], [0.9, \"#4d9221\"], [1, \"#276419\"]], \"sequential\": [[0.0, \"#0d0887\"], [0.1111111111111111, \"#46039f\"], [0.2222222222222222, \"#7201a8\"], [0.3333333333333333, \"#9c179e\"], [0.4444444444444444, \"#bd3786\"], [0.5555555555555556, \"#d8576b\"], [0.6666666666666666, \"#ed7953\"], [0.7777777777777778, \"#fb9f3a\"], [0.8888888888888888, \"#fdca26\"], [1.0, \"#f0f921\"]], \"sequentialminus\": [[0.0, \"#0d0887\"], [0.1111111111111111, \"#46039f\"], [0.2222222222222222, \"#7201a8\"], [0.3333333333333333, \"#9c179e\"], [0.4444444444444444, \"#bd3786\"], [0.5555555555555556, \"#d8576b\"], [0.6666666666666666, \"#ed7953\"], [0.7777777777777778, \"#fb9f3a\"], [0.8888888888888888, \"#fdca26\"], [1.0, \"#f0f921\"]]}, \"colorway\": [\"#636efa\", \"#EF553B\", \"#00cc96\", \"#ab63fa\", \"#FFA15A\", \"#19d3f3\", \"#FF6692\", \"#B6E880\", \"#FF97FF\", \"#FECB52\"], \"font\": {\"color\": \"#2a3f5f\"}, \"geo\": {\"bgcolor\": \"white\", \"lakecolor\": \"white\", \"landcolor\": \"#E5ECF6\", \"showlakes\": true, \"showland\": true, \"subunitcolor\": \"white\"}, \"hoverlabel\": {\"align\": \"left\"}, \"hovermode\": \"closest\", \"mapbox\": {\"style\": \"light\"}, \"paper_bgcolor\": \"white\", \"plot_bgcolor\": \"#E5ECF6\", \"polar\": {\"angularaxis\": {\"gridcolor\": \"white\", \"linecolor\": \"white\", \"ticks\": \"\"}, \"bgcolor\": \"#E5ECF6\", \"radialaxis\": {\"gridcolor\": \"white\", \"linecolor\": \"white\", \"ticks\": \"\"}}, \"scene\": {\"xaxis\": {\"backgroundcolor\": \"#E5ECF6\", \"gridcolor\": \"white\", \"gridwidth\": 2, \"linecolor\": \"white\", \"showbackground\": true, \"ticks\": \"\", \"zerolinecolor\": \"white\"}, \"yaxis\": {\"backgroundcolor\": \"#E5ECF6\", \"gridcolor\": \"white\", \"gridwidth\": 2, \"linecolor\": \"white\", \"showbackground\": true, \"ticks\": \"\", \"zerolinecolor\": \"white\"}, \"zaxis\": {\"backgroundcolor\": \"#E5ECF6\", \"gridcolor\": \"white\", \"gridwidth\": 2, \"linecolor\": \"white\", \"showbackground\": true, \"ticks\": \"\", \"zerolinecolor\": \"white\"}}, \"shapedefaults\": {\"line\": {\"color\": \"#2a3f5f\"}}, \"ternary\": {\"aaxis\": {\"gridcolor\": \"white\", \"linecolor\": \"white\", \"ticks\": \"\"}, \"baxis\": {\"gridcolor\": \"white\", \"linecolor\": \"white\", \"ticks\": \"\"}, \"bgcolor\": \"#E5ECF6\", \"caxis\": {\"gridcolor\": \"white\", \"linecolor\": \"white\", \"ticks\": \"\"}}, \"title\": {\"x\": 0.05}, \"xaxis\": {\"automargin\": true, \"gridcolor\": \"white\", \"linecolor\": \"white\", \"ticks\": \"\", \"title\": {\"standoff\": 15}, \"zerolinecolor\": \"white\", \"zerolinewidth\": 2}, \"yaxis\": {\"automargin\": true, \"gridcolor\": \"white\", \"linecolor\": \"white\", \"ticks\": \"\", \"title\": {\"standoff\": 15}, \"zerolinecolor\": \"white\", \"zerolinewidth\": 2}}}},\n",
       "                        {\"responsive\": true}\n",
       "                    ).then(function(){\n",
       "                            \n",
       "var gd = document.getElementById('c1cdea1a-b9c6-4952-b1e6-1de541ef89d4');\n",
       "var x = new MutationObserver(function (mutations, observer) {{\n",
       "        var display = window.getComputedStyle(gd).display;\n",
       "        if (!display || display === 'none') {{\n",
       "            console.log([gd, 'removed!']);\n",
       "            Plotly.purge(gd);\n",
       "            observer.disconnect();\n",
       "        }}\n",
       "}});\n",
       "\n",
       "// Listen for the removal of the full notebook cells\n",
       "var notebookContainer = gd.closest('#notebook-container');\n",
       "if (notebookContainer) {{\n",
       "    x.observe(notebookContainer, {childList: true});\n",
       "}}\n",
       "\n",
       "// Listen for the clearing of the current output cell\n",
       "var outputEl = gd.closest('.output');\n",
       "if (outputEl) {{\n",
       "    x.observe(outputEl, {childList: true});\n",
       "}}\n",
       "\n",
       "                        })\n",
       "                };\n",
       "                });\n",
       "            </script>\n",
       "        </div>"
      ]
     },
     "metadata": {},
     "output_type": "display_data"
    }
   ],
   "source": [
    "import plotly.express as px\n",
    "fig = px.sunburst(df, path=['Region', 'Country'], values='Original Principal Amount',\n",
    "                  color='Original Principal Amount',\n",
    "                  color_continuous_scale='RdBu',\n",
    "                  color_continuous_midpoint=np.average(df['Original Principal Amount'], \n",
    "                                                       weights=df['Original Principal Amount']))\n",
    "fig.show()"
   ]
  },
  {
   "cell_type": "markdown",
   "metadata": {},
   "source": [
    "### Loan Duration "
   ]
  },
  {
   "cell_type": "code",
   "execution_count": 297,
   "metadata": {},
   "outputs": [],
   "source": [
    "for col in df[[ \"Agreement Signing Date\",\"End of Period\",\"First Repayment Date\", \"Last Repayment Date\", \n",
    "               \"Board Approval Date\", \"Effective Date (Most Recent)\",\n",
    "                \"Closed Date (Most Recent)\", \"Last Disbursement Date\" ]]:\n",
    "    df[col] = pd.to_datetime(df[col])"
   ]
  },
  {
   "cell_type": "markdown",
   "metadata": {},
   "source": [
    "#### Calculating the Duration of Loans "
   ]
  },
  {
   "cell_type": "code",
   "execution_count": 298,
   "metadata": {},
   "outputs": [],
   "source": [
    "df['Loan Duration'] = df['Last Repayment Date'] .sub(df['Board Approval Date'], axis=0)"
   ]
  },
  {
   "cell_type": "code",
   "execution_count": 299,
   "metadata": {},
   "outputs": [
    {
     "data": {
      "text/plain": [
       "0      17279 days\n",
       "1      18165 days\n",
       "2      18196 days\n",
       "3      18124 days\n",
       "4      18241 days\n",
       "          ...    \n",
       "5637   12739 days\n",
       "5638   12770 days\n",
       "5639   14441 days\n",
       "5640   12746 days\n",
       "5641   12756 days\n",
       "Name: Loan Duration, Length: 5640, dtype: timedelta64[ns]"
      ]
     },
     "execution_count": 299,
     "metadata": {},
     "output_type": "execute_result"
    }
   ],
   "source": [
    "df['Loan Duration']"
   ]
  },
  {
   "cell_type": "code",
   "execution_count": 300,
   "metadata": {},
   "outputs": [],
   "source": [
    "df['Loan Duration in Years'] = df['Loan Duration'] / np.timedelta64(1, 'Y')"
   ]
  },
  {
   "cell_type": "code",
   "execution_count": 301,
   "metadata": {},
   "outputs": [
    {
     "data": {
      "text/html": [
       "<div>\n",
       "<style scoped>\n",
       "    .dataframe tbody tr th:only-of-type {\n",
       "        vertical-align: middle;\n",
       "    }\n",
       "\n",
       "    .dataframe tbody tr th {\n",
       "        vertical-align: top;\n",
       "    }\n",
       "\n",
       "    .dataframe thead th {\n",
       "        text-align: right;\n",
       "    }\n",
       "</style>\n",
       "<table border=\"1\" class=\"dataframe\">\n",
       "  <thead>\n",
       "    <tr style=\"text-align: right;\">\n",
       "      <th></th>\n",
       "      <th>Loan Duration in Years</th>\n",
       "      <th>Country</th>\n",
       "    </tr>\n",
       "  </thead>\n",
       "  <tbody>\n",
       "    <tr>\n",
       "      <th>5530</th>\n",
       "      <td>18.421</td>\n",
       "      <td>India</td>\n",
       "    </tr>\n",
       "    <tr>\n",
       "      <th>3596</th>\n",
       "      <td>19.505</td>\n",
       "      <td>Bosnia and Herzegovina</td>\n",
       "    </tr>\n",
       "    <tr>\n",
       "      <th>2857</th>\n",
       "      <td>19.505</td>\n",
       "      <td>Sri Lanka</td>\n",
       "    </tr>\n",
       "    <tr>\n",
       "      <th>2922</th>\n",
       "      <td>19.508</td>\n",
       "      <td>Albania</td>\n",
       "    </tr>\n",
       "    <tr>\n",
       "      <th>3826</th>\n",
       "      <td>19.510</td>\n",
       "      <td>Sri Lanka</td>\n",
       "    </tr>\n",
       "    <tr>\n",
       "      <th>...</th>\n",
       "      <td>...</td>\n",
       "      <td>...</td>\n",
       "    </tr>\n",
       "    <tr>\n",
       "      <th>7</th>\n",
       "      <td>50.027</td>\n",
       "      <td>Chad</td>\n",
       "    </tr>\n",
       "    <tr>\n",
       "      <th>103</th>\n",
       "      <td>50.030</td>\n",
       "      <td>Lesotho</td>\n",
       "    </tr>\n",
       "    <tr>\n",
       "      <th>409</th>\n",
       "      <td>50.054</td>\n",
       "      <td>China</td>\n",
       "    </tr>\n",
       "    <tr>\n",
       "      <th>253</th>\n",
       "      <td>50.054</td>\n",
       "      <td>Pakistan</td>\n",
       "    </tr>\n",
       "    <tr>\n",
       "      <th>608</th>\n",
       "      <td>50.755</td>\n",
       "      <td>Benin</td>\n",
       "    </tr>\n",
       "  </tbody>\n",
       "</table>\n",
       "<p>5640 rows × 2 columns</p>\n",
       "</div>"
      ],
      "text/plain": [
       "      Loan Duration in Years                 Country\n",
       "5530                  18.421                   India\n",
       "3596                  19.505  Bosnia and Herzegovina\n",
       "2857                  19.505               Sri Lanka\n",
       "2922                  19.508                 Albania\n",
       "3826                  19.510               Sri Lanka\n",
       "...                      ...                     ...\n",
       "7                     50.027                    Chad\n",
       "103                   50.030                 Lesotho\n",
       "409                   50.054                   China\n",
       "253                   50.054                Pakistan\n",
       "608                   50.755                   Benin\n",
       "\n",
       "[5640 rows x 2 columns]"
      ]
     },
     "execution_count": 301,
     "metadata": {},
     "output_type": "execute_result"
    }
   ],
   "source": [
    "df[['Loan Duration in Years', 'Country']].sort_values(by=['Loan Duration in Years'])"
   ]
  },
  {
   "cell_type": "code",
   "execution_count": 302,
   "metadata": {},
   "outputs": [
    {
     "data": {
      "text/plain": [
       "Region      Country     \n",
       "AFRICA      Angola           735.106\n",
       "            Benin           3680.308\n",
       "            Burkina Faso    3826.899\n",
       "            Burundi         1822.228\n",
       "            Cabo Verde      1857.569\n",
       "                              ...   \n",
       "SOUTH ASIA  India          11003.024\n",
       "            Maldives         679.047\n",
       "            Nepal           4392.950\n",
       "            Pakistan        6655.285\n",
       "            Sri Lanka       3686.066\n",
       "Name: Loan Duration in Years, Length: 97, dtype: float64"
      ]
     },
     "execution_count": 302,
     "metadata": {},
     "output_type": "execute_result"
    }
   ],
   "source": [
    "df.groupby(['Region','Country'])['Loan Duration in Years'].sum()"
   ]
  },
  {
   "cell_type": "code",
   "execution_count": 303,
   "metadata": {},
   "outputs": [],
   "source": [
    "df['Time to Repay'] = df['Last Repayment Date']- df['End of Period']"
   ]
  },
  {
   "cell_type": "code",
   "execution_count": 304,
   "metadata": {},
   "outputs": [
    {
     "data": {
      "text/plain": [
       "0      1279 days\n",
       "1      2557 days\n",
       "2      2679 days\n",
       "3      2663 days\n",
       "4      2831 days\n",
       "          ...   \n",
       "5637   4732 days\n",
       "5638   4763 days\n",
       "5639   6528 days\n",
       "5640   5083 days\n",
       "5641   5432 days\n",
       "Name: Time to Repay, Length: 5640, dtype: timedelta64[ns]"
      ]
     },
     "execution_count": 304,
     "metadata": {},
     "output_type": "execute_result"
    }
   ],
   "source": [
    "df['Time to Repay']"
   ]
  },
  {
   "cell_type": "code",
   "execution_count": 305,
   "metadata": {},
   "outputs": [],
   "source": [
    "df['Time to Repay in Years'] = df['Time to Repay']/ np.timedelta64(1, 'Y')"
   ]
  },
  {
   "cell_type": "code",
   "execution_count": 306,
   "metadata": {},
   "outputs": [
    {
     "data": {
      "text/plain": [
       "0       3.502\n",
       "1       7.001\n",
       "2       7.335\n",
       "3       7.291\n",
       "4       7.751\n",
       "        ...  \n",
       "5637   12.956\n",
       "5638   13.041\n",
       "5639   17.873\n",
       "5640   13.917\n",
       "5641   14.872\n",
       "Name: Time to Repay in Years, Length: 5640, dtype: float64"
      ]
     },
     "execution_count": 306,
     "metadata": {},
     "output_type": "execute_result"
    }
   ],
   "source": [
    "df['Time to Repay in Years']"
   ]
  },
  {
   "cell_type": "markdown",
   "metadata": {},
   "source": [
    "#### Years to Repay Debts per Region and Country"
   ]
  },
  {
   "cell_type": "code",
   "execution_count": 307,
   "metadata": {},
   "outputs": [],
   "source": [
    "df['Region Total'] = df.groupby('Region')['Time to Repay in Years'].transform('sum')\n",
    "df['Debt Left in Years'] = df.groupby('Country')['Time to Repay in Years'].transform('sum')"
   ]
  },
  {
   "cell_type": "code",
   "execution_count": 308,
   "metadata": {},
   "outputs": [],
   "source": [
    "df_repaying = df[df['Credit Status'] == 'Repaying']"
   ]
  },
  {
   "cell_type": "code",
   "execution_count": 309,
   "metadata": {},
   "outputs": [
    {
     "data": {
      "application/vnd.plotly.v1+json": {
       "config": {
        "plotlyServerURL": "https://plot.ly"
       },
       "data": [
        {
         "branchvalues": "total",
         "customdata": [
          [
           257.7109728468073
          ],
          [
           913.5327898587921
          ],
          [
           322.1092835581839
          ],
          [
           1006.0576192529618
          ],
          [
           718.4076332847359
          ],
          [
           5157.521372786575
          ],
          [
           2006.5572872817363
          ],
          [
           484.6259676790077
          ],
          [
           1494.9629355838945
          ],
          [
           833.6269738598322
          ],
          [
           2184.879908553907
          ],
          [
           643.4190982703271
          ],
          [
           1155.2489099707727
          ],
          [
           1199.3264748762808
          ],
          [
           1434.1321177026216
          ],
          [
           48.78676495752822
          ],
          [
           86.20574002204015
          ],
          [
           468.73515541044645
          ],
          [
           829.514637535336
          ],
          [
           1275.637418975065
          ],
          [
           343.60459147005076
          ],
          [
           1140.2616070145177
          ],
          [
           570.1636583913428
          ],
          [
           1644.786682820317
          ],
          [
           728.5159859545369
          ],
          [
           357.83075627836314
          ],
          [
           286.0264071130824
          ],
          [
           122.99773438195172
          ],
          [
           247.80796320252986
          ],
          [
           3353.610272627093
          ],
          [
           598.0519791645276
          ],
          [
           1027.1340273927597
          ],
          [
           3428.1799078694303
          ],
          [
           672.6873241750345
          ],
          [
           1491.7048262455762
          ],
          [
           772.609978302087
          ],
          [
           564.8439050767641
          ],
          [
           1191.0087133890502
          ],
          [
           4572.000793993028
          ],
          [
           562.8808257527536
          ],
          [
           107.208224672649
          ],
          [
           3211.77300013005
          ],
          [
           258.025832152611
          ],
          [
           1588.8895733656407
          ],
          [
           1248.6389179791513
          ],
          [
           1018.3617733423686
          ],
          [
           2645.735367598237
          ],
          [
           1978.770269067811
          ],
          [
           397.89728741863286
          ],
          [
           2467.711178189834
          ],
          [
           1227.0970656481654
          ],
          [
           1186.4993805485387
          ],
          [
           954.8450686872425
          ],
          [
           40.69898765888416
          ],
          [
           2564.841167169758
          ],
          [
           632.2456997748071
          ],
          [
           2376.089858107969
          ],
          [
           1647.2781781966767
          ],
          [
           1837.2971382027004
          ],
          [
           2552.3809523809527
          ],
          [
           221.1736038385457
          ],
          [
           3299.1177094669974
          ],
          [
           429.7309321888882
          ],
          [
           29.717242653853262
          ],
          [
           2129.2292107298567
          ],
          [
           466.5256644558067
          ],
          [
           206.2136799523604
          ],
          [
           3445.8147669014415
          ],
          [
           63.842515588958
          ],
          [
           1219.0284536985703
          ],
          [
           285.67321710918094
          ],
          [
           245.07005619554135
          ],
          [
           1577.0316981183737
          ],
          [
           5.626398899361384
          ],
          [
           526.6637918643092
          ],
          [
           531.6495205240354
          ],
          [
           319.24269492186704
          ],
          [
           743.8510031006795
          ],
          [
           4279.269252619834
          ],
          [
           375.2575343778449
          ],
          [
           2770.4689350226226
          ],
          [
           692.107298575604
          ],
          [
           266.2422910805834
          ],
          [
           3668.570880990028
          ],
          [
           103.76119975085045
          ],
          [
           1577.9297316166653
          ],
          [
           2047.012601216999
          ],
          [
           125.4618506882414
          ],
          [
           2870.250263448787
          ],
          [
           2519.0538624292476
          ],
          [
           1026.53043839728
          ],
          [
           1286.5583512609312
          ],
          [
           1446.35985916057
          ],
          [
           4230.862350121813
          ]
         ],
         "domain": {
          "x": [
           0,
           1
          ],
          "y": [
           0,
           1
          ]
         },
         "hovertemplate": "labels=%{label}<br>Debt Left in Years_sum=%{value}<br>parent=%{parent}<br>id=%{id}<br>Debt Left in Years=%{color}<extra></extra>",
         "ids": [
          "SOUTH ASIA/Afghanistan",
          "EUROPE AND CENTRAL ASIA/Albania",
          "AFRICA/Angola",
          "EUROPE AND CENTRAL ASIA/Armenia",
          "EUROPE AND CENTRAL ASIA/Azerbaijan",
          "SOUTH ASIA/Bangladesh",
          "AFRICA/Benin",
          "SOUTH ASIA/Bhutan",
          "LATIN AMERICA AND CARIBBEAN/Bolivia",
          "EUROPE AND CENTRAL ASIA/Bosnia and Herzegovina",
          "AFRICA/Burkina Faso",
          "AFRICA/Burundi",
          "AFRICA/Cabo Verde",
          "EAST ASIA AND PACIFIC/Cambodia",
          "AFRICA/Cameroon",
          "LATIN AMERICA AND CARIBBEAN/Caribbean",
          "AFRICA/Central Africa",
          "AFRICA/Central African Republic",
          "AFRICA/Chad",
          "EAST ASIA AND PACIFIC/China",
          "AFRICA/Comoros",
          "AFRICA/Congo, Democratic Republic of",
          "AFRICA/Congo, Republic of",
          "AFRICA/Cote d'Ivoire",
          "MIDDLE EAST AND NORTH AFRICA/Djibouti",
          "LATIN AMERICA AND CARIBBEAN/Dominica",
          "MIDDLE EAST AND NORTH AFRICA/Egypt, Arab Republic of",
          "AFRICA/Equatorial Guinea",
          "AFRICA/Eritrea",
          "AFRICA/Ethiopia",
          "AFRICA/Gambia, The",
          "EUROPE AND CENTRAL ASIA/Georgia",
          "AFRICA/Ghana",
          "LATIN AMERICA AND CARIBBEAN/Grenada",
          "AFRICA/Guinea",
          "AFRICA/Guinea-Bissau",
          "LATIN AMERICA AND CARIBBEAN/Guyana",
          "LATIN AMERICA AND CARIBBEAN/Honduras",
          "SOUTH ASIA/India",
          "EAST ASIA AND PACIFIC/Indonesia",
          "MIDDLE EAST AND NORTH AFRICA/Iraq",
          "AFRICA/Kenya",
          "EUROPE AND CENTRAL ASIA/Kosovo",
          "EUROPE AND CENTRAL ASIA/Kyrgyz Republic",
          "EAST ASIA AND PACIFIC/Lao People's Democratic Republic",
          "AFRICA/Lesotho",
          "AFRICA/Madagascar",
          "AFRICA/Malawi",
          "SOUTH ASIA/Maldives",
          "AFRICA/Mali",
          "AFRICA/Mauritania",
          "EUROPE AND CENTRAL ASIA/Moldova",
          "EAST ASIA AND PACIFIC/Mongolia",
          "EUROPE AND CENTRAL ASIA/Montenegro",
          "AFRICA/Mozambique",
          "EAST ASIA AND PACIFIC/Myanmar",
          "SOUTH ASIA/Nepal",
          "LATIN AMERICA AND CARIBBEAN/Nicaragua",
          "AFRICA/Niger",
          "AFRICA/Nigeria",
          "EUROPE AND CENTRAL ASIA/North Macedonia",
          "SOUTH ASIA/Pakistan",
          "EAST ASIA AND PACIFIC/Papua New Guinea",
          "EAST ASIA AND PACIFIC/Philippines",
          "AFRICA/Rwanda",
          "EAST ASIA AND PACIFIC/Samoa",
          "AFRICA/Sao Tome and Principe",
          "AFRICA/Senegal",
          "EUROPE AND CENTRAL ASIA/Serbia",
          "AFRICA/Sierra Leone",
          "EAST ASIA AND PACIFIC/Solomon Islands",
          "AFRICA/Somalia",
          "SOUTH ASIA/Sri Lanka",
          "LATIN AMERICA AND CARIBBEAN/St. Kitts and Nevis",
          "LATIN AMERICA AND CARIBBEAN/St. Lucia",
          "LATIN AMERICA AND CARIBBEAN/St. Vincent and the Grenadines",
          "AFRICA/Sudan",
          "EUROPE AND CENTRAL ASIA/Tajikistan",
          "AFRICA/Tanzania",
          "EAST ASIA AND PACIFIC/Tonga",
          "AFRICA/Uganda",
          "EUROPE AND CENTRAL ASIA/Uzbekistan",
          "EAST ASIA AND PACIFIC/Vanuatu",
          "EAST ASIA AND PACIFIC/Vietnam",
          "AFRICA/Western Africa",
          "MIDDLE EAST AND NORTH AFRICA/Yemen, Republic of",
          "AFRICA/Zambia",
          "AFRICA/Zimbabwe",
          "AFRICA",
          "EAST ASIA AND PACIFIC",
          "EUROPE AND CENTRAL ASIA",
          "LATIN AMERICA AND CARIBBEAN",
          "MIDDLE EAST AND NORTH AFRICA",
          "SOUTH ASIA"
         ],
         "labels": [
          "Afghanistan",
          "Albania",
          "Angola",
          "Armenia",
          "Azerbaijan",
          "Bangladesh",
          "Benin",
          "Bhutan",
          "Bolivia",
          "Bosnia and Herzegovina",
          "Burkina Faso",
          "Burundi",
          "Cabo Verde",
          "Cambodia",
          "Cameroon",
          "Caribbean",
          "Central Africa",
          "Central African Republic",
          "Chad",
          "China",
          "Comoros",
          "Congo, Democratic Republic of",
          "Congo, Republic of",
          "Cote d'Ivoire",
          "Djibouti",
          "Dominica",
          "Egypt, Arab Republic of",
          "Equatorial Guinea",
          "Eritrea",
          "Ethiopia",
          "Gambia, The",
          "Georgia",
          "Ghana",
          "Grenada",
          "Guinea",
          "Guinea-Bissau",
          "Guyana",
          "Honduras",
          "India",
          "Indonesia",
          "Iraq",
          "Kenya",
          "Kosovo",
          "Kyrgyz Republic",
          "Lao People's Democratic Republic",
          "Lesotho",
          "Madagascar",
          "Malawi",
          "Maldives",
          "Mali",
          "Mauritania",
          "Moldova",
          "Mongolia",
          "Montenegro",
          "Mozambique",
          "Myanmar",
          "Nepal",
          "Nicaragua",
          "Niger",
          "Nigeria",
          "North Macedonia",
          "Pakistan",
          "Papua New Guinea",
          "Philippines",
          "Rwanda",
          "Samoa",
          "Sao Tome and Principe",
          "Senegal",
          "Serbia",
          "Sierra Leone",
          "Solomon Islands",
          "Somalia",
          "Sri Lanka",
          "St. Kitts and Nevis",
          "St. Lucia",
          "St. Vincent and the Grenadines",
          "Sudan",
          "Tajikistan",
          "Tanzania",
          "Tonga",
          "Uganda",
          "Uzbekistan",
          "Vanuatu",
          "Vietnam",
          "Western Africa",
          "Yemen, Republic of",
          "Zambia",
          "Zimbabwe",
          "AFRICA",
          "EAST ASIA AND PACIFIC",
          "EUROPE AND CENTRAL ASIA",
          "LATIN AMERICA AND CARIBBEAN",
          "MIDDLE EAST AND NORTH AFRICA",
          "SOUTH ASIA"
         ],
         "marker": {
          "coloraxis": "coloraxis",
          "colors": [
           257.7109728468073,
           913.5327898587921,
           322.1092835581839,
           1006.0576192529618,
           718.4076332847359,
           5157.521372786575,
           2006.5572872817363,
           484.6259676790077,
           1494.9629355838945,
           833.6269738598322,
           2184.879908553907,
           643.4190982703271,
           1155.2489099707727,
           1199.3264748762808,
           1434.1321177026216,
           48.78676495752822,
           86.20574002204015,
           468.73515541044645,
           829.514637535336,
           1275.637418975065,
           343.60459147005076,
           1140.2616070145177,
           570.1636583913428,
           1644.786682820317,
           728.5159859545369,
           357.83075627836314,
           286.0264071130824,
           122.99773438195172,
           247.80796320252986,
           3353.610272627093,
           598.0519791645276,
           1027.1340273927597,
           3428.1799078694303,
           672.6873241750345,
           1491.7048262455762,
           772.609978302087,
           564.8439050767641,
           1191.0087133890502,
           4572.000793993028,
           562.8808257527536,
           107.208224672649,
           3211.77300013005,
           258.025832152611,
           1588.8895733656407,
           1248.6389179791513,
           1018.3617733423686,
           2645.735367598237,
           1978.770269067811,
           397.89728741863286,
           2467.711178189834,
           1227.0970656481654,
           1186.4993805485387,
           954.8450686872425,
           40.69898765888416,
           2564.841167169758,
           632.2456997748071,
           2376.089858107969,
           1647.2781781966767,
           1837.2971382027004,
           2552.3809523809527,
           221.1736038385457,
           3299.1177094669974,
           429.7309321888882,
           29.717242653853262,
           2129.2292107298567,
           466.5256644558067,
           206.2136799523604,
           3445.8147669014415,
           63.842515588958,
           1219.0284536985703,
           285.67321710918094,
           245.07005619554135,
           1577.0316981183737,
           5.626398899361384,
           526.6637918643092,
           531.6495205240354,
           319.24269492186704,
           743.8510031006795,
           4279.269252619834,
           375.2575343778449,
           2770.4689350226226,
           692.107298575604,
           266.2422910805834,
           3668.570880990028,
           103.76119975085045,
           1577.9297316166653,
           2047.012601216999,
           125.4618506882414,
           2870.250263448787,
           2519.0538624292476,
           1026.53043839728,
           1286.5583512609312,
           1446.35985916057,
           4230.862350121813
          ]
         },
         "name": "",
         "parents": [
          "SOUTH ASIA",
          "EUROPE AND CENTRAL ASIA",
          "AFRICA",
          "EUROPE AND CENTRAL ASIA",
          "EUROPE AND CENTRAL ASIA",
          "SOUTH ASIA",
          "AFRICA",
          "SOUTH ASIA",
          "LATIN AMERICA AND CARIBBEAN",
          "EUROPE AND CENTRAL ASIA",
          "AFRICA",
          "AFRICA",
          "AFRICA",
          "EAST ASIA AND PACIFIC",
          "AFRICA",
          "LATIN AMERICA AND CARIBBEAN",
          "AFRICA",
          "AFRICA",
          "AFRICA",
          "EAST ASIA AND PACIFIC",
          "AFRICA",
          "AFRICA",
          "AFRICA",
          "AFRICA",
          "MIDDLE EAST AND NORTH AFRICA",
          "LATIN AMERICA AND CARIBBEAN",
          "MIDDLE EAST AND NORTH AFRICA",
          "AFRICA",
          "AFRICA",
          "AFRICA",
          "AFRICA",
          "EUROPE AND CENTRAL ASIA",
          "AFRICA",
          "LATIN AMERICA AND CARIBBEAN",
          "AFRICA",
          "AFRICA",
          "LATIN AMERICA AND CARIBBEAN",
          "LATIN AMERICA AND CARIBBEAN",
          "SOUTH ASIA",
          "EAST ASIA AND PACIFIC",
          "MIDDLE EAST AND NORTH AFRICA",
          "AFRICA",
          "EUROPE AND CENTRAL ASIA",
          "EUROPE AND CENTRAL ASIA",
          "EAST ASIA AND PACIFIC",
          "AFRICA",
          "AFRICA",
          "AFRICA",
          "SOUTH ASIA",
          "AFRICA",
          "AFRICA",
          "EUROPE AND CENTRAL ASIA",
          "EAST ASIA AND PACIFIC",
          "EUROPE AND CENTRAL ASIA",
          "AFRICA",
          "EAST ASIA AND PACIFIC",
          "SOUTH ASIA",
          "LATIN AMERICA AND CARIBBEAN",
          "AFRICA",
          "AFRICA",
          "EUROPE AND CENTRAL ASIA",
          "SOUTH ASIA",
          "EAST ASIA AND PACIFIC",
          "EAST ASIA AND PACIFIC",
          "AFRICA",
          "EAST ASIA AND PACIFIC",
          "AFRICA",
          "AFRICA",
          "EUROPE AND CENTRAL ASIA",
          "AFRICA",
          "EAST ASIA AND PACIFIC",
          "AFRICA",
          "SOUTH ASIA",
          "LATIN AMERICA AND CARIBBEAN",
          "LATIN AMERICA AND CARIBBEAN",
          "LATIN AMERICA AND CARIBBEAN",
          "AFRICA",
          "EUROPE AND CENTRAL ASIA",
          "AFRICA",
          "EAST ASIA AND PACIFIC",
          "AFRICA",
          "EUROPE AND CENTRAL ASIA",
          "EAST ASIA AND PACIFIC",
          "EAST ASIA AND PACIFIC",
          "AFRICA",
          "MIDDLE EAST AND NORTH AFRICA",
          "AFRICA",
          "AFRICA",
          "",
          "",
          "",
          "",
          "",
          ""
         ],
         "type": "sunburst",
         "values": [
          2319.398755621265,
          61206.69692053912,
          5153.7485369309425,
          59357.39953592478,
          30891.528231243654,
          742683.0776812669,
          42137.703032916455,
          7269.389515185116,
          52323.70274543626,
          52518.499353169485,
          65546.39725661719,
          5790.771884432946,
          34657.46729912321,
          35979.79424628843,
          28682.642354052437,
          195.14705983011288,
          172.4114800440803,
          468.73515541044645,
          7465.631737818024,
          169659.77672368355,
          1030.813774410152,
          5701.308035072589,
          5701.636583913427,
          14803.080145382854,
          14570.319719090734,
          4651.7998316187195,
          7722.712992053223,
          1106.9796094375652,
          3221.5035216328874,
          144205.24172296494,
          4784.41583331622,
          59573.77358877997,
          167980.8154856021,
          10090.309862625516,
          14917.048262455759,
          4635.659869812523,
          1694.5317152302923,
          45258.33110878386,
          1220724.2119961346,
          18575.06724984085,
          536.041123363245,
          301906.66201222443,
          774.0774964578327,
          58788.91421452866,
          43702.36212927029,
          25459.044333559206,
          103183.67933633139,
          31660.324305084985,
          5570.56202386086,
          81434.46888026448,
          26996.135444259646,
          46273.475841393076,
          27690.506991930022,
          447.6888642477258,
          92334.28201811119,
          10115.931196396912,
          154445.8407770179,
          49418.345345900314,
          25722.159934837822,
          142933.3333333332,
          4202.298472932367,
          438782.65535911097,
          1718.9237287555527,
          118.86897061541305,
          27679.979739488135,
          7464.410631292907,
          824.8547198094416,
          155061.66451056482,
          1213.0077961902025,
          14628.34144438285,
          1999.7125197642658,
          4901.401123910826,
          132470.66264194326,
          5.626398899361384,
          10006.612045421878,
          6379.794246288424,
          8619.55276289041,
          17852.4240744163,
          273873.2321676691,
          1876.2876718892244,
          121900.63314099547,
          6228.9656871804345,
          1064.9691643223337,
          385199.9425039527,
          518.8059987542523,
          153059.18396681637,
          55269.340232859,
          1380.0803575706552,
          2054451.9873782517,
          705166.553728,
          399328.75007700454,
          180024.20036003483,
          175888.25780132346,
          2704265.7987501463
         ]
        }
       ],
       "layout": {
        "coloraxis": {
         "colorbar": {
          "title": {
           "text": "Debt Left in Years"
          }
         },
         "colorscale": [
          [
           0,
           "rgb(103,0,31)"
          ],
          [
           0.1,
           "rgb(178,24,43)"
          ],
          [
           0.2,
           "rgb(214,96,77)"
          ],
          [
           0.3,
           "rgb(244,165,130)"
          ],
          [
           0.4,
           "rgb(253,219,199)"
          ],
          [
           0.5,
           "rgb(247,247,247)"
          ],
          [
           0.6,
           "rgb(209,229,240)"
          ],
          [
           0.7,
           "rgb(146,197,222)"
          ],
          [
           0.8,
           "rgb(67,147,195)"
          ],
          [
           0.9,
           "rgb(33,102,172)"
          ],
          [
           1,
           "rgb(5,48,97)"
          ]
         ]
        },
        "legend": {
         "tracegroupgap": 0
        },
        "margin": {
         "t": 60
        },
        "template": {
         "data": {
          "bar": [
           {
            "error_x": {
             "color": "#2a3f5f"
            },
            "error_y": {
             "color": "#2a3f5f"
            },
            "marker": {
             "line": {
              "color": "#E5ECF6",
              "width": 0.5
             }
            },
            "type": "bar"
           }
          ],
          "barpolar": [
           {
            "marker": {
             "line": {
              "color": "#E5ECF6",
              "width": 0.5
             }
            },
            "type": "barpolar"
           }
          ],
          "carpet": [
           {
            "aaxis": {
             "endlinecolor": "#2a3f5f",
             "gridcolor": "white",
             "linecolor": "white",
             "minorgridcolor": "white",
             "startlinecolor": "#2a3f5f"
            },
            "baxis": {
             "endlinecolor": "#2a3f5f",
             "gridcolor": "white",
             "linecolor": "white",
             "minorgridcolor": "white",
             "startlinecolor": "#2a3f5f"
            },
            "type": "carpet"
           }
          ],
          "choropleth": [
           {
            "colorbar": {
             "outlinewidth": 0,
             "ticks": ""
            },
            "type": "choropleth"
           }
          ],
          "contour": [
           {
            "colorbar": {
             "outlinewidth": 0,
             "ticks": ""
            },
            "colorscale": [
             [
              0,
              "#0d0887"
             ],
             [
              0.1111111111111111,
              "#46039f"
             ],
             [
              0.2222222222222222,
              "#7201a8"
             ],
             [
              0.3333333333333333,
              "#9c179e"
             ],
             [
              0.4444444444444444,
              "#bd3786"
             ],
             [
              0.5555555555555556,
              "#d8576b"
             ],
             [
              0.6666666666666666,
              "#ed7953"
             ],
             [
              0.7777777777777778,
              "#fb9f3a"
             ],
             [
              0.8888888888888888,
              "#fdca26"
             ],
             [
              1,
              "#f0f921"
             ]
            ],
            "type": "contour"
           }
          ],
          "contourcarpet": [
           {
            "colorbar": {
             "outlinewidth": 0,
             "ticks": ""
            },
            "type": "contourcarpet"
           }
          ],
          "heatmap": [
           {
            "colorbar": {
             "outlinewidth": 0,
             "ticks": ""
            },
            "colorscale": [
             [
              0,
              "#0d0887"
             ],
             [
              0.1111111111111111,
              "#46039f"
             ],
             [
              0.2222222222222222,
              "#7201a8"
             ],
             [
              0.3333333333333333,
              "#9c179e"
             ],
             [
              0.4444444444444444,
              "#bd3786"
             ],
             [
              0.5555555555555556,
              "#d8576b"
             ],
             [
              0.6666666666666666,
              "#ed7953"
             ],
             [
              0.7777777777777778,
              "#fb9f3a"
             ],
             [
              0.8888888888888888,
              "#fdca26"
             ],
             [
              1,
              "#f0f921"
             ]
            ],
            "type": "heatmap"
           }
          ],
          "heatmapgl": [
           {
            "colorbar": {
             "outlinewidth": 0,
             "ticks": ""
            },
            "colorscale": [
             [
              0,
              "#0d0887"
             ],
             [
              0.1111111111111111,
              "#46039f"
             ],
             [
              0.2222222222222222,
              "#7201a8"
             ],
             [
              0.3333333333333333,
              "#9c179e"
             ],
             [
              0.4444444444444444,
              "#bd3786"
             ],
             [
              0.5555555555555556,
              "#d8576b"
             ],
             [
              0.6666666666666666,
              "#ed7953"
             ],
             [
              0.7777777777777778,
              "#fb9f3a"
             ],
             [
              0.8888888888888888,
              "#fdca26"
             ],
             [
              1,
              "#f0f921"
             ]
            ],
            "type": "heatmapgl"
           }
          ],
          "histogram": [
           {
            "marker": {
             "colorbar": {
              "outlinewidth": 0,
              "ticks": ""
             }
            },
            "type": "histogram"
           }
          ],
          "histogram2d": [
           {
            "colorbar": {
             "outlinewidth": 0,
             "ticks": ""
            },
            "colorscale": [
             [
              0,
              "#0d0887"
             ],
             [
              0.1111111111111111,
              "#46039f"
             ],
             [
              0.2222222222222222,
              "#7201a8"
             ],
             [
              0.3333333333333333,
              "#9c179e"
             ],
             [
              0.4444444444444444,
              "#bd3786"
             ],
             [
              0.5555555555555556,
              "#d8576b"
             ],
             [
              0.6666666666666666,
              "#ed7953"
             ],
             [
              0.7777777777777778,
              "#fb9f3a"
             ],
             [
              0.8888888888888888,
              "#fdca26"
             ],
             [
              1,
              "#f0f921"
             ]
            ],
            "type": "histogram2d"
           }
          ],
          "histogram2dcontour": [
           {
            "colorbar": {
             "outlinewidth": 0,
             "ticks": ""
            },
            "colorscale": [
             [
              0,
              "#0d0887"
             ],
             [
              0.1111111111111111,
              "#46039f"
             ],
             [
              0.2222222222222222,
              "#7201a8"
             ],
             [
              0.3333333333333333,
              "#9c179e"
             ],
             [
              0.4444444444444444,
              "#bd3786"
             ],
             [
              0.5555555555555556,
              "#d8576b"
             ],
             [
              0.6666666666666666,
              "#ed7953"
             ],
             [
              0.7777777777777778,
              "#fb9f3a"
             ],
             [
              0.8888888888888888,
              "#fdca26"
             ],
             [
              1,
              "#f0f921"
             ]
            ],
            "type": "histogram2dcontour"
           }
          ],
          "mesh3d": [
           {
            "colorbar": {
             "outlinewidth": 0,
             "ticks": ""
            },
            "type": "mesh3d"
           }
          ],
          "parcoords": [
           {
            "line": {
             "colorbar": {
              "outlinewidth": 0,
              "ticks": ""
             }
            },
            "type": "parcoords"
           }
          ],
          "pie": [
           {
            "automargin": true,
            "type": "pie"
           }
          ],
          "scatter": [
           {
            "marker": {
             "colorbar": {
              "outlinewidth": 0,
              "ticks": ""
             }
            },
            "type": "scatter"
           }
          ],
          "scatter3d": [
           {
            "line": {
             "colorbar": {
              "outlinewidth": 0,
              "ticks": ""
             }
            },
            "marker": {
             "colorbar": {
              "outlinewidth": 0,
              "ticks": ""
             }
            },
            "type": "scatter3d"
           }
          ],
          "scattercarpet": [
           {
            "marker": {
             "colorbar": {
              "outlinewidth": 0,
              "ticks": ""
             }
            },
            "type": "scattercarpet"
           }
          ],
          "scattergeo": [
           {
            "marker": {
             "colorbar": {
              "outlinewidth": 0,
              "ticks": ""
             }
            },
            "type": "scattergeo"
           }
          ],
          "scattergl": [
           {
            "marker": {
             "colorbar": {
              "outlinewidth": 0,
              "ticks": ""
             }
            },
            "type": "scattergl"
           }
          ],
          "scattermapbox": [
           {
            "marker": {
             "colorbar": {
              "outlinewidth": 0,
              "ticks": ""
             }
            },
            "type": "scattermapbox"
           }
          ],
          "scatterpolar": [
           {
            "marker": {
             "colorbar": {
              "outlinewidth": 0,
              "ticks": ""
             }
            },
            "type": "scatterpolar"
           }
          ],
          "scatterpolargl": [
           {
            "marker": {
             "colorbar": {
              "outlinewidth": 0,
              "ticks": ""
             }
            },
            "type": "scatterpolargl"
           }
          ],
          "scatterternary": [
           {
            "marker": {
             "colorbar": {
              "outlinewidth": 0,
              "ticks": ""
             }
            },
            "type": "scatterternary"
           }
          ],
          "surface": [
           {
            "colorbar": {
             "outlinewidth": 0,
             "ticks": ""
            },
            "colorscale": [
             [
              0,
              "#0d0887"
             ],
             [
              0.1111111111111111,
              "#46039f"
             ],
             [
              0.2222222222222222,
              "#7201a8"
             ],
             [
              0.3333333333333333,
              "#9c179e"
             ],
             [
              0.4444444444444444,
              "#bd3786"
             ],
             [
              0.5555555555555556,
              "#d8576b"
             ],
             [
              0.6666666666666666,
              "#ed7953"
             ],
             [
              0.7777777777777778,
              "#fb9f3a"
             ],
             [
              0.8888888888888888,
              "#fdca26"
             ],
             [
              1,
              "#f0f921"
             ]
            ],
            "type": "surface"
           }
          ],
          "table": [
           {
            "cells": {
             "fill": {
              "color": "#EBF0F8"
             },
             "line": {
              "color": "white"
             }
            },
            "header": {
             "fill": {
              "color": "#C8D4E3"
             },
             "line": {
              "color": "white"
             }
            },
            "type": "table"
           }
          ]
         },
         "layout": {
          "annotationdefaults": {
           "arrowcolor": "#2a3f5f",
           "arrowhead": 0,
           "arrowwidth": 1
          },
          "coloraxis": {
           "colorbar": {
            "outlinewidth": 0,
            "ticks": ""
           }
          },
          "colorscale": {
           "diverging": [
            [
             0,
             "#8e0152"
            ],
            [
             0.1,
             "#c51b7d"
            ],
            [
             0.2,
             "#de77ae"
            ],
            [
             0.3,
             "#f1b6da"
            ],
            [
             0.4,
             "#fde0ef"
            ],
            [
             0.5,
             "#f7f7f7"
            ],
            [
             0.6,
             "#e6f5d0"
            ],
            [
             0.7,
             "#b8e186"
            ],
            [
             0.8,
             "#7fbc41"
            ],
            [
             0.9,
             "#4d9221"
            ],
            [
             1,
             "#276419"
            ]
           ],
           "sequential": [
            [
             0,
             "#0d0887"
            ],
            [
             0.1111111111111111,
             "#46039f"
            ],
            [
             0.2222222222222222,
             "#7201a8"
            ],
            [
             0.3333333333333333,
             "#9c179e"
            ],
            [
             0.4444444444444444,
             "#bd3786"
            ],
            [
             0.5555555555555556,
             "#d8576b"
            ],
            [
             0.6666666666666666,
             "#ed7953"
            ],
            [
             0.7777777777777778,
             "#fb9f3a"
            ],
            [
             0.8888888888888888,
             "#fdca26"
            ],
            [
             1,
             "#f0f921"
            ]
           ],
           "sequentialminus": [
            [
             0,
             "#0d0887"
            ],
            [
             0.1111111111111111,
             "#46039f"
            ],
            [
             0.2222222222222222,
             "#7201a8"
            ],
            [
             0.3333333333333333,
             "#9c179e"
            ],
            [
             0.4444444444444444,
             "#bd3786"
            ],
            [
             0.5555555555555556,
             "#d8576b"
            ],
            [
             0.6666666666666666,
             "#ed7953"
            ],
            [
             0.7777777777777778,
             "#fb9f3a"
            ],
            [
             0.8888888888888888,
             "#fdca26"
            ],
            [
             1,
             "#f0f921"
            ]
           ]
          },
          "colorway": [
           "#636efa",
           "#EF553B",
           "#00cc96",
           "#ab63fa",
           "#FFA15A",
           "#19d3f3",
           "#FF6692",
           "#B6E880",
           "#FF97FF",
           "#FECB52"
          ],
          "font": {
           "color": "#2a3f5f"
          },
          "geo": {
           "bgcolor": "white",
           "lakecolor": "white",
           "landcolor": "#E5ECF6",
           "showlakes": true,
           "showland": true,
           "subunitcolor": "white"
          },
          "hoverlabel": {
           "align": "left"
          },
          "hovermode": "closest",
          "mapbox": {
           "style": "light"
          },
          "paper_bgcolor": "white",
          "plot_bgcolor": "#E5ECF6",
          "polar": {
           "angularaxis": {
            "gridcolor": "white",
            "linecolor": "white",
            "ticks": ""
           },
           "bgcolor": "#E5ECF6",
           "radialaxis": {
            "gridcolor": "white",
            "linecolor": "white",
            "ticks": ""
           }
          },
          "scene": {
           "xaxis": {
            "backgroundcolor": "#E5ECF6",
            "gridcolor": "white",
            "gridwidth": 2,
            "linecolor": "white",
            "showbackground": true,
            "ticks": "",
            "zerolinecolor": "white"
           },
           "yaxis": {
            "backgroundcolor": "#E5ECF6",
            "gridcolor": "white",
            "gridwidth": 2,
            "linecolor": "white",
            "showbackground": true,
            "ticks": "",
            "zerolinecolor": "white"
           },
           "zaxis": {
            "backgroundcolor": "#E5ECF6",
            "gridcolor": "white",
            "gridwidth": 2,
            "linecolor": "white",
            "showbackground": true,
            "ticks": "",
            "zerolinecolor": "white"
           }
          },
          "shapedefaults": {
           "line": {
            "color": "#2a3f5f"
           }
          },
          "ternary": {
           "aaxis": {
            "gridcolor": "white",
            "linecolor": "white",
            "ticks": ""
           },
           "baxis": {
            "gridcolor": "white",
            "linecolor": "white",
            "ticks": ""
           },
           "bgcolor": "#E5ECF6",
           "caxis": {
            "gridcolor": "white",
            "linecolor": "white",
            "ticks": ""
           }
          },
          "title": {
           "x": 0.05
          },
          "xaxis": {
           "automargin": true,
           "gridcolor": "white",
           "linecolor": "white",
           "ticks": "",
           "title": {
            "standoff": 15
           },
           "zerolinecolor": "white",
           "zerolinewidth": 2
          },
          "yaxis": {
           "automargin": true,
           "gridcolor": "white",
           "linecolor": "white",
           "ticks": "",
           "title": {
            "standoff": 15
           },
           "zerolinecolor": "white",
           "zerolinewidth": 2
          }
         }
        }
       }
      },
      "text/html": [
       "<div>\n",
       "        \n",
       "        \n",
       "            <div id=\"c17e8c96-21c2-44fd-9e68-7933fcb48b23\" class=\"plotly-graph-div\" style=\"height:525px; width:100%;\"></div>\n",
       "            <script type=\"text/javascript\">\n",
       "                require([\"plotly\"], function(Plotly) {\n",
       "                    window.PLOTLYENV=window.PLOTLYENV || {};\n",
       "                    \n",
       "                if (document.getElementById(\"c17e8c96-21c2-44fd-9e68-7933fcb48b23\")) {\n",
       "                    Plotly.newPlot(\n",
       "                        'c17e8c96-21c2-44fd-9e68-7933fcb48b23',\n",
       "                        [{\"branchvalues\": \"total\", \"customdata\": [[257.7109728468073], [913.5327898587921], [322.1092835581839], [1006.0576192529618], [718.4076332847359], [5157.521372786575], [2006.5572872817363], [484.6259676790077], [1494.9629355838945], [833.6269738598322], [2184.879908553907], [643.4190982703271], [1155.2489099707727], [1199.3264748762808], [1434.1321177026216], [48.78676495752822], [86.20574002204015], [468.73515541044645], [829.514637535336], [1275.637418975065], [343.60459147005076], [1140.2616070145177], [570.1636583913428], [1644.786682820317], [728.5159859545369], [357.83075627836314], [286.0264071130824], [122.99773438195172], [247.80796320252986], [3353.610272627093], [598.0519791645276], [1027.1340273927597], [3428.1799078694303], [672.6873241750345], [1491.7048262455762], [772.609978302087], [564.8439050767641], [1191.0087133890502], [4572.000793993028], [562.8808257527536], [107.208224672649], [3211.77300013005], [258.025832152611], [1588.8895733656407], [1248.6389179791513], [1018.3617733423686], [2645.735367598237], [1978.770269067811], [397.89728741863286], [2467.711178189834], [1227.0970656481654], [1186.4993805485387], [954.8450686872425], [40.69898765888416], [2564.841167169758], [632.2456997748071], [2376.089858107969], [1647.2781781966767], [1837.2971382027004], [2552.3809523809527], [221.1736038385457], [3299.1177094669974], [429.7309321888882], [29.717242653853262], [2129.2292107298567], [466.5256644558067], [206.2136799523604], [3445.8147669014415], [63.842515588958], [1219.0284536985703], [285.67321710918094], [245.07005619554135], [1577.0316981183737], [5.626398899361384], [526.6637918643092], [531.6495205240354], [319.24269492186704], [743.8510031006795], [4279.269252619834], [375.2575343778449], [2770.4689350226226], [692.107298575604], [266.2422910805834], [3668.570880990028], [103.76119975085045], [1577.9297316166653], [2047.012601216999], [125.4618506882414], [2870.250263448787], [2519.0538624292476], [1026.53043839728], [1286.5583512609312], [1446.35985916057], [4230.862350121813]], \"domain\": {\"x\": [0.0, 1.0], \"y\": [0.0, 1.0]}, \"hovertemplate\": \"labels=%{label}<br>Debt Left in Years_sum=%{value}<br>parent=%{parent}<br>id=%{id}<br>Debt Left in Years=%{color}<extra></extra>\", \"ids\": [\"SOUTH ASIA/Afghanistan\", \"EUROPE AND CENTRAL ASIA/Albania\", \"AFRICA/Angola\", \"EUROPE AND CENTRAL ASIA/Armenia\", \"EUROPE AND CENTRAL ASIA/Azerbaijan\", \"SOUTH ASIA/Bangladesh\", \"AFRICA/Benin\", \"SOUTH ASIA/Bhutan\", \"LATIN AMERICA AND CARIBBEAN/Bolivia\", \"EUROPE AND CENTRAL ASIA/Bosnia and Herzegovina\", \"AFRICA/Burkina Faso\", \"AFRICA/Burundi\", \"AFRICA/Cabo Verde\", \"EAST ASIA AND PACIFIC/Cambodia\", \"AFRICA/Cameroon\", \"LATIN AMERICA AND CARIBBEAN/Caribbean\", \"AFRICA/Central Africa\", \"AFRICA/Central African Republic\", \"AFRICA/Chad\", \"EAST ASIA AND PACIFIC/China\", \"AFRICA/Comoros\", \"AFRICA/Congo, Democratic Republic of\", \"AFRICA/Congo, Republic of\", \"AFRICA/Cote d'Ivoire\", \"MIDDLE EAST AND NORTH AFRICA/Djibouti\", \"LATIN AMERICA AND CARIBBEAN/Dominica\", \"MIDDLE EAST AND NORTH AFRICA/Egypt, Arab Republic of\", \"AFRICA/Equatorial Guinea\", \"AFRICA/Eritrea\", \"AFRICA/Ethiopia\", \"AFRICA/Gambia, The\", \"EUROPE AND CENTRAL ASIA/Georgia\", \"AFRICA/Ghana\", \"LATIN AMERICA AND CARIBBEAN/Grenada\", \"AFRICA/Guinea\", \"AFRICA/Guinea-Bissau\", \"LATIN AMERICA AND CARIBBEAN/Guyana\", \"LATIN AMERICA AND CARIBBEAN/Honduras\", \"SOUTH ASIA/India\", \"EAST ASIA AND PACIFIC/Indonesia\", \"MIDDLE EAST AND NORTH AFRICA/Iraq\", \"AFRICA/Kenya\", \"EUROPE AND CENTRAL ASIA/Kosovo\", \"EUROPE AND CENTRAL ASIA/Kyrgyz Republic\", \"EAST ASIA AND PACIFIC/Lao People's Democratic Republic\", \"AFRICA/Lesotho\", \"AFRICA/Madagascar\", \"AFRICA/Malawi\", \"SOUTH ASIA/Maldives\", \"AFRICA/Mali\", \"AFRICA/Mauritania\", \"EUROPE AND CENTRAL ASIA/Moldova\", \"EAST ASIA AND PACIFIC/Mongolia\", \"EUROPE AND CENTRAL ASIA/Montenegro\", \"AFRICA/Mozambique\", \"EAST ASIA AND PACIFIC/Myanmar\", \"SOUTH ASIA/Nepal\", \"LATIN AMERICA AND CARIBBEAN/Nicaragua\", \"AFRICA/Niger\", \"AFRICA/Nigeria\", \"EUROPE AND CENTRAL ASIA/North Macedonia\", \"SOUTH ASIA/Pakistan\", \"EAST ASIA AND PACIFIC/Papua New Guinea\", \"EAST ASIA AND PACIFIC/Philippines\", \"AFRICA/Rwanda\", \"EAST ASIA AND PACIFIC/Samoa\", \"AFRICA/Sao Tome and Principe\", \"AFRICA/Senegal\", \"EUROPE AND CENTRAL ASIA/Serbia\", \"AFRICA/Sierra Leone\", \"EAST ASIA AND PACIFIC/Solomon Islands\", \"AFRICA/Somalia\", \"SOUTH ASIA/Sri Lanka\", \"LATIN AMERICA AND CARIBBEAN/St. Kitts and Nevis\", \"LATIN AMERICA AND CARIBBEAN/St. Lucia\", \"LATIN AMERICA AND CARIBBEAN/St. Vincent and the Grenadines\", \"AFRICA/Sudan\", \"EUROPE AND CENTRAL ASIA/Tajikistan\", \"AFRICA/Tanzania\", \"EAST ASIA AND PACIFIC/Tonga\", \"AFRICA/Uganda\", \"EUROPE AND CENTRAL ASIA/Uzbekistan\", \"EAST ASIA AND PACIFIC/Vanuatu\", \"EAST ASIA AND PACIFIC/Vietnam\", \"AFRICA/Western Africa\", \"MIDDLE EAST AND NORTH AFRICA/Yemen, Republic of\", \"AFRICA/Zambia\", \"AFRICA/Zimbabwe\", \"AFRICA\", \"EAST ASIA AND PACIFIC\", \"EUROPE AND CENTRAL ASIA\", \"LATIN AMERICA AND CARIBBEAN\", \"MIDDLE EAST AND NORTH AFRICA\", \"SOUTH ASIA\"], \"labels\": [\"Afghanistan\", \"Albania\", \"Angola\", \"Armenia\", \"Azerbaijan\", \"Bangladesh\", \"Benin\", \"Bhutan\", \"Bolivia\", \"Bosnia and Herzegovina\", \"Burkina Faso\", \"Burundi\", \"Cabo Verde\", \"Cambodia\", \"Cameroon\", \"Caribbean\", \"Central Africa\", \"Central African Republic\", \"Chad\", \"China\", \"Comoros\", \"Congo, Democratic Republic of\", \"Congo, Republic of\", \"Cote d'Ivoire\", \"Djibouti\", \"Dominica\", \"Egypt, Arab Republic of\", \"Equatorial Guinea\", \"Eritrea\", \"Ethiopia\", \"Gambia, The\", \"Georgia\", \"Ghana\", \"Grenada\", \"Guinea\", \"Guinea-Bissau\", \"Guyana\", \"Honduras\", \"India\", \"Indonesia\", \"Iraq\", \"Kenya\", \"Kosovo\", \"Kyrgyz Republic\", \"Lao People's Democratic Republic\", \"Lesotho\", \"Madagascar\", \"Malawi\", \"Maldives\", \"Mali\", \"Mauritania\", \"Moldova\", \"Mongolia\", \"Montenegro\", \"Mozambique\", \"Myanmar\", \"Nepal\", \"Nicaragua\", \"Niger\", \"Nigeria\", \"North Macedonia\", \"Pakistan\", \"Papua New Guinea\", \"Philippines\", \"Rwanda\", \"Samoa\", \"Sao Tome and Principe\", \"Senegal\", \"Serbia\", \"Sierra Leone\", \"Solomon Islands\", \"Somalia\", \"Sri Lanka\", \"St. Kitts and Nevis\", \"St. Lucia\", \"St. Vincent and the Grenadines\", \"Sudan\", \"Tajikistan\", \"Tanzania\", \"Tonga\", \"Uganda\", \"Uzbekistan\", \"Vanuatu\", \"Vietnam\", \"Western Africa\", \"Yemen, Republic of\", \"Zambia\", \"Zimbabwe\", \"AFRICA\", \"EAST ASIA AND PACIFIC\", \"EUROPE AND CENTRAL ASIA\", \"LATIN AMERICA AND CARIBBEAN\", \"MIDDLE EAST AND NORTH AFRICA\", \"SOUTH ASIA\"], \"marker\": {\"coloraxis\": \"coloraxis\", \"colors\": [257.7109728468073, 913.5327898587921, 322.1092835581839, 1006.0576192529618, 718.4076332847359, 5157.521372786575, 2006.5572872817363, 484.6259676790077, 1494.9629355838945, 833.6269738598322, 2184.879908553907, 643.4190982703271, 1155.2489099707727, 1199.3264748762808, 1434.1321177026216, 48.78676495752822, 86.20574002204015, 468.73515541044645, 829.514637535336, 1275.637418975065, 343.60459147005076, 1140.2616070145177, 570.1636583913428, 1644.786682820317, 728.5159859545369, 357.83075627836314, 286.0264071130824, 122.99773438195172, 247.80796320252986, 3353.610272627093, 598.0519791645276, 1027.1340273927597, 3428.1799078694303, 672.6873241750345, 1491.7048262455762, 772.609978302087, 564.8439050767641, 1191.0087133890502, 4572.000793993028, 562.8808257527536, 107.208224672649, 3211.77300013005, 258.025832152611, 1588.8895733656407, 1248.6389179791513, 1018.3617733423686, 2645.735367598237, 1978.770269067811, 397.89728741863286, 2467.711178189834, 1227.0970656481654, 1186.4993805485387, 954.8450686872425, 40.69898765888416, 2564.841167169758, 632.2456997748071, 2376.089858107969, 1647.2781781966767, 1837.2971382027004, 2552.3809523809527, 221.1736038385457, 3299.1177094669974, 429.7309321888882, 29.717242653853262, 2129.2292107298567, 466.5256644558067, 206.2136799523604, 3445.8147669014415, 63.842515588958, 1219.0284536985703, 285.67321710918094, 245.07005619554135, 1577.0316981183737, 5.626398899361384, 526.6637918643092, 531.6495205240354, 319.24269492186704, 743.8510031006795, 4279.269252619834, 375.2575343778449, 2770.4689350226226, 692.107298575604, 266.2422910805834, 3668.570880990028, 103.76119975085045, 1577.9297316166653, 2047.012601216999, 125.4618506882414, 2870.250263448787, 2519.0538624292476, 1026.53043839728, 1286.5583512609312, 1446.35985916057, 4230.862350121813]}, \"name\": \"\", \"parents\": [\"SOUTH ASIA\", \"EUROPE AND CENTRAL ASIA\", \"AFRICA\", \"EUROPE AND CENTRAL ASIA\", \"EUROPE AND CENTRAL ASIA\", \"SOUTH ASIA\", \"AFRICA\", \"SOUTH ASIA\", \"LATIN AMERICA AND CARIBBEAN\", \"EUROPE AND CENTRAL ASIA\", \"AFRICA\", \"AFRICA\", \"AFRICA\", \"EAST ASIA AND PACIFIC\", \"AFRICA\", \"LATIN AMERICA AND CARIBBEAN\", \"AFRICA\", \"AFRICA\", \"AFRICA\", \"EAST ASIA AND PACIFIC\", \"AFRICA\", \"AFRICA\", \"AFRICA\", \"AFRICA\", \"MIDDLE EAST AND NORTH AFRICA\", \"LATIN AMERICA AND CARIBBEAN\", \"MIDDLE EAST AND NORTH AFRICA\", \"AFRICA\", \"AFRICA\", \"AFRICA\", \"AFRICA\", \"EUROPE AND CENTRAL ASIA\", \"AFRICA\", \"LATIN AMERICA AND CARIBBEAN\", \"AFRICA\", \"AFRICA\", \"LATIN AMERICA AND CARIBBEAN\", \"LATIN AMERICA AND CARIBBEAN\", \"SOUTH ASIA\", \"EAST ASIA AND PACIFIC\", \"MIDDLE EAST AND NORTH AFRICA\", \"AFRICA\", \"EUROPE AND CENTRAL ASIA\", \"EUROPE AND CENTRAL ASIA\", \"EAST ASIA AND PACIFIC\", \"AFRICA\", \"AFRICA\", \"AFRICA\", \"SOUTH ASIA\", \"AFRICA\", \"AFRICA\", \"EUROPE AND CENTRAL ASIA\", \"EAST ASIA AND PACIFIC\", \"EUROPE AND CENTRAL ASIA\", \"AFRICA\", \"EAST ASIA AND PACIFIC\", \"SOUTH ASIA\", \"LATIN AMERICA AND CARIBBEAN\", \"AFRICA\", \"AFRICA\", \"EUROPE AND CENTRAL ASIA\", \"SOUTH ASIA\", \"EAST ASIA AND PACIFIC\", \"EAST ASIA AND PACIFIC\", \"AFRICA\", \"EAST ASIA AND PACIFIC\", \"AFRICA\", \"AFRICA\", \"EUROPE AND CENTRAL ASIA\", \"AFRICA\", \"EAST ASIA AND PACIFIC\", \"AFRICA\", \"SOUTH ASIA\", \"LATIN AMERICA AND CARIBBEAN\", \"LATIN AMERICA AND CARIBBEAN\", \"LATIN AMERICA AND CARIBBEAN\", \"AFRICA\", \"EUROPE AND CENTRAL ASIA\", \"AFRICA\", \"EAST ASIA AND PACIFIC\", \"AFRICA\", \"EUROPE AND CENTRAL ASIA\", \"EAST ASIA AND PACIFIC\", \"EAST ASIA AND PACIFIC\", \"AFRICA\", \"MIDDLE EAST AND NORTH AFRICA\", \"AFRICA\", \"AFRICA\", \"\", \"\", \"\", \"\", \"\", \"\"], \"type\": \"sunburst\", \"values\": [2319.398755621265, 61206.69692053912, 5153.7485369309425, 59357.39953592478, 30891.528231243654, 742683.0776812669, 42137.703032916455, 7269.389515185116, 52323.70274543626, 52518.499353169485, 65546.39725661719, 5790.771884432946, 34657.46729912321, 35979.79424628843, 28682.642354052437, 195.14705983011288, 172.4114800440803, 468.73515541044645, 7465.631737818024, 169659.77672368355, 1030.813774410152, 5701.308035072589, 5701.636583913427, 14803.080145382854, 14570.319719090734, 4651.7998316187195, 7722.712992053223, 1106.9796094375652, 3221.5035216328874, 144205.24172296494, 4784.41583331622, 59573.77358877997, 167980.8154856021, 10090.309862625516, 14917.048262455759, 4635.659869812523, 1694.5317152302923, 45258.33110878386, 1220724.2119961346, 18575.06724984085, 536.041123363245, 301906.66201222443, 774.0774964578327, 58788.91421452866, 43702.36212927029, 25459.044333559206, 103183.67933633139, 31660.324305084985, 5570.56202386086, 81434.46888026448, 26996.135444259646, 46273.475841393076, 27690.506991930022, 447.6888642477258, 92334.28201811119, 10115.931196396912, 154445.8407770179, 49418.345345900314, 25722.159934837822, 142933.3333333332, 4202.298472932367, 438782.65535911097, 1718.9237287555527, 118.86897061541305, 27679.979739488135, 7464.410631292907, 824.8547198094416, 155061.66451056482, 1213.0077961902025, 14628.34144438285, 1999.7125197642658, 4901.401123910826, 132470.66264194326, 5.626398899361384, 10006.612045421878, 6379.794246288424, 8619.55276289041, 17852.4240744163, 273873.2321676691, 1876.2876718892244, 121900.63314099547, 6228.9656871804345, 1064.9691643223337, 385199.9425039527, 518.8059987542523, 153059.18396681637, 55269.340232859, 1380.0803575706552, 2054451.9873782517, 705166.553728, 399328.75007700454, 180024.20036003483, 175888.25780132346, 2704265.7987501463]}],\n",
       "                        {\"coloraxis\": {\"colorbar\": {\"title\": {\"text\": \"Debt Left in Years\"}}, \"colorscale\": [[0.0, \"rgb(103,0,31)\"], [0.1, \"rgb(178,24,43)\"], [0.2, \"rgb(214,96,77)\"], [0.3, \"rgb(244,165,130)\"], [0.4, \"rgb(253,219,199)\"], [0.5, \"rgb(247,247,247)\"], [0.6, \"rgb(209,229,240)\"], [0.7, \"rgb(146,197,222)\"], [0.8, \"rgb(67,147,195)\"], [0.9, \"rgb(33,102,172)\"], [1.0, \"rgb(5,48,97)\"]]}, \"legend\": {\"tracegroupgap\": 0}, \"margin\": {\"t\": 60}, \"template\": {\"data\": {\"bar\": [{\"error_x\": {\"color\": \"#2a3f5f\"}, \"error_y\": {\"color\": \"#2a3f5f\"}, \"marker\": {\"line\": {\"color\": \"#E5ECF6\", \"width\": 0.5}}, \"type\": \"bar\"}], \"barpolar\": [{\"marker\": {\"line\": {\"color\": \"#E5ECF6\", \"width\": 0.5}}, \"type\": \"barpolar\"}], \"carpet\": [{\"aaxis\": {\"endlinecolor\": \"#2a3f5f\", \"gridcolor\": \"white\", \"linecolor\": \"white\", \"minorgridcolor\": \"white\", \"startlinecolor\": \"#2a3f5f\"}, \"baxis\": {\"endlinecolor\": \"#2a3f5f\", \"gridcolor\": \"white\", \"linecolor\": \"white\", \"minorgridcolor\": \"white\", \"startlinecolor\": \"#2a3f5f\"}, \"type\": \"carpet\"}], \"choropleth\": [{\"colorbar\": {\"outlinewidth\": 0, \"ticks\": \"\"}, \"type\": \"choropleth\"}], \"contour\": [{\"colorbar\": {\"outlinewidth\": 0, \"ticks\": \"\"}, \"colorscale\": [[0.0, \"#0d0887\"], [0.1111111111111111, \"#46039f\"], [0.2222222222222222, \"#7201a8\"], [0.3333333333333333, \"#9c179e\"], [0.4444444444444444, \"#bd3786\"], [0.5555555555555556, \"#d8576b\"], [0.6666666666666666, \"#ed7953\"], [0.7777777777777778, \"#fb9f3a\"], [0.8888888888888888, \"#fdca26\"], [1.0, \"#f0f921\"]], \"type\": \"contour\"}], \"contourcarpet\": [{\"colorbar\": {\"outlinewidth\": 0, \"ticks\": \"\"}, \"type\": \"contourcarpet\"}], \"heatmap\": [{\"colorbar\": {\"outlinewidth\": 0, \"ticks\": \"\"}, \"colorscale\": [[0.0, \"#0d0887\"], [0.1111111111111111, \"#46039f\"], [0.2222222222222222, \"#7201a8\"], [0.3333333333333333, \"#9c179e\"], [0.4444444444444444, \"#bd3786\"], [0.5555555555555556, \"#d8576b\"], [0.6666666666666666, \"#ed7953\"], [0.7777777777777778, \"#fb9f3a\"], [0.8888888888888888, \"#fdca26\"], [1.0, \"#f0f921\"]], \"type\": \"heatmap\"}], \"heatmapgl\": [{\"colorbar\": {\"outlinewidth\": 0, \"ticks\": \"\"}, \"colorscale\": [[0.0, \"#0d0887\"], [0.1111111111111111, \"#46039f\"], [0.2222222222222222, \"#7201a8\"], [0.3333333333333333, \"#9c179e\"], [0.4444444444444444, \"#bd3786\"], [0.5555555555555556, \"#d8576b\"], [0.6666666666666666, \"#ed7953\"], [0.7777777777777778, \"#fb9f3a\"], [0.8888888888888888, \"#fdca26\"], [1.0, \"#f0f921\"]], \"type\": \"heatmapgl\"}], \"histogram\": [{\"marker\": {\"colorbar\": {\"outlinewidth\": 0, \"ticks\": \"\"}}, \"type\": \"histogram\"}], \"histogram2d\": [{\"colorbar\": {\"outlinewidth\": 0, \"ticks\": \"\"}, \"colorscale\": [[0.0, \"#0d0887\"], [0.1111111111111111, \"#46039f\"], [0.2222222222222222, \"#7201a8\"], [0.3333333333333333, \"#9c179e\"], [0.4444444444444444, \"#bd3786\"], [0.5555555555555556, \"#d8576b\"], [0.6666666666666666, \"#ed7953\"], [0.7777777777777778, \"#fb9f3a\"], [0.8888888888888888, \"#fdca26\"], [1.0, \"#f0f921\"]], \"type\": \"histogram2d\"}], \"histogram2dcontour\": [{\"colorbar\": {\"outlinewidth\": 0, \"ticks\": \"\"}, \"colorscale\": [[0.0, \"#0d0887\"], [0.1111111111111111, \"#46039f\"], [0.2222222222222222, \"#7201a8\"], [0.3333333333333333, \"#9c179e\"], [0.4444444444444444, \"#bd3786\"], [0.5555555555555556, \"#d8576b\"], [0.6666666666666666, \"#ed7953\"], [0.7777777777777778, \"#fb9f3a\"], [0.8888888888888888, \"#fdca26\"], [1.0, \"#f0f921\"]], \"type\": \"histogram2dcontour\"}], \"mesh3d\": [{\"colorbar\": {\"outlinewidth\": 0, \"ticks\": \"\"}, \"type\": \"mesh3d\"}], \"parcoords\": [{\"line\": {\"colorbar\": {\"outlinewidth\": 0, \"ticks\": \"\"}}, \"type\": \"parcoords\"}], \"pie\": [{\"automargin\": true, \"type\": \"pie\"}], \"scatter\": [{\"marker\": {\"colorbar\": {\"outlinewidth\": 0, \"ticks\": \"\"}}, \"type\": \"scatter\"}], \"scatter3d\": [{\"line\": {\"colorbar\": {\"outlinewidth\": 0, \"ticks\": \"\"}}, \"marker\": {\"colorbar\": {\"outlinewidth\": 0, \"ticks\": \"\"}}, \"type\": \"scatter3d\"}], \"scattercarpet\": [{\"marker\": {\"colorbar\": {\"outlinewidth\": 0, \"ticks\": \"\"}}, \"type\": \"scattercarpet\"}], \"scattergeo\": [{\"marker\": {\"colorbar\": {\"outlinewidth\": 0, \"ticks\": \"\"}}, \"type\": \"scattergeo\"}], \"scattergl\": [{\"marker\": {\"colorbar\": {\"outlinewidth\": 0, \"ticks\": \"\"}}, \"type\": \"scattergl\"}], \"scattermapbox\": [{\"marker\": {\"colorbar\": {\"outlinewidth\": 0, \"ticks\": \"\"}}, \"type\": \"scattermapbox\"}], \"scatterpolar\": [{\"marker\": {\"colorbar\": {\"outlinewidth\": 0, \"ticks\": \"\"}}, \"type\": \"scatterpolar\"}], \"scatterpolargl\": [{\"marker\": {\"colorbar\": {\"outlinewidth\": 0, \"ticks\": \"\"}}, \"type\": \"scatterpolargl\"}], \"scatterternary\": [{\"marker\": {\"colorbar\": {\"outlinewidth\": 0, \"ticks\": \"\"}}, \"type\": \"scatterternary\"}], \"surface\": [{\"colorbar\": {\"outlinewidth\": 0, \"ticks\": \"\"}, \"colorscale\": [[0.0, \"#0d0887\"], [0.1111111111111111, \"#46039f\"], [0.2222222222222222, \"#7201a8\"], [0.3333333333333333, \"#9c179e\"], [0.4444444444444444, \"#bd3786\"], [0.5555555555555556, \"#d8576b\"], [0.6666666666666666, \"#ed7953\"], [0.7777777777777778, \"#fb9f3a\"], [0.8888888888888888, \"#fdca26\"], [1.0, \"#f0f921\"]], \"type\": \"surface\"}], \"table\": [{\"cells\": {\"fill\": {\"color\": \"#EBF0F8\"}, \"line\": {\"color\": \"white\"}}, \"header\": {\"fill\": {\"color\": \"#C8D4E3\"}, \"line\": {\"color\": \"white\"}}, \"type\": \"table\"}]}, \"layout\": {\"annotationdefaults\": {\"arrowcolor\": \"#2a3f5f\", \"arrowhead\": 0, \"arrowwidth\": 1}, \"coloraxis\": {\"colorbar\": {\"outlinewidth\": 0, \"ticks\": \"\"}}, \"colorscale\": {\"diverging\": [[0, \"#8e0152\"], [0.1, \"#c51b7d\"], [0.2, \"#de77ae\"], [0.3, \"#f1b6da\"], [0.4, \"#fde0ef\"], [0.5, \"#f7f7f7\"], [0.6, \"#e6f5d0\"], [0.7, \"#b8e186\"], [0.8, \"#7fbc41\"], [0.9, \"#4d9221\"], [1, \"#276419\"]], \"sequential\": [[0.0, \"#0d0887\"], [0.1111111111111111, \"#46039f\"], [0.2222222222222222, \"#7201a8\"], [0.3333333333333333, \"#9c179e\"], [0.4444444444444444, \"#bd3786\"], [0.5555555555555556, \"#d8576b\"], [0.6666666666666666, \"#ed7953\"], [0.7777777777777778, \"#fb9f3a\"], [0.8888888888888888, \"#fdca26\"], [1.0, \"#f0f921\"]], \"sequentialminus\": [[0.0, \"#0d0887\"], [0.1111111111111111, \"#46039f\"], [0.2222222222222222, \"#7201a8\"], [0.3333333333333333, \"#9c179e\"], [0.4444444444444444, \"#bd3786\"], [0.5555555555555556, \"#d8576b\"], [0.6666666666666666, \"#ed7953\"], [0.7777777777777778, \"#fb9f3a\"], [0.8888888888888888, \"#fdca26\"], [1.0, \"#f0f921\"]]}, \"colorway\": [\"#636efa\", \"#EF553B\", \"#00cc96\", \"#ab63fa\", \"#FFA15A\", \"#19d3f3\", \"#FF6692\", \"#B6E880\", \"#FF97FF\", \"#FECB52\"], \"font\": {\"color\": \"#2a3f5f\"}, \"geo\": {\"bgcolor\": \"white\", \"lakecolor\": \"white\", \"landcolor\": \"#E5ECF6\", \"showlakes\": true, \"showland\": true, \"subunitcolor\": \"white\"}, \"hoverlabel\": {\"align\": \"left\"}, \"hovermode\": \"closest\", \"mapbox\": {\"style\": \"light\"}, \"paper_bgcolor\": \"white\", \"plot_bgcolor\": \"#E5ECF6\", \"polar\": {\"angularaxis\": {\"gridcolor\": \"white\", \"linecolor\": \"white\", \"ticks\": \"\"}, \"bgcolor\": \"#E5ECF6\", \"radialaxis\": {\"gridcolor\": \"white\", \"linecolor\": \"white\", \"ticks\": \"\"}}, \"scene\": {\"xaxis\": {\"backgroundcolor\": \"#E5ECF6\", \"gridcolor\": \"white\", \"gridwidth\": 2, \"linecolor\": \"white\", \"showbackground\": true, \"ticks\": \"\", \"zerolinecolor\": \"white\"}, \"yaxis\": {\"backgroundcolor\": \"#E5ECF6\", \"gridcolor\": \"white\", \"gridwidth\": 2, \"linecolor\": \"white\", \"showbackground\": true, \"ticks\": \"\", \"zerolinecolor\": \"white\"}, \"zaxis\": {\"backgroundcolor\": \"#E5ECF6\", \"gridcolor\": \"white\", \"gridwidth\": 2, \"linecolor\": \"white\", \"showbackground\": true, \"ticks\": \"\", \"zerolinecolor\": \"white\"}}, \"shapedefaults\": {\"line\": {\"color\": \"#2a3f5f\"}}, \"ternary\": {\"aaxis\": {\"gridcolor\": \"white\", \"linecolor\": \"white\", \"ticks\": \"\"}, \"baxis\": {\"gridcolor\": \"white\", \"linecolor\": \"white\", \"ticks\": \"\"}, \"bgcolor\": \"#E5ECF6\", \"caxis\": {\"gridcolor\": \"white\", \"linecolor\": \"white\", \"ticks\": \"\"}}, \"title\": {\"x\": 0.05}, \"xaxis\": {\"automargin\": true, \"gridcolor\": \"white\", \"linecolor\": \"white\", \"ticks\": \"\", \"title\": {\"standoff\": 15}, \"zerolinecolor\": \"white\", \"zerolinewidth\": 2}, \"yaxis\": {\"automargin\": true, \"gridcolor\": \"white\", \"linecolor\": \"white\", \"ticks\": \"\", \"title\": {\"standoff\": 15}, \"zerolinecolor\": \"white\", \"zerolinewidth\": 2}}}},\n",
       "                        {\"responsive\": true}\n",
       "                    ).then(function(){\n",
       "                            \n",
       "var gd = document.getElementById('c17e8c96-21c2-44fd-9e68-7933fcb48b23');\n",
       "var x = new MutationObserver(function (mutations, observer) {{\n",
       "        var display = window.getComputedStyle(gd).display;\n",
       "        if (!display || display === 'none') {{\n",
       "            console.log([gd, 'removed!']);\n",
       "            Plotly.purge(gd);\n",
       "            observer.disconnect();\n",
       "        }}\n",
       "}});\n",
       "\n",
       "// Listen for the removal of the full notebook cells\n",
       "var notebookContainer = gd.closest('#notebook-container');\n",
       "if (notebookContainer) {{\n",
       "    x.observe(notebookContainer, {childList: true});\n",
       "}}\n",
       "\n",
       "// Listen for the clearing of the current output cell\n",
       "var outputEl = gd.closest('.output');\n",
       "if (outputEl) {{\n",
       "    x.observe(outputEl, {childList: true});\n",
       "}}\n",
       "\n",
       "                        })\n",
       "                };\n",
       "                });\n",
       "            </script>\n",
       "        </div>"
      ]
     },
     "metadata": {},
     "output_type": "display_data"
    }
   ],
   "source": [
    "fig = px.sunburst(df_repaying, path=['Region', 'Country'], \n",
    "                  values='Debt Left in Years',\n",
    "                  color='Debt Left in Years',\n",
    "                  color_continuous_scale='RdBu')\n",
    "fig.show()"
   ]
  },
  {
   "cell_type": "markdown",
   "metadata": {},
   "source": [
    "### What is the money borrowed for?"
   ]
  },
  {
   "cell_type": "markdown",
   "metadata": {},
   "source": [
    "### Parsing Text in df['Project Name']"
   ]
  },
  {
   "cell_type": "code",
   "execution_count": 310,
   "metadata": {},
   "outputs": [],
   "source": [
    "df['Original Project Name'] = df['Project Name'].copy()"
   ]
  },
  {
   "cell_type": "code",
   "execution_count": 311,
   "metadata": {},
   "outputs": [],
   "source": [
    "df.loc[df['Project Name'].str.contains('SAHELIAN ZONE PROJEC'), 'Project Name'] = 'Irrigation'"
   ]
  },
  {
   "cell_type": "code",
   "execution_count": 312,
   "metadata": {},
   "outputs": [],
   "source": [
    "df.loc[df['Project Name'].str.contains('IRRIG'), 'Project Name'] = 'Irrigation'"
   ]
  },
  {
   "cell_type": "code",
   "execution_count": 313,
   "metadata": {},
   "outputs": [],
   "source": [
    "df.loc[df['Project Name'].str.contains('LIVESTOCK'), 'Project Name'] = 'Livestock'"
   ]
  },
  {
   "cell_type": "code",
   "execution_count": 314,
   "metadata": {},
   "outputs": [],
   "source": [
    "df.loc[df['Project Name'].str.contains('Health'), 'Project Name'] = 'Health'"
   ]
  },
  {
   "cell_type": "code",
   "execution_count": 315,
   "metadata": {},
   "outputs": [],
   "source": [
    "df.loc[df['Project Name'].str.contains('EDUCATION'), 'Project Name'] = 'Education'"
   ]
  },
  {
   "cell_type": "code",
   "execution_count": 316,
   "metadata": {},
   "outputs": [],
   "source": [
    "df.loc[df['Project Name'].str.contains('URBAN'), 'Project Name'] = 'Urbanization'"
   ]
  },
  {
   "cell_type": "code",
   "execution_count": 317,
   "metadata": {},
   "outputs": [],
   "source": [
    "df.loc[df['Project Name'].str.contains('Women'), 'Project Name'] = 'Women and Children'"
   ]
  },
  {
   "cell_type": "code",
   "execution_count": 318,
   "metadata": {},
   "outputs": [],
   "source": [
    "df.loc[df['Project Name'].str.contains('Child'), 'Project Name'] = 'Women and Children'"
   ]
  },
  {
   "cell_type": "code",
   "execution_count": 319,
   "metadata": {},
   "outputs": [],
   "source": [
    "df.loc[df['Project Name'].str.contains('Road'), 'Project Name'] = 'Roads and Transport'"
   ]
  },
  {
   "cell_type": "code",
   "execution_count": 320,
   "metadata": {},
   "outputs": [],
   "source": [
    "df.loc[df['Project Name'].str.contains('RAJASTHAN DPEP'), 'Project Name'] = 'Roads and Transport'"
   ]
  },
  {
   "cell_type": "code",
   "execution_count": 321,
   "metadata": {},
   "outputs": [],
   "source": [
    "df.loc[df['Project Name'].str.contains('TA for Econ Reform Projec'), 'Project Name'] = 'Others'"
   ]
  },
  {
   "cell_type": "code",
   "execution_count": 322,
   "metadata": {},
   "outputs": [],
   "source": [
    "df.loc[df['Project Name'].str.contains('Gas'), 'Project Name'] = 'Energy'"
   ]
  },
  {
   "cell_type": "code",
   "execution_count": 323,
   "metadata": {},
   "outputs": [],
   "source": [
    "df.loc[df['Project Name'].str.contains('Agricultural'), 'Project Name'] = 'Agriculture'"
   ]
  },
  {
   "cell_type": "code",
   "execution_count": 324,
   "metadata": {},
   "outputs": [],
   "source": [
    "df.loc[df['Project Name'].str.contains('Urban'), 'Project Name'] = 'Urbanization'"
   ]
  },
  {
   "cell_type": "code",
   "execution_count": 325,
   "metadata": {},
   "outputs": [],
   "source": [
    "df.loc[df['Project Name'].str.contains('Judicial'), 'Project Name'] = 'Justice'"
   ]
  },
  {
   "cell_type": "code",
   "execution_count": 326,
   "metadata": {},
   "outputs": [],
   "source": [
    "df.loc[df['Project Name'].str.contains('COVID'), 'Project Name'] = 'Health-Covid'"
   ]
  },
  {
   "cell_type": "code",
   "execution_count": 327,
   "metadata": {},
   "outputs": [],
   "source": [
    "df.loc[df['Project Name'].str.contains('Public'), 'Project Name'] = 'Public Service'"
   ]
  },
  {
   "cell_type": "code",
   "execution_count": 328,
   "metadata": {},
   "outputs": [],
   "source": [
    "df.loc[df['Project Name'].str.contains('Lake'), 'Project Name'] = 'Water'"
   ]
  },
  {
   "cell_type": "code",
   "execution_count": 329,
   "metadata": {},
   "outputs": [],
   "source": [
    "df.loc[df['Project Name'].str.contains('Forest'), 'Project Name'] = 'Forests'"
   ]
  },
  {
   "cell_type": "code",
   "execution_count": 330,
   "metadata": {},
   "outputs": [],
   "source": [
    "df.loc[df['Project Name'].str.contains('Tech'), 'Project Name'] = 'Technical Assistance'"
   ]
  },
  {
   "cell_type": "code",
   "execution_count": 331,
   "metadata": {},
   "outputs": [],
   "source": [
    "df.loc[df['Project Name'].str.contains('Water'), 'Project Name'] = 'Water'"
   ]
  },
  {
   "cell_type": "code",
   "execution_count": 332,
   "metadata": {},
   "outputs": [],
   "source": [
    "df.loc[df['Project Name'].str.contains('Agriculture'), 'Project Name'] = 'Agriculture'"
   ]
  },
  {
   "cell_type": "code",
   "execution_count": 333,
   "metadata": {},
   "outputs": [],
   "source": [
    "df.loc[df['Project Name'].str.contains('Education'), 'Project Name'] = 'Education'"
   ]
  },
  {
   "cell_type": "code",
   "execution_count": 334,
   "metadata": {},
   "outputs": [],
   "source": [
    "df.loc[df['Project Name'].str.contains('Energy'), 'Project Name'] = 'Energy'"
   ]
  },
  {
   "cell_type": "code",
   "execution_count": 335,
   "metadata": {},
   "outputs": [],
   "source": [
    "df.loc[df['Project Name'].str.contains('TRANSPORT'), 'Project Name'] = 'Roads and Transport'"
   ]
  },
  {
   "cell_type": "code",
   "execution_count": 336,
   "metadata": {},
   "outputs": [],
   "source": [
    "df.loc[df['Project Name'].str.contains('Credit'), 'Project Name'] = 'Credit and Finance'"
   ]
  },
  {
   "cell_type": "code",
   "execution_count": 337,
   "metadata": {},
   "outputs": [],
   "source": [
    "df.loc[df['Project Name'].str.contains('Drought'), 'Project Name'] = 'Agriculture'"
   ]
  },
  {
   "cell_type": "code",
   "execution_count": 338,
   "metadata": {},
   "outputs": [],
   "source": [
    "df.loc[df['Project Name'].str.contains('FINANCIAL'), 'Project Name'] = 'Credit and Finance'"
   ]
  },
  {
   "cell_type": "code",
   "execution_count": 339,
   "metadata": {},
   "outputs": [],
   "source": [
    "df.loc[df['Project Name'].str.contains('HIV/AIDS'), 'Project Name'] = 'Health'"
   ]
  },
  {
   "cell_type": "code",
   "execution_count": 340,
   "metadata": {},
   "outputs": [],
   "source": [
    "df.loc[df['Project Name'].str.contains('KARNATAKA RWSS'), 'Project Name'] = 'Water'"
   ]
  },
  {
   "cell_type": "code",
   "execution_count": 341,
   "metadata": {},
   "outputs": [],
   "source": [
    "df.loc[df['Project Name'].str.contains('Ethiopia Enhancing Shared Prosperity'), 'Project Name'] = 'Public Service'"
   ]
  },
  {
   "cell_type": "code",
   "execution_count": 342,
   "metadata": {},
   "outputs": [],
   "source": [
    "df.loc[df['Project Name'].str.contains('FORESTRY'), 'Project Name'] = 'Forests'"
   ]
  },
  {
   "cell_type": "code",
   "execution_count": 343,
   "metadata": {},
   "outputs": [],
   "source": [
    "df.loc[df['Project Name'].str.contains('FORESTRY'), 'Project Name'] = 'Forests'"
   ]
  },
  {
   "cell_type": "code",
   "execution_count": 344,
   "metadata": {},
   "outputs": [],
   "source": [
    "df.loc[df['Project Name'].str.contains('Cyclone Risk'), 'Project Name'] = 'Environmental Risks'"
   ]
  },
  {
   "cell_type": "code",
   "execution_count": 345,
   "metadata": {},
   "outputs": [],
   "source": [
    "df.loc[df['Project Name'].str.contains('RECONSTRUCTION'), 'Project Name'] = 'Infrastructure'"
   ]
  },
  {
   "cell_type": "code",
   "execution_count": 346,
   "metadata": {},
   "outputs": [],
   "source": [
    "df.loc[df['Project Name'].str.contains('POWER'), 'Project Name'] = 'Energy'"
   ]
  },
  {
   "cell_type": "code",
   "execution_count": 347,
   "metadata": {},
   "outputs": [],
   "source": [
    "df.loc[df['Project Name'].str.contains('Pov'), 'Project Name'] = 'Poverty Reduction'"
   ]
  },
  {
   "cell_type": "code",
   "execution_count": 348,
   "metadata": {},
   "outputs": [],
   "source": [
    "df.loc[df['Project Name'].str.contains('Financial'), 'Project Name'] = 'Credit and Finance'"
   ]
  },
  {
   "cell_type": "code",
   "execution_count": 349,
   "metadata": {},
   "outputs": [],
   "source": [
    "df.loc[df['Project Name'].str.contains('WARCIP APL2- Mauritania-Togo'), 'Project Name'] = 'Infrastructure'"
   ]
  },
  {
   "cell_type": "code",
   "execution_count": 350,
   "metadata": {},
   "outputs": [],
   "source": [
    "df.loc[df['Project Name'].str.contains('POP & HUMAN RESOURCE'), 'Project Name'] = 'Infrastructure'"
   ]
  },
  {
   "cell_type": "code",
   "execution_count": 351,
   "metadata": {},
   "outputs": [],
   "source": [
    "df.loc[df['Project Name'].str.contains('SAC'), 'Project Name'] = 'Credit and Finance'"
   ]
  },
  {
   "cell_type": "code",
   "execution_count": 352,
   "metadata": {},
   "outputs": [],
   "source": [
    "df.loc[df['Project Name'].str.contains('MKTG.'), 'Project Name'] = 'Industrialization'"
   ]
  },
  {
   "cell_type": "code",
   "execution_count": 353,
   "metadata": {},
   "outputs": [],
   "source": [
    "df.loc[df['Project Name'].str.contains('Flood'), 'Project Name'] = 'Environmental Risks'"
   ]
  },
  {
   "cell_type": "code",
   "execution_count": 354,
   "metadata": {},
   "outputs": [],
   "source": [
    "df.loc[df['Project Name'].str.contains('AGRI.REHAB.&DEV'), 'Project Name'] = 'Agriculture'"
   ]
  },
  {
   "cell_type": "code",
   "execution_count": 355,
   "metadata": {},
   "outputs": [],
   "source": [
    "df.loc[df['Project Name'].str.contains('COMMUNITY DEVELOPMENT FUND'), 'Project Name'] = 'Credit and Finance'"
   ]
  },
  {
   "cell_type": "code",
   "execution_count": 356,
   "metadata": {},
   "outputs": [],
   "source": [
    "df.loc[df['Project Name'].str.contains('PRIV. PUB. SECT. MGT'), 'Project Name'] = 'Public Service'"
   ]
  },
  {
   "cell_type": "code",
   "execution_count": 357,
   "metadata": {},
   "outputs": [],
   "source": [
    "df.loc[df['Project Name'].str.contains('Wat'), 'Project Name'] = 'Water'"
   ]
  },
  {
   "cell_type": "code",
   "execution_count": 358,
   "metadata": {},
   "outputs": [],
   "source": [
    "df.loc[df['Project Name'].str.contains('HWYS.'), 'Project Name'] = 'Roads and Transport'"
   ]
  },
  {
   "cell_type": "code",
   "execution_count": 359,
   "metadata": {},
   "outputs": [],
   "source": [
    "df.loc[df['Project Name'].str.contains('HIGHWAY'), 'Project Name'] = 'Roads and Transport'"
   ]
  },
  {
   "cell_type": "code",
   "execution_count": 360,
   "metadata": {},
   "outputs": [],
   "source": [
    "df.loc[df['Project Name'].str.contains('SECOND AGRIC.EXTENSI'), 'Project Name'] = 'Agriculture'"
   ]
  },
  {
   "cell_type": "code",
   "execution_count": 361,
   "metadata": {},
   "outputs": [],
   "source": [
    "df.loc[df['Project Name'].str.contains('AGRIC.'), 'Project Name'] = 'Agriculture'"
   ]
  },
  {
   "cell_type": "code",
   "execution_count": 362,
   "metadata": {},
   "outputs": [],
   "source": [
    "df.loc[df['Project Name'].str.contains('NVMT MGMT'), 'Project Name'] = 'Environmental Risks'"
   ]
  },
  {
   "cell_type": "code",
   "execution_count": 363,
   "metadata": {},
   "outputs": [],
   "source": [
    "df.loc[df['Project Name'].str.contains('WURI'), 'Project Name'] = 'Regional Integration'"
   ]
  },
  {
   "cell_type": "code",
   "execution_count": 364,
   "metadata": {},
   "outputs": [],
   "source": [
    "df.loc[df['Project Name'].str.contains('3A-CEMAC Transp Transit Facil'), 'Project Name'] = 'Roads and Transport'"
   ]
  },
  {
   "cell_type": "code",
   "execution_count": 365,
   "metadata": {},
   "outputs": [],
   "source": [
    "df.loc[df['Project Name'].str.contains('NVMT MGMT'), 'Project Name'] = 'Environmental Risks'"
   ]
  },
  {
   "cell_type": "code",
   "execution_count": 366,
   "metadata": {},
   "outputs": [],
   "source": [
    "df.loc[df['Project Name'].str.contains('NVMT MGMT'), 'Project Name'] = 'Environmental Risks'"
   ]
  },
  {
   "cell_type": "code",
   "execution_count": 367,
   "metadata": {},
   "outputs": [],
   "source": [
    "df.loc[df['Project Name'].str.contains('Fiscal'), 'Project Name'] = 'Public Service'"
   ]
  },
  {
   "cell_type": "code",
   "execution_count": 368,
   "metadata": {},
   "outputs": [],
   "source": [
    "df.loc[df['Project Name'].str.contains('SME/FINANCE'), 'Project Name'] = 'Credit and Finance'"
   ]
  },
  {
   "cell_type": "code",
   "execution_count": 369,
   "metadata": {},
   "outputs": [],
   "source": [
    "df.loc[df['Project Name'].str.contains('TEACHER'), 'Project Name'] = 'Education'"
   ]
  },
  {
   "cell_type": "code",
   "execution_count": 370,
   "metadata": {},
   "outputs": [],
   "source": [
    "df.loc[df['Project Name'].str.contains('Educ.'), 'Project Name'] = 'Education'"
   ]
  },
  {
   "cell_type": "code",
   "execution_count": 371,
   "metadata": {},
   "outputs": [],
   "source": [
    "df.loc[df['Project Name'].str.contains('PSMAC'), 'Project Name'] = 'Public Sector'"
   ]
  },
  {
   "cell_type": "code",
   "execution_count": 372,
   "metadata": {},
   "outputs": [],
   "source": [
    "df.loc[df['Project Name'].str.contains('PILOT EXTENSION'), 'Project Name'] = 'Agriculture'"
   ]
  },
  {
   "cell_type": "code",
   "execution_count": 373,
   "metadata": {},
   "outputs": [],
   "source": [
    "df.loc[df['Project Name'].str.contains('JUDICIAL'), 'Project Name'] = 'Justice'"
   ]
  },
  {
   "cell_type": "code",
   "execution_count": 374,
   "metadata": {},
   "outputs": [],
   "source": [
    "df.loc[df['Project Name'].str.contains('Rural'), 'Project Name'] = 'Rural Development'"
   ]
  },
  {
   "cell_type": "code",
   "execution_count": 375,
   "metadata": {},
   "outputs": [],
   "source": [
    "df.loc[df['Project Name'].str.contains('Learning'), 'Project Name'] = 'Education'"
   ]
  },
  {
   "cell_type": "code",
   "execution_count": 376,
   "metadata": {},
   "outputs": [],
   "source": [
    "df.loc[df['Project Name'].str.contains('Telecommunications'), 'Project Name'] = 'Infrastructure'"
   ]
  },
  {
   "cell_type": "code",
   "execution_count": 377,
   "metadata": {},
   "outputs": [],
   "source": [
    "df.loc[df['Project Name'].str.contains('GOV'), 'Project Name'] = 'Public Service'"
   ]
  },
  {
   "cell_type": "code",
   "execution_count": 378,
   "metadata": {},
   "outputs": [],
   "source": [
    "df.loc[df['Project Name'].str.contains('SRWSSDP'), 'Project Name'] = 'Rural Development'"
   ]
  },
  {
   "cell_type": "code",
   "execution_count": 379,
   "metadata": {},
   "outputs": [],
   "source": [
    "df.loc[df['Project Name'].str.contains('TZ-PRSC'), 'Project Name'] = 'Poverty Reduction'"
   ]
  },
  {
   "cell_type": "code",
   "execution_count": 380,
   "metadata": {},
   "outputs": [],
   "source": [
    "df.loc[df['Project Name'].str.contains('Poorest'), 'Project Name'] = 'Poverty Reduction'"
   ]
  },
  {
   "cell_type": "code",
   "execution_count": 381,
   "metadata": {},
   "outputs": [],
   "source": [
    "df.loc[df['Project Name'].str.contains('MUN INFRA REH'), 'Project Name'] = 'Roads and Transport'"
   ]
  },
  {
   "cell_type": "code",
   "execution_count": 382,
   "metadata": {},
   "outputs": [],
   "source": [
    "df.loc[df['Project Name'].str.contains('Hwy'), 'Project Name'] = 'Roads and Transport'"
   ]
  },
  {
   "cell_type": "code",
   "execution_count": 383,
   "metadata": {},
   "outputs": [],
   "source": [
    "df.loc[df['Project Name'].str.contains('Skills'), 'Project Name'] = 'Education'"
   ]
  },
  {
   "cell_type": "code",
   "execution_count": 384,
   "metadata": {},
   "outputs": [],
   "source": [
    "df.loc[df['Project Name'].str.contains('AGRI.RESEARCH'), 'Project Name'] = 'Agriculture'"
   ]
  },
  {
   "cell_type": "code",
   "execution_count": 385,
   "metadata": {},
   "outputs": [],
   "source": [
    "df.loc[df['Project Name'].str.contains('AG. SERVICES'), 'Project Name'] = 'Agriculture'"
   ]
  },
  {
   "cell_type": "code",
   "execution_count": 386,
   "metadata": {},
   "outputs": [],
   "source": [
    "df.loc[df['Project Name'].str.contains('Fin Mgmt'), 'Project Name'] = 'Public Service'"
   ]
  },
  {
   "cell_type": "code",
   "execution_count": 387,
   "metadata": {},
   "outputs": [],
   "source": [
    "df.loc[df['Project Name'].str.contains('Basin'), 'Project Name'] = 'Water'"
   ]
  },
  {
   "cell_type": "code",
   "execution_count": 388,
   "metadata": {},
   "outputs": [],
   "source": [
    "df.loc[df['Project Name'].str.contains('AG.'), 'Project Name'] = 'Agriculture'"
   ]
  },
  {
   "cell_type": "code",
   "execution_count": 389,
   "metadata": {},
   "outputs": [],
   "source": [
    "df.loc[df['Project Name'].str.contains('EDUC.'), 'Project Name'] = 'Education'"
   ]
  },
  {
   "cell_type": "code",
   "execution_count": 390,
   "metadata": {},
   "outputs": [],
   "source": [
    "df.loc[df['Project Name'].str.contains('WATER'), 'Project Name'] = 'Water'"
   ]
  },
  {
   "cell_type": "code",
   "execution_count": 391,
   "metadata": {},
   "outputs": [],
   "source": [
    "df.loc[df['Project Name'].str.contains('GH-Transport'), 'Project Name'] = 'Roads and Transport'"
   ]
  },
  {
   "cell_type": "code",
   "execution_count": 392,
   "metadata": {},
   "outputs": [],
   "source": [
    "df.loc[df['Project Name'].str.contains('FISHERY'), 'Project Name'] = 'Fishery'"
   ]
  },
  {
   "cell_type": "code",
   "execution_count": 393,
   "metadata": {},
   "outputs": [],
   "source": [
    "df.loc[df['Project Name'].str.contains('RAIL'), 'Project Name'] = 'Roads and Transport'"
   ]
  },
  {
   "cell_type": "code",
   "execution_count": 394,
   "metadata": {},
   "outputs": [],
   "source": [
    "df.loc[df['Project Name'].str.contains('HUMAN RESOURCES ADJ'), 'Project Name'] = 'Education'"
   ]
  },
  {
   "cell_type": "code",
   "execution_count": 395,
   "metadata": {},
   "outputs": [],
   "source": [
    "df.loc[df['Project Name'].str.contains('Dam'), 'Project Name'] = 'Water'"
   ]
  },
  {
   "cell_type": "code",
   "execution_count": 396,
   "metadata": {},
   "outputs": [],
   "source": [
    "df.loc[df['Project Name'].str.contains('FINANCE SECTOR'), 'Project Name'] = 'Public Service'"
   ]
  },
  {
   "cell_type": "code",
   "execution_count": 397,
   "metadata": {},
   "outputs": [],
   "source": [
    "df.loc[df['Project Name'].str.contains('IND/TRADE ADJUSTMENT'), 'Project Name'] = 'Industrialization'"
   ]
  },
  {
   "cell_type": "code",
   "execution_count": 398,
   "metadata": {},
   "outputs": [],
   "source": [
    "df.loc[df['Project Name'].str.contains('NI AG TECHN & RURAL EDU'), 'Project Name'] = 'Rural Development'"
   ]
  },
  {
   "cell_type": "code",
   "execution_count": 399,
   "metadata": {},
   "outputs": [],
   "source": [
    "df.loc[df['Project Name'].str.contains('Reform'), 'Project Name'] = 'Public Service'"
   ]
  },
  {
   "cell_type": "code",
   "execution_count": 400,
   "metadata": {},
   "outputs": [],
   "source": [
    "df.loc[df['Project Name'].str.contains('RURAL'), 'Project Name'] = 'Rural Development'"
   ]
  },
  {
   "cell_type": "code",
   "execution_count": 401,
   "metadata": {},
   "outputs": [],
   "source": [
    "df.loc[df['Project Name'].str.contains('Post Conflict'), 'Project Name'] = 'Post Conflict Reconstruction'"
   ]
  },
  {
   "cell_type": "code",
   "execution_count": 402,
   "metadata": {},
   "outputs": [],
   "source": [
    "df.loc[df['Project Name'].str.contains('IN: MPDPIP-II'), 'Project Name'] = 'Poverty Reduction'"
   ]
  },
  {
   "cell_type": "code",
   "execution_count": 403,
   "metadata": {},
   "outputs": [],
   "source": [
    "df.loc[df['Project Name'].str.contains('IMN-PRIV.SEC. DEVT CR'), 'Project Name'] = 'Credit and Finance'"
   ]
  },
  {
   "cell_type": "code",
   "execution_count": 404,
   "metadata": {},
   "outputs": [],
   "source": [
    "df.loc[df['Project Name'].str.contains('Mineral'), 'Project Name'] = 'Mining'"
   ]
  },
  {
   "cell_type": "code",
   "execution_count": 405,
   "metadata": {},
   "outputs": [],
   "source": [
    "df.loc[df['Project Name'].str.contains('Infrastructure'), 'Project Name'] = 'Infrastructure'"
   ]
  },
  {
   "cell_type": "code",
   "execution_count": 406,
   "metadata": {},
   "outputs": [],
   "source": [
    "df.loc[df['Project Name'].str.contains('IND.& TRADE POLICY'), 'Project Name'] = 'Industrialization'"
   ]
  },
  {
   "cell_type": "code",
   "execution_count": 407,
   "metadata": {},
   "outputs": [],
   "source": [
    "df.loc[df['Project Name'].str.contains('TZ- NEAS STATCAP'), 'Project Name'] = 'Public Service'"
   ]
  },
  {
   "cell_type": "code",
   "execution_count": 408,
   "metadata": {},
   "outputs": [],
   "source": [
    "df.loc[df['Project Name'].str.contains('BALOCHISTAN NRM PROJ'), 'Project Name'] = 'Poverty Reduction'"
   ]
  },
  {
   "cell_type": "code",
   "execution_count": 409,
   "metadata": {},
   "outputs": [],
   "source": [
    "df.loc[df['Project Name'].str.contains('SN-Nutr Enhanc. Prog'), 'Project Name'] = 'Health'"
   ]
  },
  {
   "cell_type": "code",
   "execution_count": 410,
   "metadata": {},
   "outputs": [],
   "source": [
    "df.loc[df['Project Name'].str.contains('MINERAL'), 'Project Name'] = 'Mining'"
   ]
  },
  {
   "cell_type": "code",
   "execution_count": 411,
   "metadata": {},
   "outputs": [],
   "source": [
    "df.loc[df['Project Name'].str.contains('REFORM'), 'Project Name'] = 'Public Service'"
   ]
  },
  {
   "cell_type": "code",
   "execution_count": 412,
   "metadata": {},
   "outputs": [],
   "source": [
    "df.loc[df['Project Name'].str.contains('GH-Statistics Development Program'), 'Project Name'] = 'Public Service'"
   ]
  },
  {
   "cell_type": "code",
   "execution_count": 413,
   "metadata": {},
   "outputs": [],
   "source": [
    "df.loc[df['Project Name'].str.contains('EDUCATION'), 'Project Name'] = 'Education'"
   ]
  },
  {
   "cell_type": "code",
   "execution_count": 414,
   "metadata": {},
   "outputs": [],
   "source": [
    "df.loc[df['Project Name'].str.contains('PORTS'), 'Project Name'] = 'Roads and Transport'"
   ]
  },
  {
   "cell_type": "code",
   "execution_count": 415,
   "metadata": {},
   "outputs": [],
   "source": [
    "df.loc[df['Project Name'].str.contains('3A-TG/BN Engineering TAL'), 'Project Name'] = 'Roads and Transport'"
   ]
  },
  {
   "cell_type": "code",
   "execution_count": 416,
   "metadata": {},
   "outputs": [],
   "source": [
    "df.loc[df['Project Name'].str.contains('HYDROC.SEC.REF&CAPI'), 'Project Name'] = 'Roads and Transport'"
   ]
  },
  {
   "cell_type": "code",
   "execution_count": 417,
   "metadata": {},
   "outputs": [],
   "source": [
    "df.loc[df['Project Name'].str.contains('UG-PRSC'), 'Project Name'] = 'Public Service'"
   ]
  },
  {
   "cell_type": "code",
   "execution_count": 418,
   "metadata": {},
   "outputs": [],
   "source": [
    "df.loc[df['Project Name'].str.contains('Irrigation'), 'Project Name'] = 'Irrigation'"
   ]
  },
  {
   "cell_type": "code",
   "execution_count": 419,
   "metadata": {},
   "outputs": [],
   "source": [
    "df.loc[df['Project Name'].str.contains('RY-Fisheries'), 'Project Name'] = 'Fishery'"
   ]
  },
  {
   "cell_type": "code",
   "execution_count": 420,
   "metadata": {},
   "outputs": [],
   "source": [
    "df.loc[df['Project Name'].str.contains('SOC PROT'), 'Project Name'] = 'Others'"
   ]
  },
  {
   "cell_type": "code",
   "execution_count": 421,
   "metadata": {},
   "outputs": [],
   "source": [
    "df.loc[df['Project Name'].str.contains('FM/accountability'), 'Project Name'] = 'Public Service'"
   ]
  },
  {
   "cell_type": "code",
   "execution_count": 422,
   "metadata": {},
   "outputs": [],
   "source": [
    "df.loc[df['Project Name'].str.contains('Mining'), 'Project Name'] = 'Mining'"
   ]
  },
  {
   "cell_type": "code",
   "execution_count": 423,
   "metadata": {},
   "outputs": [],
   "source": [
    "df.loc[df['Project Name'].str.contains('FISC SUST.CR.I'), 'Project Name'] = 'Public Service'"
   ]
  },
  {
   "cell_type": "code",
   "execution_count": 424,
   "metadata": {},
   "outputs": [],
   "source": [
    "df.loc[df['Project Name'].str.contains('TIMBER'), 'Project Name'] = 'Forests'\n"
   ]
  },
  {
   "cell_type": "code",
   "execution_count": 425,
   "metadata": {},
   "outputs": [],
   "source": [
    "df.loc[df['Project Name'].str.contains('OIL'), 'Project Name'] = 'Energy'"
   ]
  },
  {
   "cell_type": "code",
   "execution_count": 426,
   "metadata": {},
   "outputs": [],
   "source": [
    "df.loc[df['Project Name'].str.contains('CM-Livestock'), 'Project Name'] = 'Livestock'"
   ]
  },
  {
   "cell_type": "code",
   "execution_count": 427,
   "metadata": {},
   "outputs": [],
   "source": [
    "df.loc[df['Project Name'].str.contains('Electrification'), 'Project Name'] = 'Energy'"
   ]
  },
  {
   "cell_type": "code",
   "execution_count": 428,
   "metadata": {},
   "outputs": [],
   "source": [
    "df.loc[df['Project Name'].str.contains('BT: DPC 2'), 'Project Name'] = 'Others'"
   ]
  },
  {
   "cell_type": "code",
   "execution_count": 429,
   "metadata": {},
   "outputs": [],
   "source": [
    "df.loc[df['Project Name'].str.contains('REHABILITATION'), 'Project Name'] = 'Post Conflict Reconstruction'"
   ]
  },
  {
   "cell_type": "code",
   "execution_count": 430,
   "metadata": {},
   "outputs": [],
   "source": [
    "df.loc[df['Project Name'].str.contains('VOCATIONAL/TECHNICAL'), 'Project Name'] = 'Education'"
   ]
  },
  {
   "cell_type": "code",
   "execution_count": 431,
   "metadata": {},
   "outputs": [],
   "source": [
    "df.loc[df['Project Name'].str.contains('PK PRSC II'), 'Project Name'] = 'Others'"
   ]
  },
  {
   "cell_type": "code",
   "execution_count": 432,
   "metadata": {},
   "outputs": [],
   "source": [
    "df.loc[df['Project Name'].str.contains('GH-Tourism Development Project'), 'Project Name'] = 'Tourism'"
   ]
  },
  {
   "cell_type": "code",
   "execution_count": 433,
   "metadata": {},
   "outputs": [],
   "source": [
    "df.loc[df['Project Name'].str.contains('PUBLIC SERVICE'), 'Project Name'] = 'Public Service'"
   ]
  },
  {
   "cell_type": "code",
   "execution_count": 434,
   "metadata": {},
   "outputs": [],
   "source": [
    "df.loc[df['Project Name'].str.contains('Aviation'), 'Project Name'] = 'Roads and Transport'"
   ]
  },
  {
   "cell_type": "code",
   "execution_count": 435,
   "metadata": {},
   "outputs": [],
   "source": [
    "df.loc[df['Project Name'].str.contains('WS/Sanitation'), 'Project Name'] = 'Others'"
   ]
  },
  {
   "cell_type": "code",
   "execution_count": 436,
   "metadata": {},
   "outputs": [],
   "source": [
    "df.loc[df['Project Name'].str.contains('VOCATIONAL/TECHNICAL'), 'Project Name'] = 'Education'"
   ]
  },
  {
   "cell_type": "code",
   "execution_count": 437,
   "metadata": {},
   "outputs": [],
   "source": [
    "df.loc[df['Project Name'].str.contains('Tourism'), 'Project Name'] = 'Tourism'"
   ]
  },
  {
   "cell_type": "code",
   "execution_count": 438,
   "metadata": {},
   "outputs": [],
   "source": [
    "df.loc[df['Project Name'].str.contains('SINDH'), 'Project Name'] = 'Others'"
   ]
  },
  {
   "cell_type": "code",
   "execution_count": 439,
   "metadata": {},
   "outputs": [],
   "source": [
    "df.loc[df['Project Name'].str.contains('CI-Electricity'), 'Project Name'] = 'Energy'"
   ]
  },
  {
   "cell_type": "code",
   "execution_count": 440,
   "metadata": {},
   "outputs": [],
   "source": [
    "df.loc[df['Project Name'].str.contains('MN-UB SERVICES IMPROVMT 2'), 'Project Name'] = 'Others'"
   ]
  },
  {
   "cell_type": "code",
   "execution_count": 441,
   "metadata": {},
   "outputs": [],
   "source": [
    "df.loc[df['Project Name'].str.contains('Strengthening Systems for SP and CR'), 'Project Name'] = 'Others'"
   ]
  },
  {
   "cell_type": "code",
   "execution_count": 442,
   "metadata": {},
   "outputs": [],
   "source": [
    "df.loc[df['Project Name'].str.contains('MULTIPROJ-ADB'), 'Project Name'] = 'Others'"
   ]
  },
  {
   "cell_type": "code",
   "execution_count": 443,
   "metadata": {},
   "outputs": [],
   "source": [
    "df.loc[df['Project Name'].str.contains('CG:Transparency & Governance repeat Proj'), 'Project Name'] = 'Public Service'"
   ]
  },
  {
   "cell_type": "code",
   "execution_count": 444,
   "metadata": {},
   "outputs": [],
   "source": [
    "df.loc[df['Project Name'].str.contains('MICRO & SMALL ENTERP'), 'Project Name'] = 'Credit and Finance'"
   ]
  },
  {
   "cell_type": "code",
   "execution_count": 445,
   "metadata": {},
   "outputs": [],
   "source": [
    "df.loc[df['Project Name'].str.contains('Agricultural'), 'Project Name'] = 'Agriculture'"
   ]
  },
  {
   "cell_type": "code",
   "execution_count": 446,
   "metadata": {},
   "outputs": [],
   "source": [
    "df.loc[df['Project Name'].str.contains('PNG - Emergency TB Project'), 'Project Name'] = 'Environmental Risks'"
   ]
  },
  {
   "cell_type": "code",
   "execution_count": 447,
   "metadata": {},
   "outputs": [],
   "source": [
    "df.loc[df['Project Name'].str.contains('EDUCATION SECAL'), 'Project Name'] = 'Education'"
   ]
  },
  {
   "cell_type": "code",
   "execution_count": 448,
   "metadata": {},
   "outputs": [],
   "source": [
    "df.loc[df['Project Name'].str.contains('EMPLYMT PROMO LIL'), 'Project Name'] = 'Credit and Finance'"
   ]
  },
  {
   "cell_type": "code",
   "execution_count": 449,
   "metadata": {},
   "outputs": [],
   "source": [
    "df.loc[df['Project Name'].str.contains('MZ-PRSC'), 'Project Name'] = 'Others'"
   ]
  },
  {
   "cell_type": "code",
   "execution_count": 450,
   "metadata": {},
   "outputs": [],
   "source": [
    "df.loc[df['Project Name'].str.contains('KARNATAKA WS & ENV/S'), 'Project Name'] = 'Water'"
   ]
  },
  {
   "cell_type": "code",
   "execution_count": 451,
   "metadata": {},
   "outputs": [],
   "source": [
    "df.loc[df['Project Name'].str.contains('SN - Electricity Sector Support'), 'Project Name'] = 'Energy'"
   ]
  },
  {
   "cell_type": "code",
   "execution_count": 452,
   "metadata": {},
   "outputs": [],
   "source": [
    "df.loc[df['Project Name'].str.contains('HN Social Protection'), 'Project Name'] = 'Health'"
   ]
  },
  {
   "cell_type": "code",
   "execution_count": 453,
   "metadata": {},
   "outputs": [],
   "source": [
    "df.loc[df['Project Name'].str.contains('Vietnam PRSC III'), 'Project Name'] = ''"
   ]
  },
  {
   "cell_type": "code",
   "execution_count": 454,
   "metadata": {},
   "outputs": [],
   "source": [
    "df.loc[df['Project Name'].str.contains('Edu'), 'Project Name'] = 'Education'"
   ]
  },
  {
   "cell_type": "code",
   "execution_count": 455,
   "metadata": {},
   "outputs": [],
   "source": [
    "df.loc[df['Project Name'].str.contains('HEALTH/POPULATION/RU'), 'Project Name'] = 'Health'"
   ]
  },
  {
   "cell_type": "code",
   "execution_count": 456,
   "metadata": {},
   "outputs": [],
   "source": [
    "df.loc[df['Project Name'].str.contains('Transport'), 'Project Name'] = 'Roads and Transport'"
   ]
  },
  {
   "cell_type": "code",
   "execution_count": 457,
   "metadata": {},
   "outputs": [],
   "source": [
    "df.loc[df['Project Name'].str.contains('FEEDER ROADS'), 'Project Name'] = 'Roads and Transport'"
   ]
  },
  {
   "cell_type": "code",
   "execution_count": 458,
   "metadata": {},
   "outputs": [],
   "source": [
    "df.loc[df['Project Name'].str.contains('Administration'), 'Project Name'] = 'Public Service'"
   ]
  },
  {
   "cell_type": "code",
   "execution_count": 459,
   "metadata": {},
   "outputs": [],
   "source": [
    "df.loc[df['Project Name'].str.contains('Georgia Competitiveness and Growth DPO3'), 'Project Name'] = 'Others'"
   ]
  },
  {
   "cell_type": "code",
   "execution_count": 460,
   "metadata": {},
   "outputs": [],
   "source": [
    "df.loc[df['Project Name'].str.contains('THIRD T.A.'), 'Project Name'] = 'Others'"
   ]
  },
  {
   "cell_type": "code",
   "execution_count": 461,
   "metadata": {},
   "outputs": [],
   "source": [
    "df.loc[df['Project Name'].str.contains('ENERGY'), 'Project Name'] = 'Energy'"
   ]
  },
  {
   "cell_type": "code",
   "execution_count": 462,
   "metadata": {},
   "outputs": [],
   "source": [
    "df.loc[df['Project Name'].str.contains('NRDP'), 'Project Name'] = 'Rural Development'"
   ]
  },
  {
   "cell_type": "code",
   "execution_count": 463,
   "metadata": {},
   "outputs": [],
   "source": [
    "df.loc[df['Project Name'].str.contains('OFFICE DU NIGER'), 'Project Name'] = 'Irrigation'"
   ]
  },
  {
   "cell_type": "code",
   "execution_count": 464,
   "metadata": {},
   "outputs": [],
   "source": [
    "df.loc[df['Project Name'].str.contains('LS-Social Assistance Project'), 'Project Name'] = 'Others'"
   ]
  },
  {
   "cell_type": "code",
   "execution_count": 465,
   "metadata": {},
   "outputs": [],
   "source": [
    "df.loc[df['Project Name'].str.contains('PCP'), 'Project Name'] = 'Others'"
   ]
  },
  {
   "cell_type": "code",
   "execution_count": 466,
   "metadata": {},
   "outputs": [],
   "source": [
    "df.loc[df['Project Name'].str.contains('CV-PRSC 4 -DPL'), 'Project Name'] = 'Others'"
   ]
  },
  {
   "cell_type": "code",
   "execution_count": 467,
   "metadata": {},
   "outputs": [],
   "source": [
    "df.loc[df['Project Name'].str.contains('EXPORT REHAB T.A.'), 'Project Name'] = 'Others'"
   ]
  },
  {
   "cell_type": "code",
   "execution_count": 468,
   "metadata": {},
   "outputs": [],
   "source": [
    "df.loc[df['Project Name'].str.contains('MZ-Spatial Development Planning TA'), 'Project Name'] = 'Infrastructure'"
   ]
  },
  {
   "cell_type": "code",
   "execution_count": 469,
   "metadata": {},
   "outputs": [],
   "source": [
    "df.loc[df['Project Name'].str.contains('GD Economic and Social DPL'), 'Project Name'] = 'Others'"
   ]
  },
  {
   "cell_type": "code",
   "execution_count": 470,
   "metadata": {},
   "outputs": [],
   "source": [
    "df.loc[df['Project Name'].str.contains('IN: Low-Income Housing Finance'), 'Project Name'] = 'Credit and Finance'"
   ]
  },
  {
   "cell_type": "code",
   "execution_count": 471,
   "metadata": {},
   "outputs": [],
   "source": [
    "df.loc[df['Project Name'].str.contains('REG & MUNI INFRA DEV'), 'Project Name'] = 'Infrastructure'"
   ]
  },
  {
   "cell_type": "code",
   "execution_count": 472,
   "metadata": {},
   "outputs": [],
   "source": [
    "df.loc[df['Project Name'].str.contains('PRIV SECT DEV & C.B.'), 'Project Name'] = 'Credit and Finance'"
   ]
  },
  {
   "cell_type": "code",
   "execution_count": 473,
   "metadata": {},
   "outputs": [],
   "source": [
    "df.loc[df['Project Name'].str.contains('HN FIFTH SOCIAL INVESTMENT FUND PROJECT'), 'Project Name'] = 'Others'"
   ]
  },
  {
   "cell_type": "code",
   "execution_count": 474,
   "metadata": {},
   "outputs": [],
   "source": [
    "df.loc[df['Project Name'].str.contains('VCRTP'), 'Project Name'] = 'Others'"
   ]
  },
  {
   "cell_type": "code",
   "execution_count": 475,
   "metadata": {},
   "outputs": [],
   "source": [
    "df.loc[df['Project Name'].str.contains('HEALTH/POP.II'), 'Project Name'] = 'Health'"
   ]
  },
  {
   "cell_type": "code",
   "execution_count": 476,
   "metadata": {},
   "outputs": [],
   "source": [
    "df.loc[df['Project Name'].str.contains('Guinea Second MFM DPO'), 'Project Name'] = 'Others'"
   ]
  },
  {
   "cell_type": "code",
   "execution_count": 477,
   "metadata": {},
   "outputs": [],
   "source": [
    "df.loc[df['Project Name'].str.contains('ROAD'), 'Project Name'] = 'Roads and Transport'"
   ]
  },
  {
   "cell_type": "code",
   "execution_count": 478,
   "metadata": {},
   "outputs": [],
   "source": [
    "df.loc[df['Project Name'].str.contains('IMMUNIZATION STRENGTHENING PROJECT'), 'Project Name'] = 'Health'"
   ]
  },
  {
   "cell_type": "code",
   "execution_count": 479,
   "metadata": {},
   "outputs": [],
   "source": [
    "df.loc[df['Project Name'].str.contains('EG-HEALTH SECTOR'), 'Project Name'] = 'Health'"
   ]
  },
  {
   "cell_type": "code",
   "execution_count": 480,
   "metadata": {},
   "outputs": [],
   "source": [
    "df.loc[df['Project Name'].str.contains('ECON. REC. CRD II'), 'Project Name'] = 'Infrastructure'"
   ]
  },
  {
   "cell_type": "code",
   "execution_count": 481,
   "metadata": {},
   "outputs": [],
   "source": [
    "df.loc[df['Project Name'].str.contains('EMG HOUSING REPAIR'), 'Project Name'] = 'Infrastructure'"
   ]
  },
  {
   "cell_type": "code",
   "execution_count": 482,
   "metadata": {},
   "outputs": [],
   "source": [
    "df.loc[df['Project Name'].str.contains('HEALTH I'), 'Project Name'] = 'Health'"
   ]
  },
  {
   "cell_type": "code",
   "execution_count": 483,
   "metadata": {},
   "outputs": [],
   "source": [
    "df.loc[df['Project Name'].str.contains('LK: Puttalam Housing Project'), 'Project Name'] = 'Urbanization'"
   ]
  },
  {
   "cell_type": "code",
   "execution_count": 484,
   "metadata": {},
   "outputs": [],
   "source": [
    "df.loc[df['Project Name'].str.contains('ED SECT DEV'), 'Project Name'] = 'Urbanization'"
   ]
  },
  {
   "cell_type": "code",
   "execution_count": 485,
   "metadata": {},
   "outputs": [],
   "source": [
    "df.loc[df['Project Name'].str.contains('ER-AIDS'), 'Project Name'] = 'Health'"
   ]
  },
  {
   "cell_type": "code",
   "execution_count": 486,
   "metadata": {},
   "outputs": [],
   "source": [
    "df.loc[df['Project Name'].str.contains('BI-Social Action'), 'Project Name'] = 'Others'"
   ]
  },
  {
   "cell_type": "code",
   "execution_count": 487,
   "metadata": {},
   "outputs": [],
   "source": [
    "df.loc[df['Project Name'].str.contains('REAL ESTATE CADASTRE'), 'Project Name'] = 'Urbanization'"
   ]
  },
  {
   "cell_type": "code",
   "execution_count": 488,
   "metadata": {},
   "outputs": [],
   "source": [
    "df.loc[df['Project Name'].str.contains('PETROLEUM EXLORATION'), 'Project Name'] = 'Energy'"
   ]
  },
  {
   "cell_type": "code",
   "execution_count": 489,
   "metadata": {},
   "outputs": [],
   "source": [
    "df.loc[df['Project Name'].str.contains('PforR for PSTA 4'), 'Project Name'] = 'Energy'"
   ]
  },
  {
   "cell_type": "code",
   "execution_count": 490,
   "metadata": {},
   "outputs": [],
   "source": [
    "df.loc[df['Project Name'].str.contains('AIDS'), 'Project Name'] = 'Health'"
   ]
  },
  {
   "cell_type": "code",
   "execution_count": 491,
   "metadata": {},
   "outputs": [],
   "source": [
    "df.loc[df['Project Name'].str.contains('TELECOM'), 'Project Name'] = 'Telecommunication'"
   ]
  },
  {
   "cell_type": "code",
   "execution_count": 492,
   "metadata": {},
   "outputs": [],
   "source": [
    "df.loc[df['Project Name'].str.contains('Infrast'), 'Project Name'] = 'Infrastructure'"
   ]
  },
  {
   "cell_type": "code",
   "execution_count": 493,
   "metadata": {},
   "outputs": [],
   "source": [
    "df.loc[df['Project Name'].str.contains('SAL'), 'Project Name'] = 'Credit and Finance'"
   ]
  },
  {
   "cell_type": "code",
   "execution_count": 494,
   "metadata": {},
   "outputs": [],
   "source": [
    "df.loc[df['Project Name'].str.contains('Action Fund'), 'Project Name'] = 'Poverty Reduction'"
   ]
  },
  {
   "cell_type": "code",
   "execution_count": 495,
   "metadata": {},
   "outputs": [],
   "source": [
    "df.loc[df['Project Name'].str.contains('SEED'), 'Project Name'] = 'Agriculture'"
   ]
  },
  {
   "cell_type": "code",
   "execution_count": 496,
   "metadata": {},
   "outputs": [],
   "source": [
    "df.loc[df['Project Name'].str.contains('WTR'), 'Project Name'] = 'Water'"
   ]
  },
  {
   "cell_type": "code",
   "execution_count": 497,
   "metadata": {},
   "outputs": [],
   "source": [
    "df.loc[df['Project Name'].str.contains('MICROCREDIT'), 'Project Name'] = 'Credit and Finance'"
   ]
  },
  {
   "cell_type": "code",
   "execution_count": 498,
   "metadata": {},
   "outputs": [],
   "source": [
    "df.loc[df['Project Name'].str.contains('Governance'), 'Project Name'] = 'Public Service'"
   ]
  },
  {
   "cell_type": "code",
   "execution_count": 499,
   "metadata": {},
   "outputs": [],
   "source": [
    "df.loc[df['Project Name'].str.contains('OMVG Interconnection Project'), 'Project Name'] = 'Energy'"
   ]
  },
  {
   "cell_type": "code",
   "execution_count": 500,
   "metadata": {},
   "outputs": [],
   "source": [
    "df.loc[df['Project Name'].str.contains('MUNICIPAL'), 'Project Name'] = 'Public Service'"
   ]
  },
  {
   "cell_type": "code",
   "execution_count": 501,
   "metadata": {},
   "outputs": [],
   "source": [
    "df.loc[df['Project Name'].str.contains('Emergency Assistance'), 'Project Name'] = 'Environmental Risks'"
   ]
  },
  {
   "cell_type": "code",
   "execution_count": 502,
   "metadata": {},
   "outputs": [],
   "source": [
    "df.loc[df['Project Name'].str.contains('BRRP'), 'Project Name'] = 'Public Service'"
   ]
  },
  {
   "cell_type": "code",
   "execution_count": 503,
   "metadata": {},
   "outputs": [],
   "source": [
    "df.loc[df['Project Name'].str.contains('SCHISTOSOMIASIS CONTROL'), 'Project Name'] = 'Health'"
   ]
  },
  {
   "cell_type": "code",
   "execution_count": 504,
   "metadata": {},
   "outputs": [],
   "source": [
    "df.loc[df['Project Name'].str.contains('ET-Agr Research'), 'Project Name'] = 'Agriculture'"
   ]
  },
  {
   "cell_type": "code",
   "execution_count": 505,
   "metadata": {},
   "outputs": [],
   "source": [
    "df.loc[df['Project Name'].str.contains('Strategic Cities'), 'Project Name'] = 'Urbanization'"
   ]
  },
  {
   "cell_type": "code",
   "execution_count": 506,
   "metadata": {},
   "outputs": [],
   "source": [
    "df.loc[df['Project Name'].str.contains('POOR'), 'Project Name'] = 'Poverty Reduction'"
   ]
  },
  {
   "cell_type": "code",
   "execution_count": 507,
   "metadata": {},
   "outputs": [],
   "source": [
    "df.loc[df['Project Name'].str.contains('ECONOMIC RECOVERY'), 'Project Name'] = 'Credit and Finance'"
   ]
  },
  {
   "cell_type": "code",
   "execution_count": 508,
   "metadata": {},
   "outputs": [],
   "source": [
    "df.loc[df['Project Name'].str.contains('ENVIRONMENT'), 'Project Name'] = 'Environmental Risks'"
   ]
  },
  {
   "cell_type": "code",
   "execution_count": 509,
   "metadata": {},
   "outputs": [],
   "source": [
    "df.loc[df['Project Name'].str.contains('FLOOD'), 'Project Name'] = 'Environmental Risks'"
   ]
  },
  {
   "cell_type": "code",
   "execution_count": 510,
   "metadata": {},
   "outputs": [],
   "source": [
    "df.loc[df['Project Name'].str.contains('SS-Local Governance'), 'Project Name'] = 'Public Service'"
   ]
  },
  {
   "cell_type": "code",
   "execution_count": 511,
   "metadata": {},
   "outputs": [],
   "source": [
    "df.loc[df['Project Name'].str.contains('IRR/DRAIN'), 'Project Name'] = 'Irrigation'"
   ]
  },
  {
   "cell_type": "code",
   "execution_count": 512,
   "metadata": {},
   "outputs": [],
   "source": [
    "df.loc[df['Project Name'].str.contains('Municipalities'), 'Project Name'] = 'Public Service'"
   ]
  },
  {
   "cell_type": "code",
   "execution_count": 513,
   "metadata": {},
   "outputs": [],
   "source": [
    "df.loc[df['Project Name'].str.contains('Electricity'), 'Project Name'] = 'Energy'"
   ]
  },
  {
   "cell_type": "code",
   "execution_count": 514,
   "metadata": {},
   "outputs": [],
   "source": [
    "df.loc[df['Project Name'].str.contains('Village'), 'Project Name'] = 'Rural Development'"
   ]
  },
  {
   "cell_type": "code",
   "execution_count": 515,
   "metadata": {},
   "outputs": [],
   "source": [
    "df.loc[df['Project Name'].str.contains('REHAB.III'), 'Project Name'] = 'Roads and Transport'"
   ]
  },
  {
   "cell_type": "code",
   "execution_count": 516,
   "metadata": {},
   "outputs": [],
   "source": [
    "df.loc[df['Project Name'].str.contains('ADBP V'), 'Project Name'] = 'Others'"
   ]
  },
  {
   "cell_type": "code",
   "execution_count": 517,
   "metadata": {},
   "outputs": [],
   "source": [
    "df.loc[df['Project Name'].str.contains('Pakistan Housing Finance'), 'Project Name'] = 'Credit and Finance'"
   ]
  },
  {
   "cell_type": "code",
   "execution_count": 518,
   "metadata": {},
   "outputs": [],
   "source": [
    "df.loc[df['Project Name'].str.contains('SOC INS TA'), 'Project Name'] = 'Others'"
   ]
  },
  {
   "cell_type": "code",
   "execution_count": 519,
   "metadata": {},
   "outputs": [],
   "source": [
    "df.loc[df['Project Name'].str.contains('STOCKROUTE'), 'Project Name'] = 'Livestock'"
   ]
  },
  {
   "cell_type": "code",
   "execution_count": 520,
   "metadata": {},
   "outputs": [],
   "source": [
    "df.loc[df['Project Name'].str.contains('Nutrition'), 'Project Name'] = 'Health'"
   ]
  },
  {
   "cell_type": "code",
   "execution_count": 521,
   "metadata": {},
   "outputs": [],
   "source": [
    "df.loc[df['Project Name'].str.contains('BJ-Youth Employment'), 'Project Name'] = 'Education'"
   ]
  },
  {
   "cell_type": "code",
   "execution_count": 522,
   "metadata": {},
   "outputs": [],
   "source": [
    "df.loc[df['Project Name'].str.contains('PUBLIC SEC.ADJ'), 'Project Name'] = 'Public Service'"
   ]
  },
  {
   "cell_type": "code",
   "execution_count": 523,
   "metadata": {},
   "outputs": [],
   "source": [
    "df.loc[df['Project Name'].str.contains('Towns'), 'Project Name'] = 'Urbanization'"
   ]
  },
  {
   "cell_type": "code",
   "execution_count": 524,
   "metadata": {},
   "outputs": [],
   "source": [
    "df.loc[df['Project Name'].str.contains('Wtrshed'), 'Project Name'] = 'Water'"
   ]
  },
  {
   "cell_type": "code",
   "execution_count": 525,
   "metadata": {},
   "outputs": [],
   "source": [
    "df.loc[df['Project Name'].str.contains('ZM-ERIPTA'), 'Project Name'] = 'Credit and Finance'"
   ]
  },
  {
   "cell_type": "code",
   "execution_count": 526,
   "metadata": {},
   "outputs": [],
   "source": [
    "df.loc[df['Project Name'].str.contains('DRC-Emerg Econ'), 'Project Name'] = 'Post Conflict Reconstruction'"
   ]
  },
  {
   "cell_type": "code",
   "execution_count": 527,
   "metadata": {},
   "outputs": [],
   "source": [
    "df.loc[df['Project Name'].str.contains('SUGAR'), 'Project Name'] = 'Agriculture'"
   ]
  },
  {
   "cell_type": "code",
   "execution_count": 528,
   "metadata": {},
   "outputs": [],
   "source": [
    "df.loc[df['Project Name'].str.contains('CHINA INVEST. BANK'), 'Project Name'] = 'Credit and Finance'"
   ]
  },
  {
   "cell_type": "code",
   "execution_count": 529,
   "metadata": {},
   "outputs": [],
   "source": [
    "df.loc[df['Project Name'].str.contains('Clean Air'), 'Project Name'] = 'Credit and Finance'"
   ]
  },
  {
   "cell_type": "code",
   "execution_count": 530,
   "metadata": {},
   "outputs": [],
   "source": [
    "df.loc[df['Project Name'].str.contains('REHAB.IMPORT'), 'Project Name'] = 'Roads and Transport'"
   ]
  },
  {
   "cell_type": "code",
   "execution_count": 531,
   "metadata": {},
   "outputs": [],
   "source": [
    "df.loc[df['Project Name'].str.contains('Vocational Training'), 'Project Name'] = 'Education'"
   ]
  },
  {
   "cell_type": "code",
   "execution_count": 532,
   "metadata": {},
   "outputs": [],
   "source": [
    "df.loc[df['Project Name'].str.contains('CYCLONE'), 'Project Name'] = 'Environmental Risks'"
   ]
  },
  {
   "cell_type": "code",
   "execution_count": 533,
   "metadata": {},
   "outputs": [],
   "source": [
    "df.loc[df['Project Name'].str.contains('Cyclone'), 'Project Name'] = 'Environmental Risks'"
   ]
  },
  {
   "cell_type": "code",
   "execution_count": 534,
   "metadata": {},
   "outputs": [],
   "source": [
    "df.loc[df['Project Name'].str.contains('Transp'), 'Project Name'] = 'Roads and Transport'"
   ]
  },
  {
   "cell_type": "code",
   "execution_count": 535,
   "metadata": {},
   "outputs": [],
   "source": [
    "df.loc[df['Project Name'].str.contains('Transp.Trade'), 'Project Name'] = 'Credit and Finance'"
   ]
  },
  {
   "cell_type": "code",
   "execution_count": 536,
   "metadata": {},
   "outputs": [],
   "source": [
    "df.loc[df['Project Name'].str.contains('EMG IND RESTART'), 'Project Name'] = 'Others'"
   ]
  },
  {
   "cell_type": "code",
   "execution_count": 537,
   "metadata": {},
   "outputs": [],
   "source": [
    "df.loc[df['Project Name'].str.contains('PRIV.SCTR.CAP.BLDG'), 'Project Name'] = 'Others'"
   ]
  },
  {
   "cell_type": "code",
   "execution_count": 538,
   "metadata": {},
   "outputs": [],
   "source": [
    "df.loc[df['Project Name'].str.contains('Agric'), 'Project Name'] = 'Others'"
   ]
  },
  {
   "cell_type": "code",
   "execution_count": 539,
   "metadata": {},
   "outputs": [],
   "source": [
    "df.loc[df['Project Name'].str.contains('WAPP'), 'Project Name'] = 'Others'"
   ]
  },
  {
   "cell_type": "code",
   "execution_count": 540,
   "metadata": {},
   "outputs": [],
   "source": [
    "df.loc[df['Project Name'].str.contains('FOOD'), 'Project Name'] = 'Others'"
   ]
  },
  {
   "cell_type": "code",
   "execution_count": 541,
   "metadata": {},
   "outputs": [],
   "source": [
    "df.loc[df['Project Name'].str.contains('DRC Priv Sec Dev Competitiveness'), 'Project Name'] = 'Others'"
   ]
  },
  {
   "cell_type": "code",
   "execution_count": 542,
   "metadata": {},
   "outputs": [],
   "source": [
    "df.loc[df['Project Name'].str.contains('KH-SOCIAL FUND'), 'Project Name'] = 'Others'"
   ]
  },
  {
   "cell_type": "code",
   "execution_count": 543,
   "metadata": {},
   "outputs": [],
   "source": [
    "df.loc[df['Project Name'].str.contains('TRNSPRT SCTR RHB'), 'Project Name'] = 'Roads and Transport'"
   ]
  },
  {
   "cell_type": "code",
   "execution_count": 544,
   "metadata": {},
   "outputs": [],
   "source": [
    "df.loc[df['Project Name'].str.contains('GH-PRSC 5 DPL'), 'Project Name'] = 'Roads and Transport'"
   ]
  },
  {
   "cell_type": "code",
   "execution_count": 545,
   "metadata": {},
   "outputs": [],
   "source": [
    "df.loc[df['Project Name'].str.contains('VN-Highway Rehab'), 'Project Name'] = 'Others'"
   ]
  },
  {
   "cell_type": "code",
   "execution_count": 546,
   "metadata": {},
   "outputs": [],
   "source": [
    "df.loc[df['Project Name'].str.contains('ML-PRSC 5 - DPL'), 'Project Name'] = 'Roa'"
   ]
  },
  {
   "cell_type": "code",
   "execution_count": 547,
   "metadata": {},
   "outputs": [],
   "source": [
    "df.loc[df['Project Name'].str.contains('PET.& GEO-THERMAL EXP.N'), 'Project Name'] = 'Energy'"
   ]
  },
  {
   "cell_type": "code",
   "execution_count": 548,
   "metadata": {},
   "outputs": [],
   "source": [
    "df.loc[df['Project Name'].str.contains('T.A.'), 'Project Name'] = 'Energy'"
   ]
  },
  {
   "cell_type": "code",
   "execution_count": 549,
   "metadata": {},
   "outputs": [],
   "source": [
    "df.loc[df['Project Name'].str.contains('A.P. EXTENSION'), 'Project Name'] = 'Agriculture'"
   ]
  },
  {
   "cell_type": "markdown",
   "metadata": {},
   "source": [
    "### Limiting Data for Plotting to 150 "
   ]
  },
  {
   "cell_type": "code",
   "execution_count": 550,
   "metadata": {},
   "outputs": [],
   "source": [
    "f = df.head(150)"
   ]
  },
  {
   "cell_type": "code",
   "execution_count": 551,
   "metadata": {},
   "outputs": [],
   "source": [
    "df.loc[df['Project Name'].str.contains('CASHEW NUTS II'), 'Project Name'] = 'Agriculture'"
   ]
  },
  {
   "cell_type": "code",
   "execution_count": 552,
   "metadata": {},
   "outputs": [],
   "source": [
    "df.loc[df['Project Name'].str.contains('LOWER BURMA PADDY DE'), 'Project Name'] = 'Agriculture'"
   ]
  },
  {
   "cell_type": "code",
   "execution_count": 553,
   "metadata": {},
   "outputs": [],
   "source": [
    "df.loc[df['Project Name'].str.contains('SCARP MARDAN'), 'Project Name'] = 'Irrigation'"
   ]
  },
  {
   "cell_type": "code",
   "execution_count": 554,
   "metadata": {},
   "outputs": [],
   "source": [
    "df.loc[df['Project Name'].str.contains('MOROGORO TEXTILE'), 'Project Name'] = 'Industrialization'"
   ]
  },
  {
   "cell_type": "code",
   "execution_count": 555,
   "metadata": {},
   "outputs": [],
   "source": [
    "df.loc[df['Project Name'].str.contains('TIHAMA III'), 'Project Name'] = 'Agriculture'"
   ]
  },
  {
   "cell_type": "code",
   "execution_count": 556,
   "metadata": {},
   "outputs": [],
   "source": [
    "df.loc[df['Project Name'].str.contains('TOURISM'), 'Project Name'] = 'Tourism'"
   ]
  },
  {
   "cell_type": "code",
   "execution_count": 557,
   "metadata": {},
   "outputs": [],
   "source": [
    "df.loc[df['Project Name'].str.contains('OMASUYOS-LOS ANDES R'), 'Project Name'] = 'Rural Development'"
   ]
  },
  {
   "cell_type": "code",
   "execution_count": 558,
   "metadata": {},
   "outputs": [],
   "source": [
    "df.loc[df['Project Name'].str.contains('MINING'), 'Project Name'] = 'Mining'"
   ]
  },
  {
   "cell_type": "code",
   "execution_count": 559,
   "metadata": {},
   "outputs": [],
   "source": [
    "df.loc[df['Project Name'].str.contains('COCOA/COFFEE II'), 'Project Name'] = 'Agriculture'"
   ]
  },
  {
   "cell_type": "code",
   "execution_count": 560,
   "metadata": {},
   "outputs": [],
   "source": [
    "df.loc[df['Project Name'].str.contains('SANTA CRUZ'), 'Project Name'] = 'Water'"
   ]
  },
  {
   "cell_type": "code",
   "execution_count": 561,
   "metadata": {},
   "outputs": [],
   "source": [
    "df.loc[df['Project Name'].str.contains('CARIBBEAN DEVT BANK'), 'Project Name'] = 'Others'"
   ]
  },
  {
   "cell_type": "code",
   "execution_count": 562,
   "metadata": {},
   "outputs": [],
   "source": [
    "df.loc[df['Project Name'].str.contains('SMALL SCALE INDUSTRI'), 'Project Name'] = 'Industrialization'"
   ]
  },
  {
   "cell_type": "code",
   "execution_count": 563,
   "metadata": {},
   "outputs": [],
   "source": [
    "df.loc[df['Project Name'].str.contains('POPULATION II'), 'Project Name'] = 'Others'"
   ]
  },
  {
   "cell_type": "code",
   "execution_count": 564,
   "metadata": {},
   "outputs": [],
   "source": [
    "df.loc[df['Project Name'].str.contains('FISHERIES'), 'Project Name'] = 'Fishery'"
   ]
  },
  {
   "cell_type": "code",
   "execution_count": 565,
   "metadata": {},
   "outputs": [],
   "source": [
    "df.loc[df['Project Name'].str.contains('BARINGO SEMI-ARID AR'), 'Project Name'] = 'Irrigation'"
   ]
  },
  {
   "cell_type": "code",
   "execution_count": 566,
   "metadata": {},
   "outputs": [],
   "source": [
    "df.loc[df['Project Name'].str.contains('NUTRITION'), 'Project Name'] = 'Health'"
   ]
  },
  {
   "cell_type": "code",
   "execution_count": 567,
   "metadata": {},
   "outputs": [],
   "source": [
    "df.loc[df['Project Name'].str.contains('RUBBER'), 'Project Name'] = 'Industrialization'"
   ]
  },
  {
   "cell_type": "code",
   "execution_count": 568,
   "metadata": {},
   "outputs": [],
   "source": [
    "df.loc[df['Project Name'].str.contains('DFC/SME'), 'Project Name'] = 'Credit and Finance'"
   ]
  },
  {
   "cell_type": "code",
   "execution_count": 569,
   "metadata": {},
   "outputs": [],
   "source": [
    "df.loc[df['Project Name'].str.contains('POPULAT. II'), 'Project Name'] = 'Credit and Finance'"
   ]
  },
  {
   "cell_type": "code",
   "execution_count": 570,
   "metadata": {},
   "outputs": [],
   "source": [
    "df_head = df.head(50)"
   ]
  },
  {
   "cell_type": "code",
   "execution_count": 571,
   "metadata": {},
   "outputs": [
    {
     "name": "stderr",
     "output_type": "stream",
     "text": [
      "/Users/wilfriedzoungrana/opt/miniconda3/lib/python3.7/site-packages/ipykernel_launcher.py:1: SettingWithCopyWarning:\n",
      "\n",
      "\n",
      "A value is trying to be set on a copy of a slice from a DataFrame.\n",
      "Try using .loc[row_indexer,col_indexer] = value instead\n",
      "\n",
      "See the caveats in the documentation: https://pandas.pydata.org/pandas-docs/stable/user_guide/indexing.html#returning-a-view-versus-a-copy\n",
      "\n"
     ]
    }
   ],
   "source": [
    "df_head['Total Principal Amount'] = df_head['Original Principal Amount'].sum()"
   ]
  },
  {
   "cell_type": "markdown",
   "metadata": {},
   "source": [
    "#### A Faceted Barplot of Borrowed Fund against Project Type(Here as 'Project Name')"
   ]
  },
  {
   "cell_type": "code",
   "execution_count": 572,
   "metadata": {},
   "outputs": [
    {
     "data": {
      "application/vnd.plotly.v1+json": {
       "config": {
        "plotlyServerURL": "https://plot.ly"
       },
       "data": [
        {
         "alignmentgroup": "True",
         "hovertemplate": "Project Name=Irrigation<br>Currency of Commitment=USD<br>Credit Status=Fully Repaid<br>Region=%{x}<br>Total Principal Amount=%{y}<extra></extra>",
         "legendgroup": "Irrigation",
         "marker": {
          "color": "#636efa"
         },
         "name": "Irrigation",
         "offsetgroup": "Irrigation",
         "orientation": "v",
         "showlegend": true,
         "textposition": "auto",
         "type": "bar",
         "x": [
          "AFRICA",
          "AFRICA"
         ],
         "xaxis": "x",
         "y": [
          2876856982.9227605,
          2876856982.9227605
         ],
         "yaxis": "y"
        },
        {
         "alignmentgroup": "True",
         "hovertemplate": "Project Name=Irrigation<br>Currency of Commitment=USD<br>Credit Status=Repaying<br>Region=%{x}<br>Total Principal Amount=%{y}<extra></extra>",
         "legendgroup": "Irrigation",
         "marker": {
          "color": "#636efa"
         },
         "name": "Irrigation",
         "offsetgroup": "Irrigation",
         "orientation": "v",
         "showlegend": false,
         "textposition": "auto",
         "type": "bar",
         "x": [
          "SOUTH ASIA",
          "SOUTH ASIA",
          "AFRICA",
          "SOUTH ASIA"
         ],
         "xaxis": "x2",
         "y": [
          2876856982.9227605,
          2876856982.9227605,
          2876856982.9227605,
          2876856982.9227605
         ],
         "yaxis": "y2"
        },
        {
         "alignmentgroup": "True",
         "hovertemplate": "Project Name=Urbanization<br>Currency of Commitment=USD<br>Credit Status=Fully Repaid<br>Region=%{x}<br>Total Principal Amount=%{y}<extra></extra>",
         "legendgroup": "Urbanization",
         "marker": {
          "color": "#EF553B"
         },
         "name": "Urbanization",
         "offsetgroup": "Urbanization",
         "orientation": "v",
         "showlegend": true,
         "textposition": "auto",
         "type": "bar",
         "x": [
          "AFRICA",
          "LATIN AMERICA AND CARIBBEAN"
         ],
         "xaxis": "x",
         "y": [
          2876856982.9227605,
          2876856982.9227605
         ],
         "yaxis": "y"
        },
        {
         "alignmentgroup": "True",
         "hovertemplate": "Project Name=Livestock<br>Currency of Commitment=USD<br>Credit Status=Fully Repaid<br>Region=%{x}<br>Total Principal Amount=%{y}<extra></extra>",
         "legendgroup": "Livestock",
         "marker": {
          "color": "#00cc96"
         },
         "name": "Livestock",
         "offsetgroup": "Livestock",
         "orientation": "v",
         "showlegend": true,
         "textposition": "auto",
         "type": "bar",
         "x": [
          "AFRICA",
          "AFRICA"
         ],
         "xaxis": "x",
         "y": [
          2876856982.9227605,
          2876856982.9227605
         ],
         "yaxis": "y"
        },
        {
         "alignmentgroup": "True",
         "hovertemplate": "Project Name=Livestock<br>Currency of Commitment=USD<br>Credit Status=Repaying<br>Region=%{x}<br>Total Principal Amount=%{y}<extra></extra>",
         "legendgroup": "Livestock",
         "marker": {
          "color": "#00cc96"
         },
         "name": "Livestock",
         "offsetgroup": "Livestock",
         "orientation": "v",
         "showlegend": false,
         "textposition": "auto",
         "type": "bar",
         "x": [
          "AFRICA"
         ],
         "xaxis": "x2",
         "y": [
          2876856982.9227605
         ],
         "yaxis": "y2"
        },
        {
         "alignmentgroup": "True",
         "hovertemplate": "Project Name=Energy<br>Currency of Commitment=USD<br>Credit Status=Fully Repaid<br>Region=%{x}<br>Total Principal Amount=%{y}<extra></extra>",
         "legendgroup": "Energy",
         "marker": {
          "color": "#ab63fa"
         },
         "name": "Energy",
         "offsetgroup": "Energy",
         "orientation": "v",
         "showlegend": true,
         "textposition": "auto",
         "type": "bar",
         "x": [
          "AFRICA",
          "AFRICA"
         ],
         "xaxis": "x",
         "y": [
          2876856982.9227605,
          2876856982.9227605
         ],
         "yaxis": "y"
        },
        {
         "alignmentgroup": "True",
         "hovertemplate": "Project Name=Energy<br>Currency of Commitment=USD<br>Credit Status=Repaying<br>Region=%{x}<br>Total Principal Amount=%{y}<extra></extra>",
         "legendgroup": "Energy",
         "marker": {
          "color": "#ab63fa"
         },
         "name": "Energy",
         "offsetgroup": "Energy",
         "orientation": "v",
         "showlegend": false,
         "textposition": "auto",
         "type": "bar",
         "x": [
          "MIDDLE EAST AND NORTH AFRICA",
          "AFRICA",
          "MIDDLE EAST AND NORTH AFRICA",
          "AFRICA"
         ],
         "xaxis": "x2",
         "y": [
          2876856982.9227605,
          2876856982.9227605,
          2876856982.9227605,
          2876856982.9227605
         ],
         "yaxis": "y2"
        },
        {
         "alignmentgroup": "True",
         "hovertemplate": "Project Name=Agriculture<br>Currency of Commitment=USD<br>Credit Status=Fully Repaid<br>Region=%{x}<br>Total Principal Amount=%{y}<extra></extra>",
         "legendgroup": "Agriculture",
         "marker": {
          "color": "#FFA15A"
         },
         "name": "Agriculture",
         "offsetgroup": "Agriculture",
         "orientation": "v",
         "showlegend": true,
         "textposition": "auto",
         "type": "bar",
         "x": [
          "AFRICA",
          "AFRICA"
         ],
         "xaxis": "x",
         "y": [
          2876856982.9227605,
          2876856982.9227605
         ],
         "yaxis": "y"
        },
        {
         "alignmentgroup": "True",
         "hovertemplate": "Project Name=Agriculture<br>Currency of Commitment=USD<br>Credit Status=Repaying<br>Region=%{x}<br>Total Principal Amount=%{y}<extra></extra>",
         "legendgroup": "Agriculture",
         "marker": {
          "color": "#FFA15A"
         },
         "name": "Agriculture",
         "offsetgroup": "Agriculture",
         "orientation": "v",
         "showlegend": false,
         "textposition": "auto",
         "type": "bar",
         "x": [
          "EAST ASIA AND PACIFIC",
          "MIDDLE EAST AND NORTH AFRICA"
         ],
         "xaxis": "x2",
         "y": [
          2876856982.9227605,
          2876856982.9227605
         ],
         "yaxis": "y2"
        },
        {
         "alignmentgroup": "True",
         "hovertemplate": "Project Name=Education<br>Currency of Commitment=USD<br>Credit Status=Fully Repaid<br>Region=%{x}<br>Total Principal Amount=%{y}<extra></extra>",
         "legendgroup": "Education",
         "marker": {
          "color": "#19d3f3"
         },
         "name": "Education",
         "offsetgroup": "Education",
         "orientation": "v",
         "showlegend": true,
         "textposition": "auto",
         "type": "bar",
         "x": [
          "AFRICA",
          "AFRICA"
         ],
         "xaxis": "x",
         "y": [
          2876856982.9227605,
          2876856982.9227605
         ],
         "yaxis": "y"
        },
        {
         "alignmentgroup": "True",
         "hovertemplate": "Project Name=Education<br>Currency of Commitment=USD<br>Credit Status=Repaying<br>Region=%{x}<br>Total Principal Amount=%{y}<extra></extra>",
         "legendgroup": "Education",
         "marker": {
          "color": "#19d3f3"
         },
         "name": "Education",
         "offsetgroup": "Education",
         "orientation": "v",
         "showlegend": false,
         "textposition": "auto",
         "type": "bar",
         "x": [
          "MIDDLE EAST AND NORTH AFRICA"
         ],
         "xaxis": "x2",
         "y": [
          2876856982.9227605
         ],
         "yaxis": "y2"
        },
        {
         "alignmentgroup": "True",
         "hovertemplate": "Project Name=Industrialization<br>Currency of Commitment=USD<br>Credit Status=Fully Repaid<br>Region=%{x}<br>Total Principal Amount=%{y}<extra></extra>",
         "legendgroup": "Industrialization",
         "marker": {
          "color": "#FF6692"
         },
         "name": "Industrialization",
         "offsetgroup": "Industrialization",
         "orientation": "v",
         "showlegend": true,
         "textposition": "auto",
         "type": "bar",
         "x": [
          "AFRICA",
          "AFRICA"
         ],
         "xaxis": "x",
         "y": [
          2876856982.9227605,
          2876856982.9227605
         ],
         "yaxis": "y"
        },
        {
         "alignmentgroup": "True",
         "hovertemplate": "Project Name=Roads and Transport<br>Currency of Commitment=USD<br>Credit Status=Fully Repaid<br>Region=%{x}<br>Total Principal Amount=%{y}<extra></extra>",
         "legendgroup": "Roads and Transport",
         "marker": {
          "color": "#B6E880"
         },
         "name": "Roads and Transport",
         "offsetgroup": "Roads and Transport",
         "orientation": "v",
         "showlegend": true,
         "textposition": "auto",
         "type": "bar",
         "x": [
          "AFRICA"
         ],
         "xaxis": "x",
         "y": [
          2876856982.9227605
         ],
         "yaxis": "y"
        },
        {
         "alignmentgroup": "True",
         "hovertemplate": "Project Name=Roads and Transport<br>Currency of Commitment=USD<br>Credit Status=Repaying<br>Region=%{x}<br>Total Principal Amount=%{y}<extra></extra>",
         "legendgroup": "Roads and Transport",
         "marker": {
          "color": "#B6E880"
         },
         "name": "Roads and Transport",
         "offsetgroup": "Roads and Transport",
         "orientation": "v",
         "showlegend": false,
         "textposition": "auto",
         "type": "bar",
         "x": [
          "AFRICA"
         ],
         "xaxis": "x2",
         "y": [
          2876856982.9227605
         ],
         "yaxis": "y2"
        },
        {
         "alignmentgroup": "True",
         "hovertemplate": "Project Name=Tourism<br>Currency of Commitment=USD<br>Credit Status=Repaying<br>Region=%{x}<br>Total Principal Amount=%{y}<extra></extra>",
         "legendgroup": "Tourism",
         "marker": {
          "color": "#FF97FF"
         },
         "name": "Tourism",
         "offsetgroup": "Tourism",
         "orientation": "v",
         "showlegend": true,
         "textposition": "auto",
         "type": "bar",
         "x": [
          "MIDDLE EAST AND NORTH AFRICA"
         ],
         "xaxis": "x2",
         "y": [
          2876856982.9227605
         ],
         "yaxis": "y2"
        },
        {
         "alignmentgroup": "True",
         "hovertemplate": "Project Name=Credit and Finance<br>Currency of Commitment=USD<br>Credit Status=Fully Repaid<br>Region=%{x}<br>Total Principal Amount=%{y}<extra></extra>",
         "legendgroup": "Credit and Finance",
         "marker": {
          "color": "#FECB52"
         },
         "name": "Credit and Finance",
         "offsetgroup": "Credit and Finance",
         "orientation": "v",
         "showlegend": true,
         "textposition": "auto",
         "type": "bar",
         "x": [
          "AFRICA"
         ],
         "xaxis": "x",
         "y": [
          2876856982.9227605
         ],
         "yaxis": "y"
        },
        {
         "alignmentgroup": "True",
         "hovertemplate": "Project Name=Credit and Finance<br>Currency of Commitment=USD<br>Credit Status=Repaying<br>Region=%{x}<br>Total Principal Amount=%{y}<extra></extra>",
         "legendgroup": "Credit and Finance",
         "marker": {
          "color": "#FECB52"
         },
         "name": "Credit and Finance",
         "offsetgroup": "Credit and Finance",
         "orientation": "v",
         "showlegend": false,
         "textposition": "auto",
         "type": "bar",
         "x": [
          "EAST ASIA AND PACIFIC"
         ],
         "xaxis": "x2",
         "y": [
          2876856982.9227605
         ],
         "yaxis": "y2"
        },
        {
         "alignmentgroup": "True",
         "hovertemplate": "Project Name=Others<br>Currency of Commitment=USD<br>Credit Status=Fully Repaid<br>Region=%{x}<br>Total Principal Amount=%{y}<extra></extra>",
         "legendgroup": "Others",
         "marker": {
          "color": "#636efa"
         },
         "name": "Others",
         "offsetgroup": "Others",
         "orientation": "v",
         "showlegend": true,
         "textposition": "auto",
         "type": "bar",
         "x": [
          "EAST ASIA AND PACIFIC",
          "AFRICA",
          "AFRICA"
         ],
         "xaxis": "x",
         "y": [
          2876856982.9227605,
          2876856982.9227605,
          2876856982.9227605
         ],
         "yaxis": "y"
        },
        {
         "alignmentgroup": "True",
         "hovertemplate": "Project Name=Others<br>Currency of Commitment=USD<br>Credit Status=Repaying<br>Region=%{x}<br>Total Principal Amount=%{y}<extra></extra>",
         "legendgroup": "Others",
         "marker": {
          "color": "#636efa"
         },
         "name": "Others",
         "offsetgroup": "Others",
         "orientation": "v",
         "showlegend": false,
         "textposition": "auto",
         "type": "bar",
         "x": [
          "EAST ASIA AND PACIFIC",
          "LATIN AMERICA AND CARIBBEAN",
          "AFRICA",
          "SOUTH ASIA",
          "MIDDLE EAST AND NORTH AFRICA",
          "SOUTH ASIA"
         ],
         "xaxis": "x2",
         "y": [
          2876856982.9227605,
          2876856982.9227605,
          2876856982.9227605,
          2876856982.9227605,
          2876856982.9227605,
          2876856982.9227605
         ],
         "yaxis": "y2"
        },
        {
         "alignmentgroup": "True",
         "hovertemplate": "Project Name=Rural Development<br>Currency of Commitment=USD<br>Credit Status=Fully Repaid<br>Region=%{x}<br>Total Principal Amount=%{y}<extra></extra>",
         "legendgroup": "Rural Development",
         "marker": {
          "color": "#EF553B"
         },
         "name": "Rural Development",
         "offsetgroup": "Rural Development",
         "orientation": "v",
         "showlegend": true,
         "textposition": "auto",
         "type": "bar",
         "x": [
          "LATIN AMERICA AND CARIBBEAN",
          "AFRICA"
         ],
         "xaxis": "x",
         "y": [
          2876856982.9227605,
          2876856982.9227605
         ],
         "yaxis": "y"
        },
        {
         "alignmentgroup": "True",
         "hovertemplate": "Project Name=Rural Development<br>Currency of Commitment=USD<br>Credit Status=Repaying<br>Region=%{x}<br>Total Principal Amount=%{y}<extra></extra>",
         "legendgroup": "Rural Development",
         "marker": {
          "color": "#EF553B"
         },
         "name": "Rural Development",
         "offsetgroup": "Rural Development",
         "orientation": "v",
         "showlegend": false,
         "textposition": "auto",
         "type": "bar",
         "x": [
          "SOUTH ASIA",
          "EAST ASIA AND PACIFIC"
         ],
         "xaxis": "x2",
         "y": [
          2876856982.9227605,
          2876856982.9227605
         ],
         "yaxis": "y2"
        },
        {
         "alignmentgroup": "True",
         "hovertemplate": "Project Name=Mining<br>Currency of Commitment=USD<br>Credit Status=Fully Repaid<br>Region=%{x}<br>Total Principal Amount=%{y}<extra></extra>",
         "legendgroup": "Mining",
         "marker": {
          "color": "#00cc96"
         },
         "name": "Mining",
         "offsetgroup": "Mining",
         "orientation": "v",
         "showlegend": true,
         "textposition": "auto",
         "type": "bar",
         "x": [
          "LATIN AMERICA AND CARIBBEAN"
         ],
         "xaxis": "x",
         "y": [
          2876856982.9227605
         ],
         "yaxis": "y"
        },
        {
         "alignmentgroup": "True",
         "hovertemplate": "Project Name=Water<br>Currency of Commitment=USD<br>Credit Status=Fully Repaid<br>Region=%{x}<br>Total Principal Amount=%{y}<extra></extra>",
         "legendgroup": "Water",
         "marker": {
          "color": "#ab63fa"
         },
         "name": "Water",
         "offsetgroup": "Water",
         "orientation": "v",
         "showlegend": true,
         "textposition": "auto",
         "type": "bar",
         "x": [
          "LATIN AMERICA AND CARIBBEAN"
         ],
         "xaxis": "x",
         "y": [
          2876856982.9227605
         ],
         "yaxis": "y"
        },
        {
         "alignmentgroup": "True",
         "hovertemplate": "Project Name=Fishery<br>Currency of Commitment=USD<br>Credit Status=Repaying<br>Region=%{x}<br>Total Principal Amount=%{y}<extra></extra>",
         "legendgroup": "Fishery",
         "marker": {
          "color": "#FFA15A"
         },
         "name": "Fishery",
         "offsetgroup": "Fishery",
         "orientation": "v",
         "showlegend": true,
         "textposition": "auto",
         "type": "bar",
         "x": [
          "SOUTH ASIA"
         ],
         "xaxis": "x2",
         "y": [
          2876856982.9227605
         ],
         "yaxis": "y2"
        },
        {
         "alignmentgroup": "True",
         "hovertemplate": "Project Name=BOAD<br>Currency of Commitment=USD<br>Credit Status=Repaying<br>Region=%{x}<br>Total Principal Amount=%{y}<extra></extra>",
         "legendgroup": "BOAD",
         "marker": {
          "color": "#19d3f3"
         },
         "name": "BOAD",
         "offsetgroup": "BOAD",
         "orientation": "v",
         "showlegend": true,
         "textposition": "auto",
         "type": "bar",
         "x": [
          "AFRICA"
         ],
         "xaxis": "x2",
         "y": [
          2876856982.9227605
         ],
         "yaxis": "y2"
        },
        {
         "alignmentgroup": "True",
         "hovertemplate": "Project Name=Health<br>Currency of Commitment=USD<br>Credit Status=Repaying<br>Region=%{x}<br>Total Principal Amount=%{y}<extra></extra>",
         "legendgroup": "Health",
         "marker": {
          "color": "#FF6692"
         },
         "name": "Health",
         "offsetgroup": "Health",
         "orientation": "v",
         "showlegend": true,
         "textposition": "auto",
         "type": "bar",
         "x": [
          "SOUTH ASIA"
         ],
         "xaxis": "x2",
         "y": [
          2876856982.9227605
         ],
         "yaxis": "y2"
        },
        {
         "alignmentgroup": "True",
         "hovertemplate": "Project Name=Forests<br>Currency of Commitment=USD<br>Credit Status=Repaying<br>Region=%{x}<br>Total Principal Amount=%{y}<extra></extra>",
         "legendgroup": "Forests",
         "marker": {
          "color": "#B6E880"
         },
         "name": "Forests",
         "offsetgroup": "Forests",
         "orientation": "v",
         "showlegend": true,
         "textposition": "auto",
         "type": "bar",
         "x": [
          "SOUTH ASIA"
         ],
         "xaxis": "x2",
         "y": [
          2876856982.9227605
         ],
         "yaxis": "y2"
        }
       ],
       "layout": {
        "annotations": [
         {
          "font": {},
          "showarrow": false,
          "text": "Credit Status=Fully Repaid",
          "x": 0.24,
          "xanchor": "center",
          "xref": "paper",
          "y": 1,
          "yanchor": "bottom",
          "yref": "paper"
         },
         {
          "font": {},
          "showarrow": false,
          "text": "Credit Status=Repaying",
          "x": 0.74,
          "xanchor": "center",
          "xref": "paper",
          "y": 1,
          "yanchor": "bottom",
          "yref": "paper"
         },
         {
          "font": {},
          "showarrow": false,
          "text": "Currency of Commitment=USD",
          "textangle": 90,
          "x": 0.98,
          "xanchor": "left",
          "xref": "paper",
          "y": 0.5,
          "yanchor": "middle",
          "yref": "paper"
         }
        ],
        "barmode": "group",
        "legend": {
         "title": {
          "text": "Project Name"
         },
         "tracegroupgap": 0
        },
        "margin": {
         "t": 60
        },
        "template": {
         "data": {
          "bar": [
           {
            "error_x": {
             "color": "#2a3f5f"
            },
            "error_y": {
             "color": "#2a3f5f"
            },
            "marker": {
             "line": {
              "color": "#E5ECF6",
              "width": 0.5
             }
            },
            "type": "bar"
           }
          ],
          "barpolar": [
           {
            "marker": {
             "line": {
              "color": "#E5ECF6",
              "width": 0.5
             }
            },
            "type": "barpolar"
           }
          ],
          "carpet": [
           {
            "aaxis": {
             "endlinecolor": "#2a3f5f",
             "gridcolor": "white",
             "linecolor": "white",
             "minorgridcolor": "white",
             "startlinecolor": "#2a3f5f"
            },
            "baxis": {
             "endlinecolor": "#2a3f5f",
             "gridcolor": "white",
             "linecolor": "white",
             "minorgridcolor": "white",
             "startlinecolor": "#2a3f5f"
            },
            "type": "carpet"
           }
          ],
          "choropleth": [
           {
            "colorbar": {
             "outlinewidth": 0,
             "ticks": ""
            },
            "type": "choropleth"
           }
          ],
          "contour": [
           {
            "colorbar": {
             "outlinewidth": 0,
             "ticks": ""
            },
            "colorscale": [
             [
              0,
              "#0d0887"
             ],
             [
              0.1111111111111111,
              "#46039f"
             ],
             [
              0.2222222222222222,
              "#7201a8"
             ],
             [
              0.3333333333333333,
              "#9c179e"
             ],
             [
              0.4444444444444444,
              "#bd3786"
             ],
             [
              0.5555555555555556,
              "#d8576b"
             ],
             [
              0.6666666666666666,
              "#ed7953"
             ],
             [
              0.7777777777777778,
              "#fb9f3a"
             ],
             [
              0.8888888888888888,
              "#fdca26"
             ],
             [
              1,
              "#f0f921"
             ]
            ],
            "type": "contour"
           }
          ],
          "contourcarpet": [
           {
            "colorbar": {
             "outlinewidth": 0,
             "ticks": ""
            },
            "type": "contourcarpet"
           }
          ],
          "heatmap": [
           {
            "colorbar": {
             "outlinewidth": 0,
             "ticks": ""
            },
            "colorscale": [
             [
              0,
              "#0d0887"
             ],
             [
              0.1111111111111111,
              "#46039f"
             ],
             [
              0.2222222222222222,
              "#7201a8"
             ],
             [
              0.3333333333333333,
              "#9c179e"
             ],
             [
              0.4444444444444444,
              "#bd3786"
             ],
             [
              0.5555555555555556,
              "#d8576b"
             ],
             [
              0.6666666666666666,
              "#ed7953"
             ],
             [
              0.7777777777777778,
              "#fb9f3a"
             ],
             [
              0.8888888888888888,
              "#fdca26"
             ],
             [
              1,
              "#f0f921"
             ]
            ],
            "type": "heatmap"
           }
          ],
          "heatmapgl": [
           {
            "colorbar": {
             "outlinewidth": 0,
             "ticks": ""
            },
            "colorscale": [
             [
              0,
              "#0d0887"
             ],
             [
              0.1111111111111111,
              "#46039f"
             ],
             [
              0.2222222222222222,
              "#7201a8"
             ],
             [
              0.3333333333333333,
              "#9c179e"
             ],
             [
              0.4444444444444444,
              "#bd3786"
             ],
             [
              0.5555555555555556,
              "#d8576b"
             ],
             [
              0.6666666666666666,
              "#ed7953"
             ],
             [
              0.7777777777777778,
              "#fb9f3a"
             ],
             [
              0.8888888888888888,
              "#fdca26"
             ],
             [
              1,
              "#f0f921"
             ]
            ],
            "type": "heatmapgl"
           }
          ],
          "histogram": [
           {
            "marker": {
             "colorbar": {
              "outlinewidth": 0,
              "ticks": ""
             }
            },
            "type": "histogram"
           }
          ],
          "histogram2d": [
           {
            "colorbar": {
             "outlinewidth": 0,
             "ticks": ""
            },
            "colorscale": [
             [
              0,
              "#0d0887"
             ],
             [
              0.1111111111111111,
              "#46039f"
             ],
             [
              0.2222222222222222,
              "#7201a8"
             ],
             [
              0.3333333333333333,
              "#9c179e"
             ],
             [
              0.4444444444444444,
              "#bd3786"
             ],
             [
              0.5555555555555556,
              "#d8576b"
             ],
             [
              0.6666666666666666,
              "#ed7953"
             ],
             [
              0.7777777777777778,
              "#fb9f3a"
             ],
             [
              0.8888888888888888,
              "#fdca26"
             ],
             [
              1,
              "#f0f921"
             ]
            ],
            "type": "histogram2d"
           }
          ],
          "histogram2dcontour": [
           {
            "colorbar": {
             "outlinewidth": 0,
             "ticks": ""
            },
            "colorscale": [
             [
              0,
              "#0d0887"
             ],
             [
              0.1111111111111111,
              "#46039f"
             ],
             [
              0.2222222222222222,
              "#7201a8"
             ],
             [
              0.3333333333333333,
              "#9c179e"
             ],
             [
              0.4444444444444444,
              "#bd3786"
             ],
             [
              0.5555555555555556,
              "#d8576b"
             ],
             [
              0.6666666666666666,
              "#ed7953"
             ],
             [
              0.7777777777777778,
              "#fb9f3a"
             ],
             [
              0.8888888888888888,
              "#fdca26"
             ],
             [
              1,
              "#f0f921"
             ]
            ],
            "type": "histogram2dcontour"
           }
          ],
          "mesh3d": [
           {
            "colorbar": {
             "outlinewidth": 0,
             "ticks": ""
            },
            "type": "mesh3d"
           }
          ],
          "parcoords": [
           {
            "line": {
             "colorbar": {
              "outlinewidth": 0,
              "ticks": ""
             }
            },
            "type": "parcoords"
           }
          ],
          "pie": [
           {
            "automargin": true,
            "type": "pie"
           }
          ],
          "scatter": [
           {
            "marker": {
             "colorbar": {
              "outlinewidth": 0,
              "ticks": ""
             }
            },
            "type": "scatter"
           }
          ],
          "scatter3d": [
           {
            "line": {
             "colorbar": {
              "outlinewidth": 0,
              "ticks": ""
             }
            },
            "marker": {
             "colorbar": {
              "outlinewidth": 0,
              "ticks": ""
             }
            },
            "type": "scatter3d"
           }
          ],
          "scattercarpet": [
           {
            "marker": {
             "colorbar": {
              "outlinewidth": 0,
              "ticks": ""
             }
            },
            "type": "scattercarpet"
           }
          ],
          "scattergeo": [
           {
            "marker": {
             "colorbar": {
              "outlinewidth": 0,
              "ticks": ""
             }
            },
            "type": "scattergeo"
           }
          ],
          "scattergl": [
           {
            "marker": {
             "colorbar": {
              "outlinewidth": 0,
              "ticks": ""
             }
            },
            "type": "scattergl"
           }
          ],
          "scattermapbox": [
           {
            "marker": {
             "colorbar": {
              "outlinewidth": 0,
              "ticks": ""
             }
            },
            "type": "scattermapbox"
           }
          ],
          "scatterpolar": [
           {
            "marker": {
             "colorbar": {
              "outlinewidth": 0,
              "ticks": ""
             }
            },
            "type": "scatterpolar"
           }
          ],
          "scatterpolargl": [
           {
            "marker": {
             "colorbar": {
              "outlinewidth": 0,
              "ticks": ""
             }
            },
            "type": "scatterpolargl"
           }
          ],
          "scatterternary": [
           {
            "marker": {
             "colorbar": {
              "outlinewidth": 0,
              "ticks": ""
             }
            },
            "type": "scatterternary"
           }
          ],
          "surface": [
           {
            "colorbar": {
             "outlinewidth": 0,
             "ticks": ""
            },
            "colorscale": [
             [
              0,
              "#0d0887"
             ],
             [
              0.1111111111111111,
              "#46039f"
             ],
             [
              0.2222222222222222,
              "#7201a8"
             ],
             [
              0.3333333333333333,
              "#9c179e"
             ],
             [
              0.4444444444444444,
              "#bd3786"
             ],
             [
              0.5555555555555556,
              "#d8576b"
             ],
             [
              0.6666666666666666,
              "#ed7953"
             ],
             [
              0.7777777777777778,
              "#fb9f3a"
             ],
             [
              0.8888888888888888,
              "#fdca26"
             ],
             [
              1,
              "#f0f921"
             ]
            ],
            "type": "surface"
           }
          ],
          "table": [
           {
            "cells": {
             "fill": {
              "color": "#EBF0F8"
             },
             "line": {
              "color": "white"
             }
            },
            "header": {
             "fill": {
              "color": "#C8D4E3"
             },
             "line": {
              "color": "white"
             }
            },
            "type": "table"
           }
          ]
         },
         "layout": {
          "annotationdefaults": {
           "arrowcolor": "#2a3f5f",
           "arrowhead": 0,
           "arrowwidth": 1
          },
          "coloraxis": {
           "colorbar": {
            "outlinewidth": 0,
            "ticks": ""
           }
          },
          "colorscale": {
           "diverging": [
            [
             0,
             "#8e0152"
            ],
            [
             0.1,
             "#c51b7d"
            ],
            [
             0.2,
             "#de77ae"
            ],
            [
             0.3,
             "#f1b6da"
            ],
            [
             0.4,
             "#fde0ef"
            ],
            [
             0.5,
             "#f7f7f7"
            ],
            [
             0.6,
             "#e6f5d0"
            ],
            [
             0.7,
             "#b8e186"
            ],
            [
             0.8,
             "#7fbc41"
            ],
            [
             0.9,
             "#4d9221"
            ],
            [
             1,
             "#276419"
            ]
           ],
           "sequential": [
            [
             0,
             "#0d0887"
            ],
            [
             0.1111111111111111,
             "#46039f"
            ],
            [
             0.2222222222222222,
             "#7201a8"
            ],
            [
             0.3333333333333333,
             "#9c179e"
            ],
            [
             0.4444444444444444,
             "#bd3786"
            ],
            [
             0.5555555555555556,
             "#d8576b"
            ],
            [
             0.6666666666666666,
             "#ed7953"
            ],
            [
             0.7777777777777778,
             "#fb9f3a"
            ],
            [
             0.8888888888888888,
             "#fdca26"
            ],
            [
             1,
             "#f0f921"
            ]
           ],
           "sequentialminus": [
            [
             0,
             "#0d0887"
            ],
            [
             0.1111111111111111,
             "#46039f"
            ],
            [
             0.2222222222222222,
             "#7201a8"
            ],
            [
             0.3333333333333333,
             "#9c179e"
            ],
            [
             0.4444444444444444,
             "#bd3786"
            ],
            [
             0.5555555555555556,
             "#d8576b"
            ],
            [
             0.6666666666666666,
             "#ed7953"
            ],
            [
             0.7777777777777778,
             "#fb9f3a"
            ],
            [
             0.8888888888888888,
             "#fdca26"
            ],
            [
             1,
             "#f0f921"
            ]
           ]
          },
          "colorway": [
           "#636efa",
           "#EF553B",
           "#00cc96",
           "#ab63fa",
           "#FFA15A",
           "#19d3f3",
           "#FF6692",
           "#B6E880",
           "#FF97FF",
           "#FECB52"
          ],
          "font": {
           "color": "#2a3f5f"
          },
          "geo": {
           "bgcolor": "white",
           "lakecolor": "white",
           "landcolor": "#E5ECF6",
           "showlakes": true,
           "showland": true,
           "subunitcolor": "white"
          },
          "hoverlabel": {
           "align": "left"
          },
          "hovermode": "closest",
          "mapbox": {
           "style": "light"
          },
          "paper_bgcolor": "white",
          "plot_bgcolor": "#E5ECF6",
          "polar": {
           "angularaxis": {
            "gridcolor": "white",
            "linecolor": "white",
            "ticks": ""
           },
           "bgcolor": "#E5ECF6",
           "radialaxis": {
            "gridcolor": "white",
            "linecolor": "white",
            "ticks": ""
           }
          },
          "scene": {
           "xaxis": {
            "backgroundcolor": "#E5ECF6",
            "gridcolor": "white",
            "gridwidth": 2,
            "linecolor": "white",
            "showbackground": true,
            "ticks": "",
            "zerolinecolor": "white"
           },
           "yaxis": {
            "backgroundcolor": "#E5ECF6",
            "gridcolor": "white",
            "gridwidth": 2,
            "linecolor": "white",
            "showbackground": true,
            "ticks": "",
            "zerolinecolor": "white"
           },
           "zaxis": {
            "backgroundcolor": "#E5ECF6",
            "gridcolor": "white",
            "gridwidth": 2,
            "linecolor": "white",
            "showbackground": true,
            "ticks": "",
            "zerolinecolor": "white"
           }
          },
          "shapedefaults": {
           "line": {
            "color": "#2a3f5f"
           }
          },
          "ternary": {
           "aaxis": {
            "gridcolor": "white",
            "linecolor": "white",
            "ticks": ""
           },
           "baxis": {
            "gridcolor": "white",
            "linecolor": "white",
            "ticks": ""
           },
           "bgcolor": "#E5ECF6",
           "caxis": {
            "gridcolor": "white",
            "linecolor": "white",
            "ticks": ""
           }
          },
          "title": {
           "x": 0.05
          },
          "xaxis": {
           "automargin": true,
           "gridcolor": "white",
           "linecolor": "white",
           "ticks": "",
           "title": {
            "standoff": 15
           },
           "zerolinecolor": "white",
           "zerolinewidth": 2
          },
          "yaxis": {
           "automargin": true,
           "gridcolor": "white",
           "linecolor": "white",
           "ticks": "",
           "title": {
            "standoff": 15
           },
           "zerolinecolor": "white",
           "zerolinewidth": 2
          }
         }
        },
        "xaxis": {
         "anchor": "y",
         "domain": [
          0,
          0.48
         ],
         "title": {
          "text": "Region"
         }
        },
        "xaxis2": {
         "anchor": "y2",
         "domain": [
          0.5,
          0.98
         ],
         "matches": "x",
         "title": {
          "text": "Region"
         }
        },
        "yaxis": {
         "anchor": "x",
         "domain": [
          0,
          1
         ],
         "title": {
          "text": "Total Principal Amount"
         }
        },
        "yaxis2": {
         "anchor": "x2",
         "domain": [
          0,
          1
         ],
         "matches": "y",
         "showticklabels": false
        }
       }
      },
      "text/html": [
       "<div>\n",
       "        \n",
       "        \n",
       "            <div id=\"c48222c3-8162-4144-9804-6f27f1bdac42\" class=\"plotly-graph-div\" style=\"height:525px; width:100%;\"></div>\n",
       "            <script type=\"text/javascript\">\n",
       "                require([\"plotly\"], function(Plotly) {\n",
       "                    window.PLOTLYENV=window.PLOTLYENV || {};\n",
       "                    \n",
       "                if (document.getElementById(\"c48222c3-8162-4144-9804-6f27f1bdac42\")) {\n",
       "                    Plotly.newPlot(\n",
       "                        'c48222c3-8162-4144-9804-6f27f1bdac42',\n",
       "                        [{\"alignmentgroup\": \"True\", \"hovertemplate\": \"Project Name=Irrigation<br>Currency of Commitment=USD<br>Credit Status=Fully Repaid<br>Region=%{x}<br>Total Principal Amount=%{y}<extra></extra>\", \"legendgroup\": \"Irrigation\", \"marker\": {\"color\": \"#636efa\"}, \"name\": \"Irrigation\", \"offsetgroup\": \"Irrigation\", \"orientation\": \"v\", \"showlegend\": true, \"textposition\": \"auto\", \"type\": \"bar\", \"x\": [\"AFRICA\", \"AFRICA\"], \"xaxis\": \"x\", \"y\": [2876856982.9227605, 2876856982.9227605], \"yaxis\": \"y\"}, {\"alignmentgroup\": \"True\", \"hovertemplate\": \"Project Name=Irrigation<br>Currency of Commitment=USD<br>Credit Status=Repaying<br>Region=%{x}<br>Total Principal Amount=%{y}<extra></extra>\", \"legendgroup\": \"Irrigation\", \"marker\": {\"color\": \"#636efa\"}, \"name\": \"Irrigation\", \"offsetgroup\": \"Irrigation\", \"orientation\": \"v\", \"showlegend\": false, \"textposition\": \"auto\", \"type\": \"bar\", \"x\": [\"SOUTH ASIA\", \"SOUTH ASIA\", \"AFRICA\", \"SOUTH ASIA\"], \"xaxis\": \"x2\", \"y\": [2876856982.9227605, 2876856982.9227605, 2876856982.9227605, 2876856982.9227605], \"yaxis\": \"y2\"}, {\"alignmentgroup\": \"True\", \"hovertemplate\": \"Project Name=Urbanization<br>Currency of Commitment=USD<br>Credit Status=Fully Repaid<br>Region=%{x}<br>Total Principal Amount=%{y}<extra></extra>\", \"legendgroup\": \"Urbanization\", \"marker\": {\"color\": \"#EF553B\"}, \"name\": \"Urbanization\", \"offsetgroup\": \"Urbanization\", \"orientation\": \"v\", \"showlegend\": true, \"textposition\": \"auto\", \"type\": \"bar\", \"x\": [\"AFRICA\", \"LATIN AMERICA AND CARIBBEAN\"], \"xaxis\": \"x\", \"y\": [2876856982.9227605, 2876856982.9227605], \"yaxis\": \"y\"}, {\"alignmentgroup\": \"True\", \"hovertemplate\": \"Project Name=Livestock<br>Currency of Commitment=USD<br>Credit Status=Fully Repaid<br>Region=%{x}<br>Total Principal Amount=%{y}<extra></extra>\", \"legendgroup\": \"Livestock\", \"marker\": {\"color\": \"#00cc96\"}, \"name\": \"Livestock\", \"offsetgroup\": \"Livestock\", \"orientation\": \"v\", \"showlegend\": true, \"textposition\": \"auto\", \"type\": \"bar\", \"x\": [\"AFRICA\", \"AFRICA\"], \"xaxis\": \"x\", \"y\": [2876856982.9227605, 2876856982.9227605], \"yaxis\": \"y\"}, {\"alignmentgroup\": \"True\", \"hovertemplate\": \"Project Name=Livestock<br>Currency of Commitment=USD<br>Credit Status=Repaying<br>Region=%{x}<br>Total Principal Amount=%{y}<extra></extra>\", \"legendgroup\": \"Livestock\", \"marker\": {\"color\": \"#00cc96\"}, \"name\": \"Livestock\", \"offsetgroup\": \"Livestock\", \"orientation\": \"v\", \"showlegend\": false, \"textposition\": \"auto\", \"type\": \"bar\", \"x\": [\"AFRICA\"], \"xaxis\": \"x2\", \"y\": [2876856982.9227605], \"yaxis\": \"y2\"}, {\"alignmentgroup\": \"True\", \"hovertemplate\": \"Project Name=Energy<br>Currency of Commitment=USD<br>Credit Status=Fully Repaid<br>Region=%{x}<br>Total Principal Amount=%{y}<extra></extra>\", \"legendgroup\": \"Energy\", \"marker\": {\"color\": \"#ab63fa\"}, \"name\": \"Energy\", \"offsetgroup\": \"Energy\", \"orientation\": \"v\", \"showlegend\": true, \"textposition\": \"auto\", \"type\": \"bar\", \"x\": [\"AFRICA\", \"AFRICA\"], \"xaxis\": \"x\", \"y\": [2876856982.9227605, 2876856982.9227605], \"yaxis\": \"y\"}, {\"alignmentgroup\": \"True\", \"hovertemplate\": \"Project Name=Energy<br>Currency of Commitment=USD<br>Credit Status=Repaying<br>Region=%{x}<br>Total Principal Amount=%{y}<extra></extra>\", \"legendgroup\": \"Energy\", \"marker\": {\"color\": \"#ab63fa\"}, \"name\": \"Energy\", \"offsetgroup\": \"Energy\", \"orientation\": \"v\", \"showlegend\": false, \"textposition\": \"auto\", \"type\": \"bar\", \"x\": [\"MIDDLE EAST AND NORTH AFRICA\", \"AFRICA\", \"MIDDLE EAST AND NORTH AFRICA\", \"AFRICA\"], \"xaxis\": \"x2\", \"y\": [2876856982.9227605, 2876856982.9227605, 2876856982.9227605, 2876856982.9227605], \"yaxis\": \"y2\"}, {\"alignmentgroup\": \"True\", \"hovertemplate\": \"Project Name=Agriculture<br>Currency of Commitment=USD<br>Credit Status=Fully Repaid<br>Region=%{x}<br>Total Principal Amount=%{y}<extra></extra>\", \"legendgroup\": \"Agriculture\", \"marker\": {\"color\": \"#FFA15A\"}, \"name\": \"Agriculture\", \"offsetgroup\": \"Agriculture\", \"orientation\": \"v\", \"showlegend\": true, \"textposition\": \"auto\", \"type\": \"bar\", \"x\": [\"AFRICA\", \"AFRICA\"], \"xaxis\": \"x\", \"y\": [2876856982.9227605, 2876856982.9227605], \"yaxis\": \"y\"}, {\"alignmentgroup\": \"True\", \"hovertemplate\": \"Project Name=Agriculture<br>Currency of Commitment=USD<br>Credit Status=Repaying<br>Region=%{x}<br>Total Principal Amount=%{y}<extra></extra>\", \"legendgroup\": \"Agriculture\", \"marker\": {\"color\": \"#FFA15A\"}, \"name\": \"Agriculture\", \"offsetgroup\": \"Agriculture\", \"orientation\": \"v\", \"showlegend\": false, \"textposition\": \"auto\", \"type\": \"bar\", \"x\": [\"EAST ASIA AND PACIFIC\", \"MIDDLE EAST AND NORTH AFRICA\"], \"xaxis\": \"x2\", \"y\": [2876856982.9227605, 2876856982.9227605], \"yaxis\": \"y2\"}, {\"alignmentgroup\": \"True\", \"hovertemplate\": \"Project Name=Education<br>Currency of Commitment=USD<br>Credit Status=Fully Repaid<br>Region=%{x}<br>Total Principal Amount=%{y}<extra></extra>\", \"legendgroup\": \"Education\", \"marker\": {\"color\": \"#19d3f3\"}, \"name\": \"Education\", \"offsetgroup\": \"Education\", \"orientation\": \"v\", \"showlegend\": true, \"textposition\": \"auto\", \"type\": \"bar\", \"x\": [\"AFRICA\", \"AFRICA\"], \"xaxis\": \"x\", \"y\": [2876856982.9227605, 2876856982.9227605], \"yaxis\": \"y\"}, {\"alignmentgroup\": \"True\", \"hovertemplate\": \"Project Name=Education<br>Currency of Commitment=USD<br>Credit Status=Repaying<br>Region=%{x}<br>Total Principal Amount=%{y}<extra></extra>\", \"legendgroup\": \"Education\", \"marker\": {\"color\": \"#19d3f3\"}, \"name\": \"Education\", \"offsetgroup\": \"Education\", \"orientation\": \"v\", \"showlegend\": false, \"textposition\": \"auto\", \"type\": \"bar\", \"x\": [\"MIDDLE EAST AND NORTH AFRICA\"], \"xaxis\": \"x2\", \"y\": [2876856982.9227605], \"yaxis\": \"y2\"}, {\"alignmentgroup\": \"True\", \"hovertemplate\": \"Project Name=Industrialization<br>Currency of Commitment=USD<br>Credit Status=Fully Repaid<br>Region=%{x}<br>Total Principal Amount=%{y}<extra></extra>\", \"legendgroup\": \"Industrialization\", \"marker\": {\"color\": \"#FF6692\"}, \"name\": \"Industrialization\", \"offsetgroup\": \"Industrialization\", \"orientation\": \"v\", \"showlegend\": true, \"textposition\": \"auto\", \"type\": \"bar\", \"x\": [\"AFRICA\", \"AFRICA\"], \"xaxis\": \"x\", \"y\": [2876856982.9227605, 2876856982.9227605], \"yaxis\": \"y\"}, {\"alignmentgroup\": \"True\", \"hovertemplate\": \"Project Name=Roads and Transport<br>Currency of Commitment=USD<br>Credit Status=Fully Repaid<br>Region=%{x}<br>Total Principal Amount=%{y}<extra></extra>\", \"legendgroup\": \"Roads and Transport\", \"marker\": {\"color\": \"#B6E880\"}, \"name\": \"Roads and Transport\", \"offsetgroup\": \"Roads and Transport\", \"orientation\": \"v\", \"showlegend\": true, \"textposition\": \"auto\", \"type\": \"bar\", \"x\": [\"AFRICA\"], \"xaxis\": \"x\", \"y\": [2876856982.9227605], \"yaxis\": \"y\"}, {\"alignmentgroup\": \"True\", \"hovertemplate\": \"Project Name=Roads and Transport<br>Currency of Commitment=USD<br>Credit Status=Repaying<br>Region=%{x}<br>Total Principal Amount=%{y}<extra></extra>\", \"legendgroup\": \"Roads and Transport\", \"marker\": {\"color\": \"#B6E880\"}, \"name\": \"Roads and Transport\", \"offsetgroup\": \"Roads and Transport\", \"orientation\": \"v\", \"showlegend\": false, \"textposition\": \"auto\", \"type\": \"bar\", \"x\": [\"AFRICA\"], \"xaxis\": \"x2\", \"y\": [2876856982.9227605], \"yaxis\": \"y2\"}, {\"alignmentgroup\": \"True\", \"hovertemplate\": \"Project Name=Tourism<br>Currency of Commitment=USD<br>Credit Status=Repaying<br>Region=%{x}<br>Total Principal Amount=%{y}<extra></extra>\", \"legendgroup\": \"Tourism\", \"marker\": {\"color\": \"#FF97FF\"}, \"name\": \"Tourism\", \"offsetgroup\": \"Tourism\", \"orientation\": \"v\", \"showlegend\": true, \"textposition\": \"auto\", \"type\": \"bar\", \"x\": [\"MIDDLE EAST AND NORTH AFRICA\"], \"xaxis\": \"x2\", \"y\": [2876856982.9227605], \"yaxis\": \"y2\"}, {\"alignmentgroup\": \"True\", \"hovertemplate\": \"Project Name=Credit and Finance<br>Currency of Commitment=USD<br>Credit Status=Fully Repaid<br>Region=%{x}<br>Total Principal Amount=%{y}<extra></extra>\", \"legendgroup\": \"Credit and Finance\", \"marker\": {\"color\": \"#FECB52\"}, \"name\": \"Credit and Finance\", \"offsetgroup\": \"Credit and Finance\", \"orientation\": \"v\", \"showlegend\": true, \"textposition\": \"auto\", \"type\": \"bar\", \"x\": [\"AFRICA\"], \"xaxis\": \"x\", \"y\": [2876856982.9227605], \"yaxis\": \"y\"}, {\"alignmentgroup\": \"True\", \"hovertemplate\": \"Project Name=Credit and Finance<br>Currency of Commitment=USD<br>Credit Status=Repaying<br>Region=%{x}<br>Total Principal Amount=%{y}<extra></extra>\", \"legendgroup\": \"Credit and Finance\", \"marker\": {\"color\": \"#FECB52\"}, \"name\": \"Credit and Finance\", \"offsetgroup\": \"Credit and Finance\", \"orientation\": \"v\", \"showlegend\": false, \"textposition\": \"auto\", \"type\": \"bar\", \"x\": [\"EAST ASIA AND PACIFIC\"], \"xaxis\": \"x2\", \"y\": [2876856982.9227605], \"yaxis\": \"y2\"}, {\"alignmentgroup\": \"True\", \"hovertemplate\": \"Project Name=Others<br>Currency of Commitment=USD<br>Credit Status=Fully Repaid<br>Region=%{x}<br>Total Principal Amount=%{y}<extra></extra>\", \"legendgroup\": \"Others\", \"marker\": {\"color\": \"#636efa\"}, \"name\": \"Others\", \"offsetgroup\": \"Others\", \"orientation\": \"v\", \"showlegend\": true, \"textposition\": \"auto\", \"type\": \"bar\", \"x\": [\"EAST ASIA AND PACIFIC\", \"AFRICA\", \"AFRICA\"], \"xaxis\": \"x\", \"y\": [2876856982.9227605, 2876856982.9227605, 2876856982.9227605], \"yaxis\": \"y\"}, {\"alignmentgroup\": \"True\", \"hovertemplate\": \"Project Name=Others<br>Currency of Commitment=USD<br>Credit Status=Repaying<br>Region=%{x}<br>Total Principal Amount=%{y}<extra></extra>\", \"legendgroup\": \"Others\", \"marker\": {\"color\": \"#636efa\"}, \"name\": \"Others\", \"offsetgroup\": \"Others\", \"orientation\": \"v\", \"showlegend\": false, \"textposition\": \"auto\", \"type\": \"bar\", \"x\": [\"EAST ASIA AND PACIFIC\", \"LATIN AMERICA AND CARIBBEAN\", \"AFRICA\", \"SOUTH ASIA\", \"MIDDLE EAST AND NORTH AFRICA\", \"SOUTH ASIA\"], \"xaxis\": \"x2\", \"y\": [2876856982.9227605, 2876856982.9227605, 2876856982.9227605, 2876856982.9227605, 2876856982.9227605, 2876856982.9227605], \"yaxis\": \"y2\"}, {\"alignmentgroup\": \"True\", \"hovertemplate\": \"Project Name=Rural Development<br>Currency of Commitment=USD<br>Credit Status=Fully Repaid<br>Region=%{x}<br>Total Principal Amount=%{y}<extra></extra>\", \"legendgroup\": \"Rural Development\", \"marker\": {\"color\": \"#EF553B\"}, \"name\": \"Rural Development\", \"offsetgroup\": \"Rural Development\", \"orientation\": \"v\", \"showlegend\": true, \"textposition\": \"auto\", \"type\": \"bar\", \"x\": [\"LATIN AMERICA AND CARIBBEAN\", \"AFRICA\"], \"xaxis\": \"x\", \"y\": [2876856982.9227605, 2876856982.9227605], \"yaxis\": \"y\"}, {\"alignmentgroup\": \"True\", \"hovertemplate\": \"Project Name=Rural Development<br>Currency of Commitment=USD<br>Credit Status=Repaying<br>Region=%{x}<br>Total Principal Amount=%{y}<extra></extra>\", \"legendgroup\": \"Rural Development\", \"marker\": {\"color\": \"#EF553B\"}, \"name\": \"Rural Development\", \"offsetgroup\": \"Rural Development\", \"orientation\": \"v\", \"showlegend\": false, \"textposition\": \"auto\", \"type\": \"bar\", \"x\": [\"SOUTH ASIA\", \"EAST ASIA AND PACIFIC\"], \"xaxis\": \"x2\", \"y\": [2876856982.9227605, 2876856982.9227605], \"yaxis\": \"y2\"}, {\"alignmentgroup\": \"True\", \"hovertemplate\": \"Project Name=Mining<br>Currency of Commitment=USD<br>Credit Status=Fully Repaid<br>Region=%{x}<br>Total Principal Amount=%{y}<extra></extra>\", \"legendgroup\": \"Mining\", \"marker\": {\"color\": \"#00cc96\"}, \"name\": \"Mining\", \"offsetgroup\": \"Mining\", \"orientation\": \"v\", \"showlegend\": true, \"textposition\": \"auto\", \"type\": \"bar\", \"x\": [\"LATIN AMERICA AND CARIBBEAN\"], \"xaxis\": \"x\", \"y\": [2876856982.9227605], \"yaxis\": \"y\"}, {\"alignmentgroup\": \"True\", \"hovertemplate\": \"Project Name=Water<br>Currency of Commitment=USD<br>Credit Status=Fully Repaid<br>Region=%{x}<br>Total Principal Amount=%{y}<extra></extra>\", \"legendgroup\": \"Water\", \"marker\": {\"color\": \"#ab63fa\"}, \"name\": \"Water\", \"offsetgroup\": \"Water\", \"orientation\": \"v\", \"showlegend\": true, \"textposition\": \"auto\", \"type\": \"bar\", \"x\": [\"LATIN AMERICA AND CARIBBEAN\"], \"xaxis\": \"x\", \"y\": [2876856982.9227605], \"yaxis\": \"y\"}, {\"alignmentgroup\": \"True\", \"hovertemplate\": \"Project Name=Fishery<br>Currency of Commitment=USD<br>Credit Status=Repaying<br>Region=%{x}<br>Total Principal Amount=%{y}<extra></extra>\", \"legendgroup\": \"Fishery\", \"marker\": {\"color\": \"#FFA15A\"}, \"name\": \"Fishery\", \"offsetgroup\": \"Fishery\", \"orientation\": \"v\", \"showlegend\": true, \"textposition\": \"auto\", \"type\": \"bar\", \"x\": [\"SOUTH ASIA\"], \"xaxis\": \"x2\", \"y\": [2876856982.9227605], \"yaxis\": \"y2\"}, {\"alignmentgroup\": \"True\", \"hovertemplate\": \"Project Name=BOAD<br>Currency of Commitment=USD<br>Credit Status=Repaying<br>Region=%{x}<br>Total Principal Amount=%{y}<extra></extra>\", \"legendgroup\": \"BOAD\", \"marker\": {\"color\": \"#19d3f3\"}, \"name\": \"BOAD\", \"offsetgroup\": \"BOAD\", \"orientation\": \"v\", \"showlegend\": true, \"textposition\": \"auto\", \"type\": \"bar\", \"x\": [\"AFRICA\"], \"xaxis\": \"x2\", \"y\": [2876856982.9227605], \"yaxis\": \"y2\"}, {\"alignmentgroup\": \"True\", \"hovertemplate\": \"Project Name=Health<br>Currency of Commitment=USD<br>Credit Status=Repaying<br>Region=%{x}<br>Total Principal Amount=%{y}<extra></extra>\", \"legendgroup\": \"Health\", \"marker\": {\"color\": \"#FF6692\"}, \"name\": \"Health\", \"offsetgroup\": \"Health\", \"orientation\": \"v\", \"showlegend\": true, \"textposition\": \"auto\", \"type\": \"bar\", \"x\": [\"SOUTH ASIA\"], \"xaxis\": \"x2\", \"y\": [2876856982.9227605], \"yaxis\": \"y2\"}, {\"alignmentgroup\": \"True\", \"hovertemplate\": \"Project Name=Forests<br>Currency of Commitment=USD<br>Credit Status=Repaying<br>Region=%{x}<br>Total Principal Amount=%{y}<extra></extra>\", \"legendgroup\": \"Forests\", \"marker\": {\"color\": \"#B6E880\"}, \"name\": \"Forests\", \"offsetgroup\": \"Forests\", \"orientation\": \"v\", \"showlegend\": true, \"textposition\": \"auto\", \"type\": \"bar\", \"x\": [\"SOUTH ASIA\"], \"xaxis\": \"x2\", \"y\": [2876856982.9227605], \"yaxis\": \"y2\"}],\n",
       "                        {\"annotations\": [{\"font\": {}, \"showarrow\": false, \"text\": \"Credit Status=Fully Repaid\", \"x\": 0.24, \"xanchor\": \"center\", \"xref\": \"paper\", \"y\": 1.0, \"yanchor\": \"bottom\", \"yref\": \"paper\"}, {\"font\": {}, \"showarrow\": false, \"text\": \"Credit Status=Repaying\", \"x\": 0.74, \"xanchor\": \"center\", \"xref\": \"paper\", \"y\": 1.0, \"yanchor\": \"bottom\", \"yref\": \"paper\"}, {\"font\": {}, \"showarrow\": false, \"text\": \"Currency of Commitment=USD\", \"textangle\": 90, \"x\": 0.98, \"xanchor\": \"left\", \"xref\": \"paper\", \"y\": 0.5, \"yanchor\": \"middle\", \"yref\": \"paper\"}], \"barmode\": \"group\", \"legend\": {\"title\": {\"text\": \"Project Name\"}, \"tracegroupgap\": 0}, \"margin\": {\"t\": 60}, \"template\": {\"data\": {\"bar\": [{\"error_x\": {\"color\": \"#2a3f5f\"}, \"error_y\": {\"color\": \"#2a3f5f\"}, \"marker\": {\"line\": {\"color\": \"#E5ECF6\", \"width\": 0.5}}, \"type\": \"bar\"}], \"barpolar\": [{\"marker\": {\"line\": {\"color\": \"#E5ECF6\", \"width\": 0.5}}, \"type\": \"barpolar\"}], \"carpet\": [{\"aaxis\": {\"endlinecolor\": \"#2a3f5f\", \"gridcolor\": \"white\", \"linecolor\": \"white\", \"minorgridcolor\": \"white\", \"startlinecolor\": \"#2a3f5f\"}, \"baxis\": {\"endlinecolor\": \"#2a3f5f\", \"gridcolor\": \"white\", \"linecolor\": \"white\", \"minorgridcolor\": \"white\", \"startlinecolor\": \"#2a3f5f\"}, \"type\": \"carpet\"}], \"choropleth\": [{\"colorbar\": {\"outlinewidth\": 0, \"ticks\": \"\"}, \"type\": \"choropleth\"}], \"contour\": [{\"colorbar\": {\"outlinewidth\": 0, \"ticks\": \"\"}, \"colorscale\": [[0.0, \"#0d0887\"], [0.1111111111111111, \"#46039f\"], [0.2222222222222222, \"#7201a8\"], [0.3333333333333333, \"#9c179e\"], [0.4444444444444444, \"#bd3786\"], [0.5555555555555556, \"#d8576b\"], [0.6666666666666666, \"#ed7953\"], [0.7777777777777778, \"#fb9f3a\"], [0.8888888888888888, \"#fdca26\"], [1.0, \"#f0f921\"]], \"type\": \"contour\"}], \"contourcarpet\": [{\"colorbar\": {\"outlinewidth\": 0, \"ticks\": \"\"}, \"type\": \"contourcarpet\"}], \"heatmap\": [{\"colorbar\": {\"outlinewidth\": 0, \"ticks\": \"\"}, \"colorscale\": [[0.0, \"#0d0887\"], [0.1111111111111111, \"#46039f\"], [0.2222222222222222, \"#7201a8\"], [0.3333333333333333, \"#9c179e\"], [0.4444444444444444, \"#bd3786\"], [0.5555555555555556, \"#d8576b\"], [0.6666666666666666, \"#ed7953\"], [0.7777777777777778, \"#fb9f3a\"], [0.8888888888888888, \"#fdca26\"], [1.0, \"#f0f921\"]], \"type\": \"heatmap\"}], \"heatmapgl\": [{\"colorbar\": {\"outlinewidth\": 0, \"ticks\": \"\"}, \"colorscale\": [[0.0, \"#0d0887\"], [0.1111111111111111, \"#46039f\"], [0.2222222222222222, \"#7201a8\"], [0.3333333333333333, \"#9c179e\"], [0.4444444444444444, \"#bd3786\"], [0.5555555555555556, \"#d8576b\"], [0.6666666666666666, \"#ed7953\"], [0.7777777777777778, \"#fb9f3a\"], [0.8888888888888888, \"#fdca26\"], [1.0, \"#f0f921\"]], \"type\": \"heatmapgl\"}], \"histogram\": [{\"marker\": {\"colorbar\": {\"outlinewidth\": 0, \"ticks\": \"\"}}, \"type\": \"histogram\"}], \"histogram2d\": [{\"colorbar\": {\"outlinewidth\": 0, \"ticks\": \"\"}, \"colorscale\": [[0.0, \"#0d0887\"], [0.1111111111111111, \"#46039f\"], [0.2222222222222222, \"#7201a8\"], [0.3333333333333333, \"#9c179e\"], [0.4444444444444444, \"#bd3786\"], [0.5555555555555556, \"#d8576b\"], [0.6666666666666666, \"#ed7953\"], [0.7777777777777778, \"#fb9f3a\"], [0.8888888888888888, \"#fdca26\"], [1.0, \"#f0f921\"]], \"type\": \"histogram2d\"}], \"histogram2dcontour\": [{\"colorbar\": {\"outlinewidth\": 0, \"ticks\": \"\"}, \"colorscale\": [[0.0, \"#0d0887\"], [0.1111111111111111, \"#46039f\"], [0.2222222222222222, \"#7201a8\"], [0.3333333333333333, \"#9c179e\"], [0.4444444444444444, \"#bd3786\"], [0.5555555555555556, \"#d8576b\"], [0.6666666666666666, \"#ed7953\"], [0.7777777777777778, \"#fb9f3a\"], [0.8888888888888888, \"#fdca26\"], [1.0, \"#f0f921\"]], \"type\": \"histogram2dcontour\"}], \"mesh3d\": [{\"colorbar\": {\"outlinewidth\": 0, \"ticks\": \"\"}, \"type\": \"mesh3d\"}], \"parcoords\": [{\"line\": {\"colorbar\": {\"outlinewidth\": 0, \"ticks\": \"\"}}, \"type\": \"parcoords\"}], \"pie\": [{\"automargin\": true, \"type\": \"pie\"}], \"scatter\": [{\"marker\": {\"colorbar\": {\"outlinewidth\": 0, \"ticks\": \"\"}}, \"type\": \"scatter\"}], \"scatter3d\": [{\"line\": {\"colorbar\": {\"outlinewidth\": 0, \"ticks\": \"\"}}, \"marker\": {\"colorbar\": {\"outlinewidth\": 0, \"ticks\": \"\"}}, \"type\": \"scatter3d\"}], \"scattercarpet\": [{\"marker\": {\"colorbar\": {\"outlinewidth\": 0, \"ticks\": \"\"}}, \"type\": \"scattercarpet\"}], \"scattergeo\": [{\"marker\": {\"colorbar\": {\"outlinewidth\": 0, \"ticks\": \"\"}}, \"type\": \"scattergeo\"}], \"scattergl\": [{\"marker\": {\"colorbar\": {\"outlinewidth\": 0, \"ticks\": \"\"}}, \"type\": \"scattergl\"}], \"scattermapbox\": [{\"marker\": {\"colorbar\": {\"outlinewidth\": 0, \"ticks\": \"\"}}, \"type\": \"scattermapbox\"}], \"scatterpolar\": [{\"marker\": {\"colorbar\": {\"outlinewidth\": 0, \"ticks\": \"\"}}, \"type\": \"scatterpolar\"}], \"scatterpolargl\": [{\"marker\": {\"colorbar\": {\"outlinewidth\": 0, \"ticks\": \"\"}}, \"type\": \"scatterpolargl\"}], \"scatterternary\": [{\"marker\": {\"colorbar\": {\"outlinewidth\": 0, \"ticks\": \"\"}}, \"type\": \"scatterternary\"}], \"surface\": [{\"colorbar\": {\"outlinewidth\": 0, \"ticks\": \"\"}, \"colorscale\": [[0.0, \"#0d0887\"], [0.1111111111111111, \"#46039f\"], [0.2222222222222222, \"#7201a8\"], [0.3333333333333333, \"#9c179e\"], [0.4444444444444444, \"#bd3786\"], [0.5555555555555556, \"#d8576b\"], [0.6666666666666666, \"#ed7953\"], [0.7777777777777778, \"#fb9f3a\"], [0.8888888888888888, \"#fdca26\"], [1.0, \"#f0f921\"]], \"type\": \"surface\"}], \"table\": [{\"cells\": {\"fill\": {\"color\": \"#EBF0F8\"}, \"line\": {\"color\": \"white\"}}, \"header\": {\"fill\": {\"color\": \"#C8D4E3\"}, \"line\": {\"color\": \"white\"}}, \"type\": \"table\"}]}, \"layout\": {\"annotationdefaults\": {\"arrowcolor\": \"#2a3f5f\", \"arrowhead\": 0, \"arrowwidth\": 1}, \"coloraxis\": {\"colorbar\": {\"outlinewidth\": 0, \"ticks\": \"\"}}, \"colorscale\": {\"diverging\": [[0, \"#8e0152\"], [0.1, \"#c51b7d\"], [0.2, \"#de77ae\"], [0.3, \"#f1b6da\"], [0.4, \"#fde0ef\"], [0.5, \"#f7f7f7\"], [0.6, \"#e6f5d0\"], [0.7, \"#b8e186\"], [0.8, \"#7fbc41\"], [0.9, \"#4d9221\"], [1, \"#276419\"]], \"sequential\": [[0.0, \"#0d0887\"], [0.1111111111111111, \"#46039f\"], [0.2222222222222222, \"#7201a8\"], [0.3333333333333333, \"#9c179e\"], [0.4444444444444444, \"#bd3786\"], [0.5555555555555556, \"#d8576b\"], [0.6666666666666666, \"#ed7953\"], [0.7777777777777778, \"#fb9f3a\"], [0.8888888888888888, \"#fdca26\"], [1.0, \"#f0f921\"]], \"sequentialminus\": [[0.0, \"#0d0887\"], [0.1111111111111111, \"#46039f\"], [0.2222222222222222, \"#7201a8\"], [0.3333333333333333, \"#9c179e\"], [0.4444444444444444, \"#bd3786\"], [0.5555555555555556, \"#d8576b\"], [0.6666666666666666, \"#ed7953\"], [0.7777777777777778, \"#fb9f3a\"], [0.8888888888888888, \"#fdca26\"], [1.0, \"#f0f921\"]]}, \"colorway\": [\"#636efa\", \"#EF553B\", \"#00cc96\", \"#ab63fa\", \"#FFA15A\", \"#19d3f3\", \"#FF6692\", \"#B6E880\", \"#FF97FF\", \"#FECB52\"], \"font\": {\"color\": \"#2a3f5f\"}, \"geo\": {\"bgcolor\": \"white\", \"lakecolor\": \"white\", \"landcolor\": \"#E5ECF6\", \"showlakes\": true, \"showland\": true, \"subunitcolor\": \"white\"}, \"hoverlabel\": {\"align\": \"left\"}, \"hovermode\": \"closest\", \"mapbox\": {\"style\": \"light\"}, \"paper_bgcolor\": \"white\", \"plot_bgcolor\": \"#E5ECF6\", \"polar\": {\"angularaxis\": {\"gridcolor\": \"white\", \"linecolor\": \"white\", \"ticks\": \"\"}, \"bgcolor\": \"#E5ECF6\", \"radialaxis\": {\"gridcolor\": \"white\", \"linecolor\": \"white\", \"ticks\": \"\"}}, \"scene\": {\"xaxis\": {\"backgroundcolor\": \"#E5ECF6\", \"gridcolor\": \"white\", \"gridwidth\": 2, \"linecolor\": \"white\", \"showbackground\": true, \"ticks\": \"\", \"zerolinecolor\": \"white\"}, \"yaxis\": {\"backgroundcolor\": \"#E5ECF6\", \"gridcolor\": \"white\", \"gridwidth\": 2, \"linecolor\": \"white\", \"showbackground\": true, \"ticks\": \"\", \"zerolinecolor\": \"white\"}, \"zaxis\": {\"backgroundcolor\": \"#E5ECF6\", \"gridcolor\": \"white\", \"gridwidth\": 2, \"linecolor\": \"white\", \"showbackground\": true, \"ticks\": \"\", \"zerolinecolor\": \"white\"}}, \"shapedefaults\": {\"line\": {\"color\": \"#2a3f5f\"}}, \"ternary\": {\"aaxis\": {\"gridcolor\": \"white\", \"linecolor\": \"white\", \"ticks\": \"\"}, \"baxis\": {\"gridcolor\": \"white\", \"linecolor\": \"white\", \"ticks\": \"\"}, \"bgcolor\": \"#E5ECF6\", \"caxis\": {\"gridcolor\": \"white\", \"linecolor\": \"white\", \"ticks\": \"\"}}, \"title\": {\"x\": 0.05}, \"xaxis\": {\"automargin\": true, \"gridcolor\": \"white\", \"linecolor\": \"white\", \"ticks\": \"\", \"title\": {\"standoff\": 15}, \"zerolinecolor\": \"white\", \"zerolinewidth\": 2}, \"yaxis\": {\"automargin\": true, \"gridcolor\": \"white\", \"linecolor\": \"white\", \"ticks\": \"\", \"title\": {\"standoff\": 15}, \"zerolinecolor\": \"white\", \"zerolinewidth\": 2}}}, \"xaxis\": {\"anchor\": \"y\", \"domain\": [0.0, 0.48], \"title\": {\"text\": \"Region\"}}, \"xaxis2\": {\"anchor\": \"y2\", \"domain\": [0.5, 0.98], \"matches\": \"x\", \"title\": {\"text\": \"Region\"}}, \"yaxis\": {\"anchor\": \"x\", \"domain\": [0.0, 1.0], \"title\": {\"text\": \"Total Principal Amount\"}}, \"yaxis2\": {\"anchor\": \"x2\", \"domain\": [0.0, 1.0], \"matches\": \"y\", \"showticklabels\": false}},\n",
       "                        {\"responsive\": true}\n",
       "                    ).then(function(){\n",
       "                            \n",
       "var gd = document.getElementById('c48222c3-8162-4144-9804-6f27f1bdac42');\n",
       "var x = new MutationObserver(function (mutations, observer) {{\n",
       "        var display = window.getComputedStyle(gd).display;\n",
       "        if (!display || display === 'none') {{\n",
       "            console.log([gd, 'removed!']);\n",
       "            Plotly.purge(gd);\n",
       "            observer.disconnect();\n",
       "        }}\n",
       "}});\n",
       "\n",
       "// Listen for the removal of the full notebook cells\n",
       "var notebookContainer = gd.closest('#notebook-container');\n",
       "if (notebookContainer) {{\n",
       "    x.observe(notebookContainer, {childList: true});\n",
       "}}\n",
       "\n",
       "// Listen for the clearing of the current output cell\n",
       "var outputEl = gd.closest('.output');\n",
       "if (outputEl) {{\n",
       "    x.observe(outputEl, {childList: true});\n",
       "}}\n",
       "\n",
       "                        })\n",
       "                };\n",
       "                });\n",
       "            </script>\n",
       "        </div>"
      ]
     },
     "metadata": {},
     "output_type": "display_data"
    }
   ],
   "source": [
    "import plotly.express as px\n",
    "fig = px.bar(df_head, x=\"Region\", y=\"Total Principal Amount\", \n",
    "             color=\"Project Name\", barmode=\"group\",\n",
    "             facet_row=\"Currency of Commitment\", \n",
    "             facet_col=\"Credit Status\",\n",
    "             )\n",
    "fig.show()"
   ]
  },
  {
   "cell_type": "markdown",
   "metadata": {},
   "source": [
    "#### Percentage of total Amount Borrowed in Africa per Country independent of credit status"
   ]
  },
  {
   "cell_type": "code",
   "execution_count": 573,
   "metadata": {},
   "outputs": [],
   "source": [
    "df['Total Principal Amount'] = df['Original Principal Amount'].sum()"
   ]
  },
  {
   "cell_type": "code",
   "execution_count": 574,
   "metadata": {},
   "outputs": [
    {
     "data": {
      "application/vnd.plotly.v1+json": {
       "config": {
        "plotlyServerURL": "https://plot.ly"
       },
       "data": [
        {
         "domain": {
          "x": [
           0,
           1
          ],
          "y": [
           0,
           1
          ]
         },
         "hovertemplate": "Country=%{label}<br>Total Principal Amount=%{value}<extra></extra>",
         "labels": [
          "Chad",
          "Chad",
          "Burkina Faso",
          "Sudan",
          "Congo, Democratic Republic of",
          "Tanzania",
          "Chad",
          "Tanzania",
          "Tanzania",
          "Sudan",
          "Niger",
          "Congo, Democratic Republic of",
          "Somalia",
          "Togo",
          "Kenya",
          "Western Africa",
          "Somalia",
          "Mali",
          "Senegal",
          "Malawi",
          "Benin",
          "Sudan",
          "Ghana",
          "Cameroon",
          "Tanzania",
          "Togo",
          "Sudan",
          "Niger",
          "Comoros",
          "Tanzania",
          "Congo, Democratic Republic of",
          "Kenya",
          "Tanzania",
          "Tanzania",
          "Mauritania",
          "Tanzania",
          "Liberia",
          "Congo, Democratic Republic of",
          "Burkina Faso",
          "Senegal",
          "Mali",
          "Somalia",
          "Kenya",
          "Sudan",
          "Rwanda",
          "Benin",
          "Benin",
          "Sierra Leone",
          "Senegal",
          "Togo",
          "Lesotho",
          "Niger",
          "Madagascar",
          "Burkina Faso",
          "Burundi",
          "Cameroon",
          "Togo",
          "Ghana",
          "Tanzania",
          "Mauritania",
          "Senegal",
          "Congo, Republic of",
          "Congo, Democratic Republic of",
          "Malawi",
          "Comoros",
          "Burundi",
          "Zambia",
          "Comoros",
          "Zambia",
          "Mali",
          "Sudan",
          "Tanzania",
          "Madagascar",
          "Mauritania",
          "Rwanda",
          "Burkina Faso",
          "Congo, Democratic Republic of",
          "Niger",
          "Niger",
          "Tanzania",
          "Mauritania",
          "Sudan",
          "Guinea",
          "Burkina Faso",
          "Kenya",
          "Kenya",
          "Congo, Democratic Republic of",
          "Benin",
          "Uganda",
          "Rwanda",
          "Zambia",
          "Central African Republic",
          "Rwanda",
          "Congo, Democratic Republic of",
          "Sierra Leone",
          "Gambia, The",
          "Togo",
          "Congo, Democratic Republic of",
          "Ethiopia",
          "Mali",
          "Rwanda",
          "Burkina Faso",
          "Burkina Faso",
          "Congo, Democratic Republic of",
          "Zimbabwe",
          "Mauritania",
          "Burkina Faso",
          "Madagascar",
          "Togo",
          "Equatorial Guinea",
          "Liberia",
          "Mali",
          "Niger",
          "Senegal",
          "Tanzania",
          "Benin",
          "Cabo Verde",
          "Senegal",
          "Somalia",
          "Congo, Democratic Republic of",
          "Uganda",
          "Uganda",
          "Malawi",
          "Western Africa",
          "Guinea-Bissau",
          "Congo, Democratic Republic of",
          "Congo, Democratic Republic of",
          "Madagascar",
          "Guinea",
          "Ghana",
          "Malawi",
          "Rwanda",
          "Rwanda",
          "Malawi",
          "Sierra Leone",
          "Togo",
          "Burundi",
          "Central African Republic",
          "Senegal",
          "Zambia",
          "Ethiopia",
          "Zimbabwe",
          "Tanzania",
          "Tanzania",
          "Ghana",
          "Central African Republic",
          "Comoros",
          "Guinea",
          "Ethiopia",
          "Kenya",
          "Sudan",
          "Kenya",
          "Madagascar",
          "Guinea-Bissau",
          "Niger",
          "Senegal",
          "Mali",
          "Ethiopia",
          "Tanzania",
          "Senegal",
          "Comoros",
          "Congo, Democratic Republic of",
          "Mauritania",
          "Mali",
          "Burundi",
          "Rwanda",
          "Congo, Democratic Republic of",
          "Mali",
          "Malawi",
          "Malawi",
          "Ethiopia",
          "Mali",
          "Madagascar",
          "Uganda",
          "Ghana",
          "Ghana",
          "Zambia",
          "Guinea",
          "Mali",
          "Gambia, The",
          "Uganda",
          "Ghana",
          "Liberia",
          "Senegal",
          "Liberia",
          "Sudan",
          "Sudan",
          "Burundi",
          "Guinea",
          "Senegal",
          "Senegal",
          "Somalia",
          "Somalia",
          "Guinea",
          "Guinea",
          "Comoros",
          "Guinea-Bissau",
          "Uganda",
          "Congo, Democratic Republic of",
          "Gambia, The",
          "Lesotho",
          "Burkina Faso",
          "Benin",
          "Kenya",
          "Equatorial Guinea",
          "Congo, Democratic Republic of",
          "Niger",
          "Rwanda",
          "Madagascar",
          "Ghana",
          "Sierra Leone",
          "Benin",
          "Benin",
          "Sudan",
          "Benin",
          "Togo",
          "Ethiopia",
          "Uganda",
          "Niger",
          "Lesotho",
          "Sudan",
          "Guinea-Bissau",
          "Congo, Democratic Republic of",
          "Ethiopia",
          "Ethiopia",
          "Ethiopia",
          "Tanzania",
          "Sudan",
          "Madagascar",
          "Madagascar",
          "Malawi",
          "Zambia",
          "Benin",
          "Guinea-Bissau",
          "Tanzania",
          "Somalia",
          "Uganda",
          "Congo, Democratic Republic of",
          "Madagascar",
          "Zambia",
          "Rwanda",
          "Equatorial Guinea",
          "Malawi",
          "Burkina Faso",
          "Senegal",
          "Guinea",
          "Uganda",
          "Uganda",
          "Liberia",
          "Ghana",
          "Rwanda",
          "Kenya",
          "Mauritania",
          "Togo",
          "Mauritania",
          "Mauritania",
          "Ghana",
          "Zambia",
          "Cabo Verde",
          "Central African Republic",
          "Burundi",
          "Lesotho",
          "Madagascar",
          "Sao Tome and Principe",
          "Burundi",
          "Guinea",
          "Mali",
          "Burkina Faso",
          "Togo",
          "Ghana",
          "Tanzania",
          "Burkina Faso",
          "Congo, Democratic Republic of",
          "Congo, Democratic Republic of",
          "Mozambique",
          "Somalia",
          "Sudan",
          "Niger",
          "Burundi",
          "Sudan",
          "Burundi",
          "Malawi",
          "Zambia",
          "Ghana",
          "Mali",
          "Zambia",
          "Senegal",
          "Guinea",
          "Guinea",
          "Guinea",
          "Senegal",
          "Sudan",
          "Sudan",
          "Rwanda",
          "Malawi",
          "Somalia",
          "Rwanda",
          "Ghana",
          "Mali",
          "Mauritania",
          "Guinea",
          "Madagascar",
          "Zambia",
          "Niger",
          "Rwanda",
          "Ghana",
          "Kenya",
          "Ghana",
          "Kenya",
          "Ethiopia",
          "Mali",
          "Rwanda",
          "Zambia",
          "Central African Republic",
          "Gambia, The",
          "Rwanda",
          "Congo, Democratic Republic of",
          "Tanzania",
          "Tanzania",
          "Equatorial Guinea",
          "Madagascar",
          "Madagascar",
          "Sierra Leone",
          "Ethiopia",
          "Niger",
          "Congo, Democratic Republic of",
          "Madagascar",
          "Senegal",
          "Somalia",
          "Congo, Democratic Republic of",
          "Senegal",
          "Chad",
          "Kenya",
          "Kenya",
          "Zambia",
          "Benin",
          "Ethiopia",
          "Somalia",
          "Gambia, The",
          "Guinea",
          "Chad",
          "Central African Republic",
          "Senegal",
          "Kenya",
          "Niger",
          "Tanzania",
          "Tanzania",
          "Malawi",
          "Zambia",
          "Ghana",
          "Togo",
          "Zambia",
          "Lesotho",
          "Benin",
          "Comoros",
          "Madagascar",
          "Kenya",
          "Ghana",
          "Gambia, The",
          "Congo, Democratic Republic of",
          "Ethiopia",
          "Malawi",
          "Malawi",
          "Somalia",
          "Chad",
          "Ghana",
          "Ghana",
          "Ethiopia",
          "Rwanda",
          "Madagascar",
          "Sudan",
          "Sudan",
          "Congo, Democratic Republic of",
          "Congo, Democratic Republic of",
          "Somalia",
          "Burundi",
          "Rwanda",
          "Equatorial Guinea",
          "Guinea-Bissau",
          "Guinea-Bissau",
          "Guinea-Bissau",
          "Ghana",
          "Senegal",
          "Senegal",
          "Uganda",
          "Madagascar",
          "Burundi",
          "Mozambique",
          "Benin",
          "Togo",
          "Tanzania",
          "Rwanda",
          "Mauritania",
          "Guinea",
          "Ghana",
          "Kenya",
          "Uganda",
          "Sao Tome and Principe",
          "Sao Tome and Principe",
          "Congo, Democratic Republic of",
          "Congo, Democratic Republic of",
          "Niger",
          "Madagascar",
          "Central African Republic",
          "Guinea",
          "Niger",
          "Congo, Democratic Republic of",
          "Mozambique",
          "Togo",
          "Uganda",
          "Uganda",
          "Uganda",
          "Uganda",
          "Ghana",
          "Kenya",
          "Somalia",
          "Malawi",
          "Cabo Verde",
          "Ghana",
          "Senegal",
          "Somalia",
          "Burundi",
          "Ghana",
          "Togo",
          "Burundi",
          "Central African Republic",
          "Guinea",
          "Mauritania",
          "Sudan",
          "Sudan",
          "Senegal",
          "Uganda",
          "Chad",
          "Ethiopia",
          "Ghana",
          "Benin",
          "Madagascar",
          "Malawi",
          "Niger",
          "Burundi",
          "Senegal",
          "Burundi",
          "Niger",
          "Tanzania",
          "Togo",
          "Togo",
          "Togo",
          "Uganda",
          "Sudan",
          "Burkina Faso",
          "Lesotho",
          "Lesotho",
          "Chad",
          "Kenya",
          "Madagascar",
          "Mali",
          "Mozambique",
          "Senegal",
          "Ghana",
          "Ghana",
          "Chad",
          "Ethiopia",
          "Guinea-Bissau",
          "Guinea",
          "Central African Republic",
          "Burundi",
          "Malawi",
          "Malawi",
          "Malawi",
          "Malawi",
          "Ghana",
          "Guinea",
          "Guinea",
          "Kenya",
          "Kenya",
          "Madagascar",
          "Togo",
          "Uganda",
          "Guinea-Bissau",
          "Mali",
          "Mali",
          "Congo, Democratic Republic of",
          "Madagascar",
          "Madagascar",
          "Madagascar",
          "Madagascar",
          "Madagascar",
          "Madagascar",
          "Mauritania",
          "Chad",
          "Ghana",
          "Mozambique",
          "Chad",
          "Uganda",
          "Congo, Democratic Republic of",
          "Cabo Verde",
          "Guinea",
          "Ethiopia",
          "Somalia",
          "Congo, Democratic Republic of",
          "Benin",
          "Sudan",
          "Uganda",
          "Guinea",
          "Uganda",
          "Malawi",
          "Madagascar",
          "Burundi",
          "Tanzania",
          "Tanzania",
          "Tanzania",
          "Tanzania",
          "Central African Republic",
          "Kenya",
          "Kenya",
          "Gambia, The",
          "Ghana",
          "Central African Republic",
          "Burkina Faso",
          "Guinea",
          "Uganda",
          "Mozambique",
          "Malawi",
          "Uganda",
          "Senegal",
          "Togo",
          "Tanzania",
          "Guinea",
          "Ghana",
          "Mali",
          "Ethiopia",
          "Ghana",
          "Ghana",
          "Ghana",
          "Chad",
          "Sudan",
          "Togo",
          "Guinea-Bissau",
          "Guinea-Bissau",
          "Guinea-Bissau",
          "Mozambique",
          "Benin",
          "Burundi",
          "Rwanda",
          "Congo, Democratic Republic of",
          "Somalia",
          "Benin",
          "Gambia, The",
          "Mozambique",
          "Nigeria",
          "Malawi",
          "Sao Tome and Principe",
          "Ghana",
          "Ghana",
          "Rwanda",
          "Madagascar",
          "Kenya",
          "Kenya",
          "Kenya",
          "Tanzania",
          "Congo, Democratic Republic of",
          "Mali",
          "Togo",
          "Kenya",
          "Lesotho",
          "Kenya",
          "Ghana",
          "Kenya",
          "Somalia",
          "Mozambique",
          "Mozambique",
          "Burkina Faso",
          "Burkina Faso",
          "Guinea",
          "Malawi",
          "Sudan",
          "Guinea-Bissau",
          "Senegal",
          "Senegal",
          "Mozambique",
          "Mozambique",
          "Malawi",
          "Benin",
          "Uganda",
          "Uganda",
          "Uganda",
          "Uganda",
          "Western Africa",
          "Senegal",
          "Senegal",
          "Senegal",
          "Senegal",
          "Mauritania",
          "Madagascar",
          "Tanzania",
          "Congo, Democratic Republic of",
          "Tanzania",
          "Ethiopia",
          "Madagascar",
          "Burundi",
          "Guinea",
          "Senegal",
          "Senegal",
          "Ghana",
          "Kenya",
          "Somalia",
          "Guinea",
          "Rwanda",
          "Tanzania",
          "Tanzania",
          "Tanzania",
          "Madagascar",
          "Malawi",
          "Malawi",
          "Niger",
          "Burundi",
          "Uganda",
          "Madagascar",
          "Central African Republic",
          "Rwanda",
          "Rwanda",
          "Tanzania",
          "Central African Republic",
          "Nigeria",
          "Ghana",
          "Gambia, The",
          "Gambia, The",
          "Kenya",
          "Guinea",
          "Tanzania",
          "Madagascar",
          "Guinea",
          "Chad",
          "Chad",
          "Ghana",
          "Ethiopia",
          "Central African Republic",
          "Mali",
          "Sao Tome and Principe",
          "Mauritania",
          "Mauritania",
          "Mauritania",
          "Mauritania",
          "Mauritania",
          "Mauritania",
          "Togo",
          "Togo",
          "Mozambique",
          "Uganda",
          "Congo, Democratic Republic of",
          "Ghana",
          "Equatorial Guinea",
          "Chad",
          "Mali",
          "Rwanda",
          "Uganda",
          "Nigeria",
          "Ghana",
          "Ghana",
          "Togo",
          "Lesotho",
          "Congo, Democratic Republic of",
          "Kenya",
          "Kenya",
          "Kenya",
          "Kenya",
          "Mozambique",
          "Tanzania",
          "Kenya",
          "Uganda",
          "Comoros",
          "Niger",
          "Niger",
          "Togo",
          "Congo, Democratic Republic of",
          "Zambia",
          "Zambia",
          "Zambia",
          "Mali",
          "Malawi",
          "Malawi",
          "Ghana",
          "Malawi",
          "Rwanda",
          "Burkina Faso",
          "Burundi",
          "Mali",
          "Ghana",
          "Ghana",
          "Ghana",
          "Guinea-Bissau",
          "Nigeria",
          "Madagascar",
          "Burkina Faso",
          "Ghana",
          "Madagascar",
          "Central African Republic",
          "Senegal",
          "Nigeria",
          "Senegal",
          "Tanzania",
          "Uganda",
          "Uganda",
          "Zambia",
          "Comoros",
          "Rwanda",
          "Rwanda",
          "Rwanda",
          "Zambia",
          "Angola",
          "Central African Republic",
          "Ghana",
          "Sao Tome and Principe",
          "Burkina Faso",
          "Burkina Faso",
          "Benin",
          "Benin",
          "Benin",
          "Benin",
          "Lesotho",
          "Burundi",
          "Angola",
          "Sudan",
          "Tanzania",
          "Congo, Democratic Republic of",
          "Congo, Democratic Republic of",
          "Kenya",
          "Kenya",
          "Kenya",
          "Cote d'Ivoire",
          "Cote d'Ivoire",
          "Tanzania",
          "Tanzania",
          "Kenya",
          "Kenya",
          "Mauritania",
          "Uganda",
          "Uganda",
          "Uganda",
          "Ghana",
          "Ghana",
          "Cote d'Ivoire",
          "Cote d'Ivoire",
          "Cote d'Ivoire",
          "Cote d'Ivoire",
          "Cote d'Ivoire",
          "Sao Tome and Principe",
          "Angola",
          "Tanzania",
          "Zimbabwe",
          "Burkina Faso",
          "Kenya",
          "Kenya",
          "Tanzania",
          "Mozambique",
          "Benin",
          "Guinea-Bissau",
          "Sao Tome and Principe",
          "Benin",
          "Ghana",
          "Ghana",
          "Ghana",
          "Ghana",
          "Equatorial Guinea",
          "Ghana",
          "Ethiopia",
          "Sierra Leone",
          "Sierra Leone",
          "Sierra Leone",
          "Nigeria",
          "Niger",
          "Sierra Leone",
          "Burundi",
          "Niger",
          "Uganda",
          "Cote d'Ivoire",
          "Benin",
          "Togo",
          "Central African Republic",
          "Senegal",
          "Mali",
          "Mali",
          "Mali",
          "Nigeria",
          "Mozambique",
          "Angola",
          "Burundi",
          "Cabo Verde",
          "Burkina Faso",
          "Malawi",
          "Burkina Faso",
          "Madagascar",
          "Mozambique",
          "Angola",
          "Malawi",
          "Rwanda",
          "Mauritania",
          "Mali",
          "Malawi",
          "Malawi",
          "Malawi",
          "Malawi",
          "Malawi",
          "Guinea",
          "Zimbabwe",
          "Lesotho",
          "Zambia",
          "Zambia",
          "Zambia",
          "Zambia",
          "Guinea",
          "Equatorial Guinea",
          "Tanzania",
          "Burkina Faso",
          "Nigeria",
          "Guinea",
          "Uganda",
          "Burundi",
          "Angola",
          "Angola",
          "Zambia",
          "Uganda",
          "Ghana",
          "Ghana",
          "Zambia",
          "Nigeria",
          "Mali",
          "Sierra Leone",
          "Mozambique",
          "Mozambique",
          "Ethiopia",
          "Kenya",
          "Ghana",
          "Guinea",
          "Kenya",
          "Uganda",
          "Sierra Leone",
          "Gambia, The",
          "Mozambique",
          "Mauritania",
          "Rwanda",
          "Madagascar",
          "Kenya",
          "Guinea-Bissau",
          "Cabo Verde",
          "Cabo Verde",
          "Ghana",
          "Burkina Faso",
          "Senegal",
          "Madagascar",
          "Eritrea",
          "Mozambique",
          "Nigeria",
          "Nigeria",
          "Tanzania",
          "Mozambique",
          "Tanzania",
          "Angola",
          "Uganda",
          "Burundi",
          "Uganda",
          "Uganda",
          "Madagascar",
          "Ghana",
          "Chad",
          "Ghana",
          "Cote d'Ivoire",
          "Cote d'Ivoire",
          "Tanzania",
          "Ghana",
          "Sierra Leone",
          "Malawi",
          "Malawi",
          "Zambia",
          "Zimbabwe",
          "Nigeria",
          "Burkina Faso",
          "Chad",
          "Chad",
          "Mauritania",
          "Zambia",
          "Zambia",
          "Ethiopia",
          "Ethiopia",
          "Ethiopia",
          "Zimbabwe",
          "Benin",
          "Mozambique",
          "Zambia",
          "Tanzania",
          "Madagascar",
          "Rwanda",
          "Sierra Leone",
          "Sierra Leone",
          "Sierra Leone",
          "Sierra Leone",
          "Sierra Leone",
          "Benin",
          "Comoros",
          "Gambia, The",
          "Ghana",
          "Mali",
          "Cabo Verde",
          "Ghana",
          "Guinea",
          "Mauritania",
          "Cameroon",
          "Cameroon",
          "Zambia",
          "Zambia",
          "Mali",
          "Niger",
          "Senegal",
          "Senegal",
          "Uganda",
          "Uganda",
          "Ethiopia",
          "Chad",
          "Burkina Faso",
          "Madagascar",
          "Burkina Faso",
          "Kenya",
          "Cote d'Ivoire",
          "Tanzania",
          "Mozambique",
          "Benin",
          "Gambia, The",
          "Uganda",
          "Ghana",
          "Mozambique",
          "Uganda",
          "Uganda",
          "Uganda",
          "Lesotho",
          "Benin",
          "Chad",
          "Mali",
          "Niger",
          "Burkina Faso",
          "Togo",
          "Zambia",
          "Benin",
          "Malawi",
          "Madagascar",
          "Chad",
          "Chad",
          "Cameroon",
          "Cameroon",
          "Mozambique",
          "Mozambique",
          "Comoros",
          "Congo, Republic of",
          "Cote d'Ivoire",
          "Cote d'Ivoire",
          "Madagascar",
          "Tanzania",
          "Guinea",
          "Cote d'Ivoire",
          "Cote d'Ivoire",
          "Zambia",
          "Central African Republic",
          "Ghana",
          "Burundi",
          "Kenya",
          "Mali",
          "Cabo Verde",
          "Rwanda",
          "Uganda",
          "Senegal",
          "Ghana",
          "Cameroon",
          "Chad",
          "Kenya",
          "Chad",
          "Ghana",
          "Malawi",
          "Zambia",
          "Sierra Leone",
          "Sierra Leone",
          "Cameroon",
          "Cote d'Ivoire",
          "Cote d'Ivoire",
          "Mauritania",
          "Niger",
          "Benin",
          "Ghana",
          "Ghana",
          "Ghana",
          "Ghana",
          "Ghana",
          "Guinea",
          "Senegal",
          "Zambia",
          "Mauritania",
          "Mauritania",
          "Benin",
          "Burkina Faso",
          "Burkina Faso",
          "Madagascar",
          "Mauritania",
          "Burundi",
          "Burundi",
          "Benin",
          "Uganda",
          "Mali",
          "Senegal",
          "Senegal",
          "Senegal",
          "Ethiopia",
          "Ethiopia",
          "Ethiopia",
          "Ghana",
          "Guinea-Bissau",
          "Cote d'Ivoire",
          "Togo",
          "Malawi",
          "Malawi",
          "Cote d'Ivoire",
          "Cote d'Ivoire",
          "Zambia",
          "Senegal",
          "Senegal",
          "Zambia",
          "Zambia",
          "Tanzania",
          "Congo, Republic of",
          "Uganda",
          "Madagascar",
          "Cote d'Ivoire",
          "Cote d'Ivoire",
          "Cote d'Ivoire",
          "Guinea",
          "Mozambique",
          "Ghana",
          "Niger",
          "Kenya",
          "Uganda",
          "Angola",
          "Malawi",
          "Kenya",
          "Kenya",
          "Cameroon",
          "Cameroon",
          "Cameroon",
          "Cameroon",
          "Chad",
          "Chad",
          "Eritrea",
          "Sierra Leone",
          "Mali",
          "Mauritania",
          "Ghana",
          "Guinea",
          "Ethiopia",
          "Ethiopia",
          "Ethiopia",
          "Cote d'Ivoire",
          "Cote d'Ivoire",
          "Cote d'Ivoire",
          "Madagascar",
          "Togo",
          "Mali",
          "Zimbabwe",
          "Malawi",
          "Malawi",
          "Malawi",
          "Malawi",
          "Malawi",
          "Lesotho",
          "Ghana",
          "Cabo Verde",
          "Tanzania",
          "Cameroon",
          "Senegal",
          "Senegal",
          "Senegal",
          "Guinea",
          "Zambia",
          "Zambia",
          "Zambia",
          "Ghana",
          "Cameroon",
          "Kenya",
          "Kenya",
          "Ghana",
          "Mauritania",
          "Mauritania",
          "Mauritania",
          "Mauritania",
          "Mauritania",
          "Cote d'Ivoire",
          "Cote d'Ivoire",
          "Mali",
          "Mali",
          "Sierra Leone",
          "Tanzania",
          "Tanzania",
          "Kenya",
          "Tanzania",
          "Tanzania",
          "Tanzania",
          "Uganda",
          "Uganda",
          "Zambia",
          "Zambia",
          "Madagascar",
          "Niger",
          "Benin",
          "Ghana",
          "Comoros",
          "Kenya",
          "Madagascar",
          "Niger",
          "Eritrea",
          "Senegal",
          "Zambia",
          "Madagascar",
          "Niger",
          "Guinea-Bissau",
          "Guinea-Bissau",
          "Zambia",
          "Senegal",
          "Mauritania",
          "Kenya",
          "Tanzania",
          "Tanzania",
          "Tanzania",
          "Tanzania",
          "Tanzania",
          "Madagascar",
          "Rwanda",
          "Mali",
          "Mauritania",
          "Senegal",
          "Burkina Faso",
          "Cote d'Ivoire",
          "Senegal",
          "Uganda",
          "Togo",
          "Togo",
          "Tanzania",
          "Zambia",
          "Ghana",
          "Eritrea",
          "Senegal",
          "Guinea-Bissau",
          "Guinea-Bissau",
          "Guinea-Bissau",
          "Comoros",
          "Comoros",
          "Senegal",
          "Ethiopia",
          "Guinea",
          "Eritrea",
          "Madagascar",
          "Niger",
          "Cabo Verde",
          "Ethiopia",
          "Eritrea",
          "Tanzania",
          "Mozambique",
          "Zambia",
          "Comoros",
          "Comoros",
          "Togo",
          "Madagascar",
          "Uganda",
          "Malawi",
          "Uganda",
          "Gambia, The",
          "Mauritania",
          "Angola",
          "Madagascar",
          "Madagascar",
          "Madagascar",
          "Uganda",
          "Senegal",
          "Zimbabwe",
          "Benin",
          "Ethiopia",
          "Cote d'Ivoire",
          "Cote d'Ivoire",
          "Zimbabwe",
          "Chad",
          "Chad",
          "Zimbabwe",
          "Ghana",
          "Ethiopia",
          "Ghana",
          "Benin",
          "Cote d'Ivoire",
          "Cote d'Ivoire",
          "Cote d'Ivoire",
          "Cote d'Ivoire",
          "Cote d'Ivoire",
          "Cameroon",
          "Cameroon",
          "Cameroon",
          "Cameroon",
          "Cameroon",
          "Cameroon",
          "Cote d'Ivoire",
          "Cote d'Ivoire",
          "Lesotho",
          "Cameroon",
          "Madagascar",
          "Ghana",
          "Uganda",
          "Cote d'Ivoire",
          "Guinea",
          "Kenya",
          "Cabo Verde",
          "Gambia, The",
          "Niger",
          "Malawi",
          "Niger",
          "Malawi",
          "Cameroon",
          "Rwanda",
          "Ethiopia",
          "Burkina Faso",
          "Malawi",
          "Malawi",
          "Guinea",
          "Guinea",
          "Mali",
          "Burkina Faso",
          "Zambia",
          "Zambia",
          "Mozambique",
          "Mozambique",
          "Guinea",
          "Guinea",
          "Gambia, The",
          "Gambia, The",
          "Madagascar",
          "Madagascar",
          "Rwanda",
          "Rwanda",
          "Senegal",
          "Tanzania",
          "Mauritania",
          "Zambia",
          "Lesotho",
          "Togo",
          "Guinea",
          "Guinea",
          "Ghana",
          "Chad",
          "Uganda",
          "Uganda",
          "Uganda",
          "Cabo Verde",
          "Mauritania",
          "Madagascar",
          "Madagascar",
          "Madagascar",
          "Madagascar",
          "Madagascar",
          "Senegal",
          "Cabo Verde",
          "Cabo Verde",
          "Cabo Verde",
          "Ghana",
          "Ghana",
          "Ghana",
          "Ghana",
          "Benin",
          "Ghana",
          "Mauritania",
          "Malawi",
          "Ghana",
          "Mozambique",
          "Mozambique",
          "Uganda",
          "Rwanda",
          "Mauritania",
          "Cote d'Ivoire",
          "Cote d'Ivoire",
          "Tanzania",
          "Tanzania",
          "Ghana",
          "Burundi",
          "Burundi",
          "Mozambique",
          "Senegal",
          "Cabo Verde",
          "Uganda",
          "Benin",
          "Uganda",
          "Uganda",
          "Burkina Faso",
          "Tanzania",
          "Madagascar",
          "Madagascar",
          "Tanzania",
          "Central African Republic",
          "Lesotho",
          "Guinea",
          "Guinea",
          "Sierra Leone",
          "Senegal",
          "Chad",
          "Mozambique",
          "Mali",
          "Benin",
          "Sierra Leone",
          "Sierra Leone",
          "Zambia",
          "Ghana",
          "Madagascar",
          "Senegal",
          "Mozambique",
          "Burundi",
          "Chad",
          "Chad",
          "Nigeria",
          "Nigeria",
          "Guinea-Bissau",
          "Guinea-Bissau",
          "Nigeria",
          "Mauritania",
          "Mauritania",
          "Senegal",
          "Zambia",
          "Cameroon",
          "Central African Republic",
          "Niger",
          "Madagascar",
          "Mozambique",
          "Rwanda",
          "Rwanda",
          "Cameroon",
          "Chad",
          "Ghana",
          "Lesotho",
          "Mauritania",
          "Tanzania",
          "Tanzania",
          "Tanzania",
          "Tanzania",
          "Tanzania",
          "Cote d'Ivoire",
          "Cote d'Ivoire",
          "Zambia",
          "Zambia",
          "Zambia",
          "Zambia",
          "Zambia",
          "Mali",
          "Mali",
          "Malawi",
          "Benin",
          "Senegal",
          "Angola",
          "Mauritania",
          "Eritrea",
          "Ghana",
          "Kenya",
          "Kenya",
          "Kenya",
          "Kenya",
          "Ethiopia",
          "Tanzania",
          "Uganda",
          "Kenya",
          "Ethiopia",
          "Niger",
          "Niger",
          "Senegal",
          "Western Africa",
          "Kenya",
          "Chad",
          "Chad",
          "Sao Tome and Principe",
          "Sao Tome and Principe",
          "Zambia",
          "Eritrea",
          "Burkina Faso",
          "Ethiopia",
          "Ethiopia",
          "Kenya",
          "Eritrea",
          "Senegal",
          "Nigeria",
          "Nigeria",
          "Mali",
          "Malawi",
          "Malawi",
          "Malawi",
          "Cameroon",
          "Gambia, The",
          "Ghana",
          "Uganda",
          "Burundi",
          "Burundi",
          "Ethiopia",
          "Sierra Leone",
          "Uganda",
          "Comoros",
          "Senegal",
          "Burkina Faso",
          "Uganda",
          "Benin",
          "Benin",
          "Rwanda",
          "Lesotho",
          "Mozambique",
          "Uganda",
          "Kenya",
          "Tanzania",
          "Malawi",
          "Zambia",
          "Rwanda",
          "Burundi",
          "Burundi",
          "Burundi",
          "Madagascar",
          "Madagascar",
          "Madagascar",
          "Rwanda",
          "Ethiopia",
          "Niger",
          "Uganda",
          "Ethiopia",
          "Nigeria",
          "Zambia",
          "Madagascar",
          "Uganda",
          "Uganda",
          "Tanzania",
          "Tanzania",
          "Eritrea",
          "Chad",
          "Chad",
          "Mozambique",
          "Mozambique",
          "Guinea",
          "Guinea",
          "Guinea",
          "Ghana",
          "Ghana",
          "Ghana",
          "Gambia, The",
          "Nigeria",
          "Nigeria",
          "Burkina Faso",
          "Nigeria",
          "Congo, Republic of",
          "Congo, Republic of",
          "Congo, Republic of",
          "Kenya",
          "Comoros",
          "Burkina Faso",
          "Guinea",
          "Guinea",
          "Madagascar",
          "Tanzania",
          "Tanzania",
          "Mauritania",
          "Mauritania",
          "Niger",
          "Mozambique",
          "Mauritania",
          "Mali",
          "Mali",
          "Mali",
          "Central African Republic",
          "Sierra Leone",
          "Cabo Verde",
          "Cabo Verde",
          "Uganda",
          "Madagascar",
          "Chad",
          "Benin",
          "Burkina Faso",
          "Benin",
          "Congo, Republic of",
          "Congo, Republic of",
          "Senegal",
          "Tanzania",
          "Gambia, The",
          "Mozambique",
          "Mozambique",
          "Senegal",
          "Niger",
          "Guinea-Bissau",
          "Guinea-Bissau",
          "Tanzania",
          "Uganda",
          "Sierra Leone",
          "Cabo Verde",
          "Cabo Verde",
          "Ethiopia",
          "Rwanda",
          "Congo, Republic of",
          "Congo, Republic of",
          "Eritrea",
          "Ethiopia",
          "Nigeria",
          "Nigeria",
          "Cote d'Ivoire",
          "Congo, Democratic Republic of",
          "Ethiopia",
          "Burundi",
          "Burundi",
          "Guinea",
          "Guinea",
          "Uganda",
          "Burkina Faso",
          "Cameroon",
          "Cameroon",
          "Uganda",
          "Uganda",
          "Ethiopia",
          "Congo, Democratic Republic of",
          "Congo, Democratic Republic of",
          "Central Africa",
          "Burkina Faso",
          "Mozambique",
          "Burundi",
          "Burundi",
          "Nigeria",
          "Ethiopia",
          "Chad",
          "Chad",
          "Malawi",
          "Madagascar",
          "Madagascar",
          "Zambia",
          "Nigeria",
          "Nigeria",
          "Rwanda",
          "Ghana",
          "Burkina Faso",
          "Malawi",
          "Chad",
          "Chad",
          "Zambia",
          "Angola",
          "Burkina Faso",
          "Sierra Leone",
          "Nigeria",
          "Nigeria",
          "Madagascar",
          "Madagascar",
          "Cabo Verde",
          "Cabo Verde",
          "Senegal",
          "Sierra Leone",
          "Tanzania",
          "Tanzania",
          "Tanzania",
          "Tanzania",
          "Uganda",
          "Malawi",
          "Eritrea",
          "Kenya",
          "Kenya",
          "Ghana",
          "Congo, Republic of",
          "Congo, Republic of",
          "Mauritania",
          "Mauritania",
          "Niger",
          "Lesotho",
          "Congo, Democratic Republic of",
          "Congo, Democratic Republic of",
          "Angola",
          "Ghana",
          "Nigeria",
          "Mozambique",
          "Congo, Democratic Republic of",
          "Congo, Democratic Republic of",
          "Niger",
          "Mali",
          "Madagascar",
          "Madagascar",
          "Congo, Democratic Republic of",
          "Zambia",
          "Uganda",
          "Madagascar",
          "Madagascar",
          "Chad",
          "Nigeria",
          "Nigeria",
          "Tanzania",
          "Tanzania",
          "Burundi",
          "Niger",
          "Congo, Democratic Republic of",
          "Western Africa",
          "Ghana",
          "Zambia",
          "Zambia",
          "Comoros",
          "Mali",
          "Benin",
          "Burundi",
          "Senegal",
          "Cameroon",
          "Burkina Faso",
          "Malawi",
          "Malawi",
          "Mauritania",
          "Tanzania",
          "Ghana",
          "Ethiopia",
          "Burkina Faso",
          "Ethiopia",
          "Sao Tome and Principe",
          "Tanzania",
          "Tanzania",
          "Nigeria",
          "Kenya",
          "Kenya",
          "Sierra Leone",
          "Eritrea",
          "Mozambique",
          "Benin",
          "Rwanda",
          "Ghana",
          "Kenya",
          "Kenya",
          "Madagascar",
          "Ghana",
          "Tanzania",
          "Zambia",
          "Mauritania",
          "Ghana",
          "Ghana",
          "Guinea",
          "Uganda",
          "Uganda",
          "Senegal",
          "Senegal",
          "Ethiopia",
          "Ethiopia",
          "Ethiopia",
          "Ethiopia",
          "Benin",
          "Mozambique",
          "Kenya",
          "Sao Tome and Principe",
          "Rwanda",
          "Lesotho",
          "Guinea-Bissau",
          "Senegal",
          "Tanzania",
          "Tanzania",
          "Tanzania",
          "Ethiopia",
          "Chad",
          "Congo, Republic of",
          "Zambia",
          "Senegal",
          "Nigeria",
          "Nigeria",
          "Burkina Faso",
          "Chad",
          "Gambia, The",
          "Mali",
          "Mauritania",
          "Niger",
          "Senegal",
          "Ethiopia",
          "Rwanda",
          "Mali",
          "Angola",
          "Cabo Verde",
          "Mauritania",
          "Mali",
          "Burkina Faso",
          "Senegal",
          "Cabo Verde",
          "Niger",
          "Cameroon",
          "Guinea",
          "Benin",
          "Nigeria",
          "Nigeria",
          "Nigeria",
          "Ghana",
          "Mali",
          "Madagascar",
          "Madagascar",
          "Madagascar",
          "Tanzania",
          "Ghana",
          "Tanzania",
          "Mozambique",
          "Mali",
          "Benin",
          "Lesotho",
          "Ghana",
          "Ghana",
          "Ghana",
          "Zambia",
          "Mozambique",
          "Mozambique",
          "Tanzania",
          "Ghana",
          "Zambia",
          "Niger",
          "Uganda",
          "Mali",
          "Kenya",
          "Uganda",
          "Kenya",
          "Tanzania",
          "Senegal",
          "Mozambique",
          "Senegal",
          "Nigeria",
          "Burkina Faso",
          "Mali",
          "Burkina Faso",
          "Senegal",
          "Tanzania",
          "Tanzania",
          "Uganda",
          "Cabo Verde",
          "Mauritania",
          "Mali",
          "Mauritania",
          "Senegal",
          "Ghana",
          "Senegal",
          "Niger",
          "Tanzania",
          "Tanzania",
          "Tanzania",
          "Burkina Faso",
          "Burkina Faso",
          "Burkina Faso",
          "Mozambique",
          "Uganda",
          "Ethiopia",
          "Ethiopia",
          "Ghana",
          "Benin",
          "Senegal",
          "Mali",
          "Mauritania",
          "Mauritania",
          "Nigeria",
          "Madagascar",
          "Mali",
          "Mali",
          "Madagascar",
          "Senegal",
          "Ghana",
          "Senegal",
          "Zambia",
          "Lesotho",
          "Benin",
          "Kenya",
          "Madagascar",
          "Senegal",
          "Nigeria",
          "Mozambique",
          "Mozambique",
          "Tanzania",
          "Mali",
          "Lesotho",
          "Kenya",
          "Kenya",
          "Kenya",
          "Cabo Verde",
          "Burkina Faso",
          "Kenya",
          "Madagascar",
          "Ghana",
          "Mali",
          "Senegal",
          "Benin",
          "Ethiopia",
          "Tanzania",
          "Tanzania",
          "Nigeria",
          "Uganda",
          "Uganda",
          "Mali",
          "Nigeria",
          "Madagascar",
          "Malawi",
          "Mozambique",
          "Ghana",
          "Angola",
          "Burkina Faso",
          "Cameroon",
          "Ethiopia",
          "Senegal",
          "Ethiopia",
          "Ghana",
          "Kenya",
          "Cameroon",
          "Benin",
          "Madagascar",
          "Benin",
          "Mali",
          "Ethiopia",
          "Ghana",
          "Ghana",
          "Nigeria",
          "Burkina Faso",
          "Mozambique",
          "Burkina Faso",
          "Ghana",
          "Mozambique",
          "Tanzania",
          "Nigeria",
          "Uganda",
          "Burkina Faso",
          "Tanzania",
          "Uganda",
          "Ethiopia",
          "Kenya",
          "Mozambique",
          "Mali",
          "Madagascar",
          "Nigeria",
          "Niger",
          "Madagascar",
          "Nigeria",
          "Benin",
          "Ghana",
          "Ghana",
          "Ghana",
          "Uganda",
          "Cabo Verde",
          "Mali",
          "Burkina Faso",
          "Ghana",
          "Zambia",
          "Zambia",
          "Mauritania",
          "Lesotho",
          "Tanzania",
          "Tanzania",
          "Ethiopia",
          "Ethiopia",
          "Ethiopia",
          "Burkina Faso",
          "Senegal",
          "Sierra Leone",
          "Burkina Faso",
          "Malawi",
          "Cameroon",
          "Cameroon",
          "Cameroon",
          "Uganda",
          "Malawi",
          "Cameroon",
          "Ghana",
          "Madagascar",
          "Cabo Verde",
          "Benin",
          "Benin",
          "Nigeria",
          "Mauritania",
          "Nigeria",
          "Angola",
          "Angola",
          "Mali",
          "Uganda",
          "Uganda",
          "Burkina Faso",
          "Sierra Leone",
          "Nigeria",
          "Nigeria",
          "Madagascar",
          "Tanzania",
          "Mozambique",
          "Central Africa",
          "Tanzania",
          "Uganda",
          "Kenya",
          "Ethiopia",
          "Madagascar",
          "Senegal",
          "Nigeria",
          "Ethiopia",
          "Senegal",
          "Mozambique",
          "Zambia",
          "Niger",
          "Kenya",
          "Uganda",
          "Ethiopia",
          "Ghana",
          "Ethiopia",
          "Kenya",
          "Tanzania",
          "Uganda",
          "Kenya",
          "Kenya",
          "Lesotho",
          "Ethiopia",
          "Senegal",
          "Mozambique",
          "Tanzania",
          "Mali",
          "Benin",
          "Nigeria",
          "Kenya",
          "Cameroon",
          "Nigeria",
          "Nigeria",
          "Ghana",
          "Mozambique",
          "Malawi",
          "Senegal",
          "Cameroon",
          "Tanzania",
          "Mali",
          "Tanzania",
          "Nigeria",
          "Ethiopia",
          "Mali",
          "Uganda",
          "Ghana",
          "Ghana",
          "Tanzania",
          "Tanzania",
          "Tanzania",
          "Senegal",
          "Nigeria",
          "Mali",
          "Senegal",
          "Cameroon",
          "Rwanda",
          "Zambia",
          "Sierra Leone",
          "Cameroon",
          "Mozambique",
          "Sierra Leone",
          "Senegal",
          "Sierra Leone",
          "Cabo Verde",
          "Ethiopia",
          "Nigeria",
          "Ethiopia",
          "Cabo Verde",
          "Uganda",
          "Rwanda",
          "Tanzania",
          "Senegal",
          "Uganda",
          "Mozambique",
          "Tanzania",
          "Mozambique",
          "Angola",
          "Ghana",
          "Benin",
          "Kenya",
          "Zambia",
          "Congo, Republic of",
          "Senegal",
          "Mozambique",
          "Lesotho",
          "Tanzania",
          "Ethiopia",
          "Kenya",
          "Cabo Verde",
          "Ethiopia",
          "Senegal",
          "Benin",
          "Tanzania",
          "Tanzania",
          "Tanzania",
          "Ghana",
          "Tanzania",
          "Kenya",
          "Uganda",
          "Ghana",
          "Senegal",
          "Senegal",
          "Tanzania",
          "Tanzania",
          "Uganda",
          "Kenya",
          "Ghana",
          "Ghana",
          "Tanzania",
          "Angola",
          "Mali",
          "Malawi",
          "Senegal",
          "Mali",
          "Nigeria",
          "Uganda",
          "Kenya",
          "Ghana",
          "Sierra Leone",
          "Cameroon",
          "Ethiopia",
          "Nigeria",
          "Mauritania",
          "Malawi",
          "Ghana",
          "Sierra Leone",
          "Zambia",
          "Ethiopia",
          "Mozambique",
          "Tanzania",
          "Kenya",
          "Central African Republic",
          "Malawi",
          "Mozambique",
          "Mozambique",
          "Mozambique",
          "Tanzania",
          "Uganda",
          "Cameroon",
          "Zambia",
          "Nigeria",
          "Mali",
          "Lesotho",
          "Cabo Verde",
          "Kenya",
          "Liberia",
          "Mozambique",
          "Congo, Republic of",
          "Ghana",
          "Zambia",
          "Liberia",
          "Sierra Leone",
          "Ghana",
          "Nigeria",
          "Sierra Leone",
          "Tanzania",
          "Ethiopia",
          "Rwanda",
          "Ghana",
          "Kenya",
          "Zambia",
          "Ghana",
          "Rwanda",
          "Niger",
          "Ghana",
          "Zambia",
          "Nigeria",
          "Nigeria",
          "Nigeria",
          "Liberia",
          "Benin",
          "Chad",
          "Mozambique",
          "Niger",
          "Tanzania",
          "Malawi",
          "Rwanda",
          "Malawi",
          "Cabo Verde",
          "Liberia",
          "Liberia",
          "Mali",
          "Senegal",
          "Mozambique",
          "Mali",
          "Niger",
          "Niger",
          "Mauritania",
          "Kenya",
          "Mozambique",
          "Mauritania",
          "Benin",
          "Ghana",
          "Senegal",
          "Malawi",
          "Liberia",
          "Chad",
          "Central African Republic",
          "Tanzania",
          "Niger",
          "Mozambique",
          "Madagascar",
          "Mali",
          "Lesotho",
          "Rwanda",
          "Angola",
          "Ghana",
          "Mali",
          "Rwanda",
          "Congo, Republic of",
          "Ethiopia",
          "Kenya",
          "Ghana",
          "Malawi",
          "Cameroon",
          "Cameroon",
          "Uganda",
          "Uganda",
          "Senegal",
          "Tanzania",
          "Ethiopia",
          "Ghana",
          "Mozambique",
          "Rwanda",
          "Lesotho",
          "Nigeria",
          "Cameroon",
          "Liberia",
          "Tanzania",
          "Kenya",
          "Rwanda",
          "Cabo Verde",
          "Zambia",
          "Liberia",
          "Sierra Leone",
          "Niger",
          "Uganda",
          "Congo, Republic of",
          "Rwanda",
          "Mozambique",
          "Mozambique",
          "Malawi",
          "Malawi",
          "Tanzania",
          "Nigeria",
          "Ghana",
          "Senegal",
          "Cameroon",
          "Zambia",
          "Ethiopia",
          "Kenya",
          "Tanzania",
          "Nigeria",
          "Senegal",
          "Ghana",
          "Mozambique",
          "Liberia",
          "Kenya",
          "Kenya",
          "Zambia",
          "Nigeria",
          "Ghana",
          "Liberia",
          "Benin",
          "Ethiopia",
          "Ethiopia",
          "Chad",
          "Togo",
          "Congo, Republic of",
          "Sierra Leone",
          "Madagascar",
          "Malawi",
          "Ethiopia",
          "Uganda",
          "Nigeria",
          "Nigeria",
          "Niger",
          "Niger",
          "Nigeria",
          "Central African Republic",
          "Senegal",
          "Ghana",
          "Kenya",
          "Malawi",
          "Malawi",
          "Benin",
          "Senegal",
          "Central African Republic",
          "Kenya",
          "Ethiopia",
          "Nigeria",
          "Ethiopia",
          "Kenya",
          "Ethiopia",
          "Niger",
          "Liberia",
          "Tanzania",
          "Tanzania",
          "Tanzania",
          "Kenya",
          "Tanzania",
          "Madagascar",
          "Madagascar",
          "Senegal",
          "Rwanda",
          "Mozambique",
          "Mozambique",
          "Mozambique",
          "Malawi",
          "Mozambique",
          "Zambia",
          "Benin",
          "Ethiopia",
          "Tanzania",
          "Nigeria",
          "South Sudan",
          "Mozambique",
          "Tanzania",
          "Tanzania",
          "Nigeria",
          "Niger",
          "Uganda",
          "Cameroon",
          "Mozambique",
          "Mali",
          "Lesotho",
          "Benin",
          "Uganda",
          "Mozambique",
          "Niger",
          "Zambia",
          "Liberia",
          "Tanzania",
          "Burkina Faso",
          "Liberia",
          "Togo",
          "Angola",
          "Mauritania",
          "Burkina Faso",
          "Zambia",
          "Mali",
          "Cabo Verde",
          "Nigeria",
          "Kenya",
          "Uganda",
          "Mauritania",
          "Benin",
          "Senegal",
          "Cameroon",
          "Liberia",
          "South Sudan",
          "Mali",
          "Kenya",
          "Mozambique",
          "Burkina Faso",
          "Nigeria",
          "Nigeria",
          "Rwanda",
          "Tanzania",
          "Cote d'Ivoire",
          "Mozambique",
          "Cote d'Ivoire",
          "Congo, Republic of",
          "Ghana",
          "Senegal",
          "Mozambique",
          "Lesotho",
          "Kenya",
          "Ethiopia",
          "Mali",
          "Ethiopia",
          "Senegal",
          "Mali",
          "Mauritania",
          "Senegal",
          "Tanzania",
          "Burkina Faso",
          "Togo",
          "Sierra Leone",
          "Senegal",
          "Ethiopia",
          "Benin",
          "Niger",
          "Senegal",
          "Malawi",
          "Sierra Leone",
          "Liberia",
          "Lesotho",
          "Mali",
          "Congo, Republic of",
          "Congo, Republic of",
          "Liberia",
          "Rwanda",
          "Cote d'Ivoire",
          "Congo, Republic of",
          "South Sudan",
          "Guinea",
          "Kenya",
          "Ethiopia",
          "Madagascar",
          "Benin",
          "Madagascar",
          "Uganda",
          "Uganda",
          "Ethiopia",
          "Kenya",
          "Benin",
          "Nigeria",
          "Togo",
          "Benin",
          "Zambia",
          "Central African Republic",
          "Tanzania",
          "Tanzania",
          "Gambia, The",
          "Nigeria",
          "South Sudan",
          "Rwanda",
          "Rwanda",
          "Uganda",
          "Nigeria",
          "Kenya",
          "Kenya",
          "Gambia, The",
          "Tanzania",
          "Nigeria",
          "Nigeria",
          "Cabo Verde",
          "Senegal",
          "Burkina Faso",
          "Benin",
          "Cameroon",
          "Ghana",
          "Togo",
          "Rwanda",
          "Burkina Faso",
          "Rwanda",
          "Senegal",
          "Uganda",
          "Ethiopia",
          "Central African Republic",
          "Benin",
          "Ethiopia",
          "Ghana",
          "Tanzania",
          "Mali",
          "Ghana",
          "Guinea-Bissau",
          "Cameroon",
          "Ghana",
          "Guinea-Bissau",
          "Ethiopia",
          "Malawi",
          "Burkina Faso",
          "Cameroon",
          "Burkina Faso",
          "Lesotho",
          "Tanzania",
          "Guinea",
          "Congo, Republic of",
          "Cote d'Ivoire",
          "Nigeria",
          "Nigeria",
          "Mali",
          "Mozambique",
          "Ghana",
          "Rwanda",
          "Kenya",
          "Tanzania",
          "Senegal",
          "Niger",
          "Cameroon",
          "Tanzania",
          "South Sudan",
          "Ethiopia",
          "Congo, Republic of",
          "Kenya",
          "Ethiopia",
          "Mozambique",
          "Rwanda",
          "Rwanda",
          "Ghana",
          "Liberia",
          "Guinea",
          "Cote d'Ivoire",
          "Cote d'Ivoire",
          "Mozambique",
          "Senegal",
          "Zambia",
          "Madagascar",
          "Mozambique",
          "Niger",
          "Mali",
          "Cote d'Ivoire",
          "Congo, Democratic Republic of",
          "Rwanda",
          "Mozambique",
          "Madagascar",
          "Tanzania",
          "Kenya",
          "Tanzania",
          "Tanzania",
          "Guinea-Bissau",
          "Benin",
          "Nigeria",
          "Mozambique",
          "Ethiopia",
          "Mali",
          "Cote d'Ivoire",
          "Burkina Faso",
          "Malawi",
          "Uganda",
          "Uganda",
          "Tanzania",
          "Uganda",
          "Kenya",
          "Nigeria",
          "Tanzania",
          "Liberia",
          "Malawi",
          "Gambia, The",
          "Ethiopia",
          "Nigeria",
          "Kenya",
          "Burkina Faso",
          "Ghana",
          "Tanzania",
          "Kenya",
          "Uganda",
          "Malawi",
          "Kenya",
          "Ghana",
          "Tanzania",
          "Benin",
          "Tanzania",
          "Niger",
          "Uganda",
          "Zambia",
          "Cote d'Ivoire",
          "Burkina Faso",
          "Mali",
          "Niger",
          "Senegal",
          "Uganda",
          "Congo, Democratic Republic of",
          "Niger",
          "Guinea",
          "Zambia",
          "Gambia, The",
          "Guinea",
          "Guinea-Bissau",
          "Senegal",
          "Senegal",
          "Mali",
          "Burkina Faso",
          "Niger",
          "Nigeria",
          "Burkina Faso",
          "Cote d'Ivoire",
          "Senegal",
          "Kenya",
          "Liberia",
          "Cabo Verde",
          "Burkina Faso",
          "Ghana",
          "Madagascar",
          "Tanzania",
          "Senegal",
          "Ethiopia",
          "Ethiopia",
          "Kenya",
          "Cameroon",
          "Rwanda",
          "Uganda",
          "Congo, Democratic Republic of",
          "Cote d'Ivoire",
          "Mozambique",
          "Senegal",
          "Mozambique",
          "Cote d'Ivoire",
          "Togo",
          "Rwanda",
          "Mali",
          "Congo, Democratic Republic of",
          "Madagascar",
          "Rwanda",
          "Niger",
          "Ethiopia",
          "Mozambique",
          "Liberia",
          "Congo, Democratic Republic of",
          "Burkina Faso",
          "Kenya",
          "Ethiopia",
          "Sierra Leone",
          "Lesotho",
          "Madagascar",
          "Liberia",
          "Madagascar",
          "Tanzania",
          "Tanzania",
          "Benin",
          "Mozambique",
          "Rwanda",
          "Gambia, The",
          "Cameroon",
          "Liberia",
          "Ethiopia",
          "Ethiopia",
          "Rwanda",
          "Uganda",
          "Kenya",
          "Tanzania",
          "Cabo Verde",
          "Malawi",
          "Zambia",
          "Congo, Republic of",
          "Uganda",
          "Mozambique",
          "Senegal",
          "Kenya",
          "Ethiopia",
          "Ethiopia",
          "Tanzania",
          "Lesotho",
          "Uganda",
          "Lesotho",
          "Zambia",
          "Guinea",
          "Niger",
          "Nigeria",
          "Ethiopia",
          "Lesotho",
          "Madagascar",
          "Kenya",
          "Nigeria",
          "Nigeria",
          "Tanzania",
          "Kenya",
          "Sierra Leone",
          "Nigeria",
          "Nigeria",
          "Tanzania",
          "Nigeria",
          "Congo, Democratic Republic of",
          "Nigeria",
          "Mozambique",
          "Guinea",
          "Benin",
          "Burkina Faso",
          "Tanzania",
          "Mozambique",
          "Malawi",
          "Cote d'Ivoire",
          "Ethiopia",
          "Mali",
          "Niger",
          "Sierra Leone",
          "Guinea",
          "Senegal",
          "Senegal",
          "Cote d'Ivoire",
          "Tanzania",
          "Ghana",
          "Uganda",
          "Kenya",
          "Gambia, The",
          "Cameroon",
          "Rwanda",
          "Mali",
          "Cote d'Ivoire",
          "Malawi",
          "Burkina Faso",
          "Cote d'Ivoire",
          "Benin",
          "Lesotho",
          "Zambia",
          "Cote d'Ivoire",
          "Zambia",
          "Burkina Faso",
          "Burkina Faso",
          "Gambia, The",
          "Burkina Faso",
          "Kenya",
          "Tanzania",
          "Tanzania",
          "Tanzania",
          "Mozambique",
          "Benin",
          "Guinea",
          "Niger",
          "Togo",
          "Tanzania",
          "Tanzania",
          "Mozambique",
          "Lesotho",
          "Rwanda",
          "Togo",
          "Guinea-Bissau",
          "Liberia",
          "Nigeria",
          "Madagascar",
          "Congo, Democratic Republic of",
          "Kenya",
          "Ethiopia",
          "Cameroon",
          "Cameroon",
          "Congo, Republic of",
          "Madagascar",
          "Nigeria",
          "Nigeria",
          "Congo, Republic of",
          "Mozambique",
          "Nigeria",
          "Ethiopia",
          "Madagascar",
          "Guinea-Bissau",
          "Congo, Democratic Republic of",
          "Cote d'Ivoire",
          "Malawi",
          "Ethiopia",
          "Ethiopia",
          "Benin",
          "Togo",
          "Congo, Democratic Republic of",
          "Senegal",
          "Kenya",
          "Congo, Republic of",
          "Kenya",
          "Togo",
          "Senegal",
          "Congo, Democratic Republic of",
          "Liberia",
          "Zambia",
          "Zambia",
          "Ethiopia",
          "Rwanda",
          "Cameroon",
          "Cameroon",
          "Malawi",
          "Malawi",
          "Senegal",
          "Guinea-Bissau",
          "Senegal",
          "Tanzania",
          "Cote d'Ivoire",
          "Mali",
          "Burkina Faso",
          "Senegal",
          "Mozambique",
          "Sierra Leone",
          "Ghana",
          "Niger",
          "Ethiopia",
          "Nigeria",
          "Nigeria",
          "Senegal",
          "Nigeria",
          "Nigeria",
          "Cabo Verde",
          "Uganda",
          "Benin",
          "Zambia",
          "Sierra Leone",
          "Congo, Republic of",
          "Sierra Leone",
          "Burkina Faso",
          "Liberia",
          "Tanzania",
          "Rwanda",
          "Kenya",
          "Ghana",
          "Gambia, The",
          "Mali",
          "Ghana",
          "Ethiopia",
          "Cameroon",
          "Kenya",
          "Kenya",
          "Kenya",
          "Zambia",
          "Kenya",
          "Cameroon",
          "Western Africa",
          "Tanzania",
          "Lesotho",
          "Malawi",
          "Sierra Leone",
          "Lesotho",
          "Benin",
          "Niger",
          "Cote d'Ivoire",
          "Rwanda",
          "Ethiopia",
          "Ethiopia",
          "Senegal",
          "Burkina Faso",
          "Mali",
          "Niger",
          "Ethiopia",
          "Burkina Faso",
          "Togo",
          "Rwanda",
          "Ghana",
          "Malawi",
          "Cote d'Ivoire",
          "Senegal",
          "Senegal",
          "Cabo Verde",
          "Guinea",
          "Burkina Faso",
          "Nigeria",
          "Nigeria",
          "Rwanda",
          "Madagascar",
          "Cote d'Ivoire",
          "Ethiopia",
          "Ethiopia",
          "Mali",
          "Guinea",
          "Cote d'Ivoire",
          "Togo",
          "Benin",
          "Senegal",
          "Cameroon",
          "Madagascar",
          "Burkina Faso",
          "Cameroon",
          "Central Africa",
          "Guinea",
          "Uganda",
          "Benin",
          "Mali",
          "Niger",
          "Benin",
          "Cote d'Ivoire",
          "Guinea",
          "Cote d'Ivoire",
          "Madagascar",
          "Cabo Verde",
          "Senegal",
          "Ghana",
          "Burkina Faso",
          "Rwanda",
          "Guinea",
          "Kenya",
          "Guinea",
          "Ethiopia",
          "Kenya",
          "Nigeria",
          "Nigeria",
          "Cote d'Ivoire",
          "Senegal",
          "Uganda",
          "Nigeria",
          "Nigeria",
          "Madagascar",
          "Senegal",
          "Mali",
          "Mali",
          "Congo, Democratic Republic of",
          "Nigeria",
          "Nigeria",
          "Nigeria",
          "Ethiopia",
          "Tanzania",
          "Tanzania",
          "Nigeria",
          "Togo",
          "Sierra Leone",
          "Ghana",
          "Ghana",
          "Benin",
          "Sierra Leone",
          "Ghana",
          "Ethiopia",
          "Madagascar",
          "Ghana",
          "Senegal",
          "Ghana",
          "Rwanda",
          "Cabo Verde",
          "Tanzania",
          "Kenya",
          "Ethiopia",
          "Ethiopia",
          "Ghana",
          "Rwanda",
          "Rwanda",
          "Senegal",
          "Kenya",
          "Niger",
          "Cote d'Ivoire",
          "Guinea-Bissau",
          "Cabo Verde",
          "Senegal",
          "Lesotho",
          "Liberia",
          "Senegal",
          "Sierra Leone",
          "Congo, Republic of",
          "Madagascar",
          "Malawi",
          "Cote d'Ivoire",
          "Liberia",
          "Niger",
          "Cote d'Ivoire",
          "Ghana",
          "Cote d'Ivoire",
          "Burkina Faso",
          "Burkina Faso",
          "Zambia",
          "Niger",
          "Lesotho",
          "Lesotho",
          "Rwanda",
          "Ghana",
          "Ethiopia",
          "Niger",
          "Kenya",
          "Lesotho",
          "Cabo Verde",
          "Cabo Verde",
          "Burkina Faso",
          "Cote d'Ivoire",
          "Guinea-Bissau",
          "Ethiopia",
          "Mali",
          "Cote d'Ivoire",
          "Cote d'Ivoire",
          "Benin",
          "Mali",
          "Comoros",
          "Guinea",
          "Mali",
          "Rwanda",
          "Rwanda",
          "Tanzania",
          "Cameroon",
          "Burkina Faso",
          "Madagascar",
          "Guinea",
          "Niger",
          "Mali",
          "Togo",
          "Benin",
          "Senegal",
          "Liberia",
          "Ethiopia",
          "Madagascar",
          "Cote d'Ivoire",
          "Cote d'Ivoire",
          "Cabo Verde",
          "Kenya",
          "Senegal",
          "Ghana",
          "Liberia",
          "Rwanda",
          "Togo",
          "Kenya",
          "Lesotho",
          "Ghana",
          "Ghana",
          "Zambia",
          "Zambia",
          "Congo, Democratic Republic of",
          "Madagascar",
          "Rwanda",
          "Rwanda",
          "Malawi",
          "Malawi",
          "Guinea",
          "Ghana",
          "Guinea-Bissau",
          "Equatorial Guinea",
          "Madagascar",
          "Niger",
          "Congo, Democratic Republic of",
          "Somalia",
          "Kenya",
          "Central African Republic",
          "Tanzania",
          "Tanzania",
          "Ghana",
          "Ghana",
          "Guinea-Bissau",
          "Senegal",
          "Mauritania",
          "Sao Tome and Principe",
          "Congo, Democratic Republic of",
          "Congo, Democratic Republic of",
          "Niger",
          "Madagascar",
          "Mozambique",
          "Uganda",
          "Uganda",
          "Mali",
          "Kenya",
          "Chad",
          "Zambia",
          "Madagascar",
          "Malawi",
          "Mali",
          "Madagascar",
          "Ghana",
          "Mali",
          "Sudan",
          "Senegal",
          "Senegal",
          "Senegal",
          "Kenya",
          "Guinea-Bissau",
          "Benin",
          "Benin",
          "Mali",
          "Burkina Faso",
          "Madagascar",
          "Mozambique",
          "Madagascar",
          "Kenya",
          "Guinea",
          "Guinea",
          "Zimbabwe",
          "Ghana",
          "Mali",
          "Cote d'Ivoire",
          "Cote d'Ivoire",
          "Uganda",
          "Uganda",
          "Senegal",
          "Malawi",
          "Burkina Faso",
          "Chad",
          "Comoros",
          "Cote d'Ivoire",
          "Mali"
         ],
         "legendgroup": "",
         "name": "",
         "showlegend": true,
         "type": "pie",
         "values": [
          750798904058.8091,
          750798904058.8091,
          750798904058.8091,
          750798904058.8091,
          750798904058.8091,
          750798904058.8091,
          750798904058.8091,
          750798904058.8091,
          750798904058.8091,
          750798904058.8091,
          750798904058.8091,
          750798904058.8091,
          750798904058.8091,
          750798904058.8091,
          750798904058.8091,
          750798904058.8091,
          750798904058.8091,
          750798904058.8091,
          750798904058.8091,
          750798904058.8091,
          750798904058.8091,
          750798904058.8091,
          750798904058.8091,
          750798904058.8091,
          750798904058.8091,
          750798904058.8091,
          750798904058.8091,
          750798904058.8091,
          750798904058.8091,
          750798904058.8091,
          750798904058.8091,
          750798904058.8091,
          750798904058.8091,
          750798904058.8091,
          750798904058.8091,
          750798904058.8091,
          750798904058.8091,
          750798904058.8091,
          750798904058.8091,
          750798904058.8091,
          750798904058.8091,
          750798904058.8091,
          750798904058.8091,
          750798904058.8091,
          750798904058.8091,
          750798904058.8091,
          750798904058.8091,
          750798904058.8091,
          750798904058.8091,
          750798904058.8091,
          750798904058.8091,
          750798904058.8091,
          750798904058.8091,
          750798904058.8091,
          750798904058.8091,
          750798904058.8091,
          750798904058.8091,
          750798904058.8091,
          750798904058.8091,
          750798904058.8091,
          750798904058.8091,
          750798904058.8091,
          750798904058.8091,
          750798904058.8091,
          750798904058.8091,
          750798904058.8091,
          750798904058.8091,
          750798904058.8091,
          750798904058.8091,
          750798904058.8091,
          750798904058.8091,
          750798904058.8091,
          750798904058.8091,
          750798904058.8091,
          750798904058.8091,
          750798904058.8091,
          750798904058.8091,
          750798904058.8091,
          750798904058.8091,
          750798904058.8091,
          750798904058.8091,
          750798904058.8091,
          750798904058.8091,
          750798904058.8091,
          750798904058.8091,
          750798904058.8091,
          750798904058.8091,
          750798904058.8091,
          750798904058.8091,
          750798904058.8091,
          750798904058.8091,
          750798904058.8091,
          750798904058.8091,
          750798904058.8091,
          750798904058.8091,
          750798904058.8091,
          750798904058.8091,
          750798904058.8091,
          750798904058.8091,
          750798904058.8091,
          750798904058.8091,
          750798904058.8091,
          750798904058.8091,
          750798904058.8091,
          750798904058.8091,
          750798904058.8091,
          750798904058.8091,
          750798904058.8091,
          750798904058.8091,
          750798904058.8091,
          750798904058.8091,
          750798904058.8091,
          750798904058.8091,
          750798904058.8091,
          750798904058.8091,
          750798904058.8091,
          750798904058.8091,
          750798904058.8091,
          750798904058.8091,
          750798904058.8091,
          750798904058.8091,
          750798904058.8091,
          750798904058.8091,
          750798904058.8091,
          750798904058.8091,
          750798904058.8091,
          750798904058.8091,
          750798904058.8091,
          750798904058.8091,
          750798904058.8091,
          750798904058.8091,
          750798904058.8091,
          750798904058.8091,
          750798904058.8091,
          750798904058.8091,
          750798904058.8091,
          750798904058.8091,
          750798904058.8091,
          750798904058.8091,
          750798904058.8091,
          750798904058.8091,
          750798904058.8091,
          750798904058.8091,
          750798904058.8091,
          750798904058.8091,
          750798904058.8091,
          750798904058.8091,
          750798904058.8091,
          750798904058.8091,
          750798904058.8091,
          750798904058.8091,
          750798904058.8091,
          750798904058.8091,
          750798904058.8091,
          750798904058.8091,
          750798904058.8091,
          750798904058.8091,
          750798904058.8091,
          750798904058.8091,
          750798904058.8091,
          750798904058.8091,
          750798904058.8091,
          750798904058.8091,
          750798904058.8091,
          750798904058.8091,
          750798904058.8091,
          750798904058.8091,
          750798904058.8091,
          750798904058.8091,
          750798904058.8091,
          750798904058.8091,
          750798904058.8091,
          750798904058.8091,
          750798904058.8091,
          750798904058.8091,
          750798904058.8091,
          750798904058.8091,
          750798904058.8091,
          750798904058.8091,
          750798904058.8091,
          750798904058.8091,
          750798904058.8091,
          750798904058.8091,
          750798904058.8091,
          750798904058.8091,
          750798904058.8091,
          750798904058.8091,
          750798904058.8091,
          750798904058.8091,
          750798904058.8091,
          750798904058.8091,
          750798904058.8091,
          750798904058.8091,
          750798904058.8091,
          750798904058.8091,
          750798904058.8091,
          750798904058.8091,
          750798904058.8091,
          750798904058.8091,
          750798904058.8091,
          750798904058.8091,
          750798904058.8091,
          750798904058.8091,
          750798904058.8091,
          750798904058.8091,
          750798904058.8091,
          750798904058.8091,
          750798904058.8091,
          750798904058.8091,
          750798904058.8091,
          750798904058.8091,
          750798904058.8091,
          750798904058.8091,
          750798904058.8091,
          750798904058.8091,
          750798904058.8091,
          750798904058.8091,
          750798904058.8091,
          750798904058.8091,
          750798904058.8091,
          750798904058.8091,
          750798904058.8091,
          750798904058.8091,
          750798904058.8091,
          750798904058.8091,
          750798904058.8091,
          750798904058.8091,
          750798904058.8091,
          750798904058.8091,
          750798904058.8091,
          750798904058.8091,
          750798904058.8091,
          750798904058.8091,
          750798904058.8091,
          750798904058.8091,
          750798904058.8091,
          750798904058.8091,
          750798904058.8091,
          750798904058.8091,
          750798904058.8091,
          750798904058.8091,
          750798904058.8091,
          750798904058.8091,
          750798904058.8091,
          750798904058.8091,
          750798904058.8091,
          750798904058.8091,
          750798904058.8091,
          750798904058.8091,
          750798904058.8091,
          750798904058.8091,
          750798904058.8091,
          750798904058.8091,
          750798904058.8091,
          750798904058.8091,
          750798904058.8091,
          750798904058.8091,
          750798904058.8091,
          750798904058.8091,
          750798904058.8091,
          750798904058.8091,
          750798904058.8091,
          750798904058.8091,
          750798904058.8091,
          750798904058.8091,
          750798904058.8091,
          750798904058.8091,
          750798904058.8091,
          750798904058.8091,
          750798904058.8091,
          750798904058.8091,
          750798904058.8091,
          750798904058.8091,
          750798904058.8091,
          750798904058.8091,
          750798904058.8091,
          750798904058.8091,
          750798904058.8091,
          750798904058.8091,
          750798904058.8091,
          750798904058.8091,
          750798904058.8091,
          750798904058.8091,
          750798904058.8091,
          750798904058.8091,
          750798904058.8091,
          750798904058.8091,
          750798904058.8091,
          750798904058.8091,
          750798904058.8091,
          750798904058.8091,
          750798904058.8091,
          750798904058.8091,
          750798904058.8091,
          750798904058.8091,
          750798904058.8091,
          750798904058.8091,
          750798904058.8091,
          750798904058.8091,
          750798904058.8091,
          750798904058.8091,
          750798904058.8091,
          750798904058.8091,
          750798904058.8091,
          750798904058.8091,
          750798904058.8091,
          750798904058.8091,
          750798904058.8091,
          750798904058.8091,
          750798904058.8091,
          750798904058.8091,
          750798904058.8091,
          750798904058.8091,
          750798904058.8091,
          750798904058.8091,
          750798904058.8091,
          750798904058.8091,
          750798904058.8091,
          750798904058.8091,
          750798904058.8091,
          750798904058.8091,
          750798904058.8091,
          750798904058.8091,
          750798904058.8091,
          750798904058.8091,
          750798904058.8091,
          750798904058.8091,
          750798904058.8091,
          750798904058.8091,
          750798904058.8091,
          750798904058.8091,
          750798904058.8091,
          750798904058.8091,
          750798904058.8091,
          750798904058.8091,
          750798904058.8091,
          750798904058.8091,
          750798904058.8091,
          750798904058.8091,
          750798904058.8091,
          750798904058.8091,
          750798904058.8091,
          750798904058.8091,
          750798904058.8091,
          750798904058.8091,
          750798904058.8091,
          750798904058.8091,
          750798904058.8091,
          750798904058.8091,
          750798904058.8091,
          750798904058.8091,
          750798904058.8091,
          750798904058.8091,
          750798904058.8091,
          750798904058.8091,
          750798904058.8091,
          750798904058.8091,
          750798904058.8091,
          750798904058.8091,
          750798904058.8091,
          750798904058.8091,
          750798904058.8091,
          750798904058.8091,
          750798904058.8091,
          750798904058.8091,
          750798904058.8091,
          750798904058.8091,
          750798904058.8091,
          750798904058.8091,
          750798904058.8091,
          750798904058.8091,
          750798904058.8091,
          750798904058.8091,
          750798904058.8091,
          750798904058.8091,
          750798904058.8091,
          750798904058.8091,
          750798904058.8091,
          750798904058.8091,
          750798904058.8091,
          750798904058.8091,
          750798904058.8091,
          750798904058.8091,
          750798904058.8091,
          750798904058.8091,
          750798904058.8091,
          750798904058.8091,
          750798904058.8091,
          750798904058.8091,
          750798904058.8091,
          750798904058.8091,
          750798904058.8091,
          750798904058.8091,
          750798904058.8091,
          750798904058.8091,
          750798904058.8091,
          750798904058.8091,
          750798904058.8091,
          750798904058.8091,
          750798904058.8091,
          750798904058.8091,
          750798904058.8091,
          750798904058.8091,
          750798904058.8091,
          750798904058.8091,
          750798904058.8091,
          750798904058.8091,
          750798904058.8091,
          750798904058.8091,
          750798904058.8091,
          750798904058.8091,
          750798904058.8091,
          750798904058.8091,
          750798904058.8091,
          750798904058.8091,
          750798904058.8091,
          750798904058.8091,
          750798904058.8091,
          750798904058.8091,
          750798904058.8091,
          750798904058.8091,
          750798904058.8091,
          750798904058.8091,
          750798904058.8091,
          750798904058.8091,
          750798904058.8091,
          750798904058.8091,
          750798904058.8091,
          750798904058.8091,
          750798904058.8091,
          750798904058.8091,
          750798904058.8091,
          750798904058.8091,
          750798904058.8091,
          750798904058.8091,
          750798904058.8091,
          750798904058.8091,
          750798904058.8091,
          750798904058.8091,
          750798904058.8091,
          750798904058.8091,
          750798904058.8091,
          750798904058.8091,
          750798904058.8091,
          750798904058.8091,
          750798904058.8091,
          750798904058.8091,
          750798904058.8091,
          750798904058.8091,
          750798904058.8091,
          750798904058.8091,
          750798904058.8091,
          750798904058.8091,
          750798904058.8091,
          750798904058.8091,
          750798904058.8091,
          750798904058.8091,
          750798904058.8091,
          750798904058.8091,
          750798904058.8091,
          750798904058.8091,
          750798904058.8091,
          750798904058.8091,
          750798904058.8091,
          750798904058.8091,
          750798904058.8091,
          750798904058.8091,
          750798904058.8091,
          750798904058.8091,
          750798904058.8091,
          750798904058.8091,
          750798904058.8091,
          750798904058.8091,
          750798904058.8091,
          750798904058.8091,
          750798904058.8091,
          750798904058.8091,
          750798904058.8091,
          750798904058.8091,
          750798904058.8091,
          750798904058.8091,
          750798904058.8091,
          750798904058.8091,
          750798904058.8091,
          750798904058.8091,
          750798904058.8091,
          750798904058.8091,
          750798904058.8091,
          750798904058.8091,
          750798904058.8091,
          750798904058.8091,
          750798904058.8091,
          750798904058.8091,
          750798904058.8091,
          750798904058.8091,
          750798904058.8091,
          750798904058.8091,
          750798904058.8091,
          750798904058.8091,
          750798904058.8091,
          750798904058.8091,
          750798904058.8091,
          750798904058.8091,
          750798904058.8091,
          750798904058.8091,
          750798904058.8091,
          750798904058.8091,
          750798904058.8091,
          750798904058.8091,
          750798904058.8091,
          750798904058.8091,
          750798904058.8091,
          750798904058.8091,
          750798904058.8091,
          750798904058.8091,
          750798904058.8091,
          750798904058.8091,
          750798904058.8091,
          750798904058.8091,
          750798904058.8091,
          750798904058.8091,
          750798904058.8091,
          750798904058.8091,
          750798904058.8091,
          750798904058.8091,
          750798904058.8091,
          750798904058.8091,
          750798904058.8091,
          750798904058.8091,
          750798904058.8091,
          750798904058.8091,
          750798904058.8091,
          750798904058.8091,
          750798904058.8091,
          750798904058.8091,
          750798904058.8091,
          750798904058.8091,
          750798904058.8091,
          750798904058.8091,
          750798904058.8091,
          750798904058.8091,
          750798904058.8091,
          750798904058.8091,
          750798904058.8091,
          750798904058.8091,
          750798904058.8091,
          750798904058.8091,
          750798904058.8091,
          750798904058.8091,
          750798904058.8091,
          750798904058.8091,
          750798904058.8091,
          750798904058.8091,
          750798904058.8091,
          750798904058.8091,
          750798904058.8091,
          750798904058.8091,
          750798904058.8091,
          750798904058.8091,
          750798904058.8091,
          750798904058.8091,
          750798904058.8091,
          750798904058.8091,
          750798904058.8091,
          750798904058.8091,
          750798904058.8091,
          750798904058.8091,
          750798904058.8091,
          750798904058.8091,
          750798904058.8091,
          750798904058.8091,
          750798904058.8091,
          750798904058.8091,
          750798904058.8091,
          750798904058.8091,
          750798904058.8091,
          750798904058.8091,
          750798904058.8091,
          750798904058.8091,
          750798904058.8091,
          750798904058.8091,
          750798904058.8091,
          750798904058.8091,
          750798904058.8091,
          750798904058.8091,
          750798904058.8091,
          750798904058.8091,
          750798904058.8091,
          750798904058.8091,
          750798904058.8091,
          750798904058.8091,
          750798904058.8091,
          750798904058.8091,
          750798904058.8091,
          750798904058.8091,
          750798904058.8091,
          750798904058.8091,
          750798904058.8091,
          750798904058.8091,
          750798904058.8091,
          750798904058.8091,
          750798904058.8091,
          750798904058.8091,
          750798904058.8091,
          750798904058.8091,
          750798904058.8091,
          750798904058.8091,
          750798904058.8091,
          750798904058.8091,
          750798904058.8091,
          750798904058.8091,
          750798904058.8091,
          750798904058.8091,
          750798904058.8091,
          750798904058.8091,
          750798904058.8091,
          750798904058.8091,
          750798904058.8091,
          750798904058.8091,
          750798904058.8091,
          750798904058.8091,
          750798904058.8091,
          750798904058.8091,
          750798904058.8091,
          750798904058.8091,
          750798904058.8091,
          750798904058.8091,
          750798904058.8091,
          750798904058.8091,
          750798904058.8091,
          750798904058.8091,
          750798904058.8091,
          750798904058.8091,
          750798904058.8091,
          750798904058.8091,
          750798904058.8091,
          750798904058.8091,
          750798904058.8091,
          750798904058.8091,
          750798904058.8091,
          750798904058.8091,
          750798904058.8091,
          750798904058.8091,
          750798904058.8091,
          750798904058.8091,
          750798904058.8091,
          750798904058.8091,
          750798904058.8091,
          750798904058.8091,
          750798904058.8091,
          750798904058.8091,
          750798904058.8091,
          750798904058.8091,
          750798904058.8091,
          750798904058.8091,
          750798904058.8091,
          750798904058.8091,
          750798904058.8091,
          750798904058.8091,
          750798904058.8091,
          750798904058.8091,
          750798904058.8091,
          750798904058.8091,
          750798904058.8091,
          750798904058.8091,
          750798904058.8091,
          750798904058.8091,
          750798904058.8091,
          750798904058.8091,
          750798904058.8091,
          750798904058.8091,
          750798904058.8091,
          750798904058.8091,
          750798904058.8091,
          750798904058.8091,
          750798904058.8091,
          750798904058.8091,
          750798904058.8091,
          750798904058.8091,
          750798904058.8091,
          750798904058.8091,
          750798904058.8091,
          750798904058.8091,
          750798904058.8091,
          750798904058.8091,
          750798904058.8091,
          750798904058.8091,
          750798904058.8091,
          750798904058.8091,
          750798904058.8091,
          750798904058.8091,
          750798904058.8091,
          750798904058.8091,
          750798904058.8091,
          750798904058.8091,
          750798904058.8091,
          750798904058.8091,
          750798904058.8091,
          750798904058.8091,
          750798904058.8091,
          750798904058.8091,
          750798904058.8091,
          750798904058.8091,
          750798904058.8091,
          750798904058.8091,
          750798904058.8091,
          750798904058.8091,
          750798904058.8091,
          750798904058.8091,
          750798904058.8091,
          750798904058.8091,
          750798904058.8091,
          750798904058.8091,
          750798904058.8091,
          750798904058.8091,
          750798904058.8091,
          750798904058.8091,
          750798904058.8091,
          750798904058.8091,
          750798904058.8091,
          750798904058.8091,
          750798904058.8091,
          750798904058.8091,
          750798904058.8091,
          750798904058.8091,
          750798904058.8091,
          750798904058.8091,
          750798904058.8091,
          750798904058.8091,
          750798904058.8091,
          750798904058.8091,
          750798904058.8091,
          750798904058.8091,
          750798904058.8091,
          750798904058.8091,
          750798904058.8091,
          750798904058.8091,
          750798904058.8091,
          750798904058.8091,
          750798904058.8091,
          750798904058.8091,
          750798904058.8091,
          750798904058.8091,
          750798904058.8091,
          750798904058.8091,
          750798904058.8091,
          750798904058.8091,
          750798904058.8091,
          750798904058.8091,
          750798904058.8091,
          750798904058.8091,
          750798904058.8091,
          750798904058.8091,
          750798904058.8091,
          750798904058.8091,
          750798904058.8091,
          750798904058.8091,
          750798904058.8091,
          750798904058.8091,
          750798904058.8091,
          750798904058.8091,
          750798904058.8091,
          750798904058.8091,
          750798904058.8091,
          750798904058.8091,
          750798904058.8091,
          750798904058.8091,
          750798904058.8091,
          750798904058.8091,
          750798904058.8091,
          750798904058.8091,
          750798904058.8091,
          750798904058.8091,
          750798904058.8091,
          750798904058.8091,
          750798904058.8091,
          750798904058.8091,
          750798904058.8091,
          750798904058.8091,
          750798904058.8091,
          750798904058.8091,
          750798904058.8091,
          750798904058.8091,
          750798904058.8091,
          750798904058.8091,
          750798904058.8091,
          750798904058.8091,
          750798904058.8091,
          750798904058.8091,
          750798904058.8091,
          750798904058.8091,
          750798904058.8091,
          750798904058.8091,
          750798904058.8091,
          750798904058.8091,
          750798904058.8091,
          750798904058.8091,
          750798904058.8091,
          750798904058.8091,
          750798904058.8091,
          750798904058.8091,
          750798904058.8091,
          750798904058.8091,
          750798904058.8091,
          750798904058.8091,
          750798904058.8091,
          750798904058.8091,
          750798904058.8091,
          750798904058.8091,
          750798904058.8091,
          750798904058.8091,
          750798904058.8091,
          750798904058.8091,
          750798904058.8091,
          750798904058.8091,
          750798904058.8091,
          750798904058.8091,
          750798904058.8091,
          750798904058.8091,
          750798904058.8091,
          750798904058.8091,
          750798904058.8091,
          750798904058.8091,
          750798904058.8091,
          750798904058.8091,
          750798904058.8091,
          750798904058.8091,
          750798904058.8091,
          750798904058.8091,
          750798904058.8091,
          750798904058.8091,
          750798904058.8091,
          750798904058.8091,
          750798904058.8091,
          750798904058.8091,
          750798904058.8091,
          750798904058.8091,
          750798904058.8091,
          750798904058.8091,
          750798904058.8091,
          750798904058.8091,
          750798904058.8091,
          750798904058.8091,
          750798904058.8091,
          750798904058.8091,
          750798904058.8091,
          750798904058.8091,
          750798904058.8091,
          750798904058.8091,
          750798904058.8091,
          750798904058.8091,
          750798904058.8091,
          750798904058.8091,
          750798904058.8091,
          750798904058.8091,
          750798904058.8091,
          750798904058.8091,
          750798904058.8091,
          750798904058.8091,
          750798904058.8091,
          750798904058.8091,
          750798904058.8091,
          750798904058.8091,
          750798904058.8091,
          750798904058.8091,
          750798904058.8091,
          750798904058.8091,
          750798904058.8091,
          750798904058.8091,
          750798904058.8091,
          750798904058.8091,
          750798904058.8091,
          750798904058.8091,
          750798904058.8091,
          750798904058.8091,
          750798904058.8091,
          750798904058.8091,
          750798904058.8091,
          750798904058.8091,
          750798904058.8091,
          750798904058.8091,
          750798904058.8091,
          750798904058.8091,
          750798904058.8091,
          750798904058.8091,
          750798904058.8091,
          750798904058.8091,
          750798904058.8091,
          750798904058.8091,
          750798904058.8091,
          750798904058.8091,
          750798904058.8091,
          750798904058.8091,
          750798904058.8091,
          750798904058.8091,
          750798904058.8091,
          750798904058.8091,
          750798904058.8091,
          750798904058.8091,
          750798904058.8091,
          750798904058.8091,
          750798904058.8091,
          750798904058.8091,
          750798904058.8091,
          750798904058.8091,
          750798904058.8091,
          750798904058.8091,
          750798904058.8091,
          750798904058.8091,
          750798904058.8091,
          750798904058.8091,
          750798904058.8091,
          750798904058.8091,
          750798904058.8091,
          750798904058.8091,
          750798904058.8091,
          750798904058.8091,
          750798904058.8091,
          750798904058.8091,
          750798904058.8091,
          750798904058.8091,
          750798904058.8091,
          750798904058.8091,
          750798904058.8091,
          750798904058.8091,
          750798904058.8091,
          750798904058.8091,
          750798904058.8091,
          750798904058.8091,
          750798904058.8091,
          750798904058.8091,
          750798904058.8091,
          750798904058.8091,
          750798904058.8091,
          750798904058.8091,
          750798904058.8091,
          750798904058.8091,
          750798904058.8091,
          750798904058.8091,
          750798904058.8091,
          750798904058.8091,
          750798904058.8091,
          750798904058.8091,
          750798904058.8091,
          750798904058.8091,
          750798904058.8091,
          750798904058.8091,
          750798904058.8091,
          750798904058.8091,
          750798904058.8091,
          750798904058.8091,
          750798904058.8091,
          750798904058.8091,
          750798904058.8091,
          750798904058.8091,
          750798904058.8091,
          750798904058.8091,
          750798904058.8091,
          750798904058.8091,
          750798904058.8091,
          750798904058.8091,
          750798904058.8091,
          750798904058.8091,
          750798904058.8091,
          750798904058.8091,
          750798904058.8091,
          750798904058.8091,
          750798904058.8091,
          750798904058.8091,
          750798904058.8091,
          750798904058.8091,
          750798904058.8091,
          750798904058.8091,
          750798904058.8091,
          750798904058.8091,
          750798904058.8091,
          750798904058.8091,
          750798904058.8091,
          750798904058.8091,
          750798904058.8091,
          750798904058.8091,
          750798904058.8091,
          750798904058.8091,
          750798904058.8091,
          750798904058.8091,
          750798904058.8091,
          750798904058.8091,
          750798904058.8091,
          750798904058.8091,
          750798904058.8091,
          750798904058.8091,
          750798904058.8091,
          750798904058.8091,
          750798904058.8091,
          750798904058.8091,
          750798904058.8091,
          750798904058.8091,
          750798904058.8091,
          750798904058.8091,
          750798904058.8091,
          750798904058.8091,
          750798904058.8091,
          750798904058.8091,
          750798904058.8091,
          750798904058.8091,
          750798904058.8091,
          750798904058.8091,
          750798904058.8091,
          750798904058.8091,
          750798904058.8091,
          750798904058.8091,
          750798904058.8091,
          750798904058.8091,
          750798904058.8091,
          750798904058.8091,
          750798904058.8091,
          750798904058.8091,
          750798904058.8091,
          750798904058.8091,
          750798904058.8091,
          750798904058.8091,
          750798904058.8091,
          750798904058.8091,
          750798904058.8091,
          750798904058.8091,
          750798904058.8091,
          750798904058.8091,
          750798904058.8091,
          750798904058.8091,
          750798904058.8091,
          750798904058.8091,
          750798904058.8091,
          750798904058.8091,
          750798904058.8091,
          750798904058.8091,
          750798904058.8091,
          750798904058.8091,
          750798904058.8091,
          750798904058.8091,
          750798904058.8091,
          750798904058.8091,
          750798904058.8091,
          750798904058.8091,
          750798904058.8091,
          750798904058.8091,
          750798904058.8091,
          750798904058.8091,
          750798904058.8091,
          750798904058.8091,
          750798904058.8091,
          750798904058.8091,
          750798904058.8091,
          750798904058.8091,
          750798904058.8091,
          750798904058.8091,
          750798904058.8091,
          750798904058.8091,
          750798904058.8091,
          750798904058.8091,
          750798904058.8091,
          750798904058.8091,
          750798904058.8091,
          750798904058.8091,
          750798904058.8091,
          750798904058.8091,
          750798904058.8091,
          750798904058.8091,
          750798904058.8091,
          750798904058.8091,
          750798904058.8091,
          750798904058.8091,
          750798904058.8091,
          750798904058.8091,
          750798904058.8091,
          750798904058.8091,
          750798904058.8091,
          750798904058.8091,
          750798904058.8091,
          750798904058.8091,
          750798904058.8091,
          750798904058.8091,
          750798904058.8091,
          750798904058.8091,
          750798904058.8091,
          750798904058.8091,
          750798904058.8091,
          750798904058.8091,
          750798904058.8091,
          750798904058.8091,
          750798904058.8091,
          750798904058.8091,
          750798904058.8091,
          750798904058.8091,
          750798904058.8091,
          750798904058.8091,
          750798904058.8091,
          750798904058.8091,
          750798904058.8091,
          750798904058.8091,
          750798904058.8091,
          750798904058.8091,
          750798904058.8091,
          750798904058.8091,
          750798904058.8091,
          750798904058.8091,
          750798904058.8091,
          750798904058.8091,
          750798904058.8091,
          750798904058.8091,
          750798904058.8091,
          750798904058.8091,
          750798904058.8091,
          750798904058.8091,
          750798904058.8091,
          750798904058.8091,
          750798904058.8091,
          750798904058.8091,
          750798904058.8091,
          750798904058.8091,
          750798904058.8091,
          750798904058.8091,
          750798904058.8091,
          750798904058.8091,
          750798904058.8091,
          750798904058.8091,
          750798904058.8091,
          750798904058.8091,
          750798904058.8091,
          750798904058.8091,
          750798904058.8091,
          750798904058.8091,
          750798904058.8091,
          750798904058.8091,
          750798904058.8091,
          750798904058.8091,
          750798904058.8091,
          750798904058.8091,
          750798904058.8091,
          750798904058.8091,
          750798904058.8091,
          750798904058.8091,
          750798904058.8091,
          750798904058.8091,
          750798904058.8091,
          750798904058.8091,
          750798904058.8091,
          750798904058.8091,
          750798904058.8091,
          750798904058.8091,
          750798904058.8091,
          750798904058.8091,
          750798904058.8091,
          750798904058.8091,
          750798904058.8091,
          750798904058.8091,
          750798904058.8091,
          750798904058.8091,
          750798904058.8091,
          750798904058.8091,
          750798904058.8091,
          750798904058.8091,
          750798904058.8091,
          750798904058.8091,
          750798904058.8091,
          750798904058.8091,
          750798904058.8091,
          750798904058.8091,
          750798904058.8091,
          750798904058.8091,
          750798904058.8091,
          750798904058.8091,
          750798904058.8091,
          750798904058.8091,
          750798904058.8091,
          750798904058.8091,
          750798904058.8091,
          750798904058.8091,
          750798904058.8091,
          750798904058.8091,
          750798904058.8091,
          750798904058.8091,
          750798904058.8091,
          750798904058.8091,
          750798904058.8091,
          750798904058.8091,
          750798904058.8091,
          750798904058.8091,
          750798904058.8091,
          750798904058.8091,
          750798904058.8091,
          750798904058.8091,
          750798904058.8091,
          750798904058.8091,
          750798904058.8091,
          750798904058.8091,
          750798904058.8091,
          750798904058.8091,
          750798904058.8091,
          750798904058.8091,
          750798904058.8091,
          750798904058.8091,
          750798904058.8091,
          750798904058.8091,
          750798904058.8091,
          750798904058.8091,
          750798904058.8091,
          750798904058.8091,
          750798904058.8091,
          750798904058.8091,
          750798904058.8091,
          750798904058.8091,
          750798904058.8091,
          750798904058.8091,
          750798904058.8091,
          750798904058.8091,
          750798904058.8091,
          750798904058.8091,
          750798904058.8091,
          750798904058.8091,
          750798904058.8091,
          750798904058.8091,
          750798904058.8091,
          750798904058.8091,
          750798904058.8091,
          750798904058.8091,
          750798904058.8091,
          750798904058.8091,
          750798904058.8091,
          750798904058.8091,
          750798904058.8091,
          750798904058.8091,
          750798904058.8091,
          750798904058.8091,
          750798904058.8091,
          750798904058.8091,
          750798904058.8091,
          750798904058.8091,
          750798904058.8091,
          750798904058.8091,
          750798904058.8091,
          750798904058.8091,
          750798904058.8091,
          750798904058.8091,
          750798904058.8091,
          750798904058.8091,
          750798904058.8091,
          750798904058.8091,
          750798904058.8091,
          750798904058.8091,
          750798904058.8091,
          750798904058.8091,
          750798904058.8091,
          750798904058.8091,
          750798904058.8091,
          750798904058.8091,
          750798904058.8091,
          750798904058.8091,
          750798904058.8091,
          750798904058.8091,
          750798904058.8091,
          750798904058.8091,
          750798904058.8091,
          750798904058.8091,
          750798904058.8091,
          750798904058.8091,
          750798904058.8091,
          750798904058.8091,
          750798904058.8091,
          750798904058.8091,
          750798904058.8091,
          750798904058.8091,
          750798904058.8091,
          750798904058.8091,
          750798904058.8091,
          750798904058.8091,
          750798904058.8091,
          750798904058.8091,
          750798904058.8091,
          750798904058.8091,
          750798904058.8091,
          750798904058.8091,
          750798904058.8091,
          750798904058.8091,
          750798904058.8091,
          750798904058.8091,
          750798904058.8091,
          750798904058.8091,
          750798904058.8091,
          750798904058.8091,
          750798904058.8091,
          750798904058.8091,
          750798904058.8091,
          750798904058.8091,
          750798904058.8091,
          750798904058.8091,
          750798904058.8091,
          750798904058.8091,
          750798904058.8091,
          750798904058.8091,
          750798904058.8091,
          750798904058.8091,
          750798904058.8091,
          750798904058.8091,
          750798904058.8091,
          750798904058.8091,
          750798904058.8091,
          750798904058.8091,
          750798904058.8091,
          750798904058.8091,
          750798904058.8091,
          750798904058.8091,
          750798904058.8091,
          750798904058.8091,
          750798904058.8091,
          750798904058.8091,
          750798904058.8091,
          750798904058.8091,
          750798904058.8091,
          750798904058.8091,
          750798904058.8091,
          750798904058.8091,
          750798904058.8091,
          750798904058.8091,
          750798904058.8091,
          750798904058.8091,
          750798904058.8091,
          750798904058.8091,
          750798904058.8091,
          750798904058.8091,
          750798904058.8091,
          750798904058.8091,
          750798904058.8091,
          750798904058.8091,
          750798904058.8091,
          750798904058.8091,
          750798904058.8091,
          750798904058.8091,
          750798904058.8091,
          750798904058.8091,
          750798904058.8091,
          750798904058.8091,
          750798904058.8091,
          750798904058.8091,
          750798904058.8091,
          750798904058.8091,
          750798904058.8091,
          750798904058.8091,
          750798904058.8091,
          750798904058.8091,
          750798904058.8091,
          750798904058.8091,
          750798904058.8091,
          750798904058.8091,
          750798904058.8091,
          750798904058.8091,
          750798904058.8091,
          750798904058.8091,
          750798904058.8091,
          750798904058.8091,
          750798904058.8091,
          750798904058.8091,
          750798904058.8091,
          750798904058.8091,
          750798904058.8091,
          750798904058.8091,
          750798904058.8091,
          750798904058.8091,
          750798904058.8091,
          750798904058.8091,
          750798904058.8091,
          750798904058.8091,
          750798904058.8091,
          750798904058.8091,
          750798904058.8091,
          750798904058.8091,
          750798904058.8091,
          750798904058.8091,
          750798904058.8091,
          750798904058.8091,
          750798904058.8091,
          750798904058.8091,
          750798904058.8091,
          750798904058.8091,
          750798904058.8091,
          750798904058.8091,
          750798904058.8091,
          750798904058.8091,
          750798904058.8091,
          750798904058.8091,
          750798904058.8091,
          750798904058.8091,
          750798904058.8091,
          750798904058.8091,
          750798904058.8091,
          750798904058.8091,
          750798904058.8091,
          750798904058.8091,
          750798904058.8091,
          750798904058.8091,
          750798904058.8091,
          750798904058.8091,
          750798904058.8091,
          750798904058.8091,
          750798904058.8091,
          750798904058.8091,
          750798904058.8091,
          750798904058.8091,
          750798904058.8091,
          750798904058.8091,
          750798904058.8091,
          750798904058.8091,
          750798904058.8091,
          750798904058.8091,
          750798904058.8091,
          750798904058.8091,
          750798904058.8091,
          750798904058.8091,
          750798904058.8091,
          750798904058.8091,
          750798904058.8091,
          750798904058.8091,
          750798904058.8091,
          750798904058.8091,
          750798904058.8091,
          750798904058.8091,
          750798904058.8091,
          750798904058.8091,
          750798904058.8091,
          750798904058.8091,
          750798904058.8091,
          750798904058.8091,
          750798904058.8091,
          750798904058.8091,
          750798904058.8091,
          750798904058.8091,
          750798904058.8091,
          750798904058.8091,
          750798904058.8091,
          750798904058.8091,
          750798904058.8091,
          750798904058.8091,
          750798904058.8091,
          750798904058.8091,
          750798904058.8091,
          750798904058.8091,
          750798904058.8091,
          750798904058.8091,
          750798904058.8091,
          750798904058.8091,
          750798904058.8091,
          750798904058.8091,
          750798904058.8091,
          750798904058.8091,
          750798904058.8091,
          750798904058.8091,
          750798904058.8091,
          750798904058.8091,
          750798904058.8091,
          750798904058.8091,
          750798904058.8091,
          750798904058.8091,
          750798904058.8091,
          750798904058.8091,
          750798904058.8091,
          750798904058.8091,
          750798904058.8091,
          750798904058.8091,
          750798904058.8091,
          750798904058.8091,
          750798904058.8091,
          750798904058.8091,
          750798904058.8091,
          750798904058.8091,
          750798904058.8091,
          750798904058.8091,
          750798904058.8091,
          750798904058.8091,
          750798904058.8091,
          750798904058.8091,
          750798904058.8091,
          750798904058.8091,
          750798904058.8091,
          750798904058.8091,
          750798904058.8091,
          750798904058.8091,
          750798904058.8091,
          750798904058.8091,
          750798904058.8091,
          750798904058.8091,
          750798904058.8091,
          750798904058.8091,
          750798904058.8091,
          750798904058.8091,
          750798904058.8091,
          750798904058.8091,
          750798904058.8091,
          750798904058.8091,
          750798904058.8091,
          750798904058.8091,
          750798904058.8091,
          750798904058.8091,
          750798904058.8091,
          750798904058.8091,
          750798904058.8091,
          750798904058.8091,
          750798904058.8091,
          750798904058.8091,
          750798904058.8091,
          750798904058.8091,
          750798904058.8091,
          750798904058.8091,
          750798904058.8091,
          750798904058.8091,
          750798904058.8091,
          750798904058.8091,
          750798904058.8091,
          750798904058.8091,
          750798904058.8091,
          750798904058.8091,
          750798904058.8091,
          750798904058.8091,
          750798904058.8091,
          750798904058.8091,
          750798904058.8091,
          750798904058.8091,
          750798904058.8091,
          750798904058.8091,
          750798904058.8091,
          750798904058.8091,
          750798904058.8091,
          750798904058.8091,
          750798904058.8091,
          750798904058.8091,
          750798904058.8091,
          750798904058.8091,
          750798904058.8091,
          750798904058.8091,
          750798904058.8091,
          750798904058.8091,
          750798904058.8091,
          750798904058.8091,
          750798904058.8091,
          750798904058.8091,
          750798904058.8091,
          750798904058.8091,
          750798904058.8091,
          750798904058.8091,
          750798904058.8091,
          750798904058.8091,
          750798904058.8091,
          750798904058.8091,
          750798904058.8091,
          750798904058.8091,
          750798904058.8091,
          750798904058.8091,
          750798904058.8091,
          750798904058.8091,
          750798904058.8091,
          750798904058.8091,
          750798904058.8091,
          750798904058.8091,
          750798904058.8091,
          750798904058.8091,
          750798904058.8091,
          750798904058.8091,
          750798904058.8091,
          750798904058.8091,
          750798904058.8091,
          750798904058.8091,
          750798904058.8091,
          750798904058.8091,
          750798904058.8091,
          750798904058.8091,
          750798904058.8091,
          750798904058.8091,
          750798904058.8091,
          750798904058.8091,
          750798904058.8091,
          750798904058.8091,
          750798904058.8091,
          750798904058.8091,
          750798904058.8091,
          750798904058.8091,
          750798904058.8091,
          750798904058.8091,
          750798904058.8091,
          750798904058.8091,
          750798904058.8091,
          750798904058.8091,
          750798904058.8091,
          750798904058.8091,
          750798904058.8091,
          750798904058.8091,
          750798904058.8091,
          750798904058.8091,
          750798904058.8091,
          750798904058.8091,
          750798904058.8091,
          750798904058.8091,
          750798904058.8091,
          750798904058.8091,
          750798904058.8091,
          750798904058.8091,
          750798904058.8091,
          750798904058.8091,
          750798904058.8091,
          750798904058.8091,
          750798904058.8091,
          750798904058.8091,
          750798904058.8091,
          750798904058.8091,
          750798904058.8091,
          750798904058.8091,
          750798904058.8091,
          750798904058.8091,
          750798904058.8091,
          750798904058.8091,
          750798904058.8091,
          750798904058.8091,
          750798904058.8091,
          750798904058.8091,
          750798904058.8091,
          750798904058.8091,
          750798904058.8091,
          750798904058.8091,
          750798904058.8091,
          750798904058.8091,
          750798904058.8091,
          750798904058.8091,
          750798904058.8091,
          750798904058.8091,
          750798904058.8091,
          750798904058.8091,
          750798904058.8091,
          750798904058.8091,
          750798904058.8091,
          750798904058.8091,
          750798904058.8091,
          750798904058.8091,
          750798904058.8091,
          750798904058.8091,
          750798904058.8091,
          750798904058.8091,
          750798904058.8091,
          750798904058.8091,
          750798904058.8091,
          750798904058.8091,
          750798904058.8091,
          750798904058.8091,
          750798904058.8091,
          750798904058.8091,
          750798904058.8091,
          750798904058.8091,
          750798904058.8091,
          750798904058.8091,
          750798904058.8091,
          750798904058.8091,
          750798904058.8091,
          750798904058.8091,
          750798904058.8091,
          750798904058.8091,
          750798904058.8091,
          750798904058.8091,
          750798904058.8091,
          750798904058.8091,
          750798904058.8091,
          750798904058.8091,
          750798904058.8091,
          750798904058.8091,
          750798904058.8091,
          750798904058.8091,
          750798904058.8091,
          750798904058.8091,
          750798904058.8091,
          750798904058.8091,
          750798904058.8091,
          750798904058.8091,
          750798904058.8091,
          750798904058.8091,
          750798904058.8091,
          750798904058.8091,
          750798904058.8091,
          750798904058.8091,
          750798904058.8091,
          750798904058.8091,
          750798904058.8091,
          750798904058.8091,
          750798904058.8091,
          750798904058.8091,
          750798904058.8091,
          750798904058.8091,
          750798904058.8091,
          750798904058.8091,
          750798904058.8091,
          750798904058.8091,
          750798904058.8091,
          750798904058.8091,
          750798904058.8091,
          750798904058.8091,
          750798904058.8091,
          750798904058.8091,
          750798904058.8091,
          750798904058.8091,
          750798904058.8091,
          750798904058.8091,
          750798904058.8091,
          750798904058.8091,
          750798904058.8091,
          750798904058.8091,
          750798904058.8091,
          750798904058.8091,
          750798904058.8091,
          750798904058.8091,
          750798904058.8091,
          750798904058.8091,
          750798904058.8091,
          750798904058.8091,
          750798904058.8091,
          750798904058.8091,
          750798904058.8091,
          750798904058.8091,
          750798904058.8091,
          750798904058.8091,
          750798904058.8091,
          750798904058.8091,
          750798904058.8091,
          750798904058.8091,
          750798904058.8091,
          750798904058.8091,
          750798904058.8091,
          750798904058.8091,
          750798904058.8091,
          750798904058.8091,
          750798904058.8091,
          750798904058.8091,
          750798904058.8091,
          750798904058.8091,
          750798904058.8091,
          750798904058.8091,
          750798904058.8091,
          750798904058.8091,
          750798904058.8091,
          750798904058.8091,
          750798904058.8091,
          750798904058.8091,
          750798904058.8091,
          750798904058.8091,
          750798904058.8091,
          750798904058.8091,
          750798904058.8091,
          750798904058.8091,
          750798904058.8091,
          750798904058.8091,
          750798904058.8091,
          750798904058.8091,
          750798904058.8091,
          750798904058.8091,
          750798904058.8091,
          750798904058.8091,
          750798904058.8091,
          750798904058.8091,
          750798904058.8091,
          750798904058.8091,
          750798904058.8091,
          750798904058.8091,
          750798904058.8091,
          750798904058.8091,
          750798904058.8091,
          750798904058.8091,
          750798904058.8091,
          750798904058.8091,
          750798904058.8091,
          750798904058.8091,
          750798904058.8091,
          750798904058.8091,
          750798904058.8091,
          750798904058.8091,
          750798904058.8091,
          750798904058.8091,
          750798904058.8091,
          750798904058.8091,
          750798904058.8091,
          750798904058.8091,
          750798904058.8091,
          750798904058.8091,
          750798904058.8091,
          750798904058.8091,
          750798904058.8091,
          750798904058.8091,
          750798904058.8091,
          750798904058.8091,
          750798904058.8091,
          750798904058.8091,
          750798904058.8091,
          750798904058.8091,
          750798904058.8091,
          750798904058.8091,
          750798904058.8091,
          750798904058.8091,
          750798904058.8091,
          750798904058.8091,
          750798904058.8091,
          750798904058.8091,
          750798904058.8091,
          750798904058.8091,
          750798904058.8091,
          750798904058.8091,
          750798904058.8091,
          750798904058.8091,
          750798904058.8091,
          750798904058.8091,
          750798904058.8091,
          750798904058.8091,
          750798904058.8091,
          750798904058.8091,
          750798904058.8091,
          750798904058.8091,
          750798904058.8091,
          750798904058.8091,
          750798904058.8091,
          750798904058.8091,
          750798904058.8091,
          750798904058.8091,
          750798904058.8091,
          750798904058.8091,
          750798904058.8091,
          750798904058.8091,
          750798904058.8091,
          750798904058.8091,
          750798904058.8091,
          750798904058.8091,
          750798904058.8091,
          750798904058.8091,
          750798904058.8091,
          750798904058.8091,
          750798904058.8091,
          750798904058.8091,
          750798904058.8091,
          750798904058.8091,
          750798904058.8091,
          750798904058.8091,
          750798904058.8091,
          750798904058.8091,
          750798904058.8091,
          750798904058.8091,
          750798904058.8091,
          750798904058.8091,
          750798904058.8091,
          750798904058.8091,
          750798904058.8091,
          750798904058.8091,
          750798904058.8091,
          750798904058.8091,
          750798904058.8091,
          750798904058.8091,
          750798904058.8091,
          750798904058.8091,
          750798904058.8091,
          750798904058.8091,
          750798904058.8091,
          750798904058.8091,
          750798904058.8091,
          750798904058.8091,
          750798904058.8091,
          750798904058.8091,
          750798904058.8091,
          750798904058.8091,
          750798904058.8091,
          750798904058.8091,
          750798904058.8091,
          750798904058.8091,
          750798904058.8091,
          750798904058.8091,
          750798904058.8091,
          750798904058.8091,
          750798904058.8091,
          750798904058.8091,
          750798904058.8091,
          750798904058.8091,
          750798904058.8091,
          750798904058.8091,
          750798904058.8091,
          750798904058.8091,
          750798904058.8091,
          750798904058.8091,
          750798904058.8091,
          750798904058.8091,
          750798904058.8091,
          750798904058.8091,
          750798904058.8091,
          750798904058.8091,
          750798904058.8091,
          750798904058.8091,
          750798904058.8091,
          750798904058.8091,
          750798904058.8091,
          750798904058.8091,
          750798904058.8091,
          750798904058.8091,
          750798904058.8091,
          750798904058.8091,
          750798904058.8091,
          750798904058.8091,
          750798904058.8091,
          750798904058.8091,
          750798904058.8091,
          750798904058.8091,
          750798904058.8091,
          750798904058.8091,
          750798904058.8091,
          750798904058.8091,
          750798904058.8091,
          750798904058.8091,
          750798904058.8091,
          750798904058.8091,
          750798904058.8091,
          750798904058.8091,
          750798904058.8091,
          750798904058.8091,
          750798904058.8091,
          750798904058.8091,
          750798904058.8091,
          750798904058.8091,
          750798904058.8091,
          750798904058.8091,
          750798904058.8091,
          750798904058.8091,
          750798904058.8091,
          750798904058.8091,
          750798904058.8091,
          750798904058.8091,
          750798904058.8091,
          750798904058.8091,
          750798904058.8091,
          750798904058.8091,
          750798904058.8091,
          750798904058.8091,
          750798904058.8091,
          750798904058.8091,
          750798904058.8091,
          750798904058.8091,
          750798904058.8091,
          750798904058.8091,
          750798904058.8091,
          750798904058.8091,
          750798904058.8091,
          750798904058.8091,
          750798904058.8091,
          750798904058.8091,
          750798904058.8091,
          750798904058.8091,
          750798904058.8091,
          750798904058.8091,
          750798904058.8091,
          750798904058.8091,
          750798904058.8091,
          750798904058.8091,
          750798904058.8091,
          750798904058.8091,
          750798904058.8091,
          750798904058.8091,
          750798904058.8091,
          750798904058.8091,
          750798904058.8091,
          750798904058.8091,
          750798904058.8091,
          750798904058.8091,
          750798904058.8091,
          750798904058.8091,
          750798904058.8091,
          750798904058.8091,
          750798904058.8091,
          750798904058.8091,
          750798904058.8091,
          750798904058.8091,
          750798904058.8091,
          750798904058.8091,
          750798904058.8091,
          750798904058.8091,
          750798904058.8091,
          750798904058.8091,
          750798904058.8091,
          750798904058.8091,
          750798904058.8091,
          750798904058.8091,
          750798904058.8091,
          750798904058.8091,
          750798904058.8091,
          750798904058.8091,
          750798904058.8091,
          750798904058.8091,
          750798904058.8091,
          750798904058.8091,
          750798904058.8091,
          750798904058.8091,
          750798904058.8091,
          750798904058.8091,
          750798904058.8091,
          750798904058.8091,
          750798904058.8091,
          750798904058.8091,
          750798904058.8091,
          750798904058.8091,
          750798904058.8091,
          750798904058.8091,
          750798904058.8091,
          750798904058.8091,
          750798904058.8091,
          750798904058.8091,
          750798904058.8091,
          750798904058.8091,
          750798904058.8091,
          750798904058.8091,
          750798904058.8091,
          750798904058.8091,
          750798904058.8091,
          750798904058.8091,
          750798904058.8091,
          750798904058.8091,
          750798904058.8091,
          750798904058.8091,
          750798904058.8091,
          750798904058.8091,
          750798904058.8091,
          750798904058.8091,
          750798904058.8091,
          750798904058.8091,
          750798904058.8091,
          750798904058.8091,
          750798904058.8091,
          750798904058.8091,
          750798904058.8091,
          750798904058.8091,
          750798904058.8091,
          750798904058.8091,
          750798904058.8091,
          750798904058.8091,
          750798904058.8091,
          750798904058.8091,
          750798904058.8091,
          750798904058.8091,
          750798904058.8091,
          750798904058.8091,
          750798904058.8091,
          750798904058.8091,
          750798904058.8091,
          750798904058.8091,
          750798904058.8091,
          750798904058.8091,
          750798904058.8091,
          750798904058.8091,
          750798904058.8091,
          750798904058.8091,
          750798904058.8091,
          750798904058.8091,
          750798904058.8091,
          750798904058.8091,
          750798904058.8091,
          750798904058.8091,
          750798904058.8091,
          750798904058.8091,
          750798904058.8091,
          750798904058.8091,
          750798904058.8091,
          750798904058.8091,
          750798904058.8091,
          750798904058.8091,
          750798904058.8091,
          750798904058.8091,
          750798904058.8091,
          750798904058.8091,
          750798904058.8091,
          750798904058.8091,
          750798904058.8091,
          750798904058.8091,
          750798904058.8091,
          750798904058.8091,
          750798904058.8091,
          750798904058.8091,
          750798904058.8091,
          750798904058.8091,
          750798904058.8091,
          750798904058.8091,
          750798904058.8091,
          750798904058.8091,
          750798904058.8091,
          750798904058.8091,
          750798904058.8091,
          750798904058.8091,
          750798904058.8091,
          750798904058.8091,
          750798904058.8091,
          750798904058.8091,
          750798904058.8091,
          750798904058.8091,
          750798904058.8091,
          750798904058.8091,
          750798904058.8091,
          750798904058.8091,
          750798904058.8091,
          750798904058.8091,
          750798904058.8091,
          750798904058.8091,
          750798904058.8091,
          750798904058.8091,
          750798904058.8091,
          750798904058.8091,
          750798904058.8091,
          750798904058.8091,
          750798904058.8091,
          750798904058.8091,
          750798904058.8091,
          750798904058.8091,
          750798904058.8091,
          750798904058.8091,
          750798904058.8091,
          750798904058.8091,
          750798904058.8091,
          750798904058.8091,
          750798904058.8091,
          750798904058.8091,
          750798904058.8091,
          750798904058.8091,
          750798904058.8091,
          750798904058.8091,
          750798904058.8091,
          750798904058.8091,
          750798904058.8091,
          750798904058.8091,
          750798904058.8091,
          750798904058.8091,
          750798904058.8091,
          750798904058.8091,
          750798904058.8091,
          750798904058.8091,
          750798904058.8091,
          750798904058.8091,
          750798904058.8091,
          750798904058.8091,
          750798904058.8091,
          750798904058.8091,
          750798904058.8091,
          750798904058.8091,
          750798904058.8091,
          750798904058.8091,
          750798904058.8091,
          750798904058.8091,
          750798904058.8091,
          750798904058.8091,
          750798904058.8091,
          750798904058.8091,
          750798904058.8091,
          750798904058.8091,
          750798904058.8091,
          750798904058.8091,
          750798904058.8091,
          750798904058.8091,
          750798904058.8091,
          750798904058.8091,
          750798904058.8091,
          750798904058.8091,
          750798904058.8091,
          750798904058.8091,
          750798904058.8091,
          750798904058.8091,
          750798904058.8091,
          750798904058.8091,
          750798904058.8091,
          750798904058.8091,
          750798904058.8091,
          750798904058.8091,
          750798904058.8091,
          750798904058.8091,
          750798904058.8091,
          750798904058.8091,
          750798904058.8091,
          750798904058.8091,
          750798904058.8091,
          750798904058.8091,
          750798904058.8091,
          750798904058.8091,
          750798904058.8091,
          750798904058.8091,
          750798904058.8091,
          750798904058.8091,
          750798904058.8091,
          750798904058.8091,
          750798904058.8091,
          750798904058.8091,
          750798904058.8091,
          750798904058.8091,
          750798904058.8091,
          750798904058.8091,
          750798904058.8091,
          750798904058.8091,
          750798904058.8091,
          750798904058.8091,
          750798904058.8091,
          750798904058.8091,
          750798904058.8091,
          750798904058.8091,
          750798904058.8091,
          750798904058.8091,
          750798904058.8091,
          750798904058.8091,
          750798904058.8091,
          750798904058.8091,
          750798904058.8091,
          750798904058.8091,
          750798904058.8091,
          750798904058.8091,
          750798904058.8091,
          750798904058.8091,
          750798904058.8091,
          750798904058.8091,
          750798904058.8091,
          750798904058.8091,
          750798904058.8091,
          750798904058.8091,
          750798904058.8091,
          750798904058.8091,
          750798904058.8091,
          750798904058.8091,
          750798904058.8091,
          750798904058.8091,
          750798904058.8091,
          750798904058.8091,
          750798904058.8091,
          750798904058.8091,
          750798904058.8091,
          750798904058.8091,
          750798904058.8091,
          750798904058.8091,
          750798904058.8091,
          750798904058.8091,
          750798904058.8091,
          750798904058.8091,
          750798904058.8091,
          750798904058.8091,
          750798904058.8091,
          750798904058.8091,
          750798904058.8091,
          750798904058.8091,
          750798904058.8091,
          750798904058.8091,
          750798904058.8091,
          750798904058.8091,
          750798904058.8091,
          750798904058.8091,
          750798904058.8091,
          750798904058.8091,
          750798904058.8091,
          750798904058.8091,
          750798904058.8091,
          750798904058.8091,
          750798904058.8091,
          750798904058.8091,
          750798904058.8091,
          750798904058.8091,
          750798904058.8091,
          750798904058.8091,
          750798904058.8091,
          750798904058.8091,
          750798904058.8091,
          750798904058.8091,
          750798904058.8091,
          750798904058.8091,
          750798904058.8091,
          750798904058.8091,
          750798904058.8091,
          750798904058.8091,
          750798904058.8091,
          750798904058.8091,
          750798904058.8091,
          750798904058.8091,
          750798904058.8091,
          750798904058.8091,
          750798904058.8091,
          750798904058.8091,
          750798904058.8091,
          750798904058.8091,
          750798904058.8091,
          750798904058.8091,
          750798904058.8091,
          750798904058.8091,
          750798904058.8091,
          750798904058.8091,
          750798904058.8091,
          750798904058.8091,
          750798904058.8091,
          750798904058.8091,
          750798904058.8091,
          750798904058.8091,
          750798904058.8091,
          750798904058.8091,
          750798904058.8091,
          750798904058.8091,
          750798904058.8091,
          750798904058.8091,
          750798904058.8091,
          750798904058.8091,
          750798904058.8091,
          750798904058.8091,
          750798904058.8091,
          750798904058.8091,
          750798904058.8091,
          750798904058.8091,
          750798904058.8091,
          750798904058.8091,
          750798904058.8091,
          750798904058.8091,
          750798904058.8091,
          750798904058.8091,
          750798904058.8091,
          750798904058.8091,
          750798904058.8091,
          750798904058.8091,
          750798904058.8091,
          750798904058.8091,
          750798904058.8091,
          750798904058.8091,
          750798904058.8091,
          750798904058.8091,
          750798904058.8091,
          750798904058.8091,
          750798904058.8091,
          750798904058.8091,
          750798904058.8091,
          750798904058.8091,
          750798904058.8091,
          750798904058.8091,
          750798904058.8091,
          750798904058.8091,
          750798904058.8091,
          750798904058.8091,
          750798904058.8091,
          750798904058.8091,
          750798904058.8091,
          750798904058.8091,
          750798904058.8091,
          750798904058.8091,
          750798904058.8091,
          750798904058.8091,
          750798904058.8091,
          750798904058.8091,
          750798904058.8091,
          750798904058.8091,
          750798904058.8091,
          750798904058.8091,
          750798904058.8091,
          750798904058.8091,
          750798904058.8091,
          750798904058.8091,
          750798904058.8091,
          750798904058.8091,
          750798904058.8091,
          750798904058.8091,
          750798904058.8091,
          750798904058.8091,
          750798904058.8091,
          750798904058.8091,
          750798904058.8091,
          750798904058.8091,
          750798904058.8091,
          750798904058.8091,
          750798904058.8091,
          750798904058.8091,
          750798904058.8091,
          750798904058.8091,
          750798904058.8091,
          750798904058.8091,
          750798904058.8091,
          750798904058.8091,
          750798904058.8091,
          750798904058.8091,
          750798904058.8091,
          750798904058.8091,
          750798904058.8091,
          750798904058.8091,
          750798904058.8091,
          750798904058.8091,
          750798904058.8091,
          750798904058.8091,
          750798904058.8091,
          750798904058.8091,
          750798904058.8091,
          750798904058.8091,
          750798904058.8091,
          750798904058.8091,
          750798904058.8091,
          750798904058.8091,
          750798904058.8091,
          750798904058.8091,
          750798904058.8091,
          750798904058.8091,
          750798904058.8091,
          750798904058.8091,
          750798904058.8091,
          750798904058.8091,
          750798904058.8091,
          750798904058.8091,
          750798904058.8091,
          750798904058.8091,
          750798904058.8091,
          750798904058.8091,
          750798904058.8091,
          750798904058.8091,
          750798904058.8091,
          750798904058.8091,
          750798904058.8091,
          750798904058.8091,
          750798904058.8091,
          750798904058.8091,
          750798904058.8091,
          750798904058.8091,
          750798904058.8091,
          750798904058.8091,
          750798904058.8091,
          750798904058.8091,
          750798904058.8091,
          750798904058.8091,
          750798904058.8091,
          750798904058.8091,
          750798904058.8091,
          750798904058.8091,
          750798904058.8091,
          750798904058.8091,
          750798904058.8091,
          750798904058.8091,
          750798904058.8091,
          750798904058.8091,
          750798904058.8091,
          750798904058.8091,
          750798904058.8091,
          750798904058.8091,
          750798904058.8091,
          750798904058.8091,
          750798904058.8091,
          750798904058.8091,
          750798904058.8091,
          750798904058.8091,
          750798904058.8091,
          750798904058.8091,
          750798904058.8091,
          750798904058.8091,
          750798904058.8091,
          750798904058.8091,
          750798904058.8091,
          750798904058.8091,
          750798904058.8091,
          750798904058.8091,
          750798904058.8091,
          750798904058.8091,
          750798904058.8091,
          750798904058.8091,
          750798904058.8091,
          750798904058.8091,
          750798904058.8091,
          750798904058.8091,
          750798904058.8091,
          750798904058.8091,
          750798904058.8091,
          750798904058.8091,
          750798904058.8091,
          750798904058.8091,
          750798904058.8091,
          750798904058.8091,
          750798904058.8091,
          750798904058.8091,
          750798904058.8091,
          750798904058.8091,
          750798904058.8091,
          750798904058.8091,
          750798904058.8091,
          750798904058.8091,
          750798904058.8091,
          750798904058.8091,
          750798904058.8091,
          750798904058.8091,
          750798904058.8091,
          750798904058.8091,
          750798904058.8091,
          750798904058.8091,
          750798904058.8091,
          750798904058.8091,
          750798904058.8091,
          750798904058.8091,
          750798904058.8091,
          750798904058.8091,
          750798904058.8091,
          750798904058.8091,
          750798904058.8091,
          750798904058.8091,
          750798904058.8091,
          750798904058.8091,
          750798904058.8091,
          750798904058.8091,
          750798904058.8091,
          750798904058.8091,
          750798904058.8091,
          750798904058.8091,
          750798904058.8091,
          750798904058.8091,
          750798904058.8091,
          750798904058.8091,
          750798904058.8091,
          750798904058.8091,
          750798904058.8091,
          750798904058.8091,
          750798904058.8091,
          750798904058.8091,
          750798904058.8091,
          750798904058.8091,
          750798904058.8091,
          750798904058.8091,
          750798904058.8091,
          750798904058.8091,
          750798904058.8091,
          750798904058.8091,
          750798904058.8091,
          750798904058.8091,
          750798904058.8091,
          750798904058.8091,
          750798904058.8091,
          750798904058.8091,
          750798904058.8091,
          750798904058.8091,
          750798904058.8091,
          750798904058.8091,
          750798904058.8091,
          750798904058.8091,
          750798904058.8091,
          750798904058.8091,
          750798904058.8091,
          750798904058.8091,
          750798904058.8091,
          750798904058.8091,
          750798904058.8091,
          750798904058.8091,
          750798904058.8091,
          750798904058.8091,
          750798904058.8091,
          750798904058.8091,
          750798904058.8091,
          750798904058.8091,
          750798904058.8091,
          750798904058.8091,
          750798904058.8091,
          750798904058.8091,
          750798904058.8091,
          750798904058.8091,
          750798904058.8091,
          750798904058.8091,
          750798904058.8091,
          750798904058.8091,
          750798904058.8091,
          750798904058.8091,
          750798904058.8091,
          750798904058.8091,
          750798904058.8091,
          750798904058.8091,
          750798904058.8091,
          750798904058.8091,
          750798904058.8091,
          750798904058.8091,
          750798904058.8091,
          750798904058.8091,
          750798904058.8091,
          750798904058.8091,
          750798904058.8091,
          750798904058.8091,
          750798904058.8091,
          750798904058.8091,
          750798904058.8091,
          750798904058.8091,
          750798904058.8091,
          750798904058.8091,
          750798904058.8091,
          750798904058.8091,
          750798904058.8091,
          750798904058.8091,
          750798904058.8091,
          750798904058.8091,
          750798904058.8091,
          750798904058.8091,
          750798904058.8091,
          750798904058.8091,
          750798904058.8091,
          750798904058.8091,
          750798904058.8091,
          750798904058.8091,
          750798904058.8091,
          750798904058.8091,
          750798904058.8091,
          750798904058.8091,
          750798904058.8091,
          750798904058.8091,
          750798904058.8091,
          750798904058.8091,
          750798904058.8091,
          750798904058.8091,
          750798904058.8091,
          750798904058.8091,
          750798904058.8091,
          750798904058.8091,
          750798904058.8091,
          750798904058.8091,
          750798904058.8091,
          750798904058.8091,
          750798904058.8091,
          750798904058.8091,
          750798904058.8091,
          750798904058.8091,
          750798904058.8091,
          750798904058.8091,
          750798904058.8091,
          750798904058.8091,
          750798904058.8091,
          750798904058.8091,
          750798904058.8091,
          750798904058.8091,
          750798904058.8091,
          750798904058.8091,
          750798904058.8091,
          750798904058.8091,
          750798904058.8091,
          750798904058.8091,
          750798904058.8091,
          750798904058.8091,
          750798904058.8091,
          750798904058.8091,
          750798904058.8091,
          750798904058.8091,
          750798904058.8091,
          750798904058.8091,
          750798904058.8091,
          750798904058.8091,
          750798904058.8091,
          750798904058.8091,
          750798904058.8091,
          750798904058.8091,
          750798904058.8091,
          750798904058.8091,
          750798904058.8091,
          750798904058.8091,
          750798904058.8091,
          750798904058.8091,
          750798904058.8091,
          750798904058.8091,
          750798904058.8091,
          750798904058.8091,
          750798904058.8091,
          750798904058.8091,
          750798904058.8091,
          750798904058.8091,
          750798904058.8091,
          750798904058.8091,
          750798904058.8091,
          750798904058.8091,
          750798904058.8091,
          750798904058.8091,
          750798904058.8091,
          750798904058.8091,
          750798904058.8091,
          750798904058.8091,
          750798904058.8091,
          750798904058.8091,
          750798904058.8091,
          750798904058.8091,
          750798904058.8091,
          750798904058.8091,
          750798904058.8091,
          750798904058.8091,
          750798904058.8091,
          750798904058.8091,
          750798904058.8091,
          750798904058.8091,
          750798904058.8091,
          750798904058.8091,
          750798904058.8091,
          750798904058.8091,
          750798904058.8091,
          750798904058.8091,
          750798904058.8091,
          750798904058.8091,
          750798904058.8091,
          750798904058.8091,
          750798904058.8091,
          750798904058.8091,
          750798904058.8091,
          750798904058.8091,
          750798904058.8091,
          750798904058.8091,
          750798904058.8091,
          750798904058.8091,
          750798904058.8091,
          750798904058.8091,
          750798904058.8091,
          750798904058.8091,
          750798904058.8091,
          750798904058.8091,
          750798904058.8091,
          750798904058.8091,
          750798904058.8091,
          750798904058.8091,
          750798904058.8091,
          750798904058.8091,
          750798904058.8091,
          750798904058.8091,
          750798904058.8091,
          750798904058.8091,
          750798904058.8091,
          750798904058.8091,
          750798904058.8091,
          750798904058.8091,
          750798904058.8091,
          750798904058.8091,
          750798904058.8091,
          750798904058.8091,
          750798904058.8091,
          750798904058.8091,
          750798904058.8091,
          750798904058.8091,
          750798904058.8091,
          750798904058.8091,
          750798904058.8091,
          750798904058.8091,
          750798904058.8091,
          750798904058.8091,
          750798904058.8091,
          750798904058.8091,
          750798904058.8091,
          750798904058.8091,
          750798904058.8091,
          750798904058.8091,
          750798904058.8091,
          750798904058.8091,
          750798904058.8091,
          750798904058.8091,
          750798904058.8091,
          750798904058.8091,
          750798904058.8091,
          750798904058.8091,
          750798904058.8091,
          750798904058.8091,
          750798904058.8091,
          750798904058.8091,
          750798904058.8091,
          750798904058.8091,
          750798904058.8091,
          750798904058.8091,
          750798904058.8091,
          750798904058.8091,
          750798904058.8091,
          750798904058.8091,
          750798904058.8091,
          750798904058.8091,
          750798904058.8091,
          750798904058.8091,
          750798904058.8091,
          750798904058.8091,
          750798904058.8091,
          750798904058.8091,
          750798904058.8091,
          750798904058.8091,
          750798904058.8091,
          750798904058.8091,
          750798904058.8091,
          750798904058.8091,
          750798904058.8091,
          750798904058.8091,
          750798904058.8091,
          750798904058.8091,
          750798904058.8091,
          750798904058.8091,
          750798904058.8091,
          750798904058.8091,
          750798904058.8091,
          750798904058.8091,
          750798904058.8091,
          750798904058.8091,
          750798904058.8091,
          750798904058.8091,
          750798904058.8091,
          750798904058.8091,
          750798904058.8091,
          750798904058.8091,
          750798904058.8091,
          750798904058.8091,
          750798904058.8091,
          750798904058.8091,
          750798904058.8091,
          750798904058.8091,
          750798904058.8091,
          750798904058.8091,
          750798904058.8091,
          750798904058.8091,
          750798904058.8091,
          750798904058.8091,
          750798904058.8091,
          750798904058.8091,
          750798904058.8091,
          750798904058.8091,
          750798904058.8091,
          750798904058.8091,
          750798904058.8091,
          750798904058.8091,
          750798904058.8091,
          750798904058.8091,
          750798904058.8091,
          750798904058.8091,
          750798904058.8091,
          750798904058.8091,
          750798904058.8091,
          750798904058.8091,
          750798904058.8091,
          750798904058.8091,
          750798904058.8091,
          750798904058.8091,
          750798904058.8091,
          750798904058.8091,
          750798904058.8091,
          750798904058.8091,
          750798904058.8091,
          750798904058.8091,
          750798904058.8091,
          750798904058.8091,
          750798904058.8091,
          750798904058.8091,
          750798904058.8091,
          750798904058.8091,
          750798904058.8091,
          750798904058.8091,
          750798904058.8091,
          750798904058.8091,
          750798904058.8091,
          750798904058.8091,
          750798904058.8091,
          750798904058.8091,
          750798904058.8091,
          750798904058.8091,
          750798904058.8091,
          750798904058.8091,
          750798904058.8091,
          750798904058.8091,
          750798904058.8091,
          750798904058.8091,
          750798904058.8091,
          750798904058.8091,
          750798904058.8091,
          750798904058.8091,
          750798904058.8091,
          750798904058.8091,
          750798904058.8091,
          750798904058.8091,
          750798904058.8091,
          750798904058.8091,
          750798904058.8091,
          750798904058.8091,
          750798904058.8091,
          750798904058.8091,
          750798904058.8091,
          750798904058.8091,
          750798904058.8091,
          750798904058.8091,
          750798904058.8091,
          750798904058.8091,
          750798904058.8091,
          750798904058.8091,
          750798904058.8091,
          750798904058.8091,
          750798904058.8091,
          750798904058.8091,
          750798904058.8091,
          750798904058.8091,
          750798904058.8091,
          750798904058.8091,
          750798904058.8091,
          750798904058.8091,
          750798904058.8091,
          750798904058.8091,
          750798904058.8091,
          750798904058.8091,
          750798904058.8091,
          750798904058.8091,
          750798904058.8091,
          750798904058.8091,
          750798904058.8091,
          750798904058.8091,
          750798904058.8091,
          750798904058.8091,
          750798904058.8091,
          750798904058.8091,
          750798904058.8091,
          750798904058.8091,
          750798904058.8091,
          750798904058.8091,
          750798904058.8091,
          750798904058.8091,
          750798904058.8091,
          750798904058.8091,
          750798904058.8091,
          750798904058.8091,
          750798904058.8091,
          750798904058.8091,
          750798904058.8091,
          750798904058.8091,
          750798904058.8091,
          750798904058.8091,
          750798904058.8091,
          750798904058.8091,
          750798904058.8091
         ]
        }
       ],
       "layout": {
        "legend": {
         "tracegroupgap": 0
        },
        "template": {
         "data": {
          "bar": [
           {
            "error_x": {
             "color": "#2a3f5f"
            },
            "error_y": {
             "color": "#2a3f5f"
            },
            "marker": {
             "line": {
              "color": "#E5ECF6",
              "width": 0.5
             }
            },
            "type": "bar"
           }
          ],
          "barpolar": [
           {
            "marker": {
             "line": {
              "color": "#E5ECF6",
              "width": 0.5
             }
            },
            "type": "barpolar"
           }
          ],
          "carpet": [
           {
            "aaxis": {
             "endlinecolor": "#2a3f5f",
             "gridcolor": "white",
             "linecolor": "white",
             "minorgridcolor": "white",
             "startlinecolor": "#2a3f5f"
            },
            "baxis": {
             "endlinecolor": "#2a3f5f",
             "gridcolor": "white",
             "linecolor": "white",
             "minorgridcolor": "white",
             "startlinecolor": "#2a3f5f"
            },
            "type": "carpet"
           }
          ],
          "choropleth": [
           {
            "colorbar": {
             "outlinewidth": 0,
             "ticks": ""
            },
            "type": "choropleth"
           }
          ],
          "contour": [
           {
            "colorbar": {
             "outlinewidth": 0,
             "ticks": ""
            },
            "colorscale": [
             [
              0,
              "#0d0887"
             ],
             [
              0.1111111111111111,
              "#46039f"
             ],
             [
              0.2222222222222222,
              "#7201a8"
             ],
             [
              0.3333333333333333,
              "#9c179e"
             ],
             [
              0.4444444444444444,
              "#bd3786"
             ],
             [
              0.5555555555555556,
              "#d8576b"
             ],
             [
              0.6666666666666666,
              "#ed7953"
             ],
             [
              0.7777777777777778,
              "#fb9f3a"
             ],
             [
              0.8888888888888888,
              "#fdca26"
             ],
             [
              1,
              "#f0f921"
             ]
            ],
            "type": "contour"
           }
          ],
          "contourcarpet": [
           {
            "colorbar": {
             "outlinewidth": 0,
             "ticks": ""
            },
            "type": "contourcarpet"
           }
          ],
          "heatmap": [
           {
            "colorbar": {
             "outlinewidth": 0,
             "ticks": ""
            },
            "colorscale": [
             [
              0,
              "#0d0887"
             ],
             [
              0.1111111111111111,
              "#46039f"
             ],
             [
              0.2222222222222222,
              "#7201a8"
             ],
             [
              0.3333333333333333,
              "#9c179e"
             ],
             [
              0.4444444444444444,
              "#bd3786"
             ],
             [
              0.5555555555555556,
              "#d8576b"
             ],
             [
              0.6666666666666666,
              "#ed7953"
             ],
             [
              0.7777777777777778,
              "#fb9f3a"
             ],
             [
              0.8888888888888888,
              "#fdca26"
             ],
             [
              1,
              "#f0f921"
             ]
            ],
            "type": "heatmap"
           }
          ],
          "heatmapgl": [
           {
            "colorbar": {
             "outlinewidth": 0,
             "ticks": ""
            },
            "colorscale": [
             [
              0,
              "#0d0887"
             ],
             [
              0.1111111111111111,
              "#46039f"
             ],
             [
              0.2222222222222222,
              "#7201a8"
             ],
             [
              0.3333333333333333,
              "#9c179e"
             ],
             [
              0.4444444444444444,
              "#bd3786"
             ],
             [
              0.5555555555555556,
              "#d8576b"
             ],
             [
              0.6666666666666666,
              "#ed7953"
             ],
             [
              0.7777777777777778,
              "#fb9f3a"
             ],
             [
              0.8888888888888888,
              "#fdca26"
             ],
             [
              1,
              "#f0f921"
             ]
            ],
            "type": "heatmapgl"
           }
          ],
          "histogram": [
           {
            "marker": {
             "colorbar": {
              "outlinewidth": 0,
              "ticks": ""
             }
            },
            "type": "histogram"
           }
          ],
          "histogram2d": [
           {
            "colorbar": {
             "outlinewidth": 0,
             "ticks": ""
            },
            "colorscale": [
             [
              0,
              "#0d0887"
             ],
             [
              0.1111111111111111,
              "#46039f"
             ],
             [
              0.2222222222222222,
              "#7201a8"
             ],
             [
              0.3333333333333333,
              "#9c179e"
             ],
             [
              0.4444444444444444,
              "#bd3786"
             ],
             [
              0.5555555555555556,
              "#d8576b"
             ],
             [
              0.6666666666666666,
              "#ed7953"
             ],
             [
              0.7777777777777778,
              "#fb9f3a"
             ],
             [
              0.8888888888888888,
              "#fdca26"
             ],
             [
              1,
              "#f0f921"
             ]
            ],
            "type": "histogram2d"
           }
          ],
          "histogram2dcontour": [
           {
            "colorbar": {
             "outlinewidth": 0,
             "ticks": ""
            },
            "colorscale": [
             [
              0,
              "#0d0887"
             ],
             [
              0.1111111111111111,
              "#46039f"
             ],
             [
              0.2222222222222222,
              "#7201a8"
             ],
             [
              0.3333333333333333,
              "#9c179e"
             ],
             [
              0.4444444444444444,
              "#bd3786"
             ],
             [
              0.5555555555555556,
              "#d8576b"
             ],
             [
              0.6666666666666666,
              "#ed7953"
             ],
             [
              0.7777777777777778,
              "#fb9f3a"
             ],
             [
              0.8888888888888888,
              "#fdca26"
             ],
             [
              1,
              "#f0f921"
             ]
            ],
            "type": "histogram2dcontour"
           }
          ],
          "mesh3d": [
           {
            "colorbar": {
             "outlinewidth": 0,
             "ticks": ""
            },
            "type": "mesh3d"
           }
          ],
          "parcoords": [
           {
            "line": {
             "colorbar": {
              "outlinewidth": 0,
              "ticks": ""
             }
            },
            "type": "parcoords"
           }
          ],
          "pie": [
           {
            "automargin": true,
            "type": "pie"
           }
          ],
          "scatter": [
           {
            "marker": {
             "colorbar": {
              "outlinewidth": 0,
              "ticks": ""
             }
            },
            "type": "scatter"
           }
          ],
          "scatter3d": [
           {
            "line": {
             "colorbar": {
              "outlinewidth": 0,
              "ticks": ""
             }
            },
            "marker": {
             "colorbar": {
              "outlinewidth": 0,
              "ticks": ""
             }
            },
            "type": "scatter3d"
           }
          ],
          "scattercarpet": [
           {
            "marker": {
             "colorbar": {
              "outlinewidth": 0,
              "ticks": ""
             }
            },
            "type": "scattercarpet"
           }
          ],
          "scattergeo": [
           {
            "marker": {
             "colorbar": {
              "outlinewidth": 0,
              "ticks": ""
             }
            },
            "type": "scattergeo"
           }
          ],
          "scattergl": [
           {
            "marker": {
             "colorbar": {
              "outlinewidth": 0,
              "ticks": ""
             }
            },
            "type": "scattergl"
           }
          ],
          "scattermapbox": [
           {
            "marker": {
             "colorbar": {
              "outlinewidth": 0,
              "ticks": ""
             }
            },
            "type": "scattermapbox"
           }
          ],
          "scatterpolar": [
           {
            "marker": {
             "colorbar": {
              "outlinewidth": 0,
              "ticks": ""
             }
            },
            "type": "scatterpolar"
           }
          ],
          "scatterpolargl": [
           {
            "marker": {
             "colorbar": {
              "outlinewidth": 0,
              "ticks": ""
             }
            },
            "type": "scatterpolargl"
           }
          ],
          "scatterternary": [
           {
            "marker": {
             "colorbar": {
              "outlinewidth": 0,
              "ticks": ""
             }
            },
            "type": "scatterternary"
           }
          ],
          "surface": [
           {
            "colorbar": {
             "outlinewidth": 0,
             "ticks": ""
            },
            "colorscale": [
             [
              0,
              "#0d0887"
             ],
             [
              0.1111111111111111,
              "#46039f"
             ],
             [
              0.2222222222222222,
              "#7201a8"
             ],
             [
              0.3333333333333333,
              "#9c179e"
             ],
             [
              0.4444444444444444,
              "#bd3786"
             ],
             [
              0.5555555555555556,
              "#d8576b"
             ],
             [
              0.6666666666666666,
              "#ed7953"
             ],
             [
              0.7777777777777778,
              "#fb9f3a"
             ],
             [
              0.8888888888888888,
              "#fdca26"
             ],
             [
              1,
              "#f0f921"
             ]
            ],
            "type": "surface"
           }
          ],
          "table": [
           {
            "cells": {
             "fill": {
              "color": "#EBF0F8"
             },
             "line": {
              "color": "white"
             }
            },
            "header": {
             "fill": {
              "color": "#C8D4E3"
             },
             "line": {
              "color": "white"
             }
            },
            "type": "table"
           }
          ]
         },
         "layout": {
          "annotationdefaults": {
           "arrowcolor": "#2a3f5f",
           "arrowhead": 0,
           "arrowwidth": 1
          },
          "coloraxis": {
           "colorbar": {
            "outlinewidth": 0,
            "ticks": ""
           }
          },
          "colorscale": {
           "diverging": [
            [
             0,
             "#8e0152"
            ],
            [
             0.1,
             "#c51b7d"
            ],
            [
             0.2,
             "#de77ae"
            ],
            [
             0.3,
             "#f1b6da"
            ],
            [
             0.4,
             "#fde0ef"
            ],
            [
             0.5,
             "#f7f7f7"
            ],
            [
             0.6,
             "#e6f5d0"
            ],
            [
             0.7,
             "#b8e186"
            ],
            [
             0.8,
             "#7fbc41"
            ],
            [
             0.9,
             "#4d9221"
            ],
            [
             1,
             "#276419"
            ]
           ],
           "sequential": [
            [
             0,
             "#0d0887"
            ],
            [
             0.1111111111111111,
             "#46039f"
            ],
            [
             0.2222222222222222,
             "#7201a8"
            ],
            [
             0.3333333333333333,
             "#9c179e"
            ],
            [
             0.4444444444444444,
             "#bd3786"
            ],
            [
             0.5555555555555556,
             "#d8576b"
            ],
            [
             0.6666666666666666,
             "#ed7953"
            ],
            [
             0.7777777777777778,
             "#fb9f3a"
            ],
            [
             0.8888888888888888,
             "#fdca26"
            ],
            [
             1,
             "#f0f921"
            ]
           ],
           "sequentialminus": [
            [
             0,
             "#0d0887"
            ],
            [
             0.1111111111111111,
             "#46039f"
            ],
            [
             0.2222222222222222,
             "#7201a8"
            ],
            [
             0.3333333333333333,
             "#9c179e"
            ],
            [
             0.4444444444444444,
             "#bd3786"
            ],
            [
             0.5555555555555556,
             "#d8576b"
            ],
            [
             0.6666666666666666,
             "#ed7953"
            ],
            [
             0.7777777777777778,
             "#fb9f3a"
            ],
            [
             0.8888888888888888,
             "#fdca26"
            ],
            [
             1,
             "#f0f921"
            ]
           ]
          },
          "colorway": [
           "#636efa",
           "#EF553B",
           "#00cc96",
           "#ab63fa",
           "#FFA15A",
           "#19d3f3",
           "#FF6692",
           "#B6E880",
           "#FF97FF",
           "#FECB52"
          ],
          "font": {
           "color": "#2a3f5f"
          },
          "geo": {
           "bgcolor": "white",
           "lakecolor": "white",
           "landcolor": "#E5ECF6",
           "showlakes": true,
           "showland": true,
           "subunitcolor": "white"
          },
          "hoverlabel": {
           "align": "left"
          },
          "hovermode": "closest",
          "mapbox": {
           "style": "light"
          },
          "paper_bgcolor": "white",
          "plot_bgcolor": "#E5ECF6",
          "polar": {
           "angularaxis": {
            "gridcolor": "white",
            "linecolor": "white",
            "ticks": ""
           },
           "bgcolor": "#E5ECF6",
           "radialaxis": {
            "gridcolor": "white",
            "linecolor": "white",
            "ticks": ""
           }
          },
          "scene": {
           "xaxis": {
            "backgroundcolor": "#E5ECF6",
            "gridcolor": "white",
            "gridwidth": 2,
            "linecolor": "white",
            "showbackground": true,
            "ticks": "",
            "zerolinecolor": "white"
           },
           "yaxis": {
            "backgroundcolor": "#E5ECF6",
            "gridcolor": "white",
            "gridwidth": 2,
            "linecolor": "white",
            "showbackground": true,
            "ticks": "",
            "zerolinecolor": "white"
           },
           "zaxis": {
            "backgroundcolor": "#E5ECF6",
            "gridcolor": "white",
            "gridwidth": 2,
            "linecolor": "white",
            "showbackground": true,
            "ticks": "",
            "zerolinecolor": "white"
           }
          },
          "shapedefaults": {
           "line": {
            "color": "#2a3f5f"
           }
          },
          "ternary": {
           "aaxis": {
            "gridcolor": "white",
            "linecolor": "white",
            "ticks": ""
           },
           "baxis": {
            "gridcolor": "white",
            "linecolor": "white",
            "ticks": ""
           },
           "bgcolor": "#E5ECF6",
           "caxis": {
            "gridcolor": "white",
            "linecolor": "white",
            "ticks": ""
           }
          },
          "title": {
           "x": 0.05
          },
          "xaxis": {
           "automargin": true,
           "gridcolor": "white",
           "linecolor": "white",
           "ticks": "",
           "title": {
            "standoff": 15
           },
           "zerolinecolor": "white",
           "zerolinewidth": 2
          },
          "yaxis": {
           "automargin": true,
           "gridcolor": "white",
           "linecolor": "white",
           "ticks": "",
           "title": {
            "standoff": 15
           },
           "zerolinecolor": "white",
           "zerolinewidth": 2
          }
         }
        },
        "title": {
         "text": "Country Percentage"
        }
       }
      },
      "text/html": [
       "<div>\n",
       "        \n",
       "        \n",
       "            <div id=\"06d38cb1-fbc3-45ca-b703-0bb6df09d189\" class=\"plotly-graph-div\" style=\"height:525px; width:100%;\"></div>\n",
       "            <script type=\"text/javascript\">\n",
       "                require([\"plotly\"], function(Plotly) {\n",
       "                    window.PLOTLYENV=window.PLOTLYENV || {};\n",
       "                    \n",
       "                if (document.getElementById(\"06d38cb1-fbc3-45ca-b703-0bb6df09d189\")) {\n",
       "                    Plotly.newPlot(\n",
       "                        '06d38cb1-fbc3-45ca-b703-0bb6df09d189',\n",
       "                        [{\"domain\": {\"x\": [0.0, 1.0], \"y\": [0.0, 1.0]}, \"hovertemplate\": \"Country=%{label}<br>Total Principal Amount=%{value}<extra></extra>\", \"labels\": [\"Chad\", \"Chad\", \"Burkina Faso\", \"Sudan\", \"Congo, Democratic Republic of\", \"Tanzania\", \"Chad\", \"Tanzania\", \"Tanzania\", \"Sudan\", \"Niger\", \"Congo, Democratic Republic of\", \"Somalia\", \"Togo\", \"Kenya\", \"Western Africa\", \"Somalia\", \"Mali\", \"Senegal\", \"Malawi\", \"Benin\", \"Sudan\", \"Ghana\", \"Cameroon\", \"Tanzania\", \"Togo\", \"Sudan\", \"Niger\", \"Comoros\", \"Tanzania\", \"Congo, Democratic Republic of\", \"Kenya\", \"Tanzania\", \"Tanzania\", \"Mauritania\", \"Tanzania\", \"Liberia\", \"Congo, Democratic Republic of\", \"Burkina Faso\", \"Senegal\", \"Mali\", \"Somalia\", \"Kenya\", \"Sudan\", \"Rwanda\", \"Benin\", \"Benin\", \"Sierra Leone\", \"Senegal\", \"Togo\", \"Lesotho\", \"Niger\", \"Madagascar\", \"Burkina Faso\", \"Burundi\", \"Cameroon\", \"Togo\", \"Ghana\", \"Tanzania\", \"Mauritania\", \"Senegal\", \"Congo, Republic of\", \"Congo, Democratic Republic of\", \"Malawi\", \"Comoros\", \"Burundi\", \"Zambia\", \"Comoros\", \"Zambia\", \"Mali\", \"Sudan\", \"Tanzania\", \"Madagascar\", \"Mauritania\", \"Rwanda\", \"Burkina Faso\", \"Congo, Democratic Republic of\", \"Niger\", \"Niger\", \"Tanzania\", \"Mauritania\", \"Sudan\", \"Guinea\", \"Burkina Faso\", \"Kenya\", \"Kenya\", \"Congo, Democratic Republic of\", \"Benin\", \"Uganda\", \"Rwanda\", \"Zambia\", \"Central African Republic\", \"Rwanda\", \"Congo, Democratic Republic of\", \"Sierra Leone\", \"Gambia, The\", \"Togo\", \"Congo, Democratic Republic of\", \"Ethiopia\", \"Mali\", \"Rwanda\", \"Burkina Faso\", \"Burkina Faso\", \"Congo, Democratic Republic of\", \"Zimbabwe\", \"Mauritania\", \"Burkina Faso\", \"Madagascar\", \"Togo\", \"Equatorial Guinea\", \"Liberia\", \"Mali\", \"Niger\", \"Senegal\", \"Tanzania\", \"Benin\", \"Cabo Verde\", \"Senegal\", \"Somalia\", \"Congo, Democratic Republic of\", \"Uganda\", \"Uganda\", \"Malawi\", \"Western Africa\", \"Guinea-Bissau\", \"Congo, Democratic Republic of\", \"Congo, Democratic Republic of\", \"Madagascar\", \"Guinea\", \"Ghana\", \"Malawi\", \"Rwanda\", \"Rwanda\", \"Malawi\", \"Sierra Leone\", \"Togo\", \"Burundi\", \"Central African Republic\", \"Senegal\", \"Zambia\", \"Ethiopia\", \"Zimbabwe\", \"Tanzania\", \"Tanzania\", \"Ghana\", \"Central African Republic\", \"Comoros\", \"Guinea\", \"Ethiopia\", \"Kenya\", \"Sudan\", \"Kenya\", \"Madagascar\", \"Guinea-Bissau\", \"Niger\", \"Senegal\", \"Mali\", \"Ethiopia\", \"Tanzania\", \"Senegal\", \"Comoros\", \"Congo, Democratic Republic of\", \"Mauritania\", \"Mali\", \"Burundi\", \"Rwanda\", \"Congo, Democratic Republic of\", \"Mali\", \"Malawi\", \"Malawi\", \"Ethiopia\", \"Mali\", \"Madagascar\", \"Uganda\", \"Ghana\", \"Ghana\", \"Zambia\", \"Guinea\", \"Mali\", \"Gambia, The\", \"Uganda\", \"Ghana\", \"Liberia\", \"Senegal\", \"Liberia\", \"Sudan\", \"Sudan\", \"Burundi\", \"Guinea\", \"Senegal\", \"Senegal\", \"Somalia\", \"Somalia\", \"Guinea\", \"Guinea\", \"Comoros\", \"Guinea-Bissau\", \"Uganda\", \"Congo, Democratic Republic of\", \"Gambia, The\", \"Lesotho\", \"Burkina Faso\", \"Benin\", \"Kenya\", \"Equatorial Guinea\", \"Congo, Democratic Republic of\", \"Niger\", \"Rwanda\", \"Madagascar\", \"Ghana\", \"Sierra Leone\", \"Benin\", \"Benin\", \"Sudan\", \"Benin\", \"Togo\", \"Ethiopia\", \"Uganda\", \"Niger\", \"Lesotho\", \"Sudan\", \"Guinea-Bissau\", \"Congo, Democratic Republic of\", \"Ethiopia\", \"Ethiopia\", \"Ethiopia\", \"Tanzania\", \"Sudan\", \"Madagascar\", \"Madagascar\", \"Malawi\", \"Zambia\", \"Benin\", \"Guinea-Bissau\", \"Tanzania\", \"Somalia\", \"Uganda\", \"Congo, Democratic Republic of\", \"Madagascar\", \"Zambia\", \"Rwanda\", \"Equatorial Guinea\", \"Malawi\", \"Burkina Faso\", \"Senegal\", \"Guinea\", \"Uganda\", \"Uganda\", \"Liberia\", \"Ghana\", \"Rwanda\", \"Kenya\", \"Mauritania\", \"Togo\", \"Mauritania\", \"Mauritania\", \"Ghana\", \"Zambia\", \"Cabo Verde\", \"Central African Republic\", \"Burundi\", \"Lesotho\", \"Madagascar\", \"Sao Tome and Principe\", \"Burundi\", \"Guinea\", \"Mali\", \"Burkina Faso\", \"Togo\", \"Ghana\", \"Tanzania\", \"Burkina Faso\", \"Congo, Democratic Republic of\", \"Congo, Democratic Republic of\", \"Mozambique\", \"Somalia\", \"Sudan\", \"Niger\", \"Burundi\", \"Sudan\", \"Burundi\", \"Malawi\", \"Zambia\", \"Ghana\", \"Mali\", \"Zambia\", \"Senegal\", \"Guinea\", \"Guinea\", \"Guinea\", \"Senegal\", \"Sudan\", \"Sudan\", \"Rwanda\", \"Malawi\", \"Somalia\", \"Rwanda\", \"Ghana\", \"Mali\", \"Mauritania\", \"Guinea\", \"Madagascar\", \"Zambia\", \"Niger\", \"Rwanda\", \"Ghana\", \"Kenya\", \"Ghana\", \"Kenya\", \"Ethiopia\", \"Mali\", \"Rwanda\", \"Zambia\", \"Central African Republic\", \"Gambia, The\", \"Rwanda\", \"Congo, Democratic Republic of\", \"Tanzania\", \"Tanzania\", \"Equatorial Guinea\", \"Madagascar\", \"Madagascar\", \"Sierra Leone\", \"Ethiopia\", \"Niger\", \"Congo, Democratic Republic of\", \"Madagascar\", \"Senegal\", \"Somalia\", \"Congo, Democratic Republic of\", \"Senegal\", \"Chad\", \"Kenya\", \"Kenya\", \"Zambia\", \"Benin\", \"Ethiopia\", \"Somalia\", \"Gambia, The\", \"Guinea\", \"Chad\", \"Central African Republic\", \"Senegal\", \"Kenya\", \"Niger\", \"Tanzania\", \"Tanzania\", \"Malawi\", \"Zambia\", \"Ghana\", \"Togo\", \"Zambia\", \"Lesotho\", \"Benin\", \"Comoros\", \"Madagascar\", \"Kenya\", \"Ghana\", \"Gambia, The\", \"Congo, Democratic Republic of\", \"Ethiopia\", \"Malawi\", \"Malawi\", \"Somalia\", \"Chad\", \"Ghana\", \"Ghana\", \"Ethiopia\", \"Rwanda\", \"Madagascar\", \"Sudan\", \"Sudan\", \"Congo, Democratic Republic of\", \"Congo, Democratic Republic of\", \"Somalia\", \"Burundi\", \"Rwanda\", \"Equatorial Guinea\", \"Guinea-Bissau\", \"Guinea-Bissau\", \"Guinea-Bissau\", \"Ghana\", \"Senegal\", \"Senegal\", \"Uganda\", \"Madagascar\", \"Burundi\", \"Mozambique\", \"Benin\", \"Togo\", \"Tanzania\", \"Rwanda\", \"Mauritania\", \"Guinea\", \"Ghana\", \"Kenya\", \"Uganda\", \"Sao Tome and Principe\", \"Sao Tome and Principe\", \"Congo, Democratic Republic of\", \"Congo, Democratic Republic of\", \"Niger\", \"Madagascar\", \"Central African Republic\", \"Guinea\", \"Niger\", \"Congo, Democratic Republic of\", \"Mozambique\", \"Togo\", \"Uganda\", \"Uganda\", \"Uganda\", \"Uganda\", \"Ghana\", \"Kenya\", \"Somalia\", \"Malawi\", \"Cabo Verde\", \"Ghana\", \"Senegal\", \"Somalia\", \"Burundi\", \"Ghana\", \"Togo\", \"Burundi\", \"Central African Republic\", \"Guinea\", \"Mauritania\", \"Sudan\", \"Sudan\", \"Senegal\", \"Uganda\", \"Chad\", \"Ethiopia\", \"Ghana\", \"Benin\", \"Madagascar\", \"Malawi\", \"Niger\", \"Burundi\", \"Senegal\", \"Burundi\", \"Niger\", \"Tanzania\", \"Togo\", \"Togo\", \"Togo\", \"Uganda\", \"Sudan\", \"Burkina Faso\", \"Lesotho\", \"Lesotho\", \"Chad\", \"Kenya\", \"Madagascar\", \"Mali\", \"Mozambique\", \"Senegal\", \"Ghana\", \"Ghana\", \"Chad\", \"Ethiopia\", \"Guinea-Bissau\", \"Guinea\", \"Central African Republic\", \"Burundi\", \"Malawi\", \"Malawi\", \"Malawi\", \"Malawi\", \"Ghana\", \"Guinea\", \"Guinea\", \"Kenya\", \"Kenya\", \"Madagascar\", \"Togo\", \"Uganda\", \"Guinea-Bissau\", \"Mali\", \"Mali\", \"Congo, Democratic Republic of\", \"Madagascar\", \"Madagascar\", \"Madagascar\", \"Madagascar\", \"Madagascar\", \"Madagascar\", \"Mauritania\", \"Chad\", \"Ghana\", \"Mozambique\", \"Chad\", \"Uganda\", \"Congo, Democratic Republic of\", \"Cabo Verde\", \"Guinea\", \"Ethiopia\", \"Somalia\", \"Congo, Democratic Republic of\", \"Benin\", \"Sudan\", \"Uganda\", \"Guinea\", \"Uganda\", \"Malawi\", \"Madagascar\", \"Burundi\", \"Tanzania\", \"Tanzania\", \"Tanzania\", \"Tanzania\", \"Central African Republic\", \"Kenya\", \"Kenya\", \"Gambia, The\", \"Ghana\", \"Central African Republic\", \"Burkina Faso\", \"Guinea\", \"Uganda\", \"Mozambique\", \"Malawi\", \"Uganda\", \"Senegal\", \"Togo\", \"Tanzania\", \"Guinea\", \"Ghana\", \"Mali\", \"Ethiopia\", \"Ghana\", \"Ghana\", \"Ghana\", \"Chad\", \"Sudan\", \"Togo\", \"Guinea-Bissau\", \"Guinea-Bissau\", \"Guinea-Bissau\", \"Mozambique\", \"Benin\", \"Burundi\", \"Rwanda\", \"Congo, Democratic Republic of\", \"Somalia\", \"Benin\", \"Gambia, The\", \"Mozambique\", \"Nigeria\", \"Malawi\", \"Sao Tome and Principe\", \"Ghana\", \"Ghana\", \"Rwanda\", \"Madagascar\", \"Kenya\", \"Kenya\", \"Kenya\", \"Tanzania\", \"Congo, Democratic Republic of\", \"Mali\", \"Togo\", \"Kenya\", \"Lesotho\", \"Kenya\", \"Ghana\", \"Kenya\", \"Somalia\", \"Mozambique\", \"Mozambique\", \"Burkina Faso\", \"Burkina Faso\", \"Guinea\", \"Malawi\", \"Sudan\", \"Guinea-Bissau\", \"Senegal\", \"Senegal\", \"Mozambique\", \"Mozambique\", \"Malawi\", \"Benin\", \"Uganda\", \"Uganda\", \"Uganda\", \"Uganda\", \"Western Africa\", \"Senegal\", \"Senegal\", \"Senegal\", \"Senegal\", \"Mauritania\", \"Madagascar\", \"Tanzania\", \"Congo, Democratic Republic of\", \"Tanzania\", \"Ethiopia\", \"Madagascar\", \"Burundi\", \"Guinea\", \"Senegal\", \"Senegal\", \"Ghana\", \"Kenya\", \"Somalia\", \"Guinea\", \"Rwanda\", \"Tanzania\", \"Tanzania\", \"Tanzania\", \"Madagascar\", \"Malawi\", \"Malawi\", \"Niger\", \"Burundi\", \"Uganda\", \"Madagascar\", \"Central African Republic\", \"Rwanda\", \"Rwanda\", \"Tanzania\", \"Central African Republic\", \"Nigeria\", \"Ghana\", \"Gambia, The\", \"Gambia, The\", \"Kenya\", \"Guinea\", \"Tanzania\", \"Madagascar\", \"Guinea\", \"Chad\", \"Chad\", \"Ghana\", \"Ethiopia\", \"Central African Republic\", \"Mali\", \"Sao Tome and Principe\", \"Mauritania\", \"Mauritania\", \"Mauritania\", \"Mauritania\", \"Mauritania\", \"Mauritania\", \"Togo\", \"Togo\", \"Mozambique\", \"Uganda\", \"Congo, Democratic Republic of\", \"Ghana\", \"Equatorial Guinea\", \"Chad\", \"Mali\", \"Rwanda\", \"Uganda\", \"Nigeria\", \"Ghana\", \"Ghana\", \"Togo\", \"Lesotho\", \"Congo, Democratic Republic of\", \"Kenya\", \"Kenya\", \"Kenya\", \"Kenya\", \"Mozambique\", \"Tanzania\", \"Kenya\", \"Uganda\", \"Comoros\", \"Niger\", \"Niger\", \"Togo\", \"Congo, Democratic Republic of\", \"Zambia\", \"Zambia\", \"Zambia\", \"Mali\", \"Malawi\", \"Malawi\", \"Ghana\", \"Malawi\", \"Rwanda\", \"Burkina Faso\", \"Burundi\", \"Mali\", \"Ghana\", \"Ghana\", \"Ghana\", \"Guinea-Bissau\", \"Nigeria\", \"Madagascar\", \"Burkina Faso\", \"Ghana\", \"Madagascar\", \"Central African Republic\", \"Senegal\", \"Nigeria\", \"Senegal\", \"Tanzania\", \"Uganda\", \"Uganda\", \"Zambia\", \"Comoros\", \"Rwanda\", \"Rwanda\", \"Rwanda\", \"Zambia\", \"Angola\", \"Central African Republic\", \"Ghana\", \"Sao Tome and Principe\", \"Burkina Faso\", \"Burkina Faso\", \"Benin\", \"Benin\", \"Benin\", \"Benin\", \"Lesotho\", \"Burundi\", \"Angola\", \"Sudan\", \"Tanzania\", \"Congo, Democratic Republic of\", \"Congo, Democratic Republic of\", \"Kenya\", \"Kenya\", \"Kenya\", \"Cote d'Ivoire\", \"Cote d'Ivoire\", \"Tanzania\", \"Tanzania\", \"Kenya\", \"Kenya\", \"Mauritania\", \"Uganda\", \"Uganda\", \"Uganda\", \"Ghana\", \"Ghana\", \"Cote d'Ivoire\", \"Cote d'Ivoire\", \"Cote d'Ivoire\", \"Cote d'Ivoire\", \"Cote d'Ivoire\", \"Sao Tome and Principe\", \"Angola\", \"Tanzania\", \"Zimbabwe\", \"Burkina Faso\", \"Kenya\", \"Kenya\", \"Tanzania\", \"Mozambique\", \"Benin\", \"Guinea-Bissau\", \"Sao Tome and Principe\", \"Benin\", \"Ghana\", \"Ghana\", \"Ghana\", \"Ghana\", \"Equatorial Guinea\", \"Ghana\", \"Ethiopia\", \"Sierra Leone\", \"Sierra Leone\", \"Sierra Leone\", \"Nigeria\", \"Niger\", \"Sierra Leone\", \"Burundi\", \"Niger\", \"Uganda\", \"Cote d'Ivoire\", \"Benin\", \"Togo\", \"Central African Republic\", \"Senegal\", \"Mali\", \"Mali\", \"Mali\", \"Nigeria\", \"Mozambique\", \"Angola\", \"Burundi\", \"Cabo Verde\", \"Burkina Faso\", \"Malawi\", \"Burkina Faso\", \"Madagascar\", \"Mozambique\", \"Angola\", \"Malawi\", \"Rwanda\", \"Mauritania\", \"Mali\", \"Malawi\", \"Malawi\", \"Malawi\", \"Malawi\", \"Malawi\", \"Guinea\", \"Zimbabwe\", \"Lesotho\", \"Zambia\", \"Zambia\", \"Zambia\", \"Zambia\", \"Guinea\", \"Equatorial Guinea\", \"Tanzania\", \"Burkina Faso\", \"Nigeria\", \"Guinea\", \"Uganda\", \"Burundi\", \"Angola\", \"Angola\", \"Zambia\", \"Uganda\", \"Ghana\", \"Ghana\", \"Zambia\", \"Nigeria\", \"Mali\", \"Sierra Leone\", \"Mozambique\", \"Mozambique\", \"Ethiopia\", \"Kenya\", \"Ghana\", \"Guinea\", \"Kenya\", \"Uganda\", \"Sierra Leone\", \"Gambia, The\", \"Mozambique\", \"Mauritania\", \"Rwanda\", \"Madagascar\", \"Kenya\", \"Guinea-Bissau\", \"Cabo Verde\", \"Cabo Verde\", \"Ghana\", \"Burkina Faso\", \"Senegal\", \"Madagascar\", \"Eritrea\", \"Mozambique\", \"Nigeria\", \"Nigeria\", \"Tanzania\", \"Mozambique\", \"Tanzania\", \"Angola\", \"Uganda\", \"Burundi\", \"Uganda\", \"Uganda\", \"Madagascar\", \"Ghana\", \"Chad\", \"Ghana\", \"Cote d'Ivoire\", \"Cote d'Ivoire\", \"Tanzania\", \"Ghana\", \"Sierra Leone\", \"Malawi\", \"Malawi\", \"Zambia\", \"Zimbabwe\", \"Nigeria\", \"Burkina Faso\", \"Chad\", \"Chad\", \"Mauritania\", \"Zambia\", \"Zambia\", \"Ethiopia\", \"Ethiopia\", \"Ethiopia\", \"Zimbabwe\", \"Benin\", \"Mozambique\", \"Zambia\", \"Tanzania\", \"Madagascar\", \"Rwanda\", \"Sierra Leone\", \"Sierra Leone\", \"Sierra Leone\", \"Sierra Leone\", \"Sierra Leone\", \"Benin\", \"Comoros\", \"Gambia, The\", \"Ghana\", \"Mali\", \"Cabo Verde\", \"Ghana\", \"Guinea\", \"Mauritania\", \"Cameroon\", \"Cameroon\", \"Zambia\", \"Zambia\", \"Mali\", \"Niger\", \"Senegal\", \"Senegal\", \"Uganda\", \"Uganda\", \"Ethiopia\", \"Chad\", \"Burkina Faso\", \"Madagascar\", \"Burkina Faso\", \"Kenya\", \"Cote d'Ivoire\", \"Tanzania\", \"Mozambique\", \"Benin\", \"Gambia, The\", \"Uganda\", \"Ghana\", \"Mozambique\", \"Uganda\", \"Uganda\", \"Uganda\", \"Lesotho\", \"Benin\", \"Chad\", \"Mali\", \"Niger\", \"Burkina Faso\", \"Togo\", \"Zambia\", \"Benin\", \"Malawi\", \"Madagascar\", \"Chad\", \"Chad\", \"Cameroon\", \"Cameroon\", \"Mozambique\", \"Mozambique\", \"Comoros\", \"Congo, Republic of\", \"Cote d'Ivoire\", \"Cote d'Ivoire\", \"Madagascar\", \"Tanzania\", \"Guinea\", \"Cote d'Ivoire\", \"Cote d'Ivoire\", \"Zambia\", \"Central African Republic\", \"Ghana\", \"Burundi\", \"Kenya\", \"Mali\", \"Cabo Verde\", \"Rwanda\", \"Uganda\", \"Senegal\", \"Ghana\", \"Cameroon\", \"Chad\", \"Kenya\", \"Chad\", \"Ghana\", \"Malawi\", \"Zambia\", \"Sierra Leone\", \"Sierra Leone\", \"Cameroon\", \"Cote d'Ivoire\", \"Cote d'Ivoire\", \"Mauritania\", \"Niger\", \"Benin\", \"Ghana\", \"Ghana\", \"Ghana\", \"Ghana\", \"Ghana\", \"Guinea\", \"Senegal\", \"Zambia\", \"Mauritania\", \"Mauritania\", \"Benin\", \"Burkina Faso\", \"Burkina Faso\", \"Madagascar\", \"Mauritania\", \"Burundi\", \"Burundi\", \"Benin\", \"Uganda\", \"Mali\", \"Senegal\", \"Senegal\", \"Senegal\", \"Ethiopia\", \"Ethiopia\", \"Ethiopia\", \"Ghana\", \"Guinea-Bissau\", \"Cote d'Ivoire\", \"Togo\", \"Malawi\", \"Malawi\", \"Cote d'Ivoire\", \"Cote d'Ivoire\", \"Zambia\", \"Senegal\", \"Senegal\", \"Zambia\", \"Zambia\", \"Tanzania\", \"Congo, Republic of\", \"Uganda\", \"Madagascar\", \"Cote d'Ivoire\", \"Cote d'Ivoire\", \"Cote d'Ivoire\", \"Guinea\", \"Mozambique\", \"Ghana\", \"Niger\", \"Kenya\", \"Uganda\", \"Angola\", \"Malawi\", \"Kenya\", \"Kenya\", \"Cameroon\", \"Cameroon\", \"Cameroon\", \"Cameroon\", \"Chad\", \"Chad\", \"Eritrea\", \"Sierra Leone\", \"Mali\", \"Mauritania\", \"Ghana\", \"Guinea\", \"Ethiopia\", \"Ethiopia\", \"Ethiopia\", \"Cote d'Ivoire\", \"Cote d'Ivoire\", \"Cote d'Ivoire\", \"Madagascar\", \"Togo\", \"Mali\", \"Zimbabwe\", \"Malawi\", \"Malawi\", \"Malawi\", \"Malawi\", \"Malawi\", \"Lesotho\", \"Ghana\", \"Cabo Verde\", \"Tanzania\", \"Cameroon\", \"Senegal\", \"Senegal\", \"Senegal\", \"Guinea\", \"Zambia\", \"Zambia\", \"Zambia\", \"Ghana\", \"Cameroon\", \"Kenya\", \"Kenya\", \"Ghana\", \"Mauritania\", \"Mauritania\", \"Mauritania\", \"Mauritania\", \"Mauritania\", \"Cote d'Ivoire\", \"Cote d'Ivoire\", \"Mali\", \"Mali\", \"Sierra Leone\", \"Tanzania\", \"Tanzania\", \"Kenya\", \"Tanzania\", \"Tanzania\", \"Tanzania\", \"Uganda\", \"Uganda\", \"Zambia\", \"Zambia\", \"Madagascar\", \"Niger\", \"Benin\", \"Ghana\", \"Comoros\", \"Kenya\", \"Madagascar\", \"Niger\", \"Eritrea\", \"Senegal\", \"Zambia\", \"Madagascar\", \"Niger\", \"Guinea-Bissau\", \"Guinea-Bissau\", \"Zambia\", \"Senegal\", \"Mauritania\", \"Kenya\", \"Tanzania\", \"Tanzania\", \"Tanzania\", \"Tanzania\", \"Tanzania\", \"Madagascar\", \"Rwanda\", \"Mali\", \"Mauritania\", \"Senegal\", \"Burkina Faso\", \"Cote d'Ivoire\", \"Senegal\", \"Uganda\", \"Togo\", \"Togo\", \"Tanzania\", \"Zambia\", \"Ghana\", \"Eritrea\", \"Senegal\", \"Guinea-Bissau\", \"Guinea-Bissau\", \"Guinea-Bissau\", \"Comoros\", \"Comoros\", \"Senegal\", \"Ethiopia\", \"Guinea\", \"Eritrea\", \"Madagascar\", \"Niger\", \"Cabo Verde\", \"Ethiopia\", \"Eritrea\", \"Tanzania\", \"Mozambique\", \"Zambia\", \"Comoros\", \"Comoros\", \"Togo\", \"Madagascar\", \"Uganda\", \"Malawi\", \"Uganda\", \"Gambia, The\", \"Mauritania\", \"Angola\", \"Madagascar\", \"Madagascar\", \"Madagascar\", \"Uganda\", \"Senegal\", \"Zimbabwe\", \"Benin\", \"Ethiopia\", \"Cote d'Ivoire\", \"Cote d'Ivoire\", \"Zimbabwe\", \"Chad\", \"Chad\", \"Zimbabwe\", \"Ghana\", \"Ethiopia\", \"Ghana\", \"Benin\", \"Cote d'Ivoire\", \"Cote d'Ivoire\", \"Cote d'Ivoire\", \"Cote d'Ivoire\", \"Cote d'Ivoire\", \"Cameroon\", \"Cameroon\", \"Cameroon\", \"Cameroon\", \"Cameroon\", \"Cameroon\", \"Cote d'Ivoire\", \"Cote d'Ivoire\", \"Lesotho\", \"Cameroon\", \"Madagascar\", \"Ghana\", \"Uganda\", \"Cote d'Ivoire\", \"Guinea\", \"Kenya\", \"Cabo Verde\", \"Gambia, The\", \"Niger\", \"Malawi\", \"Niger\", \"Malawi\", \"Cameroon\", \"Rwanda\", \"Ethiopia\", \"Burkina Faso\", \"Malawi\", \"Malawi\", \"Guinea\", \"Guinea\", \"Mali\", \"Burkina Faso\", \"Zambia\", \"Zambia\", \"Mozambique\", \"Mozambique\", \"Guinea\", \"Guinea\", \"Gambia, The\", \"Gambia, The\", \"Madagascar\", \"Madagascar\", \"Rwanda\", \"Rwanda\", \"Senegal\", \"Tanzania\", \"Mauritania\", \"Zambia\", \"Lesotho\", \"Togo\", \"Guinea\", \"Guinea\", \"Ghana\", \"Chad\", \"Uganda\", \"Uganda\", \"Uganda\", \"Cabo Verde\", \"Mauritania\", \"Madagascar\", \"Madagascar\", \"Madagascar\", \"Madagascar\", \"Madagascar\", \"Senegal\", \"Cabo Verde\", \"Cabo Verde\", \"Cabo Verde\", \"Ghana\", \"Ghana\", \"Ghana\", \"Ghana\", \"Benin\", \"Ghana\", \"Mauritania\", \"Malawi\", \"Ghana\", \"Mozambique\", \"Mozambique\", \"Uganda\", \"Rwanda\", \"Mauritania\", \"Cote d'Ivoire\", \"Cote d'Ivoire\", \"Tanzania\", \"Tanzania\", \"Ghana\", \"Burundi\", \"Burundi\", \"Mozambique\", \"Senegal\", \"Cabo Verde\", \"Uganda\", \"Benin\", \"Uganda\", \"Uganda\", \"Burkina Faso\", \"Tanzania\", \"Madagascar\", \"Madagascar\", \"Tanzania\", \"Central African Republic\", \"Lesotho\", \"Guinea\", \"Guinea\", \"Sierra Leone\", \"Senegal\", \"Chad\", \"Mozambique\", \"Mali\", \"Benin\", \"Sierra Leone\", \"Sierra Leone\", \"Zambia\", \"Ghana\", \"Madagascar\", \"Senegal\", \"Mozambique\", \"Burundi\", \"Chad\", \"Chad\", \"Nigeria\", \"Nigeria\", \"Guinea-Bissau\", \"Guinea-Bissau\", \"Nigeria\", \"Mauritania\", \"Mauritania\", \"Senegal\", \"Zambia\", \"Cameroon\", \"Central African Republic\", \"Niger\", \"Madagascar\", \"Mozambique\", \"Rwanda\", \"Rwanda\", \"Cameroon\", \"Chad\", \"Ghana\", \"Lesotho\", \"Mauritania\", \"Tanzania\", \"Tanzania\", \"Tanzania\", \"Tanzania\", \"Tanzania\", \"Cote d'Ivoire\", \"Cote d'Ivoire\", \"Zambia\", \"Zambia\", \"Zambia\", \"Zambia\", \"Zambia\", \"Mali\", \"Mali\", \"Malawi\", \"Benin\", \"Senegal\", \"Angola\", \"Mauritania\", \"Eritrea\", \"Ghana\", \"Kenya\", \"Kenya\", \"Kenya\", \"Kenya\", \"Ethiopia\", \"Tanzania\", \"Uganda\", \"Kenya\", \"Ethiopia\", \"Niger\", \"Niger\", \"Senegal\", \"Western Africa\", \"Kenya\", \"Chad\", \"Chad\", \"Sao Tome and Principe\", \"Sao Tome and Principe\", \"Zambia\", \"Eritrea\", \"Burkina Faso\", \"Ethiopia\", \"Ethiopia\", \"Kenya\", \"Eritrea\", \"Senegal\", \"Nigeria\", \"Nigeria\", \"Mali\", \"Malawi\", \"Malawi\", \"Malawi\", \"Cameroon\", \"Gambia, The\", \"Ghana\", \"Uganda\", \"Burundi\", \"Burundi\", \"Ethiopia\", \"Sierra Leone\", \"Uganda\", \"Comoros\", \"Senegal\", \"Burkina Faso\", \"Uganda\", \"Benin\", \"Benin\", \"Rwanda\", \"Lesotho\", \"Mozambique\", \"Uganda\", \"Kenya\", \"Tanzania\", \"Malawi\", \"Zambia\", \"Rwanda\", \"Burundi\", \"Burundi\", \"Burundi\", \"Madagascar\", \"Madagascar\", \"Madagascar\", \"Rwanda\", \"Ethiopia\", \"Niger\", \"Uganda\", \"Ethiopia\", \"Nigeria\", \"Zambia\", \"Madagascar\", \"Uganda\", \"Uganda\", \"Tanzania\", \"Tanzania\", \"Eritrea\", \"Chad\", \"Chad\", \"Mozambique\", \"Mozambique\", \"Guinea\", \"Guinea\", \"Guinea\", \"Ghana\", \"Ghana\", \"Ghana\", \"Gambia, The\", \"Nigeria\", \"Nigeria\", \"Burkina Faso\", \"Nigeria\", \"Congo, Republic of\", \"Congo, Republic of\", \"Congo, Republic of\", \"Kenya\", \"Comoros\", \"Burkina Faso\", \"Guinea\", \"Guinea\", \"Madagascar\", \"Tanzania\", \"Tanzania\", \"Mauritania\", \"Mauritania\", \"Niger\", \"Mozambique\", \"Mauritania\", \"Mali\", \"Mali\", \"Mali\", \"Central African Republic\", \"Sierra Leone\", \"Cabo Verde\", \"Cabo Verde\", \"Uganda\", \"Madagascar\", \"Chad\", \"Benin\", \"Burkina Faso\", \"Benin\", \"Congo, Republic of\", \"Congo, Republic of\", \"Senegal\", \"Tanzania\", \"Gambia, The\", \"Mozambique\", \"Mozambique\", \"Senegal\", \"Niger\", \"Guinea-Bissau\", \"Guinea-Bissau\", \"Tanzania\", \"Uganda\", \"Sierra Leone\", \"Cabo Verde\", \"Cabo Verde\", \"Ethiopia\", \"Rwanda\", \"Congo, Republic of\", \"Congo, Republic of\", \"Eritrea\", \"Ethiopia\", \"Nigeria\", \"Nigeria\", \"Cote d'Ivoire\", \"Congo, Democratic Republic of\", \"Ethiopia\", \"Burundi\", \"Burundi\", \"Guinea\", \"Guinea\", \"Uganda\", \"Burkina Faso\", \"Cameroon\", \"Cameroon\", \"Uganda\", \"Uganda\", \"Ethiopia\", \"Congo, Democratic Republic of\", \"Congo, Democratic Republic of\", \"Central Africa\", \"Burkina Faso\", \"Mozambique\", \"Burundi\", \"Burundi\", \"Nigeria\", \"Ethiopia\", \"Chad\", \"Chad\", \"Malawi\", \"Madagascar\", \"Madagascar\", \"Zambia\", \"Nigeria\", \"Nigeria\", \"Rwanda\", \"Ghana\", \"Burkina Faso\", \"Malawi\", \"Chad\", \"Chad\", \"Zambia\", \"Angola\", \"Burkina Faso\", \"Sierra Leone\", \"Nigeria\", \"Nigeria\", \"Madagascar\", \"Madagascar\", \"Cabo Verde\", \"Cabo Verde\", \"Senegal\", \"Sierra Leone\", \"Tanzania\", \"Tanzania\", \"Tanzania\", \"Tanzania\", \"Uganda\", \"Malawi\", \"Eritrea\", \"Kenya\", \"Kenya\", \"Ghana\", \"Congo, Republic of\", \"Congo, Republic of\", \"Mauritania\", \"Mauritania\", \"Niger\", \"Lesotho\", \"Congo, Democratic Republic of\", \"Congo, Democratic Republic of\", \"Angola\", \"Ghana\", \"Nigeria\", \"Mozambique\", \"Congo, Democratic Republic of\", \"Congo, Democratic Republic of\", \"Niger\", \"Mali\", \"Madagascar\", \"Madagascar\", \"Congo, Democratic Republic of\", \"Zambia\", \"Uganda\", \"Madagascar\", \"Madagascar\", \"Chad\", \"Nigeria\", \"Nigeria\", \"Tanzania\", \"Tanzania\", \"Burundi\", \"Niger\", \"Congo, Democratic Republic of\", \"Western Africa\", \"Ghana\", \"Zambia\", \"Zambia\", \"Comoros\", \"Mali\", \"Benin\", \"Burundi\", \"Senegal\", \"Cameroon\", \"Burkina Faso\", \"Malawi\", \"Malawi\", \"Mauritania\", \"Tanzania\", \"Ghana\", \"Ethiopia\", \"Burkina Faso\", \"Ethiopia\", \"Sao Tome and Principe\", \"Tanzania\", \"Tanzania\", \"Nigeria\", \"Kenya\", \"Kenya\", \"Sierra Leone\", \"Eritrea\", \"Mozambique\", \"Benin\", \"Rwanda\", \"Ghana\", \"Kenya\", \"Kenya\", \"Madagascar\", \"Ghana\", \"Tanzania\", \"Zambia\", \"Mauritania\", \"Ghana\", \"Ghana\", \"Guinea\", \"Uganda\", \"Uganda\", \"Senegal\", \"Senegal\", \"Ethiopia\", \"Ethiopia\", \"Ethiopia\", \"Ethiopia\", \"Benin\", \"Mozambique\", \"Kenya\", \"Sao Tome and Principe\", \"Rwanda\", \"Lesotho\", \"Guinea-Bissau\", \"Senegal\", \"Tanzania\", \"Tanzania\", \"Tanzania\", \"Ethiopia\", \"Chad\", \"Congo, Republic of\", \"Zambia\", \"Senegal\", \"Nigeria\", \"Nigeria\", \"Burkina Faso\", \"Chad\", \"Gambia, The\", \"Mali\", \"Mauritania\", \"Niger\", \"Senegal\", \"Ethiopia\", \"Rwanda\", \"Mali\", \"Angola\", \"Cabo Verde\", \"Mauritania\", \"Mali\", \"Burkina Faso\", \"Senegal\", \"Cabo Verde\", \"Niger\", \"Cameroon\", \"Guinea\", \"Benin\", \"Nigeria\", \"Nigeria\", \"Nigeria\", \"Ghana\", \"Mali\", \"Madagascar\", \"Madagascar\", \"Madagascar\", \"Tanzania\", \"Ghana\", \"Tanzania\", \"Mozambique\", \"Mali\", \"Benin\", \"Lesotho\", \"Ghana\", \"Ghana\", \"Ghana\", \"Zambia\", \"Mozambique\", \"Mozambique\", \"Tanzania\", \"Ghana\", \"Zambia\", \"Niger\", \"Uganda\", \"Mali\", \"Kenya\", \"Uganda\", \"Kenya\", \"Tanzania\", \"Senegal\", \"Mozambique\", \"Senegal\", \"Nigeria\", \"Burkina Faso\", \"Mali\", \"Burkina Faso\", \"Senegal\", \"Tanzania\", \"Tanzania\", \"Uganda\", \"Cabo Verde\", \"Mauritania\", \"Mali\", \"Mauritania\", \"Senegal\", \"Ghana\", \"Senegal\", \"Niger\", \"Tanzania\", \"Tanzania\", \"Tanzania\", \"Burkina Faso\", \"Burkina Faso\", \"Burkina Faso\", \"Mozambique\", \"Uganda\", \"Ethiopia\", \"Ethiopia\", \"Ghana\", \"Benin\", \"Senegal\", \"Mali\", \"Mauritania\", \"Mauritania\", \"Nigeria\", \"Madagascar\", \"Mali\", \"Mali\", \"Madagascar\", \"Senegal\", \"Ghana\", \"Senegal\", \"Zambia\", \"Lesotho\", \"Benin\", \"Kenya\", \"Madagascar\", \"Senegal\", \"Nigeria\", \"Mozambique\", \"Mozambique\", \"Tanzania\", \"Mali\", \"Lesotho\", \"Kenya\", \"Kenya\", \"Kenya\", \"Cabo Verde\", \"Burkina Faso\", \"Kenya\", \"Madagascar\", \"Ghana\", \"Mali\", \"Senegal\", \"Benin\", \"Ethiopia\", \"Tanzania\", \"Tanzania\", \"Nigeria\", \"Uganda\", \"Uganda\", \"Mali\", \"Nigeria\", \"Madagascar\", \"Malawi\", \"Mozambique\", \"Ghana\", \"Angola\", \"Burkina Faso\", \"Cameroon\", \"Ethiopia\", \"Senegal\", \"Ethiopia\", \"Ghana\", \"Kenya\", \"Cameroon\", \"Benin\", \"Madagascar\", \"Benin\", \"Mali\", \"Ethiopia\", \"Ghana\", \"Ghana\", \"Nigeria\", \"Burkina Faso\", \"Mozambique\", \"Burkina Faso\", \"Ghana\", \"Mozambique\", \"Tanzania\", \"Nigeria\", \"Uganda\", \"Burkina Faso\", \"Tanzania\", \"Uganda\", \"Ethiopia\", \"Kenya\", \"Mozambique\", \"Mali\", \"Madagascar\", \"Nigeria\", \"Niger\", \"Madagascar\", \"Nigeria\", \"Benin\", \"Ghana\", \"Ghana\", \"Ghana\", \"Uganda\", \"Cabo Verde\", \"Mali\", \"Burkina Faso\", \"Ghana\", \"Zambia\", \"Zambia\", \"Mauritania\", \"Lesotho\", \"Tanzania\", \"Tanzania\", \"Ethiopia\", \"Ethiopia\", \"Ethiopia\", \"Burkina Faso\", \"Senegal\", \"Sierra Leone\", \"Burkina Faso\", \"Malawi\", \"Cameroon\", \"Cameroon\", \"Cameroon\", \"Uganda\", \"Malawi\", \"Cameroon\", \"Ghana\", \"Madagascar\", \"Cabo Verde\", \"Benin\", \"Benin\", \"Nigeria\", \"Mauritania\", \"Nigeria\", \"Angola\", \"Angola\", \"Mali\", \"Uganda\", \"Uganda\", \"Burkina Faso\", \"Sierra Leone\", \"Nigeria\", \"Nigeria\", \"Madagascar\", \"Tanzania\", \"Mozambique\", \"Central Africa\", \"Tanzania\", \"Uganda\", \"Kenya\", \"Ethiopia\", \"Madagascar\", \"Senegal\", \"Nigeria\", \"Ethiopia\", \"Senegal\", \"Mozambique\", \"Zambia\", \"Niger\", \"Kenya\", \"Uganda\", \"Ethiopia\", \"Ghana\", \"Ethiopia\", \"Kenya\", \"Tanzania\", \"Uganda\", \"Kenya\", \"Kenya\", \"Lesotho\", \"Ethiopia\", \"Senegal\", \"Mozambique\", \"Tanzania\", \"Mali\", \"Benin\", \"Nigeria\", \"Kenya\", \"Cameroon\", \"Nigeria\", \"Nigeria\", \"Ghana\", \"Mozambique\", \"Malawi\", \"Senegal\", \"Cameroon\", \"Tanzania\", \"Mali\", \"Tanzania\", \"Nigeria\", \"Ethiopia\", \"Mali\", \"Uganda\", \"Ghana\", \"Ghana\", \"Tanzania\", \"Tanzania\", \"Tanzania\", \"Senegal\", \"Nigeria\", \"Mali\", \"Senegal\", \"Cameroon\", \"Rwanda\", \"Zambia\", \"Sierra Leone\", \"Cameroon\", \"Mozambique\", \"Sierra Leone\", \"Senegal\", \"Sierra Leone\", \"Cabo Verde\", \"Ethiopia\", \"Nigeria\", \"Ethiopia\", \"Cabo Verde\", \"Uganda\", \"Rwanda\", \"Tanzania\", \"Senegal\", \"Uganda\", \"Mozambique\", \"Tanzania\", \"Mozambique\", \"Angola\", \"Ghana\", \"Benin\", \"Kenya\", \"Zambia\", \"Congo, Republic of\", \"Senegal\", \"Mozambique\", \"Lesotho\", \"Tanzania\", \"Ethiopia\", \"Kenya\", \"Cabo Verde\", \"Ethiopia\", \"Senegal\", \"Benin\", \"Tanzania\", \"Tanzania\", \"Tanzania\", \"Ghana\", \"Tanzania\", \"Kenya\", \"Uganda\", \"Ghana\", \"Senegal\", \"Senegal\", \"Tanzania\", \"Tanzania\", \"Uganda\", \"Kenya\", \"Ghana\", \"Ghana\", \"Tanzania\", \"Angola\", \"Mali\", \"Malawi\", \"Senegal\", \"Mali\", \"Nigeria\", \"Uganda\", \"Kenya\", \"Ghana\", \"Sierra Leone\", \"Cameroon\", \"Ethiopia\", \"Nigeria\", \"Mauritania\", \"Malawi\", \"Ghana\", \"Sierra Leone\", \"Zambia\", \"Ethiopia\", \"Mozambique\", \"Tanzania\", \"Kenya\", \"Central African Republic\", \"Malawi\", \"Mozambique\", \"Mozambique\", \"Mozambique\", \"Tanzania\", \"Uganda\", \"Cameroon\", \"Zambia\", \"Nigeria\", \"Mali\", \"Lesotho\", \"Cabo Verde\", \"Kenya\", \"Liberia\", \"Mozambique\", \"Congo, Republic of\", \"Ghana\", \"Zambia\", \"Liberia\", \"Sierra Leone\", \"Ghana\", \"Nigeria\", \"Sierra Leone\", \"Tanzania\", \"Ethiopia\", \"Rwanda\", \"Ghana\", \"Kenya\", \"Zambia\", \"Ghana\", \"Rwanda\", \"Niger\", \"Ghana\", \"Zambia\", \"Nigeria\", \"Nigeria\", \"Nigeria\", \"Liberia\", \"Benin\", \"Chad\", \"Mozambique\", \"Niger\", \"Tanzania\", \"Malawi\", \"Rwanda\", \"Malawi\", \"Cabo Verde\", \"Liberia\", \"Liberia\", \"Mali\", \"Senegal\", \"Mozambique\", \"Mali\", \"Niger\", \"Niger\", \"Mauritania\", \"Kenya\", \"Mozambique\", \"Mauritania\", \"Benin\", \"Ghana\", \"Senegal\", \"Malawi\", \"Liberia\", \"Chad\", \"Central African Republic\", \"Tanzania\", \"Niger\", \"Mozambique\", \"Madagascar\", \"Mali\", \"Lesotho\", \"Rwanda\", \"Angola\", \"Ghana\", \"Mali\", \"Rwanda\", \"Congo, Republic of\", \"Ethiopia\", \"Kenya\", \"Ghana\", \"Malawi\", \"Cameroon\", \"Cameroon\", \"Uganda\", \"Uganda\", \"Senegal\", \"Tanzania\", \"Ethiopia\", \"Ghana\", \"Mozambique\", \"Rwanda\", \"Lesotho\", \"Nigeria\", \"Cameroon\", \"Liberia\", \"Tanzania\", \"Kenya\", \"Rwanda\", \"Cabo Verde\", \"Zambia\", \"Liberia\", \"Sierra Leone\", \"Niger\", \"Uganda\", \"Congo, Republic of\", \"Rwanda\", \"Mozambique\", \"Mozambique\", \"Malawi\", \"Malawi\", \"Tanzania\", \"Nigeria\", \"Ghana\", \"Senegal\", \"Cameroon\", \"Zambia\", \"Ethiopia\", \"Kenya\", \"Tanzania\", \"Nigeria\", \"Senegal\", \"Ghana\", \"Mozambique\", \"Liberia\", \"Kenya\", \"Kenya\", \"Zambia\", \"Nigeria\", \"Ghana\", \"Liberia\", \"Benin\", \"Ethiopia\", \"Ethiopia\", \"Chad\", \"Togo\", \"Congo, Republic of\", \"Sierra Leone\", \"Madagascar\", \"Malawi\", \"Ethiopia\", \"Uganda\", \"Nigeria\", \"Nigeria\", \"Niger\", \"Niger\", \"Nigeria\", \"Central African Republic\", \"Senegal\", \"Ghana\", \"Kenya\", \"Malawi\", \"Malawi\", \"Benin\", \"Senegal\", \"Central African Republic\", \"Kenya\", \"Ethiopia\", \"Nigeria\", \"Ethiopia\", \"Kenya\", \"Ethiopia\", \"Niger\", \"Liberia\", \"Tanzania\", \"Tanzania\", \"Tanzania\", \"Kenya\", \"Tanzania\", \"Madagascar\", \"Madagascar\", \"Senegal\", \"Rwanda\", \"Mozambique\", \"Mozambique\", \"Mozambique\", \"Malawi\", \"Mozambique\", \"Zambia\", \"Benin\", \"Ethiopia\", \"Tanzania\", \"Nigeria\", \"South Sudan\", \"Mozambique\", \"Tanzania\", \"Tanzania\", \"Nigeria\", \"Niger\", \"Uganda\", \"Cameroon\", \"Mozambique\", \"Mali\", \"Lesotho\", \"Benin\", \"Uganda\", \"Mozambique\", \"Niger\", \"Zambia\", \"Liberia\", \"Tanzania\", \"Burkina Faso\", \"Liberia\", \"Togo\", \"Angola\", \"Mauritania\", \"Burkina Faso\", \"Zambia\", \"Mali\", \"Cabo Verde\", \"Nigeria\", \"Kenya\", \"Uganda\", \"Mauritania\", \"Benin\", \"Senegal\", \"Cameroon\", \"Liberia\", \"South Sudan\", \"Mali\", \"Kenya\", \"Mozambique\", \"Burkina Faso\", \"Nigeria\", \"Nigeria\", \"Rwanda\", \"Tanzania\", \"Cote d'Ivoire\", \"Mozambique\", \"Cote d'Ivoire\", \"Congo, Republic of\", \"Ghana\", \"Senegal\", \"Mozambique\", \"Lesotho\", \"Kenya\", \"Ethiopia\", \"Mali\", \"Ethiopia\", \"Senegal\", \"Mali\", \"Mauritania\", \"Senegal\", \"Tanzania\", \"Burkina Faso\", \"Togo\", \"Sierra Leone\", \"Senegal\", \"Ethiopia\", \"Benin\", \"Niger\", \"Senegal\", \"Malawi\", \"Sierra Leone\", \"Liberia\", \"Lesotho\", \"Mali\", \"Congo, Republic of\", \"Congo, Republic of\", \"Liberia\", \"Rwanda\", \"Cote d'Ivoire\", \"Congo, Republic of\", \"South Sudan\", \"Guinea\", \"Kenya\", \"Ethiopia\", \"Madagascar\", \"Benin\", \"Madagascar\", \"Uganda\", \"Uganda\", \"Ethiopia\", \"Kenya\", \"Benin\", \"Nigeria\", \"Togo\", \"Benin\", \"Zambia\", \"Central African Republic\", \"Tanzania\", \"Tanzania\", \"Gambia, The\", \"Nigeria\", \"South Sudan\", \"Rwanda\", \"Rwanda\", \"Uganda\", \"Nigeria\", \"Kenya\", \"Kenya\", \"Gambia, The\", \"Tanzania\", \"Nigeria\", \"Nigeria\", \"Cabo Verde\", \"Senegal\", \"Burkina Faso\", \"Benin\", \"Cameroon\", \"Ghana\", \"Togo\", \"Rwanda\", \"Burkina Faso\", \"Rwanda\", \"Senegal\", \"Uganda\", \"Ethiopia\", \"Central African Republic\", \"Benin\", \"Ethiopia\", \"Ghana\", \"Tanzania\", \"Mali\", \"Ghana\", \"Guinea-Bissau\", \"Cameroon\", \"Ghana\", \"Guinea-Bissau\", \"Ethiopia\", \"Malawi\", \"Burkina Faso\", \"Cameroon\", \"Burkina Faso\", \"Lesotho\", \"Tanzania\", \"Guinea\", \"Congo, Republic of\", \"Cote d'Ivoire\", \"Nigeria\", \"Nigeria\", \"Mali\", \"Mozambique\", \"Ghana\", \"Rwanda\", \"Kenya\", \"Tanzania\", \"Senegal\", \"Niger\", \"Cameroon\", \"Tanzania\", \"South Sudan\", \"Ethiopia\", \"Congo, Republic of\", \"Kenya\", \"Ethiopia\", \"Mozambique\", \"Rwanda\", \"Rwanda\", \"Ghana\", \"Liberia\", \"Guinea\", \"Cote d'Ivoire\", \"Cote d'Ivoire\", \"Mozambique\", \"Senegal\", \"Zambia\", \"Madagascar\", \"Mozambique\", \"Niger\", \"Mali\", \"Cote d'Ivoire\", \"Congo, Democratic Republic of\", \"Rwanda\", \"Mozambique\", \"Madagascar\", \"Tanzania\", \"Kenya\", \"Tanzania\", \"Tanzania\", \"Guinea-Bissau\", \"Benin\", \"Nigeria\", \"Mozambique\", \"Ethiopia\", \"Mali\", \"Cote d'Ivoire\", \"Burkina Faso\", \"Malawi\", \"Uganda\", \"Uganda\", \"Tanzania\", \"Uganda\", \"Kenya\", \"Nigeria\", \"Tanzania\", \"Liberia\", \"Malawi\", \"Gambia, The\", \"Ethiopia\", \"Nigeria\", \"Kenya\", \"Burkina Faso\", \"Ghana\", \"Tanzania\", \"Kenya\", \"Uganda\", \"Malawi\", \"Kenya\", \"Ghana\", \"Tanzania\", \"Benin\", \"Tanzania\", \"Niger\", \"Uganda\", \"Zambia\", \"Cote d'Ivoire\", \"Burkina Faso\", \"Mali\", \"Niger\", \"Senegal\", \"Uganda\", \"Congo, Democratic Republic of\", \"Niger\", \"Guinea\", \"Zambia\", \"Gambia, The\", \"Guinea\", \"Guinea-Bissau\", \"Senegal\", \"Senegal\", \"Mali\", \"Burkina Faso\", \"Niger\", \"Nigeria\", \"Burkina Faso\", \"Cote d'Ivoire\", \"Senegal\", \"Kenya\", \"Liberia\", \"Cabo Verde\", \"Burkina Faso\", \"Ghana\", \"Madagascar\", \"Tanzania\", \"Senegal\", \"Ethiopia\", \"Ethiopia\", \"Kenya\", \"Cameroon\", \"Rwanda\", \"Uganda\", \"Congo, Democratic Republic of\", \"Cote d'Ivoire\", \"Mozambique\", \"Senegal\", \"Mozambique\", \"Cote d'Ivoire\", \"Togo\", \"Rwanda\", \"Mali\", \"Congo, Democratic Republic of\", \"Madagascar\", \"Rwanda\", \"Niger\", \"Ethiopia\", \"Mozambique\", \"Liberia\", \"Congo, Democratic Republic of\", \"Burkina Faso\", \"Kenya\", \"Ethiopia\", \"Sierra Leone\", \"Lesotho\", \"Madagascar\", \"Liberia\", \"Madagascar\", \"Tanzania\", \"Tanzania\", \"Benin\", \"Mozambique\", \"Rwanda\", \"Gambia, The\", \"Cameroon\", \"Liberia\", \"Ethiopia\", \"Ethiopia\", \"Rwanda\", \"Uganda\", \"Kenya\", \"Tanzania\", \"Cabo Verde\", \"Malawi\", \"Zambia\", \"Congo, Republic of\", \"Uganda\", \"Mozambique\", \"Senegal\", \"Kenya\", \"Ethiopia\", \"Ethiopia\", \"Tanzania\", \"Lesotho\", \"Uganda\", \"Lesotho\", \"Zambia\", \"Guinea\", \"Niger\", \"Nigeria\", \"Ethiopia\", \"Lesotho\", \"Madagascar\", \"Kenya\", \"Nigeria\", \"Nigeria\", \"Tanzania\", \"Kenya\", \"Sierra Leone\", \"Nigeria\", \"Nigeria\", \"Tanzania\", \"Nigeria\", \"Congo, Democratic Republic of\", \"Nigeria\", \"Mozambique\", \"Guinea\", \"Benin\", \"Burkina Faso\", \"Tanzania\", \"Mozambique\", \"Malawi\", \"Cote d'Ivoire\", \"Ethiopia\", \"Mali\", \"Niger\", \"Sierra Leone\", \"Guinea\", \"Senegal\", \"Senegal\", \"Cote d'Ivoire\", \"Tanzania\", \"Ghana\", \"Uganda\", \"Kenya\", \"Gambia, The\", \"Cameroon\", \"Rwanda\", \"Mali\", \"Cote d'Ivoire\", \"Malawi\", \"Burkina Faso\", \"Cote d'Ivoire\", \"Benin\", \"Lesotho\", \"Zambia\", \"Cote d'Ivoire\", \"Zambia\", \"Burkina Faso\", \"Burkina Faso\", \"Gambia, The\", \"Burkina Faso\", \"Kenya\", \"Tanzania\", \"Tanzania\", \"Tanzania\", \"Mozambique\", \"Benin\", \"Guinea\", \"Niger\", \"Togo\", \"Tanzania\", \"Tanzania\", \"Mozambique\", \"Lesotho\", \"Rwanda\", \"Togo\", \"Guinea-Bissau\", \"Liberia\", \"Nigeria\", \"Madagascar\", \"Congo, Democratic Republic of\", \"Kenya\", \"Ethiopia\", \"Cameroon\", \"Cameroon\", \"Congo, Republic of\", \"Madagascar\", \"Nigeria\", \"Nigeria\", \"Congo, Republic of\", \"Mozambique\", \"Nigeria\", \"Ethiopia\", \"Madagascar\", \"Guinea-Bissau\", \"Congo, Democratic Republic of\", \"Cote d'Ivoire\", \"Malawi\", \"Ethiopia\", \"Ethiopia\", \"Benin\", \"Togo\", \"Congo, Democratic Republic of\", \"Senegal\", \"Kenya\", \"Congo, Republic of\", \"Kenya\", \"Togo\", \"Senegal\", \"Congo, Democratic Republic of\", \"Liberia\", \"Zambia\", \"Zambia\", \"Ethiopia\", \"Rwanda\", \"Cameroon\", \"Cameroon\", \"Malawi\", \"Malawi\", \"Senegal\", \"Guinea-Bissau\", \"Senegal\", \"Tanzania\", \"Cote d'Ivoire\", \"Mali\", \"Burkina Faso\", \"Senegal\", \"Mozambique\", \"Sierra Leone\", \"Ghana\", \"Niger\", \"Ethiopia\", \"Nigeria\", \"Nigeria\", \"Senegal\", \"Nigeria\", \"Nigeria\", \"Cabo Verde\", \"Uganda\", \"Benin\", \"Zambia\", \"Sierra Leone\", \"Congo, Republic of\", \"Sierra Leone\", \"Burkina Faso\", \"Liberia\", \"Tanzania\", \"Rwanda\", \"Kenya\", \"Ghana\", \"Gambia, The\", \"Mali\", \"Ghana\", \"Ethiopia\", \"Cameroon\", \"Kenya\", \"Kenya\", \"Kenya\", \"Zambia\", \"Kenya\", \"Cameroon\", \"Western Africa\", \"Tanzania\", \"Lesotho\", \"Malawi\", \"Sierra Leone\", \"Lesotho\", \"Benin\", \"Niger\", \"Cote d'Ivoire\", \"Rwanda\", \"Ethiopia\", \"Ethiopia\", \"Senegal\", \"Burkina Faso\", \"Mali\", \"Niger\", \"Ethiopia\", \"Burkina Faso\", \"Togo\", \"Rwanda\", \"Ghana\", \"Malawi\", \"Cote d'Ivoire\", \"Senegal\", \"Senegal\", \"Cabo Verde\", \"Guinea\", \"Burkina Faso\", \"Nigeria\", \"Nigeria\", \"Rwanda\", \"Madagascar\", \"Cote d'Ivoire\", \"Ethiopia\", \"Ethiopia\", \"Mali\", \"Guinea\", \"Cote d'Ivoire\", \"Togo\", \"Benin\", \"Senegal\", \"Cameroon\", \"Madagascar\", \"Burkina Faso\", \"Cameroon\", \"Central Africa\", \"Guinea\", \"Uganda\", \"Benin\", \"Mali\", \"Niger\", \"Benin\", \"Cote d'Ivoire\", \"Guinea\", \"Cote d'Ivoire\", \"Madagascar\", \"Cabo Verde\", \"Senegal\", \"Ghana\", \"Burkina Faso\", \"Rwanda\", \"Guinea\", \"Kenya\", \"Guinea\", \"Ethiopia\", \"Kenya\", \"Nigeria\", \"Nigeria\", \"Cote d'Ivoire\", \"Senegal\", \"Uganda\", \"Nigeria\", \"Nigeria\", \"Madagascar\", \"Senegal\", \"Mali\", \"Mali\", \"Congo, Democratic Republic of\", \"Nigeria\", \"Nigeria\", \"Nigeria\", \"Ethiopia\", \"Tanzania\", \"Tanzania\", \"Nigeria\", \"Togo\", \"Sierra Leone\", \"Ghana\", \"Ghana\", \"Benin\", \"Sierra Leone\", \"Ghana\", \"Ethiopia\", \"Madagascar\", \"Ghana\", \"Senegal\", \"Ghana\", \"Rwanda\", \"Cabo Verde\", \"Tanzania\", \"Kenya\", \"Ethiopia\", \"Ethiopia\", \"Ghana\", \"Rwanda\", \"Rwanda\", \"Senegal\", \"Kenya\", \"Niger\", \"Cote d'Ivoire\", \"Guinea-Bissau\", \"Cabo Verde\", \"Senegal\", \"Lesotho\", \"Liberia\", \"Senegal\", \"Sierra Leone\", \"Congo, Republic of\", \"Madagascar\", \"Malawi\", \"Cote d'Ivoire\", \"Liberia\", \"Niger\", \"Cote d'Ivoire\", \"Ghana\", \"Cote d'Ivoire\", \"Burkina Faso\", \"Burkina Faso\", \"Zambia\", \"Niger\", \"Lesotho\", \"Lesotho\", \"Rwanda\", \"Ghana\", \"Ethiopia\", \"Niger\", \"Kenya\", \"Lesotho\", \"Cabo Verde\", \"Cabo Verde\", \"Burkina Faso\", \"Cote d'Ivoire\", \"Guinea-Bissau\", \"Ethiopia\", \"Mali\", \"Cote d'Ivoire\", \"Cote d'Ivoire\", \"Benin\", \"Mali\", \"Comoros\", \"Guinea\", \"Mali\", \"Rwanda\", \"Rwanda\", \"Tanzania\", \"Cameroon\", \"Burkina Faso\", \"Madagascar\", \"Guinea\", \"Niger\", \"Mali\", \"Togo\", \"Benin\", \"Senegal\", \"Liberia\", \"Ethiopia\", \"Madagascar\", \"Cote d'Ivoire\", \"Cote d'Ivoire\", \"Cabo Verde\", \"Kenya\", \"Senegal\", \"Ghana\", \"Liberia\", \"Rwanda\", \"Togo\", \"Kenya\", \"Lesotho\", \"Ghana\", \"Ghana\", \"Zambia\", \"Zambia\", \"Congo, Democratic Republic of\", \"Madagascar\", \"Rwanda\", \"Rwanda\", \"Malawi\", \"Malawi\", \"Guinea\", \"Ghana\", \"Guinea-Bissau\", \"Equatorial Guinea\", \"Madagascar\", \"Niger\", \"Congo, Democratic Republic of\", \"Somalia\", \"Kenya\", \"Central African Republic\", \"Tanzania\", \"Tanzania\", \"Ghana\", \"Ghana\", \"Guinea-Bissau\", \"Senegal\", \"Mauritania\", \"Sao Tome and Principe\", \"Congo, Democratic Republic of\", \"Congo, Democratic Republic of\", \"Niger\", \"Madagascar\", \"Mozambique\", \"Uganda\", \"Uganda\", \"Mali\", \"Kenya\", \"Chad\", \"Zambia\", \"Madagascar\", \"Malawi\", \"Mali\", \"Madagascar\", \"Ghana\", \"Mali\", \"Sudan\", \"Senegal\", \"Senegal\", \"Senegal\", \"Kenya\", \"Guinea-Bissau\", \"Benin\", \"Benin\", \"Mali\", \"Burkina Faso\", \"Madagascar\", \"Mozambique\", \"Madagascar\", \"Kenya\", \"Guinea\", \"Guinea\", \"Zimbabwe\", \"Ghana\", \"Mali\", \"Cote d'Ivoire\", \"Cote d'Ivoire\", \"Uganda\", \"Uganda\", \"Senegal\", \"Malawi\", \"Burkina Faso\", \"Chad\", \"Comoros\", \"Cote d'Ivoire\", \"Mali\"], \"legendgroup\": \"\", \"name\": \"\", \"showlegend\": true, \"type\": \"pie\", \"values\": [750798904058.8091, 750798904058.8091, 750798904058.8091, 750798904058.8091, 750798904058.8091, 750798904058.8091, 750798904058.8091, 750798904058.8091, 750798904058.8091, 750798904058.8091, 750798904058.8091, 750798904058.8091, 750798904058.8091, 750798904058.8091, 750798904058.8091, 750798904058.8091, 750798904058.8091, 750798904058.8091, 750798904058.8091, 750798904058.8091, 750798904058.8091, 750798904058.8091, 750798904058.8091, 750798904058.8091, 750798904058.8091, 750798904058.8091, 750798904058.8091, 750798904058.8091, 750798904058.8091, 750798904058.8091, 750798904058.8091, 750798904058.8091, 750798904058.8091, 750798904058.8091, 750798904058.8091, 750798904058.8091, 750798904058.8091, 750798904058.8091, 750798904058.8091, 750798904058.8091, 750798904058.8091, 750798904058.8091, 750798904058.8091, 750798904058.8091, 750798904058.8091, 750798904058.8091, 750798904058.8091, 750798904058.8091, 750798904058.8091, 750798904058.8091, 750798904058.8091, 750798904058.8091, 750798904058.8091, 750798904058.8091, 750798904058.8091, 750798904058.8091, 750798904058.8091, 750798904058.8091, 750798904058.8091, 750798904058.8091, 750798904058.8091, 750798904058.8091, 750798904058.8091, 750798904058.8091, 750798904058.8091, 750798904058.8091, 750798904058.8091, 750798904058.8091, 750798904058.8091, 750798904058.8091, 750798904058.8091, 750798904058.8091, 750798904058.8091, 750798904058.8091, 750798904058.8091, 750798904058.8091, 750798904058.8091, 750798904058.8091, 750798904058.8091, 750798904058.8091, 750798904058.8091, 750798904058.8091, 750798904058.8091, 750798904058.8091, 750798904058.8091, 750798904058.8091, 750798904058.8091, 750798904058.8091, 750798904058.8091, 750798904058.8091, 750798904058.8091, 750798904058.8091, 750798904058.8091, 750798904058.8091, 750798904058.8091, 750798904058.8091, 750798904058.8091, 750798904058.8091, 750798904058.8091, 750798904058.8091, 750798904058.8091, 750798904058.8091, 750798904058.8091, 750798904058.8091, 750798904058.8091, 750798904058.8091, 750798904058.8091, 750798904058.8091, 750798904058.8091, 750798904058.8091, 750798904058.8091, 750798904058.8091, 750798904058.8091, 750798904058.8091, 750798904058.8091, 750798904058.8091, 750798904058.8091, 750798904058.8091, 750798904058.8091, 750798904058.8091, 750798904058.8091, 750798904058.8091, 750798904058.8091, 750798904058.8091, 750798904058.8091, 750798904058.8091, 750798904058.8091, 750798904058.8091, 750798904058.8091, 750798904058.8091, 750798904058.8091, 750798904058.8091, 750798904058.8091, 750798904058.8091, 750798904058.8091, 750798904058.8091, 750798904058.8091, 750798904058.8091, 750798904058.8091, 750798904058.8091, 750798904058.8091, 750798904058.8091, 750798904058.8091, 750798904058.8091, 750798904058.8091, 750798904058.8091, 750798904058.8091, 750798904058.8091, 750798904058.8091, 750798904058.8091, 750798904058.8091, 750798904058.8091, 750798904058.8091, 750798904058.8091, 750798904058.8091, 750798904058.8091, 750798904058.8091, 750798904058.8091, 750798904058.8091, 750798904058.8091, 750798904058.8091, 750798904058.8091, 750798904058.8091, 750798904058.8091, 750798904058.8091, 750798904058.8091, 750798904058.8091, 750798904058.8091, 750798904058.8091, 750798904058.8091, 750798904058.8091, 750798904058.8091, 750798904058.8091, 750798904058.8091, 750798904058.8091, 750798904058.8091, 750798904058.8091, 750798904058.8091, 750798904058.8091, 750798904058.8091, 750798904058.8091, 750798904058.8091, 750798904058.8091, 750798904058.8091, 750798904058.8091, 750798904058.8091, 750798904058.8091, 750798904058.8091, 750798904058.8091, 750798904058.8091, 750798904058.8091, 750798904058.8091, 750798904058.8091, 750798904058.8091, 750798904058.8091, 750798904058.8091, 750798904058.8091, 750798904058.8091, 750798904058.8091, 750798904058.8091, 750798904058.8091, 750798904058.8091, 750798904058.8091, 750798904058.8091, 750798904058.8091, 750798904058.8091, 750798904058.8091, 750798904058.8091, 750798904058.8091, 750798904058.8091, 750798904058.8091, 750798904058.8091, 750798904058.8091, 750798904058.8091, 750798904058.8091, 750798904058.8091, 750798904058.8091, 750798904058.8091, 750798904058.8091, 750798904058.8091, 750798904058.8091, 750798904058.8091, 750798904058.8091, 750798904058.8091, 750798904058.8091, 750798904058.8091, 750798904058.8091, 750798904058.8091, 750798904058.8091, 750798904058.8091, 750798904058.8091, 750798904058.8091, 750798904058.8091, 750798904058.8091, 750798904058.8091, 750798904058.8091, 750798904058.8091, 750798904058.8091, 750798904058.8091, 750798904058.8091, 750798904058.8091, 750798904058.8091, 750798904058.8091, 750798904058.8091, 750798904058.8091, 750798904058.8091, 750798904058.8091, 750798904058.8091, 750798904058.8091, 750798904058.8091, 750798904058.8091, 750798904058.8091, 750798904058.8091, 750798904058.8091, 750798904058.8091, 750798904058.8091, 750798904058.8091, 750798904058.8091, 750798904058.8091, 750798904058.8091, 750798904058.8091, 750798904058.8091, 750798904058.8091, 750798904058.8091, 750798904058.8091, 750798904058.8091, 750798904058.8091, 750798904058.8091, 750798904058.8091, 750798904058.8091, 750798904058.8091, 750798904058.8091, 750798904058.8091, 750798904058.8091, 750798904058.8091, 750798904058.8091, 750798904058.8091, 750798904058.8091, 750798904058.8091, 750798904058.8091, 750798904058.8091, 750798904058.8091, 750798904058.8091, 750798904058.8091, 750798904058.8091, 750798904058.8091, 750798904058.8091, 750798904058.8091, 750798904058.8091, 750798904058.8091, 750798904058.8091, 750798904058.8091, 750798904058.8091, 750798904058.8091, 750798904058.8091, 750798904058.8091, 750798904058.8091, 750798904058.8091, 750798904058.8091, 750798904058.8091, 750798904058.8091, 750798904058.8091, 750798904058.8091, 750798904058.8091, 750798904058.8091, 750798904058.8091, 750798904058.8091, 750798904058.8091, 750798904058.8091, 750798904058.8091, 750798904058.8091, 750798904058.8091, 750798904058.8091, 750798904058.8091, 750798904058.8091, 750798904058.8091, 750798904058.8091, 750798904058.8091, 750798904058.8091, 750798904058.8091, 750798904058.8091, 750798904058.8091, 750798904058.8091, 750798904058.8091, 750798904058.8091, 750798904058.8091, 750798904058.8091, 750798904058.8091, 750798904058.8091, 750798904058.8091, 750798904058.8091, 750798904058.8091, 750798904058.8091, 750798904058.8091, 750798904058.8091, 750798904058.8091, 750798904058.8091, 750798904058.8091, 750798904058.8091, 750798904058.8091, 750798904058.8091, 750798904058.8091, 750798904058.8091, 750798904058.8091, 750798904058.8091, 750798904058.8091, 750798904058.8091, 750798904058.8091, 750798904058.8091, 750798904058.8091, 750798904058.8091, 750798904058.8091, 750798904058.8091, 750798904058.8091, 750798904058.8091, 750798904058.8091, 750798904058.8091, 750798904058.8091, 750798904058.8091, 750798904058.8091, 750798904058.8091, 750798904058.8091, 750798904058.8091, 750798904058.8091, 750798904058.8091, 750798904058.8091, 750798904058.8091, 750798904058.8091, 750798904058.8091, 750798904058.8091, 750798904058.8091, 750798904058.8091, 750798904058.8091, 750798904058.8091, 750798904058.8091, 750798904058.8091, 750798904058.8091, 750798904058.8091, 750798904058.8091, 750798904058.8091, 750798904058.8091, 750798904058.8091, 750798904058.8091, 750798904058.8091, 750798904058.8091, 750798904058.8091, 750798904058.8091, 750798904058.8091, 750798904058.8091, 750798904058.8091, 750798904058.8091, 750798904058.8091, 750798904058.8091, 750798904058.8091, 750798904058.8091, 750798904058.8091, 750798904058.8091, 750798904058.8091, 750798904058.8091, 750798904058.8091, 750798904058.8091, 750798904058.8091, 750798904058.8091, 750798904058.8091, 750798904058.8091, 750798904058.8091, 750798904058.8091, 750798904058.8091, 750798904058.8091, 750798904058.8091, 750798904058.8091, 750798904058.8091, 750798904058.8091, 750798904058.8091, 750798904058.8091, 750798904058.8091, 750798904058.8091, 750798904058.8091, 750798904058.8091, 750798904058.8091, 750798904058.8091, 750798904058.8091, 750798904058.8091, 750798904058.8091, 750798904058.8091, 750798904058.8091, 750798904058.8091, 750798904058.8091, 750798904058.8091, 750798904058.8091, 750798904058.8091, 750798904058.8091, 750798904058.8091, 750798904058.8091, 750798904058.8091, 750798904058.8091, 750798904058.8091, 750798904058.8091, 750798904058.8091, 750798904058.8091, 750798904058.8091, 750798904058.8091, 750798904058.8091, 750798904058.8091, 750798904058.8091, 750798904058.8091, 750798904058.8091, 750798904058.8091, 750798904058.8091, 750798904058.8091, 750798904058.8091, 750798904058.8091, 750798904058.8091, 750798904058.8091, 750798904058.8091, 750798904058.8091, 750798904058.8091, 750798904058.8091, 750798904058.8091, 750798904058.8091, 750798904058.8091, 750798904058.8091, 750798904058.8091, 750798904058.8091, 750798904058.8091, 750798904058.8091, 750798904058.8091, 750798904058.8091, 750798904058.8091, 750798904058.8091, 750798904058.8091, 750798904058.8091, 750798904058.8091, 750798904058.8091, 750798904058.8091, 750798904058.8091, 750798904058.8091, 750798904058.8091, 750798904058.8091, 750798904058.8091, 750798904058.8091, 750798904058.8091, 750798904058.8091, 750798904058.8091, 750798904058.8091, 750798904058.8091, 750798904058.8091, 750798904058.8091, 750798904058.8091, 750798904058.8091, 750798904058.8091, 750798904058.8091, 750798904058.8091, 750798904058.8091, 750798904058.8091, 750798904058.8091, 750798904058.8091, 750798904058.8091, 750798904058.8091, 750798904058.8091, 750798904058.8091, 750798904058.8091, 750798904058.8091, 750798904058.8091, 750798904058.8091, 750798904058.8091, 750798904058.8091, 750798904058.8091, 750798904058.8091, 750798904058.8091, 750798904058.8091, 750798904058.8091, 750798904058.8091, 750798904058.8091, 750798904058.8091, 750798904058.8091, 750798904058.8091, 750798904058.8091, 750798904058.8091, 750798904058.8091, 750798904058.8091, 750798904058.8091, 750798904058.8091, 750798904058.8091, 750798904058.8091, 750798904058.8091, 750798904058.8091, 750798904058.8091, 750798904058.8091, 750798904058.8091, 750798904058.8091, 750798904058.8091, 750798904058.8091, 750798904058.8091, 750798904058.8091, 750798904058.8091, 750798904058.8091, 750798904058.8091, 750798904058.8091, 750798904058.8091, 750798904058.8091, 750798904058.8091, 750798904058.8091, 750798904058.8091, 750798904058.8091, 750798904058.8091, 750798904058.8091, 750798904058.8091, 750798904058.8091, 750798904058.8091, 750798904058.8091, 750798904058.8091, 750798904058.8091, 750798904058.8091, 750798904058.8091, 750798904058.8091, 750798904058.8091, 750798904058.8091, 750798904058.8091, 750798904058.8091, 750798904058.8091, 750798904058.8091, 750798904058.8091, 750798904058.8091, 750798904058.8091, 750798904058.8091, 750798904058.8091, 750798904058.8091, 750798904058.8091, 750798904058.8091, 750798904058.8091, 750798904058.8091, 750798904058.8091, 750798904058.8091, 750798904058.8091, 750798904058.8091, 750798904058.8091, 750798904058.8091, 750798904058.8091, 750798904058.8091, 750798904058.8091, 750798904058.8091, 750798904058.8091, 750798904058.8091, 750798904058.8091, 750798904058.8091, 750798904058.8091, 750798904058.8091, 750798904058.8091, 750798904058.8091, 750798904058.8091, 750798904058.8091, 750798904058.8091, 750798904058.8091, 750798904058.8091, 750798904058.8091, 750798904058.8091, 750798904058.8091, 750798904058.8091, 750798904058.8091, 750798904058.8091, 750798904058.8091, 750798904058.8091, 750798904058.8091, 750798904058.8091, 750798904058.8091, 750798904058.8091, 750798904058.8091, 750798904058.8091, 750798904058.8091, 750798904058.8091, 750798904058.8091, 750798904058.8091, 750798904058.8091, 750798904058.8091, 750798904058.8091, 750798904058.8091, 750798904058.8091, 750798904058.8091, 750798904058.8091, 750798904058.8091, 750798904058.8091, 750798904058.8091, 750798904058.8091, 750798904058.8091, 750798904058.8091, 750798904058.8091, 750798904058.8091, 750798904058.8091, 750798904058.8091, 750798904058.8091, 750798904058.8091, 750798904058.8091, 750798904058.8091, 750798904058.8091, 750798904058.8091, 750798904058.8091, 750798904058.8091, 750798904058.8091, 750798904058.8091, 750798904058.8091, 750798904058.8091, 750798904058.8091, 750798904058.8091, 750798904058.8091, 750798904058.8091, 750798904058.8091, 750798904058.8091, 750798904058.8091, 750798904058.8091, 750798904058.8091, 750798904058.8091, 750798904058.8091, 750798904058.8091, 750798904058.8091, 750798904058.8091, 750798904058.8091, 750798904058.8091, 750798904058.8091, 750798904058.8091, 750798904058.8091, 750798904058.8091, 750798904058.8091, 750798904058.8091, 750798904058.8091, 750798904058.8091, 750798904058.8091, 750798904058.8091, 750798904058.8091, 750798904058.8091, 750798904058.8091, 750798904058.8091, 750798904058.8091, 750798904058.8091, 750798904058.8091, 750798904058.8091, 750798904058.8091, 750798904058.8091, 750798904058.8091, 750798904058.8091, 750798904058.8091, 750798904058.8091, 750798904058.8091, 750798904058.8091, 750798904058.8091, 750798904058.8091, 750798904058.8091, 750798904058.8091, 750798904058.8091, 750798904058.8091, 750798904058.8091, 750798904058.8091, 750798904058.8091, 750798904058.8091, 750798904058.8091, 750798904058.8091, 750798904058.8091, 750798904058.8091, 750798904058.8091, 750798904058.8091, 750798904058.8091, 750798904058.8091, 750798904058.8091, 750798904058.8091, 750798904058.8091, 750798904058.8091, 750798904058.8091, 750798904058.8091, 750798904058.8091, 750798904058.8091, 750798904058.8091, 750798904058.8091, 750798904058.8091, 750798904058.8091, 750798904058.8091, 750798904058.8091, 750798904058.8091, 750798904058.8091, 750798904058.8091, 750798904058.8091, 750798904058.8091, 750798904058.8091, 750798904058.8091, 750798904058.8091, 750798904058.8091, 750798904058.8091, 750798904058.8091, 750798904058.8091, 750798904058.8091, 750798904058.8091, 750798904058.8091, 750798904058.8091, 750798904058.8091, 750798904058.8091, 750798904058.8091, 750798904058.8091, 750798904058.8091, 750798904058.8091, 750798904058.8091, 750798904058.8091, 750798904058.8091, 750798904058.8091, 750798904058.8091, 750798904058.8091, 750798904058.8091, 750798904058.8091, 750798904058.8091, 750798904058.8091, 750798904058.8091, 750798904058.8091, 750798904058.8091, 750798904058.8091, 750798904058.8091, 750798904058.8091, 750798904058.8091, 750798904058.8091, 750798904058.8091, 750798904058.8091, 750798904058.8091, 750798904058.8091, 750798904058.8091, 750798904058.8091, 750798904058.8091, 750798904058.8091, 750798904058.8091, 750798904058.8091, 750798904058.8091, 750798904058.8091, 750798904058.8091, 750798904058.8091, 750798904058.8091, 750798904058.8091, 750798904058.8091, 750798904058.8091, 750798904058.8091, 750798904058.8091, 750798904058.8091, 750798904058.8091, 750798904058.8091, 750798904058.8091, 750798904058.8091, 750798904058.8091, 750798904058.8091, 750798904058.8091, 750798904058.8091, 750798904058.8091, 750798904058.8091, 750798904058.8091, 750798904058.8091, 750798904058.8091, 750798904058.8091, 750798904058.8091, 750798904058.8091, 750798904058.8091, 750798904058.8091, 750798904058.8091, 750798904058.8091, 750798904058.8091, 750798904058.8091, 750798904058.8091, 750798904058.8091, 750798904058.8091, 750798904058.8091, 750798904058.8091, 750798904058.8091, 750798904058.8091, 750798904058.8091, 750798904058.8091, 750798904058.8091, 750798904058.8091, 750798904058.8091, 750798904058.8091, 750798904058.8091, 750798904058.8091, 750798904058.8091, 750798904058.8091, 750798904058.8091, 750798904058.8091, 750798904058.8091, 750798904058.8091, 750798904058.8091, 750798904058.8091, 750798904058.8091, 750798904058.8091, 750798904058.8091, 750798904058.8091, 750798904058.8091, 750798904058.8091, 750798904058.8091, 750798904058.8091, 750798904058.8091, 750798904058.8091, 750798904058.8091, 750798904058.8091, 750798904058.8091, 750798904058.8091, 750798904058.8091, 750798904058.8091, 750798904058.8091, 750798904058.8091, 750798904058.8091, 750798904058.8091, 750798904058.8091, 750798904058.8091, 750798904058.8091, 750798904058.8091, 750798904058.8091, 750798904058.8091, 750798904058.8091, 750798904058.8091, 750798904058.8091, 750798904058.8091, 750798904058.8091, 750798904058.8091, 750798904058.8091, 750798904058.8091, 750798904058.8091, 750798904058.8091, 750798904058.8091, 750798904058.8091, 750798904058.8091, 750798904058.8091, 750798904058.8091, 750798904058.8091, 750798904058.8091, 750798904058.8091, 750798904058.8091, 750798904058.8091, 750798904058.8091, 750798904058.8091, 750798904058.8091, 750798904058.8091, 750798904058.8091, 750798904058.8091, 750798904058.8091, 750798904058.8091, 750798904058.8091, 750798904058.8091, 750798904058.8091, 750798904058.8091, 750798904058.8091, 750798904058.8091, 750798904058.8091, 750798904058.8091, 750798904058.8091, 750798904058.8091, 750798904058.8091, 750798904058.8091, 750798904058.8091, 750798904058.8091, 750798904058.8091, 750798904058.8091, 750798904058.8091, 750798904058.8091, 750798904058.8091, 750798904058.8091, 750798904058.8091, 750798904058.8091, 750798904058.8091, 750798904058.8091, 750798904058.8091, 750798904058.8091, 750798904058.8091, 750798904058.8091, 750798904058.8091, 750798904058.8091, 750798904058.8091, 750798904058.8091, 750798904058.8091, 750798904058.8091, 750798904058.8091, 750798904058.8091, 750798904058.8091, 750798904058.8091, 750798904058.8091, 750798904058.8091, 750798904058.8091, 750798904058.8091, 750798904058.8091, 750798904058.8091, 750798904058.8091, 750798904058.8091, 750798904058.8091, 750798904058.8091, 750798904058.8091, 750798904058.8091, 750798904058.8091, 750798904058.8091, 750798904058.8091, 750798904058.8091, 750798904058.8091, 750798904058.8091, 750798904058.8091, 750798904058.8091, 750798904058.8091, 750798904058.8091, 750798904058.8091, 750798904058.8091, 750798904058.8091, 750798904058.8091, 750798904058.8091, 750798904058.8091, 750798904058.8091, 750798904058.8091, 750798904058.8091, 750798904058.8091, 750798904058.8091, 750798904058.8091, 750798904058.8091, 750798904058.8091, 750798904058.8091, 750798904058.8091, 750798904058.8091, 750798904058.8091, 750798904058.8091, 750798904058.8091, 750798904058.8091, 750798904058.8091, 750798904058.8091, 750798904058.8091, 750798904058.8091, 750798904058.8091, 750798904058.8091, 750798904058.8091, 750798904058.8091, 750798904058.8091, 750798904058.8091, 750798904058.8091, 750798904058.8091, 750798904058.8091, 750798904058.8091, 750798904058.8091, 750798904058.8091, 750798904058.8091, 750798904058.8091, 750798904058.8091, 750798904058.8091, 750798904058.8091, 750798904058.8091, 750798904058.8091, 750798904058.8091, 750798904058.8091, 750798904058.8091, 750798904058.8091, 750798904058.8091, 750798904058.8091, 750798904058.8091, 750798904058.8091, 750798904058.8091, 750798904058.8091, 750798904058.8091, 750798904058.8091, 750798904058.8091, 750798904058.8091, 750798904058.8091, 750798904058.8091, 750798904058.8091, 750798904058.8091, 750798904058.8091, 750798904058.8091, 750798904058.8091, 750798904058.8091, 750798904058.8091, 750798904058.8091, 750798904058.8091, 750798904058.8091, 750798904058.8091, 750798904058.8091, 750798904058.8091, 750798904058.8091, 750798904058.8091, 750798904058.8091, 750798904058.8091, 750798904058.8091, 750798904058.8091, 750798904058.8091, 750798904058.8091, 750798904058.8091, 750798904058.8091, 750798904058.8091, 750798904058.8091, 750798904058.8091, 750798904058.8091, 750798904058.8091, 750798904058.8091, 750798904058.8091, 750798904058.8091, 750798904058.8091, 750798904058.8091, 750798904058.8091, 750798904058.8091, 750798904058.8091, 750798904058.8091, 750798904058.8091, 750798904058.8091, 750798904058.8091, 750798904058.8091, 750798904058.8091, 750798904058.8091, 750798904058.8091, 750798904058.8091, 750798904058.8091, 750798904058.8091, 750798904058.8091, 750798904058.8091, 750798904058.8091, 750798904058.8091, 750798904058.8091, 750798904058.8091, 750798904058.8091, 750798904058.8091, 750798904058.8091, 750798904058.8091, 750798904058.8091, 750798904058.8091, 750798904058.8091, 750798904058.8091, 750798904058.8091, 750798904058.8091, 750798904058.8091, 750798904058.8091, 750798904058.8091, 750798904058.8091, 750798904058.8091, 750798904058.8091, 750798904058.8091, 750798904058.8091, 750798904058.8091, 750798904058.8091, 750798904058.8091, 750798904058.8091, 750798904058.8091, 750798904058.8091, 750798904058.8091, 750798904058.8091, 750798904058.8091, 750798904058.8091, 750798904058.8091, 750798904058.8091, 750798904058.8091, 750798904058.8091, 750798904058.8091, 750798904058.8091, 750798904058.8091, 750798904058.8091, 750798904058.8091, 750798904058.8091, 750798904058.8091, 750798904058.8091, 750798904058.8091, 750798904058.8091, 750798904058.8091, 750798904058.8091, 750798904058.8091, 750798904058.8091, 750798904058.8091, 750798904058.8091, 750798904058.8091, 750798904058.8091, 750798904058.8091, 750798904058.8091, 750798904058.8091, 750798904058.8091, 750798904058.8091, 750798904058.8091, 750798904058.8091, 750798904058.8091, 750798904058.8091, 750798904058.8091, 750798904058.8091, 750798904058.8091, 750798904058.8091, 750798904058.8091, 750798904058.8091, 750798904058.8091, 750798904058.8091, 750798904058.8091, 750798904058.8091, 750798904058.8091, 750798904058.8091, 750798904058.8091, 750798904058.8091, 750798904058.8091, 750798904058.8091, 750798904058.8091, 750798904058.8091, 750798904058.8091, 750798904058.8091, 750798904058.8091, 750798904058.8091, 750798904058.8091, 750798904058.8091, 750798904058.8091, 750798904058.8091, 750798904058.8091, 750798904058.8091, 750798904058.8091, 750798904058.8091, 750798904058.8091, 750798904058.8091, 750798904058.8091, 750798904058.8091, 750798904058.8091, 750798904058.8091, 750798904058.8091, 750798904058.8091, 750798904058.8091, 750798904058.8091, 750798904058.8091, 750798904058.8091, 750798904058.8091, 750798904058.8091, 750798904058.8091, 750798904058.8091, 750798904058.8091, 750798904058.8091, 750798904058.8091, 750798904058.8091, 750798904058.8091, 750798904058.8091, 750798904058.8091, 750798904058.8091, 750798904058.8091, 750798904058.8091, 750798904058.8091, 750798904058.8091, 750798904058.8091, 750798904058.8091, 750798904058.8091, 750798904058.8091, 750798904058.8091, 750798904058.8091, 750798904058.8091, 750798904058.8091, 750798904058.8091, 750798904058.8091, 750798904058.8091, 750798904058.8091, 750798904058.8091, 750798904058.8091, 750798904058.8091, 750798904058.8091, 750798904058.8091, 750798904058.8091, 750798904058.8091, 750798904058.8091, 750798904058.8091, 750798904058.8091, 750798904058.8091, 750798904058.8091, 750798904058.8091, 750798904058.8091, 750798904058.8091, 750798904058.8091, 750798904058.8091, 750798904058.8091, 750798904058.8091, 750798904058.8091, 750798904058.8091, 750798904058.8091, 750798904058.8091, 750798904058.8091, 750798904058.8091, 750798904058.8091, 750798904058.8091, 750798904058.8091, 750798904058.8091, 750798904058.8091, 750798904058.8091, 750798904058.8091, 750798904058.8091, 750798904058.8091, 750798904058.8091, 750798904058.8091, 750798904058.8091, 750798904058.8091, 750798904058.8091, 750798904058.8091, 750798904058.8091, 750798904058.8091, 750798904058.8091, 750798904058.8091, 750798904058.8091, 750798904058.8091, 750798904058.8091, 750798904058.8091, 750798904058.8091, 750798904058.8091, 750798904058.8091, 750798904058.8091, 750798904058.8091, 750798904058.8091, 750798904058.8091, 750798904058.8091, 750798904058.8091, 750798904058.8091, 750798904058.8091, 750798904058.8091, 750798904058.8091, 750798904058.8091, 750798904058.8091, 750798904058.8091, 750798904058.8091, 750798904058.8091, 750798904058.8091, 750798904058.8091, 750798904058.8091, 750798904058.8091, 750798904058.8091, 750798904058.8091, 750798904058.8091, 750798904058.8091, 750798904058.8091, 750798904058.8091, 750798904058.8091, 750798904058.8091, 750798904058.8091, 750798904058.8091, 750798904058.8091, 750798904058.8091, 750798904058.8091, 750798904058.8091, 750798904058.8091, 750798904058.8091, 750798904058.8091, 750798904058.8091, 750798904058.8091, 750798904058.8091, 750798904058.8091, 750798904058.8091, 750798904058.8091, 750798904058.8091, 750798904058.8091, 750798904058.8091, 750798904058.8091, 750798904058.8091, 750798904058.8091, 750798904058.8091, 750798904058.8091, 750798904058.8091, 750798904058.8091, 750798904058.8091, 750798904058.8091, 750798904058.8091, 750798904058.8091, 750798904058.8091, 750798904058.8091, 750798904058.8091, 750798904058.8091, 750798904058.8091, 750798904058.8091, 750798904058.8091, 750798904058.8091, 750798904058.8091, 750798904058.8091, 750798904058.8091, 750798904058.8091, 750798904058.8091, 750798904058.8091, 750798904058.8091, 750798904058.8091, 750798904058.8091, 750798904058.8091, 750798904058.8091, 750798904058.8091, 750798904058.8091, 750798904058.8091, 750798904058.8091, 750798904058.8091, 750798904058.8091, 750798904058.8091, 750798904058.8091, 750798904058.8091, 750798904058.8091, 750798904058.8091, 750798904058.8091, 750798904058.8091, 750798904058.8091, 750798904058.8091, 750798904058.8091, 750798904058.8091, 750798904058.8091, 750798904058.8091, 750798904058.8091, 750798904058.8091, 750798904058.8091, 750798904058.8091, 750798904058.8091, 750798904058.8091, 750798904058.8091, 750798904058.8091, 750798904058.8091, 750798904058.8091, 750798904058.8091, 750798904058.8091, 750798904058.8091, 750798904058.8091, 750798904058.8091, 750798904058.8091, 750798904058.8091, 750798904058.8091, 750798904058.8091, 750798904058.8091, 750798904058.8091, 750798904058.8091, 750798904058.8091, 750798904058.8091, 750798904058.8091, 750798904058.8091, 750798904058.8091, 750798904058.8091, 750798904058.8091, 750798904058.8091, 750798904058.8091, 750798904058.8091, 750798904058.8091, 750798904058.8091, 750798904058.8091, 750798904058.8091, 750798904058.8091, 750798904058.8091, 750798904058.8091, 750798904058.8091, 750798904058.8091, 750798904058.8091, 750798904058.8091, 750798904058.8091, 750798904058.8091, 750798904058.8091, 750798904058.8091, 750798904058.8091, 750798904058.8091, 750798904058.8091, 750798904058.8091, 750798904058.8091, 750798904058.8091, 750798904058.8091, 750798904058.8091, 750798904058.8091, 750798904058.8091, 750798904058.8091, 750798904058.8091, 750798904058.8091, 750798904058.8091, 750798904058.8091, 750798904058.8091, 750798904058.8091, 750798904058.8091, 750798904058.8091, 750798904058.8091, 750798904058.8091, 750798904058.8091, 750798904058.8091, 750798904058.8091, 750798904058.8091, 750798904058.8091, 750798904058.8091, 750798904058.8091, 750798904058.8091, 750798904058.8091, 750798904058.8091, 750798904058.8091, 750798904058.8091, 750798904058.8091, 750798904058.8091, 750798904058.8091, 750798904058.8091, 750798904058.8091, 750798904058.8091, 750798904058.8091, 750798904058.8091, 750798904058.8091, 750798904058.8091, 750798904058.8091, 750798904058.8091, 750798904058.8091, 750798904058.8091, 750798904058.8091, 750798904058.8091, 750798904058.8091, 750798904058.8091, 750798904058.8091, 750798904058.8091, 750798904058.8091, 750798904058.8091, 750798904058.8091, 750798904058.8091, 750798904058.8091, 750798904058.8091, 750798904058.8091, 750798904058.8091, 750798904058.8091, 750798904058.8091, 750798904058.8091, 750798904058.8091, 750798904058.8091, 750798904058.8091, 750798904058.8091, 750798904058.8091, 750798904058.8091, 750798904058.8091, 750798904058.8091, 750798904058.8091, 750798904058.8091, 750798904058.8091, 750798904058.8091, 750798904058.8091, 750798904058.8091, 750798904058.8091, 750798904058.8091, 750798904058.8091, 750798904058.8091, 750798904058.8091, 750798904058.8091, 750798904058.8091, 750798904058.8091, 750798904058.8091, 750798904058.8091, 750798904058.8091, 750798904058.8091, 750798904058.8091, 750798904058.8091, 750798904058.8091, 750798904058.8091, 750798904058.8091, 750798904058.8091, 750798904058.8091, 750798904058.8091, 750798904058.8091, 750798904058.8091, 750798904058.8091, 750798904058.8091, 750798904058.8091, 750798904058.8091, 750798904058.8091, 750798904058.8091, 750798904058.8091, 750798904058.8091, 750798904058.8091, 750798904058.8091, 750798904058.8091, 750798904058.8091, 750798904058.8091, 750798904058.8091, 750798904058.8091, 750798904058.8091, 750798904058.8091, 750798904058.8091, 750798904058.8091, 750798904058.8091, 750798904058.8091, 750798904058.8091, 750798904058.8091, 750798904058.8091, 750798904058.8091, 750798904058.8091, 750798904058.8091, 750798904058.8091, 750798904058.8091, 750798904058.8091, 750798904058.8091, 750798904058.8091, 750798904058.8091, 750798904058.8091, 750798904058.8091, 750798904058.8091, 750798904058.8091, 750798904058.8091, 750798904058.8091, 750798904058.8091, 750798904058.8091, 750798904058.8091, 750798904058.8091, 750798904058.8091, 750798904058.8091, 750798904058.8091, 750798904058.8091, 750798904058.8091, 750798904058.8091, 750798904058.8091, 750798904058.8091, 750798904058.8091, 750798904058.8091, 750798904058.8091, 750798904058.8091, 750798904058.8091, 750798904058.8091, 750798904058.8091, 750798904058.8091, 750798904058.8091, 750798904058.8091, 750798904058.8091, 750798904058.8091, 750798904058.8091, 750798904058.8091, 750798904058.8091, 750798904058.8091, 750798904058.8091, 750798904058.8091, 750798904058.8091, 750798904058.8091, 750798904058.8091, 750798904058.8091, 750798904058.8091, 750798904058.8091, 750798904058.8091, 750798904058.8091, 750798904058.8091, 750798904058.8091, 750798904058.8091, 750798904058.8091, 750798904058.8091, 750798904058.8091, 750798904058.8091, 750798904058.8091, 750798904058.8091, 750798904058.8091, 750798904058.8091, 750798904058.8091, 750798904058.8091, 750798904058.8091, 750798904058.8091, 750798904058.8091, 750798904058.8091, 750798904058.8091, 750798904058.8091, 750798904058.8091, 750798904058.8091, 750798904058.8091, 750798904058.8091, 750798904058.8091, 750798904058.8091, 750798904058.8091, 750798904058.8091, 750798904058.8091, 750798904058.8091, 750798904058.8091, 750798904058.8091, 750798904058.8091, 750798904058.8091, 750798904058.8091, 750798904058.8091, 750798904058.8091, 750798904058.8091, 750798904058.8091, 750798904058.8091, 750798904058.8091, 750798904058.8091, 750798904058.8091, 750798904058.8091, 750798904058.8091, 750798904058.8091, 750798904058.8091, 750798904058.8091, 750798904058.8091, 750798904058.8091, 750798904058.8091, 750798904058.8091, 750798904058.8091, 750798904058.8091, 750798904058.8091, 750798904058.8091, 750798904058.8091, 750798904058.8091, 750798904058.8091, 750798904058.8091, 750798904058.8091, 750798904058.8091, 750798904058.8091, 750798904058.8091, 750798904058.8091, 750798904058.8091, 750798904058.8091, 750798904058.8091, 750798904058.8091, 750798904058.8091, 750798904058.8091, 750798904058.8091, 750798904058.8091, 750798904058.8091, 750798904058.8091, 750798904058.8091, 750798904058.8091, 750798904058.8091, 750798904058.8091, 750798904058.8091, 750798904058.8091, 750798904058.8091, 750798904058.8091, 750798904058.8091, 750798904058.8091, 750798904058.8091, 750798904058.8091, 750798904058.8091, 750798904058.8091, 750798904058.8091, 750798904058.8091, 750798904058.8091, 750798904058.8091, 750798904058.8091, 750798904058.8091, 750798904058.8091, 750798904058.8091, 750798904058.8091, 750798904058.8091, 750798904058.8091, 750798904058.8091, 750798904058.8091, 750798904058.8091, 750798904058.8091, 750798904058.8091, 750798904058.8091, 750798904058.8091, 750798904058.8091, 750798904058.8091, 750798904058.8091, 750798904058.8091, 750798904058.8091, 750798904058.8091, 750798904058.8091, 750798904058.8091, 750798904058.8091, 750798904058.8091, 750798904058.8091, 750798904058.8091, 750798904058.8091, 750798904058.8091, 750798904058.8091, 750798904058.8091, 750798904058.8091, 750798904058.8091, 750798904058.8091, 750798904058.8091, 750798904058.8091, 750798904058.8091, 750798904058.8091, 750798904058.8091, 750798904058.8091, 750798904058.8091, 750798904058.8091, 750798904058.8091, 750798904058.8091, 750798904058.8091, 750798904058.8091, 750798904058.8091, 750798904058.8091, 750798904058.8091, 750798904058.8091, 750798904058.8091, 750798904058.8091, 750798904058.8091, 750798904058.8091, 750798904058.8091, 750798904058.8091, 750798904058.8091, 750798904058.8091, 750798904058.8091, 750798904058.8091, 750798904058.8091, 750798904058.8091, 750798904058.8091, 750798904058.8091, 750798904058.8091, 750798904058.8091, 750798904058.8091, 750798904058.8091, 750798904058.8091, 750798904058.8091, 750798904058.8091, 750798904058.8091, 750798904058.8091, 750798904058.8091, 750798904058.8091, 750798904058.8091, 750798904058.8091, 750798904058.8091, 750798904058.8091, 750798904058.8091, 750798904058.8091, 750798904058.8091, 750798904058.8091, 750798904058.8091, 750798904058.8091, 750798904058.8091, 750798904058.8091, 750798904058.8091, 750798904058.8091, 750798904058.8091, 750798904058.8091, 750798904058.8091, 750798904058.8091, 750798904058.8091, 750798904058.8091, 750798904058.8091, 750798904058.8091, 750798904058.8091, 750798904058.8091, 750798904058.8091, 750798904058.8091, 750798904058.8091, 750798904058.8091, 750798904058.8091, 750798904058.8091, 750798904058.8091, 750798904058.8091, 750798904058.8091, 750798904058.8091, 750798904058.8091, 750798904058.8091, 750798904058.8091, 750798904058.8091, 750798904058.8091, 750798904058.8091, 750798904058.8091, 750798904058.8091, 750798904058.8091, 750798904058.8091, 750798904058.8091, 750798904058.8091, 750798904058.8091, 750798904058.8091, 750798904058.8091, 750798904058.8091, 750798904058.8091, 750798904058.8091, 750798904058.8091, 750798904058.8091, 750798904058.8091, 750798904058.8091, 750798904058.8091, 750798904058.8091, 750798904058.8091, 750798904058.8091, 750798904058.8091, 750798904058.8091, 750798904058.8091, 750798904058.8091, 750798904058.8091, 750798904058.8091, 750798904058.8091, 750798904058.8091, 750798904058.8091, 750798904058.8091, 750798904058.8091, 750798904058.8091, 750798904058.8091, 750798904058.8091, 750798904058.8091, 750798904058.8091, 750798904058.8091, 750798904058.8091, 750798904058.8091, 750798904058.8091, 750798904058.8091, 750798904058.8091, 750798904058.8091, 750798904058.8091, 750798904058.8091, 750798904058.8091, 750798904058.8091, 750798904058.8091, 750798904058.8091, 750798904058.8091, 750798904058.8091, 750798904058.8091, 750798904058.8091, 750798904058.8091, 750798904058.8091, 750798904058.8091, 750798904058.8091, 750798904058.8091, 750798904058.8091, 750798904058.8091, 750798904058.8091, 750798904058.8091, 750798904058.8091, 750798904058.8091, 750798904058.8091, 750798904058.8091, 750798904058.8091, 750798904058.8091, 750798904058.8091, 750798904058.8091, 750798904058.8091, 750798904058.8091, 750798904058.8091, 750798904058.8091, 750798904058.8091, 750798904058.8091, 750798904058.8091, 750798904058.8091, 750798904058.8091, 750798904058.8091, 750798904058.8091, 750798904058.8091, 750798904058.8091, 750798904058.8091, 750798904058.8091, 750798904058.8091, 750798904058.8091, 750798904058.8091, 750798904058.8091, 750798904058.8091, 750798904058.8091, 750798904058.8091, 750798904058.8091, 750798904058.8091, 750798904058.8091, 750798904058.8091, 750798904058.8091, 750798904058.8091, 750798904058.8091, 750798904058.8091, 750798904058.8091, 750798904058.8091, 750798904058.8091, 750798904058.8091, 750798904058.8091, 750798904058.8091, 750798904058.8091, 750798904058.8091, 750798904058.8091, 750798904058.8091, 750798904058.8091, 750798904058.8091, 750798904058.8091, 750798904058.8091, 750798904058.8091, 750798904058.8091, 750798904058.8091, 750798904058.8091, 750798904058.8091, 750798904058.8091, 750798904058.8091, 750798904058.8091, 750798904058.8091, 750798904058.8091, 750798904058.8091, 750798904058.8091, 750798904058.8091, 750798904058.8091, 750798904058.8091, 750798904058.8091, 750798904058.8091, 750798904058.8091, 750798904058.8091, 750798904058.8091, 750798904058.8091, 750798904058.8091, 750798904058.8091, 750798904058.8091, 750798904058.8091, 750798904058.8091, 750798904058.8091, 750798904058.8091, 750798904058.8091, 750798904058.8091, 750798904058.8091, 750798904058.8091, 750798904058.8091, 750798904058.8091, 750798904058.8091, 750798904058.8091, 750798904058.8091, 750798904058.8091, 750798904058.8091, 750798904058.8091, 750798904058.8091, 750798904058.8091, 750798904058.8091, 750798904058.8091, 750798904058.8091, 750798904058.8091, 750798904058.8091, 750798904058.8091, 750798904058.8091, 750798904058.8091, 750798904058.8091, 750798904058.8091, 750798904058.8091, 750798904058.8091, 750798904058.8091, 750798904058.8091, 750798904058.8091, 750798904058.8091, 750798904058.8091, 750798904058.8091, 750798904058.8091, 750798904058.8091, 750798904058.8091, 750798904058.8091, 750798904058.8091, 750798904058.8091, 750798904058.8091, 750798904058.8091, 750798904058.8091, 750798904058.8091, 750798904058.8091, 750798904058.8091, 750798904058.8091, 750798904058.8091, 750798904058.8091, 750798904058.8091, 750798904058.8091, 750798904058.8091, 750798904058.8091, 750798904058.8091, 750798904058.8091, 750798904058.8091, 750798904058.8091, 750798904058.8091, 750798904058.8091, 750798904058.8091, 750798904058.8091, 750798904058.8091, 750798904058.8091, 750798904058.8091, 750798904058.8091, 750798904058.8091, 750798904058.8091, 750798904058.8091, 750798904058.8091, 750798904058.8091, 750798904058.8091, 750798904058.8091, 750798904058.8091, 750798904058.8091, 750798904058.8091, 750798904058.8091, 750798904058.8091, 750798904058.8091, 750798904058.8091, 750798904058.8091, 750798904058.8091, 750798904058.8091, 750798904058.8091, 750798904058.8091, 750798904058.8091, 750798904058.8091, 750798904058.8091, 750798904058.8091, 750798904058.8091, 750798904058.8091, 750798904058.8091, 750798904058.8091, 750798904058.8091, 750798904058.8091, 750798904058.8091, 750798904058.8091, 750798904058.8091, 750798904058.8091, 750798904058.8091, 750798904058.8091, 750798904058.8091, 750798904058.8091, 750798904058.8091, 750798904058.8091, 750798904058.8091, 750798904058.8091, 750798904058.8091, 750798904058.8091, 750798904058.8091, 750798904058.8091, 750798904058.8091, 750798904058.8091, 750798904058.8091, 750798904058.8091, 750798904058.8091, 750798904058.8091, 750798904058.8091, 750798904058.8091, 750798904058.8091, 750798904058.8091, 750798904058.8091, 750798904058.8091, 750798904058.8091, 750798904058.8091, 750798904058.8091, 750798904058.8091, 750798904058.8091, 750798904058.8091, 750798904058.8091, 750798904058.8091, 750798904058.8091, 750798904058.8091, 750798904058.8091, 750798904058.8091, 750798904058.8091, 750798904058.8091, 750798904058.8091, 750798904058.8091, 750798904058.8091, 750798904058.8091, 750798904058.8091, 750798904058.8091, 750798904058.8091, 750798904058.8091, 750798904058.8091, 750798904058.8091, 750798904058.8091, 750798904058.8091, 750798904058.8091, 750798904058.8091, 750798904058.8091, 750798904058.8091, 750798904058.8091, 750798904058.8091, 750798904058.8091, 750798904058.8091, 750798904058.8091, 750798904058.8091, 750798904058.8091, 750798904058.8091, 750798904058.8091, 750798904058.8091, 750798904058.8091, 750798904058.8091, 750798904058.8091, 750798904058.8091, 750798904058.8091, 750798904058.8091, 750798904058.8091, 750798904058.8091, 750798904058.8091, 750798904058.8091, 750798904058.8091, 750798904058.8091, 750798904058.8091, 750798904058.8091, 750798904058.8091, 750798904058.8091, 750798904058.8091, 750798904058.8091, 750798904058.8091, 750798904058.8091, 750798904058.8091, 750798904058.8091, 750798904058.8091, 750798904058.8091, 750798904058.8091, 750798904058.8091, 750798904058.8091, 750798904058.8091, 750798904058.8091, 750798904058.8091, 750798904058.8091, 750798904058.8091, 750798904058.8091, 750798904058.8091, 750798904058.8091, 750798904058.8091, 750798904058.8091, 750798904058.8091, 750798904058.8091, 750798904058.8091, 750798904058.8091, 750798904058.8091, 750798904058.8091, 750798904058.8091, 750798904058.8091, 750798904058.8091, 750798904058.8091, 750798904058.8091, 750798904058.8091, 750798904058.8091, 750798904058.8091, 750798904058.8091, 750798904058.8091, 750798904058.8091, 750798904058.8091, 750798904058.8091, 750798904058.8091, 750798904058.8091, 750798904058.8091, 750798904058.8091, 750798904058.8091, 750798904058.8091, 750798904058.8091, 750798904058.8091, 750798904058.8091, 750798904058.8091, 750798904058.8091, 750798904058.8091, 750798904058.8091, 750798904058.8091, 750798904058.8091, 750798904058.8091, 750798904058.8091, 750798904058.8091, 750798904058.8091, 750798904058.8091, 750798904058.8091, 750798904058.8091, 750798904058.8091, 750798904058.8091, 750798904058.8091, 750798904058.8091, 750798904058.8091, 750798904058.8091, 750798904058.8091, 750798904058.8091, 750798904058.8091, 750798904058.8091, 750798904058.8091, 750798904058.8091, 750798904058.8091, 750798904058.8091, 750798904058.8091, 750798904058.8091, 750798904058.8091, 750798904058.8091, 750798904058.8091, 750798904058.8091, 750798904058.8091, 750798904058.8091, 750798904058.8091, 750798904058.8091, 750798904058.8091, 750798904058.8091, 750798904058.8091, 750798904058.8091, 750798904058.8091, 750798904058.8091, 750798904058.8091, 750798904058.8091, 750798904058.8091, 750798904058.8091, 750798904058.8091, 750798904058.8091, 750798904058.8091, 750798904058.8091, 750798904058.8091, 750798904058.8091, 750798904058.8091, 750798904058.8091, 750798904058.8091, 750798904058.8091, 750798904058.8091, 750798904058.8091, 750798904058.8091, 750798904058.8091, 750798904058.8091, 750798904058.8091, 750798904058.8091, 750798904058.8091, 750798904058.8091, 750798904058.8091, 750798904058.8091, 750798904058.8091, 750798904058.8091, 750798904058.8091, 750798904058.8091, 750798904058.8091, 750798904058.8091, 750798904058.8091, 750798904058.8091, 750798904058.8091, 750798904058.8091, 750798904058.8091, 750798904058.8091, 750798904058.8091, 750798904058.8091, 750798904058.8091, 750798904058.8091, 750798904058.8091, 750798904058.8091, 750798904058.8091, 750798904058.8091, 750798904058.8091, 750798904058.8091, 750798904058.8091, 750798904058.8091, 750798904058.8091, 750798904058.8091, 750798904058.8091, 750798904058.8091, 750798904058.8091, 750798904058.8091, 750798904058.8091, 750798904058.8091, 750798904058.8091, 750798904058.8091, 750798904058.8091, 750798904058.8091, 750798904058.8091, 750798904058.8091, 750798904058.8091, 750798904058.8091, 750798904058.8091, 750798904058.8091, 750798904058.8091, 750798904058.8091, 750798904058.8091, 750798904058.8091, 750798904058.8091, 750798904058.8091, 750798904058.8091, 750798904058.8091, 750798904058.8091, 750798904058.8091, 750798904058.8091, 750798904058.8091, 750798904058.8091, 750798904058.8091, 750798904058.8091, 750798904058.8091, 750798904058.8091, 750798904058.8091, 750798904058.8091, 750798904058.8091, 750798904058.8091, 750798904058.8091, 750798904058.8091, 750798904058.8091, 750798904058.8091, 750798904058.8091, 750798904058.8091, 750798904058.8091, 750798904058.8091, 750798904058.8091, 750798904058.8091, 750798904058.8091, 750798904058.8091, 750798904058.8091, 750798904058.8091, 750798904058.8091, 750798904058.8091, 750798904058.8091, 750798904058.8091, 750798904058.8091, 750798904058.8091, 750798904058.8091, 750798904058.8091, 750798904058.8091, 750798904058.8091, 750798904058.8091, 750798904058.8091, 750798904058.8091, 750798904058.8091, 750798904058.8091, 750798904058.8091, 750798904058.8091, 750798904058.8091, 750798904058.8091, 750798904058.8091, 750798904058.8091, 750798904058.8091, 750798904058.8091, 750798904058.8091, 750798904058.8091, 750798904058.8091, 750798904058.8091, 750798904058.8091, 750798904058.8091, 750798904058.8091, 750798904058.8091, 750798904058.8091, 750798904058.8091, 750798904058.8091, 750798904058.8091, 750798904058.8091, 750798904058.8091, 750798904058.8091, 750798904058.8091, 750798904058.8091, 750798904058.8091, 750798904058.8091, 750798904058.8091, 750798904058.8091, 750798904058.8091, 750798904058.8091, 750798904058.8091, 750798904058.8091, 750798904058.8091, 750798904058.8091, 750798904058.8091, 750798904058.8091, 750798904058.8091, 750798904058.8091, 750798904058.8091, 750798904058.8091, 750798904058.8091, 750798904058.8091, 750798904058.8091, 750798904058.8091, 750798904058.8091, 750798904058.8091, 750798904058.8091, 750798904058.8091, 750798904058.8091, 750798904058.8091, 750798904058.8091, 750798904058.8091, 750798904058.8091, 750798904058.8091, 750798904058.8091, 750798904058.8091, 750798904058.8091, 750798904058.8091, 750798904058.8091, 750798904058.8091, 750798904058.8091, 750798904058.8091, 750798904058.8091, 750798904058.8091, 750798904058.8091, 750798904058.8091, 750798904058.8091, 750798904058.8091, 750798904058.8091, 750798904058.8091, 750798904058.8091, 750798904058.8091, 750798904058.8091, 750798904058.8091, 750798904058.8091, 750798904058.8091, 750798904058.8091, 750798904058.8091, 750798904058.8091, 750798904058.8091, 750798904058.8091, 750798904058.8091, 750798904058.8091, 750798904058.8091, 750798904058.8091, 750798904058.8091, 750798904058.8091, 750798904058.8091, 750798904058.8091, 750798904058.8091, 750798904058.8091, 750798904058.8091, 750798904058.8091, 750798904058.8091, 750798904058.8091, 750798904058.8091, 750798904058.8091, 750798904058.8091, 750798904058.8091, 750798904058.8091, 750798904058.8091, 750798904058.8091, 750798904058.8091, 750798904058.8091, 750798904058.8091, 750798904058.8091, 750798904058.8091, 750798904058.8091, 750798904058.8091, 750798904058.8091, 750798904058.8091, 750798904058.8091, 750798904058.8091, 750798904058.8091, 750798904058.8091, 750798904058.8091, 750798904058.8091, 750798904058.8091, 750798904058.8091, 750798904058.8091, 750798904058.8091, 750798904058.8091, 750798904058.8091, 750798904058.8091, 750798904058.8091, 750798904058.8091, 750798904058.8091, 750798904058.8091, 750798904058.8091, 750798904058.8091, 750798904058.8091, 750798904058.8091, 750798904058.8091, 750798904058.8091, 750798904058.8091, 750798904058.8091, 750798904058.8091, 750798904058.8091, 750798904058.8091, 750798904058.8091, 750798904058.8091, 750798904058.8091, 750798904058.8091, 750798904058.8091, 750798904058.8091, 750798904058.8091, 750798904058.8091, 750798904058.8091, 750798904058.8091, 750798904058.8091, 750798904058.8091, 750798904058.8091, 750798904058.8091, 750798904058.8091, 750798904058.8091, 750798904058.8091, 750798904058.8091, 750798904058.8091, 750798904058.8091, 750798904058.8091, 750798904058.8091, 750798904058.8091, 750798904058.8091, 750798904058.8091, 750798904058.8091, 750798904058.8091, 750798904058.8091, 750798904058.8091, 750798904058.8091, 750798904058.8091, 750798904058.8091, 750798904058.8091, 750798904058.8091, 750798904058.8091, 750798904058.8091, 750798904058.8091, 750798904058.8091, 750798904058.8091, 750798904058.8091, 750798904058.8091, 750798904058.8091, 750798904058.8091, 750798904058.8091, 750798904058.8091, 750798904058.8091, 750798904058.8091, 750798904058.8091, 750798904058.8091, 750798904058.8091, 750798904058.8091, 750798904058.8091, 750798904058.8091, 750798904058.8091, 750798904058.8091, 750798904058.8091, 750798904058.8091, 750798904058.8091, 750798904058.8091, 750798904058.8091, 750798904058.8091, 750798904058.8091, 750798904058.8091, 750798904058.8091, 750798904058.8091, 750798904058.8091, 750798904058.8091, 750798904058.8091, 750798904058.8091, 750798904058.8091, 750798904058.8091, 750798904058.8091, 750798904058.8091, 750798904058.8091, 750798904058.8091, 750798904058.8091, 750798904058.8091, 750798904058.8091, 750798904058.8091, 750798904058.8091, 750798904058.8091, 750798904058.8091, 750798904058.8091, 750798904058.8091, 750798904058.8091, 750798904058.8091, 750798904058.8091, 750798904058.8091, 750798904058.8091, 750798904058.8091, 750798904058.8091, 750798904058.8091, 750798904058.8091, 750798904058.8091, 750798904058.8091, 750798904058.8091, 750798904058.8091, 750798904058.8091, 750798904058.8091, 750798904058.8091, 750798904058.8091, 750798904058.8091, 750798904058.8091, 750798904058.8091, 750798904058.8091, 750798904058.8091, 750798904058.8091, 750798904058.8091, 750798904058.8091, 750798904058.8091, 750798904058.8091, 750798904058.8091, 750798904058.8091, 750798904058.8091, 750798904058.8091, 750798904058.8091, 750798904058.8091, 750798904058.8091, 750798904058.8091, 750798904058.8091, 750798904058.8091, 750798904058.8091, 750798904058.8091, 750798904058.8091, 750798904058.8091, 750798904058.8091, 750798904058.8091, 750798904058.8091, 750798904058.8091, 750798904058.8091, 750798904058.8091, 750798904058.8091, 750798904058.8091, 750798904058.8091, 750798904058.8091, 750798904058.8091, 750798904058.8091, 750798904058.8091, 750798904058.8091, 750798904058.8091, 750798904058.8091, 750798904058.8091, 750798904058.8091, 750798904058.8091, 750798904058.8091, 750798904058.8091, 750798904058.8091, 750798904058.8091, 750798904058.8091, 750798904058.8091, 750798904058.8091, 750798904058.8091, 750798904058.8091, 750798904058.8091, 750798904058.8091, 750798904058.8091, 750798904058.8091, 750798904058.8091, 750798904058.8091, 750798904058.8091, 750798904058.8091, 750798904058.8091, 750798904058.8091, 750798904058.8091, 750798904058.8091, 750798904058.8091, 750798904058.8091, 750798904058.8091, 750798904058.8091, 750798904058.8091, 750798904058.8091, 750798904058.8091, 750798904058.8091, 750798904058.8091, 750798904058.8091, 750798904058.8091, 750798904058.8091, 750798904058.8091, 750798904058.8091, 750798904058.8091, 750798904058.8091, 750798904058.8091, 750798904058.8091, 750798904058.8091, 750798904058.8091, 750798904058.8091, 750798904058.8091, 750798904058.8091, 750798904058.8091, 750798904058.8091, 750798904058.8091, 750798904058.8091, 750798904058.8091, 750798904058.8091, 750798904058.8091, 750798904058.8091, 750798904058.8091, 750798904058.8091, 750798904058.8091, 750798904058.8091, 750798904058.8091, 750798904058.8091, 750798904058.8091, 750798904058.8091, 750798904058.8091, 750798904058.8091, 750798904058.8091, 750798904058.8091, 750798904058.8091, 750798904058.8091, 750798904058.8091, 750798904058.8091, 750798904058.8091, 750798904058.8091, 750798904058.8091, 750798904058.8091, 750798904058.8091, 750798904058.8091, 750798904058.8091, 750798904058.8091, 750798904058.8091, 750798904058.8091, 750798904058.8091, 750798904058.8091, 750798904058.8091, 750798904058.8091, 750798904058.8091, 750798904058.8091, 750798904058.8091, 750798904058.8091, 750798904058.8091, 750798904058.8091, 750798904058.8091, 750798904058.8091, 750798904058.8091, 750798904058.8091, 750798904058.8091, 750798904058.8091, 750798904058.8091, 750798904058.8091, 750798904058.8091, 750798904058.8091, 750798904058.8091, 750798904058.8091, 750798904058.8091, 750798904058.8091, 750798904058.8091, 750798904058.8091, 750798904058.8091, 750798904058.8091, 750798904058.8091, 750798904058.8091, 750798904058.8091, 750798904058.8091, 750798904058.8091, 750798904058.8091, 750798904058.8091, 750798904058.8091, 750798904058.8091, 750798904058.8091, 750798904058.8091, 750798904058.8091, 750798904058.8091, 750798904058.8091, 750798904058.8091, 750798904058.8091, 750798904058.8091, 750798904058.8091, 750798904058.8091, 750798904058.8091, 750798904058.8091, 750798904058.8091, 750798904058.8091, 750798904058.8091, 750798904058.8091, 750798904058.8091, 750798904058.8091, 750798904058.8091, 750798904058.8091, 750798904058.8091, 750798904058.8091, 750798904058.8091, 750798904058.8091, 750798904058.8091, 750798904058.8091, 750798904058.8091, 750798904058.8091, 750798904058.8091, 750798904058.8091, 750798904058.8091, 750798904058.8091, 750798904058.8091, 750798904058.8091, 750798904058.8091, 750798904058.8091, 750798904058.8091, 750798904058.8091, 750798904058.8091, 750798904058.8091, 750798904058.8091, 750798904058.8091, 750798904058.8091, 750798904058.8091, 750798904058.8091, 750798904058.8091, 750798904058.8091, 750798904058.8091, 750798904058.8091, 750798904058.8091, 750798904058.8091, 750798904058.8091, 750798904058.8091, 750798904058.8091, 750798904058.8091, 750798904058.8091, 750798904058.8091, 750798904058.8091, 750798904058.8091, 750798904058.8091, 750798904058.8091, 750798904058.8091, 750798904058.8091, 750798904058.8091, 750798904058.8091, 750798904058.8091, 750798904058.8091, 750798904058.8091, 750798904058.8091, 750798904058.8091, 750798904058.8091, 750798904058.8091, 750798904058.8091, 750798904058.8091, 750798904058.8091, 750798904058.8091, 750798904058.8091, 750798904058.8091, 750798904058.8091, 750798904058.8091, 750798904058.8091, 750798904058.8091, 750798904058.8091, 750798904058.8091, 750798904058.8091, 750798904058.8091, 750798904058.8091, 750798904058.8091, 750798904058.8091, 750798904058.8091, 750798904058.8091, 750798904058.8091, 750798904058.8091, 750798904058.8091, 750798904058.8091, 750798904058.8091, 750798904058.8091, 750798904058.8091, 750798904058.8091, 750798904058.8091, 750798904058.8091, 750798904058.8091, 750798904058.8091, 750798904058.8091, 750798904058.8091, 750798904058.8091, 750798904058.8091, 750798904058.8091, 750798904058.8091, 750798904058.8091, 750798904058.8091, 750798904058.8091, 750798904058.8091, 750798904058.8091, 750798904058.8091, 750798904058.8091, 750798904058.8091, 750798904058.8091, 750798904058.8091, 750798904058.8091, 750798904058.8091, 750798904058.8091, 750798904058.8091, 750798904058.8091, 750798904058.8091, 750798904058.8091, 750798904058.8091, 750798904058.8091, 750798904058.8091, 750798904058.8091, 750798904058.8091, 750798904058.8091, 750798904058.8091, 750798904058.8091, 750798904058.8091, 750798904058.8091, 750798904058.8091, 750798904058.8091, 750798904058.8091, 750798904058.8091, 750798904058.8091, 750798904058.8091, 750798904058.8091, 750798904058.8091, 750798904058.8091, 750798904058.8091, 750798904058.8091, 750798904058.8091, 750798904058.8091, 750798904058.8091, 750798904058.8091, 750798904058.8091, 750798904058.8091, 750798904058.8091, 750798904058.8091, 750798904058.8091, 750798904058.8091, 750798904058.8091, 750798904058.8091, 750798904058.8091, 750798904058.8091, 750798904058.8091, 750798904058.8091, 750798904058.8091, 750798904058.8091, 750798904058.8091, 750798904058.8091, 750798904058.8091, 750798904058.8091, 750798904058.8091, 750798904058.8091, 750798904058.8091, 750798904058.8091, 750798904058.8091, 750798904058.8091, 750798904058.8091, 750798904058.8091, 750798904058.8091, 750798904058.8091, 750798904058.8091, 750798904058.8091, 750798904058.8091, 750798904058.8091, 750798904058.8091, 750798904058.8091, 750798904058.8091, 750798904058.8091, 750798904058.8091, 750798904058.8091, 750798904058.8091, 750798904058.8091, 750798904058.8091, 750798904058.8091, 750798904058.8091, 750798904058.8091, 750798904058.8091, 750798904058.8091, 750798904058.8091, 750798904058.8091, 750798904058.8091, 750798904058.8091, 750798904058.8091, 750798904058.8091, 750798904058.8091, 750798904058.8091, 750798904058.8091, 750798904058.8091, 750798904058.8091, 750798904058.8091, 750798904058.8091, 750798904058.8091, 750798904058.8091, 750798904058.8091, 750798904058.8091, 750798904058.8091, 750798904058.8091, 750798904058.8091, 750798904058.8091, 750798904058.8091, 750798904058.8091, 750798904058.8091, 750798904058.8091, 750798904058.8091, 750798904058.8091, 750798904058.8091, 750798904058.8091, 750798904058.8091, 750798904058.8091, 750798904058.8091, 750798904058.8091, 750798904058.8091, 750798904058.8091, 750798904058.8091]}],\n",
       "                        {\"legend\": {\"tracegroupgap\": 0}, \"template\": {\"data\": {\"bar\": [{\"error_x\": {\"color\": \"#2a3f5f\"}, \"error_y\": {\"color\": \"#2a3f5f\"}, \"marker\": {\"line\": {\"color\": \"#E5ECF6\", \"width\": 0.5}}, \"type\": \"bar\"}], \"barpolar\": [{\"marker\": {\"line\": {\"color\": \"#E5ECF6\", \"width\": 0.5}}, \"type\": \"barpolar\"}], \"carpet\": [{\"aaxis\": {\"endlinecolor\": \"#2a3f5f\", \"gridcolor\": \"white\", \"linecolor\": \"white\", \"minorgridcolor\": \"white\", \"startlinecolor\": \"#2a3f5f\"}, \"baxis\": {\"endlinecolor\": \"#2a3f5f\", \"gridcolor\": \"white\", \"linecolor\": \"white\", \"minorgridcolor\": \"white\", \"startlinecolor\": \"#2a3f5f\"}, \"type\": \"carpet\"}], \"choropleth\": [{\"colorbar\": {\"outlinewidth\": 0, \"ticks\": \"\"}, \"type\": \"choropleth\"}], \"contour\": [{\"colorbar\": {\"outlinewidth\": 0, \"ticks\": \"\"}, \"colorscale\": [[0.0, \"#0d0887\"], [0.1111111111111111, \"#46039f\"], [0.2222222222222222, \"#7201a8\"], [0.3333333333333333, \"#9c179e\"], [0.4444444444444444, \"#bd3786\"], [0.5555555555555556, \"#d8576b\"], [0.6666666666666666, \"#ed7953\"], [0.7777777777777778, \"#fb9f3a\"], [0.8888888888888888, \"#fdca26\"], [1.0, \"#f0f921\"]], \"type\": \"contour\"}], \"contourcarpet\": [{\"colorbar\": {\"outlinewidth\": 0, \"ticks\": \"\"}, \"type\": \"contourcarpet\"}], \"heatmap\": [{\"colorbar\": {\"outlinewidth\": 0, \"ticks\": \"\"}, \"colorscale\": [[0.0, \"#0d0887\"], [0.1111111111111111, \"#46039f\"], [0.2222222222222222, \"#7201a8\"], [0.3333333333333333, \"#9c179e\"], [0.4444444444444444, \"#bd3786\"], [0.5555555555555556, \"#d8576b\"], [0.6666666666666666, \"#ed7953\"], [0.7777777777777778, \"#fb9f3a\"], [0.8888888888888888, \"#fdca26\"], [1.0, \"#f0f921\"]], \"type\": \"heatmap\"}], \"heatmapgl\": [{\"colorbar\": {\"outlinewidth\": 0, \"ticks\": \"\"}, \"colorscale\": [[0.0, \"#0d0887\"], [0.1111111111111111, \"#46039f\"], [0.2222222222222222, \"#7201a8\"], [0.3333333333333333, \"#9c179e\"], [0.4444444444444444, \"#bd3786\"], [0.5555555555555556, \"#d8576b\"], [0.6666666666666666, \"#ed7953\"], [0.7777777777777778, \"#fb9f3a\"], [0.8888888888888888, \"#fdca26\"], [1.0, \"#f0f921\"]], \"type\": \"heatmapgl\"}], \"histogram\": [{\"marker\": {\"colorbar\": {\"outlinewidth\": 0, \"ticks\": \"\"}}, \"type\": \"histogram\"}], \"histogram2d\": [{\"colorbar\": {\"outlinewidth\": 0, \"ticks\": \"\"}, \"colorscale\": [[0.0, \"#0d0887\"], [0.1111111111111111, \"#46039f\"], [0.2222222222222222, \"#7201a8\"], [0.3333333333333333, \"#9c179e\"], [0.4444444444444444, \"#bd3786\"], [0.5555555555555556, \"#d8576b\"], [0.6666666666666666, \"#ed7953\"], [0.7777777777777778, \"#fb9f3a\"], [0.8888888888888888, \"#fdca26\"], [1.0, \"#f0f921\"]], \"type\": \"histogram2d\"}], \"histogram2dcontour\": [{\"colorbar\": {\"outlinewidth\": 0, \"ticks\": \"\"}, \"colorscale\": [[0.0, \"#0d0887\"], [0.1111111111111111, \"#46039f\"], [0.2222222222222222, \"#7201a8\"], [0.3333333333333333, \"#9c179e\"], [0.4444444444444444, \"#bd3786\"], [0.5555555555555556, \"#d8576b\"], [0.6666666666666666, \"#ed7953\"], [0.7777777777777778, \"#fb9f3a\"], [0.8888888888888888, \"#fdca26\"], [1.0, \"#f0f921\"]], \"type\": \"histogram2dcontour\"}], \"mesh3d\": [{\"colorbar\": {\"outlinewidth\": 0, \"ticks\": \"\"}, \"type\": \"mesh3d\"}], \"parcoords\": [{\"line\": {\"colorbar\": {\"outlinewidth\": 0, \"ticks\": \"\"}}, \"type\": \"parcoords\"}], \"pie\": [{\"automargin\": true, \"type\": \"pie\"}], \"scatter\": [{\"marker\": {\"colorbar\": {\"outlinewidth\": 0, \"ticks\": \"\"}}, \"type\": \"scatter\"}], \"scatter3d\": [{\"line\": {\"colorbar\": {\"outlinewidth\": 0, \"ticks\": \"\"}}, \"marker\": {\"colorbar\": {\"outlinewidth\": 0, \"ticks\": \"\"}}, \"type\": \"scatter3d\"}], \"scattercarpet\": [{\"marker\": {\"colorbar\": {\"outlinewidth\": 0, \"ticks\": \"\"}}, \"type\": \"scattercarpet\"}], \"scattergeo\": [{\"marker\": {\"colorbar\": {\"outlinewidth\": 0, \"ticks\": \"\"}}, \"type\": \"scattergeo\"}], \"scattergl\": [{\"marker\": {\"colorbar\": {\"outlinewidth\": 0, \"ticks\": \"\"}}, \"type\": \"scattergl\"}], \"scattermapbox\": [{\"marker\": {\"colorbar\": {\"outlinewidth\": 0, \"ticks\": \"\"}}, \"type\": \"scattermapbox\"}], \"scatterpolar\": [{\"marker\": {\"colorbar\": {\"outlinewidth\": 0, \"ticks\": \"\"}}, \"type\": \"scatterpolar\"}], \"scatterpolargl\": [{\"marker\": {\"colorbar\": {\"outlinewidth\": 0, \"ticks\": \"\"}}, \"type\": \"scatterpolargl\"}], \"scatterternary\": [{\"marker\": {\"colorbar\": {\"outlinewidth\": 0, \"ticks\": \"\"}}, \"type\": \"scatterternary\"}], \"surface\": [{\"colorbar\": {\"outlinewidth\": 0, \"ticks\": \"\"}, \"colorscale\": [[0.0, \"#0d0887\"], [0.1111111111111111, \"#46039f\"], [0.2222222222222222, \"#7201a8\"], [0.3333333333333333, \"#9c179e\"], [0.4444444444444444, \"#bd3786\"], [0.5555555555555556, \"#d8576b\"], [0.6666666666666666, \"#ed7953\"], [0.7777777777777778, \"#fb9f3a\"], [0.8888888888888888, \"#fdca26\"], [1.0, \"#f0f921\"]], \"type\": \"surface\"}], \"table\": [{\"cells\": {\"fill\": {\"color\": \"#EBF0F8\"}, \"line\": {\"color\": \"white\"}}, \"header\": {\"fill\": {\"color\": \"#C8D4E3\"}, \"line\": {\"color\": \"white\"}}, \"type\": \"table\"}]}, \"layout\": {\"annotationdefaults\": {\"arrowcolor\": \"#2a3f5f\", \"arrowhead\": 0, \"arrowwidth\": 1}, \"coloraxis\": {\"colorbar\": {\"outlinewidth\": 0, \"ticks\": \"\"}}, \"colorscale\": {\"diverging\": [[0, \"#8e0152\"], [0.1, \"#c51b7d\"], [0.2, \"#de77ae\"], [0.3, \"#f1b6da\"], [0.4, \"#fde0ef\"], [0.5, \"#f7f7f7\"], [0.6, \"#e6f5d0\"], [0.7, \"#b8e186\"], [0.8, \"#7fbc41\"], [0.9, \"#4d9221\"], [1, \"#276419\"]], \"sequential\": [[0.0, \"#0d0887\"], [0.1111111111111111, \"#46039f\"], [0.2222222222222222, \"#7201a8\"], [0.3333333333333333, \"#9c179e\"], [0.4444444444444444, \"#bd3786\"], [0.5555555555555556, \"#d8576b\"], [0.6666666666666666, \"#ed7953\"], [0.7777777777777778, \"#fb9f3a\"], [0.8888888888888888, \"#fdca26\"], [1.0, \"#f0f921\"]], \"sequentialminus\": [[0.0, \"#0d0887\"], [0.1111111111111111, \"#46039f\"], [0.2222222222222222, \"#7201a8\"], [0.3333333333333333, \"#9c179e\"], [0.4444444444444444, \"#bd3786\"], [0.5555555555555556, \"#d8576b\"], [0.6666666666666666, \"#ed7953\"], [0.7777777777777778, \"#fb9f3a\"], [0.8888888888888888, \"#fdca26\"], [1.0, \"#f0f921\"]]}, \"colorway\": [\"#636efa\", \"#EF553B\", \"#00cc96\", \"#ab63fa\", \"#FFA15A\", \"#19d3f3\", \"#FF6692\", \"#B6E880\", \"#FF97FF\", \"#FECB52\"], \"font\": {\"color\": \"#2a3f5f\"}, \"geo\": {\"bgcolor\": \"white\", \"lakecolor\": \"white\", \"landcolor\": \"#E5ECF6\", \"showlakes\": true, \"showland\": true, \"subunitcolor\": \"white\"}, \"hoverlabel\": {\"align\": \"left\"}, \"hovermode\": \"closest\", \"mapbox\": {\"style\": \"light\"}, \"paper_bgcolor\": \"white\", \"plot_bgcolor\": \"#E5ECF6\", \"polar\": {\"angularaxis\": {\"gridcolor\": \"white\", \"linecolor\": \"white\", \"ticks\": \"\"}, \"bgcolor\": \"#E5ECF6\", \"radialaxis\": {\"gridcolor\": \"white\", \"linecolor\": \"white\", \"ticks\": \"\"}}, \"scene\": {\"xaxis\": {\"backgroundcolor\": \"#E5ECF6\", \"gridcolor\": \"white\", \"gridwidth\": 2, \"linecolor\": \"white\", \"showbackground\": true, \"ticks\": \"\", \"zerolinecolor\": \"white\"}, \"yaxis\": {\"backgroundcolor\": \"#E5ECF6\", \"gridcolor\": \"white\", \"gridwidth\": 2, \"linecolor\": \"white\", \"showbackground\": true, \"ticks\": \"\", \"zerolinecolor\": \"white\"}, \"zaxis\": {\"backgroundcolor\": \"#E5ECF6\", \"gridcolor\": \"white\", \"gridwidth\": 2, \"linecolor\": \"white\", \"showbackground\": true, \"ticks\": \"\", \"zerolinecolor\": \"white\"}}, \"shapedefaults\": {\"line\": {\"color\": \"#2a3f5f\"}}, \"ternary\": {\"aaxis\": {\"gridcolor\": \"white\", \"linecolor\": \"white\", \"ticks\": \"\"}, \"baxis\": {\"gridcolor\": \"white\", \"linecolor\": \"white\", \"ticks\": \"\"}, \"bgcolor\": \"#E5ECF6\", \"caxis\": {\"gridcolor\": \"white\", \"linecolor\": \"white\", \"ticks\": \"\"}}, \"title\": {\"x\": 0.05}, \"xaxis\": {\"automargin\": true, \"gridcolor\": \"white\", \"linecolor\": \"white\", \"ticks\": \"\", \"title\": {\"standoff\": 15}, \"zerolinecolor\": \"white\", \"zerolinewidth\": 2}, \"yaxis\": {\"automargin\": true, \"gridcolor\": \"white\", \"linecolor\": \"white\", \"ticks\": \"\", \"title\": {\"standoff\": 15}, \"zerolinecolor\": \"white\", \"zerolinewidth\": 2}}}, \"title\": {\"text\": \"Country Percentage\"}},\n",
       "                        {\"responsive\": true}\n",
       "                    ).then(function(){\n",
       "                            \n",
       "var gd = document.getElementById('06d38cb1-fbc3-45ca-b703-0bb6df09d189');\n",
       "var x = new MutationObserver(function (mutations, observer) {{\n",
       "        var display = window.getComputedStyle(gd).display;\n",
       "        if (!display || display === 'none') {{\n",
       "            console.log([gd, 'removed!']);\n",
       "            Plotly.purge(gd);\n",
       "            observer.disconnect();\n",
       "        }}\n",
       "}});\n",
       "\n",
       "// Listen for the removal of the full notebook cells\n",
       "var notebookContainer = gd.closest('#notebook-container');\n",
       "if (notebookContainer) {{\n",
       "    x.observe(notebookContainer, {childList: true});\n",
       "}}\n",
       "\n",
       "// Listen for the clearing of the current output cell\n",
       "var outputEl = gd.closest('.output');\n",
       "if (outputEl) {{\n",
       "    x.observe(outputEl, {childList: true});\n",
       "}}\n",
       "\n",
       "                        })\n",
       "                };\n",
       "                });\n",
       "            </script>\n",
       "        </div>"
      ]
     },
     "metadata": {},
     "output_type": "display_data"
    }
   ],
   "source": [
    "import plotly.express as px\n",
    "\n",
    "fig = px.pie(df.loc[df['Region']== 'AFRICA'], values='Total Principal Amount', \n",
    "             names='Country',\n",
    "             title='Country Percentage')\n",
    "fig.show()"
   ]
  },
  {
   "cell_type": "markdown",
   "metadata": {},
   "source": [
    "### Histogram"
   ]
  },
  {
   "cell_type": "code",
   "execution_count": 575,
   "metadata": {},
   "outputs": [
    {
     "data": {
      "application/vnd.plotly.v1+json": {
       "config": {
        "plotlyServerURL": "https://plot.ly"
       },
       "data": [
        {
         "alignmentgroup": "True",
         "bingroup": "x",
         "histnorm": "probability density",
         "hovertemplate": "Region=AFRICA<br>Original Principal Amount=%{x}<br>count=%{y}<extra></extra>",
         "legendgroup": "AFRICA",
         "marker": {
          "color": "#636efa",
          "opacity": 0.8
         },
         "name": "AFRICA",
         "offsetgroup": "AFRICA",
         "orientation": "v",
         "showlegend": true,
         "type": "histogram",
         "x": [
          19239973.134410698,
          4569493.619422542,
          19720972.46277097,
          60124916.04503345,
          21644969.77621204,
          66137407.64953679,
          19961472.126951106,
          48099932.83602676,
          28859959.701616056,
          98604862.31385486,
          28859959.701616056,
          48099932.83602676,
          19239973.134410698,
          33669952.98521873,
          15632478.171708696,
          7214989.925404014,
          28859959.701616056,
          19239973.134410698,
          26454963.05981472,
          33188953.656858467,
          24049966.41801338,
          156324781.71708694,
          70947400.93313946,
          38479946.268821396,
          103414855.59745754
         ],
         "xaxis": "x",
         "yaxis": "y"
        },
        {
         "alignmentgroup": "True",
         "customdata": [
          [
           1590883200000000000,
           "IDA04891",
           "AFRICA",
           "TD",
           "Chad",
           "Ministere des Finances et du Budget",
           "Fully Repaid",
           0.75,
           "USD",
           "Irrigation",
           19239973.134410698,
           115014.51515036164,
           0,
           19124958.61926034,
           19124958.61926034,
           0,
           0,
           0,
           0,
           0,
           0,
           0,
           454896000000000000,
           1701388800000000000,
           213494400000000000,
           208483200000000000,
           224294400000000000,
           552009600000000000,
           678931200000000000,
           "USD",
           1492905600000000000,
           47.30829517375442,
           110505600000000000,
           3.5017830619383012,
           61335.58663079993,
           829.514637535336,
           "IRRIG. SATEGUI DERES",
           2876856982.9227605
          ],
          [
           1590883200000000000,
           "IDA07390",
           "AFRICA",
           "TD",
           "Chad",
           "Ministere des Finances et du Budget",
           "Fully Repaid",
           0.75,
           "USD",
           "Irrigation",
           4569493.619422542,
           0,
           0,
           4569493.619422542,
           4569493.619422542,
           0,
           0,
           0,
           0,
           0,
           0,
           0,
           565315200000000000,
           1811808000000000000,
           244252800000000000,
           242352000000000000,
           264038400000000000,
           552009600000000000,
           559267200000000000,
           "USD",
           1569456000000000000,
           49.73408078194624,
           220924800000000000,
           7.000828216869614,
           61335.58663079993,
           829.514637535336,
           "SAHELIAN ZONE PROJEC",
           2876856982.9227605
          ],
          [
           1590883200000000000,
           "IDA07660",
           "AFRICA",
           "BF",
           "Burkina Faso",
           "DIRECTION DE LA DETTE PUBLIQUE",
           "Fully Repaid",
           0.75,
           "USD",
           "Urbanization",
           19720972.46277097,
           13553.454774737113,
           0,
           19707419.007996235,
           19707419.007996235,
           0,
           0,
           0,
           0,
           0,
           0,
           0,
           574387200000000000,
           1820966400000000000,
           258854400000000000,
           255052800000000000,
           286761600000000000,
           504835200000000000,
           522892800000000000,
           "USD",
           1565913600000000000,
           49.621826594659716,
           230083200000000000,
           7.291046359610396,
           61335.58663079993,
           2184.8799085539063,
           "URBAN",
           2876856982.9227605
          ],
          [
           1590883200000000000,
           "IDA07820",
           "AFRICA",
           "SD",
           "Sudan",
           "Ministry of Finance and National Economy",
           "Repaying",
           0.75,
           "USD",
           "Livestock",
           60124916.04503345,
           3508040.5112744686,
           0,
           56616875.53375898,
           3680072.951358288,
           52936802.58240069,
           0,
           52936802.58240069,
           0,
           0,
           0,
           52936802.58240069,
           589075200000000000,
           1835481600000000000,
           266803200000000000,
           259459200000000000,
           300326400000000000,
           536371200000000000,
           552787200000000000,
           "USD",
           1576022400000000000,
           49.942161714477365,
           244598400000000000,
           7.751014736784465,
           61335.58663079993,
           319.24269492186704,
           "LIVESTOCK MARKETING",
           2876856982.9227605
          ],
          [
           1590883200000000000,
           "IDA07960",
           "AFRICA",
           "ZR",
           "Congo, Democratic Republic of",
           "MINISTERE DES FINANCES",
           "Fully Repaid",
           0.75,
           "USD",
           "Energy",
           21644969.77621204,
           6153792.9253483275,
           0,
           15491176.850863716,
           15491176.850863716,
           0,
           0,
           0,
           0,
           0,
           0,
           0,
           590284800000000000,
           1836691200000000000,
           266112000000000000,
           262915200000000000,
           349660800000000000,
           567907200000000000,
           593308800000000000,
           "USD",
           1573776000000000000,
           49.87097613229567,
           245808000000000000,
           7.789345434882304,
           61335.58663079993,
           1140.2616070145177,
           "OIL PALM DEVELOPMENT",
           2876856982.9227605
          ],
          [
           1590883200000000000,
           "IDA08010",
           "AFRICA",
           "TZ",
           "Tanzania",
           "Ministry of Finance and Planning",
           "Fully Repaid",
           0.75,
           "USD",
           "Agriculture",
           66137407.64953679,
           8210221.066220625,
           0,
           57927186.58331617,
           57927186.58331617,
           0,
           0,
           0,
           0,
           0,
           0,
           0,
           587606400000000000,
           1834185600000000000,
           266630400000000000,
           264124800000000000,
           276134400000000000,
           615168000000000000,
           645840000000000000,
           "USD",
           1570060800000000000,
           49.75324613099516,
           243302400000000000,
           7.709946131679637,
           61335.58663079993,
           4279.269252619835,
           "CASHEW NUTS II",
           2876856982.9227605
          ],
          [
           1590883200000000000,
           "IDA08110",
           "AFRICA",
           "TD",
           "Chad",
           "Ministere des Finances et du Budget",
           "Fully Repaid",
           0.75,
           "USD",
           "Education",
           19961472.126951106,
           1096489.5321252304,
           0,
           18864982.594825875,
           18864982.594825875,
           0,
           0,
           0,
           0,
           0,
           0,
           0,
           596937600000000000,
           1843430400000000000,
           265852800000000000,
           264729600000000000,
           284860800000000000,
           599529600000000000,
           616291200000000000,
           "USD",
           1578700800000000000,
           50.02703683169401,
           252547200000000000,
           8.002902181427407,
           61335.58663079993,
           829.514637535336,
           "EDUCATION",
           2876856982.9227605
          ],
          [
           1590883200000000000,
           "IDA08330",
           "AFRICA",
           "TZ",
           "Tanzania",
           "Ministry of Finance and Planning",
           "Fully Repaid",
           0.75,
           "USD",
           "Industrialization",
           48099932.83602676,
           0,
           0,
           48099932.83602676,
           48099932.83602676,
           0,
           0,
           0,
           0,
           0,
           0,
           0,
           591667200000000000,
           1838160000000000000,
           270432000000000000,
           267926400000000000,
           294883200000000000,
           552009600000000000,
           516326400000000000,
           "USD",
           1570233600000000000,
           49.758721945009135,
           247276800000000000,
           7.835889854001109,
           61335.58663079993,
           4279.269252619835,
           "MOROGORO TEXTILE",
           2876856982.9227605
          ],
          [
           1590883200000000000,
           "IDA08610",
           "AFRICA",
           "TZ",
           "Tanzania",
           "Ministry of Finance and Planning",
           "Fully Repaid",
           0.75,
           "USD",
           "Education",
           28859959.701616056,
           0,
           0,
           28859959.701616056,
           28859959.701616056,
           0,
           0,
           0,
           0,
           0,
           0,
           0,
           609984000000000000,
           1856649600000000000,
           285811200000000000,
           282268800000000000,
           299116800000000000,
           583632000000000000,
           613612800000000000,
           "USD",
           1574380800000000000,
           49.890141481344585,
           265766400000000000,
           8.421801953496649,
           61335.58663079993,
           4279.269252619835,
           "EDUCATION-VI",
           2876856982.9227605
          ],
          [
           1590883200000000000,
           "IDA08820",
           "AFRICA",
           "SD",
           "Sudan",
           "Ministry of Finance and National Economy",
           "Repaying",
           0.75,
           "USD",
           "Roads and Transport",
           98604862.31385486,
           51547.543621981815,
           0,
           98553314.77023289,
           5913174.863183518,
           92640139.90704934,
           0,
           92640139.90704934,
           0,
           0,
           0,
           92640139.90704934,
           600825600000000000,
           1847232000000000000,
           290390400000000000,
           289526400000000000,
           317433600000000000,
           473299200000000000,
           495763200000000000,
           "USD",
           1557705600000000000,
           49.361725428995804,
           256348800000000000,
           8.123370089734902,
           61335.58663079993,
           319.24269492186704,
           "HIGHWAYS II",
           2876856982.9227605
          ],
          [
           1590883200000000000,
           "IDA08850",
           "AFRICA",
           "NE",
           "Niger",
           "Ministre du Plan",
           "Fully Repaid",
           0.75,
           "USD",
           "Livestock",
           28859959.701616056,
           0,
           0,
           28859959.701616056,
           28859959.701616056,
           0,
           0,
           0,
           0,
           0,
           0,
           0,
           615254400000000000,
           1861920000000000000,
           294019200000000000,
           290131200000000000,
           308534400000000000,
           607305600000000000,
           624499200000000000,
           "USD",
           1571788800000000000,
           49.808004271134934,
           271036800000000000,
           8.588814280922948,
           61335.58663079993,
           1837.2971382027008,
           "LIVESTOCK I",
           2876856982.9227605
          ],
          [
           1590883200000000000,
           "IDA09020",
           "AFRICA",
           "ZR",
           "Congo, Democratic Republic of",
           "MINISTERE DES FINANCES",
           "Fully Repaid",
           0.75,
           "USD",
           "Roads and Transport",
           48099932.83602676,
           1414315.754631016,
           0,
           46685617.08139575,
           46685617.08139575,
           0,
           0,
           0,
           0,
           0,
           0,
           0,
           611193600000000000,
           1857859200000000000,
           298166400000000000,
           294969600000000000,
           349401600000000000,
           549417600000000000,
           547257600000000000,
           "USD",
           1562889600000000000,
           49.525999849415115,
           266976000000000000,
           8.460132651594488,
           61335.58663079993,
           1140.2616070145177,
           "RAILWAYS(SNCZ)",
           2876856982.9227605
          ],
          [
           1590883200000000000,
           "IDA09060",
           "AFRICA",
           "SO",
           "Somalia",
           "MINISTRY OF FINANCE",
           "Repaying",
           0.75,
           "USD",
           "Energy",
           19239973.134410698,
           0,
           0,
           19239973.134410698,
           14045180.388119813,
           5194792.7462908905,
           0,
           5194792.7462908905,
           0,
           0,
           0,
           5194792.7462908905,
           616464000000000000,
           1863129600000000000,
           309571200000000000,
           295142400000000000,
           331171200000000000,
           567907200000000000,
           586656000000000000,
           "USD",
           1567987200000000000,
           49.68753636282744,
           272246400000000000,
           8.627144979020787,
           61335.58663079993,
           245.0700561955413,
           "CENTRAL RANGELANDS D",
           2876856982.9227605
          ],
          [
           1590883200000000000,
           "IDA09450",
           "AFRICA",
           "TG",
           "Togo",
           "Ministere Des Finances Et De L'Economie",
           "Fully Repaid",
           0.75,
           "USD",
           "Agriculture",
           33669952.98521873,
           703503.3406184922,
           0,
           32966449.644600235,
           32966449.644600235,
           0,
           0,
           0,
           0,
           0,
           0,
           0,
           628473600000000000,
           1874966400000000000,
           301536000000000000,
           299376000000000000,
           332121600000000000,
           552009600000000000,
           556848000000000000,
           "USD",
           1575590400000000000,
           49.92847217944242,
           284083200000000000,
           9.002238238978213,
           61335.58663079993,
           909.2753444629252,
           "COCOA/COFFEE II",
           2876856982.9227605
          ],
          [
           1590883200000000000,
           "IDA09620",
           "AFRICA",
           "KE",
           "Kenya",
           "National Treasury  (Ministry of Finance)",
           "Repaying",
           0.75,
           "USD",
           "Irrigation",
           15632478.171708696,
           6012491.604503345,
           0,
           9619986.56720535,
           6878191.790689512,
           2741794.776515839,
           0,
           2741794.776515839,
           0,
           0,
           0,
           2741794.776515839,
           632361600000000000,
           1878768000000000000,
           321667200000000000,
           313718400000000000,
           329443200000000000,
           557366400000000000,
           554688000000000000,
           "USD",
           1565049600000000000,
           49.594447524589825,
           287884800000000000,
           9.122706147285708,
           61335.58663079993,
           3211.7730001300497,
           "BARINGO SEMI-ARID AR",
           2876856982.9227605
          ],
          [
           1590883200000000000,
           "IDA09690",
           "AFRICA",
           "3W",
           "Western Africa",
           "BANQUE OUEST-AFRICAINE DE DEVELOPPEMENT",
           "Repaying",
           0.75,
           "USD",
           "BOAD",
           7214989.925404014,
           475036.4277865182,
           0,
           6739953.497617495,
           4717930.0121545205,
           2022023.4854629748,
           0,
           2022023.4854629748,
           0,
           0,
           0,
           2022023.4854629748,
           644198400000000000,
           1890777600000000000,
           317606400000000000,
           315100800000000000,
           321580800000000000,
           567907200000000000,
           568425600000000000,
           "USD",
           1575676800000000000,
           49.93121008644941,
           299894400000000000,
           9.50327522125711,
           61335.58663079993,
           103.76119975085047,
           "BOAD",
           2876856982.9227605
          ],
          [
           1590883200000000000,
           "IDA09720",
           "AFRICA",
           "SO",
           "Somalia",
           "MINISTRY OF FINANCE",
           "Repaying",
           0.75,
           "USD",
           "Others",
           28859959.701616056,
           220834.36738962046,
           0,
           28639125.33422644,
           20047282.407130577,
           8591842.927095858,
           0,
           8591842.927095858,
           0,
           0,
           0,
           8591842.927095858,
           644198400000000000,
           1890777600000000000,
           322876800000000000,
           315100800000000000,
           337564800000000000,
           607305600000000000,
           630892800000000000,
           "USD",
           1575676800000000000,
           49.93121008644941,
           299894400000000000,
           9.50327522125711,
           61335.58663079993,
           245.0700561955413,
           "AGRIC III(BAY AREA)",
           2876856982.9227605
          ],
          [
           1590883200000000000,
           "IDA09860",
           "AFRICA",
           "ML",
           "Mali",
           "MINISTERE DE L'ECONOMIE ET FINANCES MALI",
           "Fully Repaid",
           0.75,
           "USD",
           "Industrialization",
           19239973.134410698,
           62253.31402306122,
           0,
           19177719.820387647,
           19177719.820387647,
           0,
           0,
           0,
           0,
           0,
           0,
           0,
           646790400000000000,
           1893456000000000000,
           327888000000000000,
           320371200000000000,
           338774400000000000,
           583632000000000000,
           603504000000000000,
           "USD",
           1573084800000000000,
           49.84907287623976,
           302572800000000000,
           9.588150338473755,
           61335.58663079993,
           2467.7111781898334,
           "SMALL SCALE INDUSTRI",
           2876856982.9227605
          ],
          [
           1590883200000000000,
           "IDA09910",
           "AFRICA",
           "SN",
           "Senegal",
           "Ministere De L'Economie Et Des Finances",
           "Fully Repaid",
           0.75,
           "USD",
           "Rural Development",
           26454963.05981472,
           13315.36010719878,
           0,
           26441647.69970753,
           21153318.16457601,
           0,
           0,
           0,
           5288329.535131511,
           5288329.535131511,
           0,
           0,
           642729600000000000,
           1889395200000000000,
           323568000000000000,
           321580800000000000,
           337392000000000000,
           567907200000000000,
           614995200000000000,
           "USD",
           1567814400000000000,
           49.68206054881346,
           298512000000000000,
           9.459468709145295,
           61335.58663079993,
           3445.8147669014406,
           "SMALL RURAL PROJECTS",
           2876856982.9227605
          ],
          [
           1590883200000000000,
           "IDA09920",
           "AFRICA",
           "MW",
           "Malawi",
           "Min of Finance Economic Planning & Dev",
           "Fully Repaid",
           0.75,
           "USD",
           "Energy",
           33188953.656858467,
           0,
           0,
           33188953.656858467,
           33188953.656858467,
           0,
           0,
           0,
           0,
           0,
           0,
           0,
           646790400000000000,
           1893456000000000000,
           325468800000000000,
           321753600000000000,
           329356800000000000,
           567907200000000000,
           587001600000000000,
           "USD",
           1571702400000000000,
           49.805266364127945,
           302572800000000000,
           9.588150338473755,
           61335.58663079993,
           1978.770269067811,
           "NRDP II/WOOD ENERGY",
           2876856982.9227605
          ],
          [
           1590883200000000000,
           "IDA09970",
           "AFRICA",
           "BJ",
           "Benin",
           "MINISTERE DE L'ECONOMIE ET DES FINANCES",
           "Fully Repaid",
           0.75,
           "USD",
           "Credit and Finance",
           24049966.41801338,
           7934769.537745259,
           0,
           16115196.88026812,
           16115196.88026812,
           0,
           0,
           0,
           0,
           0,
           0,
           0,
           646790400000000000,
           1893456000000000000,
           324691200000000000,
           322358400000000000,
           366249600000000000,
           615168000000000000,
           633657600000000000,
           "USD",
           1571097600000000000,
           49.78610101507902,
           302572800000000000,
           9.588150338473755,
           61335.58663079993,
           2006.5572872817365,
           "DFC/SME",
           2876856982.9227605
          ],
          [
           1590883200000000000,
           "IDA10060",
           "AFRICA",
           "SD",
           "Sudan",
           "Ministry of Finance and National Economy",
           "Repaying",
           0.75,
           "USD",
           "Energy",
           156324781.71708694,
           109527.85201162174,
           0,
           156215253.86507538,
           7029680.124159938,
           149185573.74091542,
           0,
           149185573.74091542,
           0,
           0,
           0,
           149185573.74091542,
           650678400000000000,
           1897344000000000000,
           325382400000000000,
           324777600000000000,
           335059200000000000,
           567907200000000000,
           593740800000000000,
           "USD",
           1572566400000000000,
           49.83264543419783,
           306460800000000000,
           9.711356153788236,
           61335.58663079993,
           319.24269492186704,
           "POWER III",
           2876856982.9227605
          ],
          [
           1590883200000000000,
           "IDA10090",
           "AFRICA",
           "GH",
           "Ghana",
           "MINISTRY FOR FINANCE",
           "Fully Repaid",
           0.75,
           "USD",
           "Others",
           70947400.93313946,
           26878.67536816728,
           0,
           70920522.25777131,
           70920522.25777131,
           0,
           0,
           0,
           0,
           0,
           0,
           0,
           645408000000000000,
           1891987200000000000,
           336182400000000000,
           325209600000000000,
           354844800000000000,
           599529600000000000,
           652924800000000000,
           "USD",
           1566777600000000000,
           49.6492056647296,
           301104000000000000,
           9.541605919354948,
           61335.58663079993,
           3428.17990786943,
           "VOLTA REGION AG. DEV",
           2876856982.9227605
          ],
          [
           1590883200000000000,
           "IDA10100",
           "AFRICA",
           "CM",
           "Cameroon",
           "Ministry of Eco, Planning and RegionDev",
           "Fully Repaid",
           0.75,
           "USD",
           "Livestock",
           38479946.268821396,
           0,
           0,
           38479946.268821396,
           38479946.268821396,
           0,
           0,
           0,
           0,
           0,
           0,
           0,
           654739200000000000,
           1901232000000000000,
           330307200000000000,
           325209600000000000,
           358473600000000000,
           567907200000000000,
           604540800000000000,
           "USD",
           1576022400000000000,
           49.942161714477365,
           310348800000000000,
           9.834561969102719,
           61335.58663079993,
           1434.1321177026218,
           "LIVESTOCK II",
           2876856982.9227605
          ],
          [
           1590883200000000000,
           "IDA10150",
           "AFRICA",
           "TZ",
           "Tanzania",
           "Ministry of Finance and Planning",
           "Fully Repaid",
           0.75,
           "USD",
           "Others",
           103414855.59745754,
           2936289.3080348875,
           0,
           100478566.28942265,
           100478566.28942265,
           0,
           0,
           0,
           0,
           0,
           0,
           0,
           653356800000000000,
           1899763200000000000,
           356140800000000000,
           326419200000000000,
           364003200000000000,
           709862400000000000,
           754617600000000000,
           "USD",
           1573344000000000000,
           49.857286597260725,
           308880000000000000,
           9.788017549983914,
           61335.58663079993,
           4279.269252619835,
           "GRAIN STORAGE & MILL",
           2876856982.9227605
          ]
         ],
         "hovertemplate": "Region=%{customdata[2]}<br>Original Principal Amount=%{customdata[10]}<br>End of Period=%{customdata[0]}<br>Credit Number=%{customdata[1]}<br>Country Code=%{customdata[3]}<br>Country=%{customdata[4]}<br>Borrower=%{customdata[5]}<br>Credit Status=%{customdata[6]}<br>Service Charge Rate=%{customdata[7]}<br>Currency of Commitment=%{customdata[8]}<br>Project Name=%{customdata[9]}<br>Cancelled Amount=%{customdata[11]}<br>Undisbursed Amount=%{customdata[12]}<br>Disbursed Amount=%{customdata[13]}<br>Repaid to IDA=%{customdata[14]}<br>Due to IDA=%{customdata[15]}<br>Exchange Adjustment=%{customdata[16]}<br>Borrower's Obligation=%{customdata[17]}<br>Sold 3rd Party=%{customdata[18]}<br>Repaid 3rd Party=%{customdata[19]}<br>Due 3rd Party=%{customdata[20]}<br>Credits Held=%{customdata[21]}<br>First Repayment Date=%{customdata[22]}<br>Last Repayment Date=%{customdata[23]}<br>Agreement Signing Date=%{customdata[24]}<br>Board Approval Date=%{customdata[25]}<br>Effective Date (Most Recent)=%{customdata[26]}<br>Closed Date (Most Recent)=%{customdata[27]}<br>Last Disbursement Date=%{customdata[28]}<br>Currency of Commitment_USD=%{customdata[29]}<br>Loan Duration=%{customdata[30]}<br>Loan Duration in Years=%{customdata[31]}<br>Time to Repay=%{customdata[32]}<br>Time to Repay in Years=%{customdata[33]}<br>Region Total=%{customdata[34]}<br>Debt Left in Years=%{customdata[35]}<br>Original Project Name=%{customdata[36]}<br>Total Principal Amount=%{customdata[37]}<extra></extra>",
         "legendgroup": "AFRICA",
         "marker": {
          "color": "#636efa"
         },
         "name": "AFRICA",
         "offsetgroup": "AFRICA",
         "scalegroup": "x",
         "showlegend": false,
         "type": "violin",
         "x": [
          19239973.134410698,
          4569493.619422542,
          19720972.46277097,
          60124916.04503345,
          21644969.77621204,
          66137407.64953679,
          19961472.126951106,
          48099932.83602676,
          28859959.701616056,
          98604862.31385486,
          28859959.701616056,
          48099932.83602676,
          19239973.134410698,
          33669952.98521873,
          15632478.171708696,
          7214989.925404014,
          28859959.701616056,
          19239973.134410698,
          26454963.05981472,
          33188953.656858467,
          24049966.41801338,
          156324781.71708694,
          70947400.93313946,
          38479946.268821396,
          103414855.59745754
         ],
         "xaxis": "x2",
         "yaxis": "y2"
        },
        {
         "alignmentgroup": "True",
         "bingroup": "x",
         "histnorm": "probability density",
         "hovertemplate": "Region=SOUTH ASIA<br>Original Principal Amount=%{x}<br>count=%{y}<extra></extra>",
         "legendgroup": "SOUTH ASIA",
         "marker": {
          "color": "#EF553B",
          "opacity": 0.8
         },
         "name": "SOUTH ASIA",
         "offsetgroup": "SOUTH ASIA",
         "orientation": "v",
         "showlegend": true,
         "type": "histogram",
         "x": [
          168349764.92609367,
          144299798.50808027,
          26454963.05981472,
          48099932.83602676,
          110629845.52286153,
          48099932.83602676,
          76959892.53764279,
          40884942.910622746,
          420874412.3152341
         ],
         "xaxis": "x",
         "yaxis": "y"
        },
        {
         "alignmentgroup": "True",
         "customdata": [
          [
           1590883200000000000,
           "IDA07540",
           "SOUTH ASIA",
           "PK",
           "Pakistan",
           "MINISTRY OF FINANCE AND ECONOMIC AFFAIRS",
           "Repaying",
           0.75,
           "USD",
           "Irrigation",
           168349764.92609367,
           9766899.009765286,
           0,
           158582865.91632843,
           123017297.80073732,
           35565568.11559104,
           0,
           35565568.11559104,
           0,
           0,
           0,
           35565568.11559104,
           575856000000000000,
           1822348800000000000,
           254016000000000000,
           250214400000000000,
           283651200000000000,
           709862400000000000,
           722131200000000000,
           "USD",
           1572134400000000000,
           49.81895589916289,
           231465600000000000,
           7.334852871722212,
           18121.995660417382,
           3299.1177094669974,
           "IRRIGATION (SCARP-VI",
           2876856982.9227605
          ],
          [
           1590883200000000000,
           "IDA08770",
           "SOUTH ASIA",
           "PK",
           "Pakistan",
           "MINISTRY OF FINANCE AND ECONOMIC AFFAIRS",
           "Repaying",
           0.75,
           "USD",
           "Irrigation",
           144299798.50808027,
           0,
           0,
           144299798.50808027,
           107503349.8885198,
           36796448.61956047,
           0,
           36796448.61956047,
           0,
           0,
           0,
           36796448.61956047,
           607392000000000000,
           1853971200000000000,
           287193600000000000,
           285897600000000000,
           308880000000000000,
           709862400000000000,
           715478400000000000,
           "USD",
           1568073600000000000,
           49.690274269834426,
           263088000000000000,
           8.336926836280005,
           18121.995660417382,
           3299.1177094669974,
           "SCARP MARDAN (PHASE",
           2876856982.9227605
          ],
          [
           1590883200000000000,
           "IDA09390",
           "SOUTH ASIA",
           "NP",
           "Nepal",
           "Ministry of Finance",
           "Repaying",
           0.75,
           "USD",
           "Rural Development",
           26454963.05981472,
           11143475.821642786,
           0,
           15311487.238171935,
           11177255.562724704,
           4134231.675447228,
           0,
           4134231.675447228,
           0,
           0,
           0,
           4134231.675447228,
           621820800000000000,
           1868227200000000000,
           303004800000000000,
           298771200000000000,
           316742400000000000,
           584928000000000000,
           601862400000000000,
           "USD",
           1569456000000000000,
           49.73408078194624,
           277344000000000000,
           8.78868149243311,
           18121.995660417382,
           2376.089858107969,
           "RURAL DEV II",
           2876856982.9227605
          ],
          [
           1590883200000000000,
           "IDA09630",
           "SOUTH ASIA",
           "IN",
           "India",
           "CONTROLLER OF AID ACCOUNTS & AUDIT",
           "Repaying",
           0.75,
           "USD",
           "Fishery",
           48099932.83602676,
           1571284.5463488447,
           0,
           46528648.28967792,
           33267883.241645746,
           13260765.048032172,
           0,
           13260765.048032172,
           0,
           0,
           0,
           13260765.048032172,
           635040000000000000,
           1881446400000000000,
           317001600000000000,
           313891200000000000,
           326332800000000000,
           591580800000000000,
           606009600000000000,
           "USD",
           1567555200000000000,
           49.673846827792495,
           290563200000000000,
           9.207581264502352,
           18121.995660417382,
           4572.000793993029,
           "FISHERIES IV-INLAND",
           2876856982.9227605
          ],
          [
           1590883200000000000,
           "IDA09810",
           "SOUTH ASIA",
           "IN",
           "India",
           "CONTROLLER OF AID ACCOUNTS & AUDIT",
           "Repaying",
           0.75,
           "USD",
           "Others",
           110629845.52286153,
           4237779.743808675,
           0,
           106392065.77905288,
           76070207.31994797,
           30321858.459104914,
           0,
           30321858.459104914,
           0,
           0,
           0,
           30321858.459104914,
           638928000000000000,
           1885507200000000000,
           324518400000000000,
           319161600000000000,
           330825600000000000,
           575769600000000000,
           595641600000000000,
           "USD",
           1566345600000000000,
           49.63551612969466,
           294624000000000000,
           9.336262893830812,
           18121.995660417382,
           4572.000793993029,
           "POPULATION II",
           2876856982.9227605
          ],
          [
           1590883200000000000,
           "IDA10010",
           "SOUTH ASIA",
           "BD",
           "Bangladesh",
           "MINISTRY OF FINANCE",
           "Repaying",
           0.75,
           "USD",
           "Others",
           48099932.83602676,
           0,
           0,
           48099932.83602676,
           33669952.98521873,
           14429979.850808028,
           0,
           14429979.850808028,
           0,
           0,
           0,
           14429979.850808028,
           646790400000000000,
           1893456000000000000,
           323654400000000000,
           322790400000000000,
           355622400000000000,
           567907200000000000,
           594259200000000000,
           "USD",
           1570665600000000000,
           49.77241148004408,
           302572800000000000,
           9.588150338473755,
           18121.995660417382,
           5157.521372786575,
           "CHITTAGONG WATER II",
           2876856982.9227605
          ],
          [
           1590883200000000000,
           "IDA10030",
           "SOUTH ASIA",
           "IN",
           "India",
           "CONTROLLER OF AID ACCOUNTS & AUDIT",
           "Repaying",
           0.75,
           "USD",
           "Health",
           76959892.53764279,
           55489.044518297196,
           0,
           76904403.49312453,
           53832963.83075278,
           23071439.66237173,
           0,
           23071439.66237173,
           0,
           0,
           0,
           23071439.66237173,
           649468800000000000,
           1896134400000000000,
           326937600000000000,
           324604800000000000,
           334281600000000000,
           607305600000000000,
           624585600000000000,
           "USD",
           1571529600000000000,
           49.79979055011397,
           305251200000000000,
           9.673025455690398,
           18121.995660417382,
           4572.000793993029,
           "NUTRITION",
           2876856982.9227605
          ],
          [
           1590883200000000000,
           "IDA10080",
           "SOUTH ASIA",
           "NP",
           "Nepal",
           "Ministry of Finance",
           "Repaying",
           0.75,
           "USD",
           "Forests",
           40884942.910622746,
           0,
           0,
           40884942.910622746,
           28619460.037435926,
           12265482.873186825,
           0,
           12265482.873186825,
           0,
           0,
           0,
           12265482.873186825,
           648000000000000000,
           1894665600000000000,
           327801600000000000,
           325209600000000000,
           338169600000000000,
           615168000000000000,
           600048000000000000,
           "USD",
           1569456000000000000,
           49.73408078194624,
           303782400000000000,
           9.626481036571592,
           18121.995660417382,
           2376.089858107969,
           "FORESTRY I",
           2876856982.9227605
          ],
          [
           1590883200000000000,
           "IDA10110",
           "SOUTH ASIA",
           "IN",
           "India",
           "CONTROLLER OF AID ACCOUNTS & AUDIT",
           "Repaying",
           0.75,
           "USD",
           "Irrigation",
           420874412.3152341,
           37844849.61853376,
           0,
           383029562.6967004,
           268120665.81175953,
           114908896.88494092,
           0,
           114908896.88494092,
           0,
           0,
           0,
           114908896.88494092,
           652147200000000000,
           1898553600000000000,
           326937600000000000,
           325814400000000000,
           330912000000000000,
           609897600000000000,
           626659200000000000,
           "USD",
           1572739200000000000,
           49.838121248211806,
           307670400000000000,
           9.749686851886075,
           18121.995660417382,
           4572.000793993029,
           "GUJARAT IRRIG. II",
           2876856982.9227605
          ]
         ],
         "hovertemplate": "Region=%{customdata[2]}<br>Original Principal Amount=%{customdata[10]}<br>End of Period=%{customdata[0]}<br>Credit Number=%{customdata[1]}<br>Country Code=%{customdata[3]}<br>Country=%{customdata[4]}<br>Borrower=%{customdata[5]}<br>Credit Status=%{customdata[6]}<br>Service Charge Rate=%{customdata[7]}<br>Currency of Commitment=%{customdata[8]}<br>Project Name=%{customdata[9]}<br>Cancelled Amount=%{customdata[11]}<br>Undisbursed Amount=%{customdata[12]}<br>Disbursed Amount=%{customdata[13]}<br>Repaid to IDA=%{customdata[14]}<br>Due to IDA=%{customdata[15]}<br>Exchange Adjustment=%{customdata[16]}<br>Borrower's Obligation=%{customdata[17]}<br>Sold 3rd Party=%{customdata[18]}<br>Repaid 3rd Party=%{customdata[19]}<br>Due 3rd Party=%{customdata[20]}<br>Credits Held=%{customdata[21]}<br>First Repayment Date=%{customdata[22]}<br>Last Repayment Date=%{customdata[23]}<br>Agreement Signing Date=%{customdata[24]}<br>Board Approval Date=%{customdata[25]}<br>Effective Date (Most Recent)=%{customdata[26]}<br>Closed Date (Most Recent)=%{customdata[27]}<br>Last Disbursement Date=%{customdata[28]}<br>Currency of Commitment_USD=%{customdata[29]}<br>Loan Duration=%{customdata[30]}<br>Loan Duration in Years=%{customdata[31]}<br>Time to Repay=%{customdata[32]}<br>Time to Repay in Years=%{customdata[33]}<br>Region Total=%{customdata[34]}<br>Debt Left in Years=%{customdata[35]}<br>Original Project Name=%{customdata[36]}<br>Total Principal Amount=%{customdata[37]}<extra></extra>",
         "legendgroup": "SOUTH ASIA",
         "marker": {
          "color": "#EF553B"
         },
         "name": "SOUTH ASIA",
         "offsetgroup": "SOUTH ASIA",
         "scalegroup": "x",
         "showlegend": false,
         "type": "violin",
         "x": [
          168349764.92609367,
          144299798.50808027,
          26454963.05981472,
          48099932.83602676,
          110629845.52286153,
          48099932.83602676,
          76959892.53764279,
          40884942.910622746,
          420874412.3152341
         ],
         "xaxis": "x2",
         "yaxis": "y2"
        },
        {
         "alignmentgroup": "True",
         "bingroup": "x",
         "histnorm": "probability density",
         "hovertemplate": "Region=MIDDLE EAST AND NORTH AFRICA<br>Original Principal Amount=%{x}<br>count=%{y}<extra></extra>",
         "legendgroup": "MIDDLE EAST AND NORTH AFRICA",
         "marker": {
          "color": "#00cc96",
          "opacity": 0.8
         },
         "name": "MIDDLE EAST AND NORTH AFRICA",
         "offsetgroup": "MIDDLE EAST AND NORTH AFRICA",
         "orientation": "v",
         "showlegend": true,
         "type": "histogram",
         "x": [
          12024983.20900669,
          36074949.62702007,
          78162390.85854347,
          24049966.41801338,
          88984875.74664952,
          108224848.8810602
         ],
         "xaxis": "x",
         "yaxis": "y"
        },
        {
         "alignmentgroup": "True",
         "customdata": [
          [
           1590883200000000000,
           "IDA08290",
           "MIDDLE EAST AND NORTH AFRICA",
           "RY",
           "Yemen, Republic of",
           "Minister of Planning & Intl Co-operation",
           "Repaying",
           0.75,
           "USD",
           "Energy",
           12024983.20900669,
           0,
           0,
           12024983.20900669,
           9138987.238845084,
           2885995.9701616056,
           0,
           2885995.9701616056,
           0,
           0,
           0,
           2885995.9701616056,
           591667200000000000,
           1838160000000000000,
           269222400000000000,
           266544000000000000,
           306460800000000000,
           567907200000000000,
           599184000000000000,
           "USD",
           1571616000000000000,
           49.80252845712096,
           247276800000000000,
           7.835889854001109,
           2767.9281573201365,
           1577.9297316166653,
           "POWER",
           2876856982.9227605
          ],
          [
           1590883200000000000,
           "IDA08800",
           "MIDDLE EAST AND NORTH AFRICA",
           "RY",
           "Yemen, Republic of",
           "MINISTRY OF AGRICULTURE & FISHERIES",
           "Repaying",
           0.75,
           "USD",
           "Agriculture",
           36074949.62702007,
           1514693.4602193746,
           0,
           34560256.16680069,
           25751244.20744716,
           8809011.959353542,
           0,
           8809011.959353542,
           0,
           0,
           0,
           8809011.959353542,
           608601600000000000,
           1855180800000000000,
           293414400000000000,
           289526400000000000,
           320630400000000000,
           591580800000000000,
           628387200000000000,
           "USD",
           1565654400000000000,
           49.61361287363874,
           264297600000000000,
           8.375257534377845,
           2767.9281573201365,
           1577.9297316166653,
           "TIHAMA III (WADI MAWR)",
           2876856982.9227605
          ],
          [
           1590883200000000000,
           "IDA09090",
           "MIDDLE EAST AND NORTH AFRICA",
           "EG",
           "Egypt, Arab Republic of",
           "Ministry of International Cooperation",
           "Repaying",
           0.75,
           "USD",
           "Tourism",
           78162390.85854347,
           22689576.19553386,
           0,
           55472814.66300963,
           40556968.70858701,
           14915845.95442261,
           0,
           14915845.95442261,
           0,
           0,
           0,
           14915845.95442261,
           624412800000000000,
           1870905600000000000,
           298080000000000000,
           295747200000000000,
           322876800000000000,
           631065600000000000,
           641001600000000000,
           "USD",
           1575158400000000000,
           49.91478264440748,
           280022400000000000,
           8.873556609649754,
           2767.9281573201365,
           286.0264071130824,
           "LUXOR TOURISM DEVT.",
           2876856982.9227605
          ],
          [
           1590883200000000000,
           "IDA09150",
           "MIDDLE EAST AND NORTH AFRICA",
           "RY",
           "Yemen, Republic of",
           "THE MINISTER OF EDUCATION",
           "Repaying",
           0.75,
           "USD",
           "Education",
           24049966.41801338,
           33254.850564843815,
           0,
           24016711.567448534,
           17532165.77909444,
           6484545.788354096,
           0,
           6484545.788354096,
           0,
           0,
           0,
           6484545.788354096,
           611193600000000000,
           1857859200000000000,
           299289600000000000,
           296179200000000000,
           314582400000000000,
           586310400000000000,
           613872000000000000,
           "USD",
           1561680000000000000,
           49.48766915131728,
           266976000000000000,
           8.460132651594488,
           2767.9281573201365,
           1577.9297316166653,
           "EDUCATION III",
           2876856982.9227605
          ],
          [
           1590883200000000000,
           "IDA09350",
           "MIDDLE EAST AND NORTH AFRICA",
           "EG",
           "Egypt, Arab Republic of",
           "Ministry of International Cooperation",
           "Repaying",
           0.75,
           "USD",
           "Energy",
           88984875.74664952,
           0,
           0,
           88984875.74664952,
           63624186.158854395,
           25360689.58779511,
           0,
           25360689.58779511,
           0,
           0,
           0,
           25360689.58779511,
           628473600000000000,
           1874966400000000000,
           305424000000000000,
           298598400000000000,
           324000000000000000,
           583632000000000000,
           564105600000000000,
           "USD",
           1576368000000000000,
           49.95311334250532,
           284083200000000000,
           9.002238238978213,
           2767.9281573201365,
           286.0264071130824,
           "POWER GENERATION",
           2876856982.9227605
          ],
          [
           1590883200000000000,
           "IDA09880",
           "MIDDLE EAST AND NORTH AFRICA",
           "EG",
           "Egypt, Arab Republic of",
           "Ministry of International Cooperation",
           "Repaying",
           0.75,
           "USD",
           "Others",
           108224848.8810602,
           2831152.378642035,
           0,
           105393696.5024182,
           75356486.08654715,
           30037210.41587103,
           0,
           30037210.41587103,
           0,
           0,
           0,
           30037210.41587103,
           642729600000000000,
           1889395200000000000,
           325987200000000000,
           321580800000000000,
           344649600000000000,
           583632000000000000,
           598752000000000000,
           "USD",
           1567814400000000000,
           49.68206054881346,
           298512000000000000,
           9.459468709145295,
           2767.9281573201365,
           286.0264071130824,
           "AGRO-INDUSTRY",
           2876856982.9227605
          ]
         ],
         "hovertemplate": "Region=%{customdata[2]}<br>Original Principal Amount=%{customdata[10]}<br>End of Period=%{customdata[0]}<br>Credit Number=%{customdata[1]}<br>Country Code=%{customdata[3]}<br>Country=%{customdata[4]}<br>Borrower=%{customdata[5]}<br>Credit Status=%{customdata[6]}<br>Service Charge Rate=%{customdata[7]}<br>Currency of Commitment=%{customdata[8]}<br>Project Name=%{customdata[9]}<br>Cancelled Amount=%{customdata[11]}<br>Undisbursed Amount=%{customdata[12]}<br>Disbursed Amount=%{customdata[13]}<br>Repaid to IDA=%{customdata[14]}<br>Due to IDA=%{customdata[15]}<br>Exchange Adjustment=%{customdata[16]}<br>Borrower's Obligation=%{customdata[17]}<br>Sold 3rd Party=%{customdata[18]}<br>Repaid 3rd Party=%{customdata[19]}<br>Due 3rd Party=%{customdata[20]}<br>Credits Held=%{customdata[21]}<br>First Repayment Date=%{customdata[22]}<br>Last Repayment Date=%{customdata[23]}<br>Agreement Signing Date=%{customdata[24]}<br>Board Approval Date=%{customdata[25]}<br>Effective Date (Most Recent)=%{customdata[26]}<br>Closed Date (Most Recent)=%{customdata[27]}<br>Last Disbursement Date=%{customdata[28]}<br>Currency of Commitment_USD=%{customdata[29]}<br>Loan Duration=%{customdata[30]}<br>Loan Duration in Years=%{customdata[31]}<br>Time to Repay=%{customdata[32]}<br>Time to Repay in Years=%{customdata[33]}<br>Region Total=%{customdata[34]}<br>Debt Left in Years=%{customdata[35]}<br>Original Project Name=%{customdata[36]}<br>Total Principal Amount=%{customdata[37]}<extra></extra>",
         "legendgroup": "MIDDLE EAST AND NORTH AFRICA",
         "marker": {
          "color": "#00cc96"
         },
         "name": "MIDDLE EAST AND NORTH AFRICA",
         "offsetgroup": "MIDDLE EAST AND NORTH AFRICA",
         "scalegroup": "x",
         "showlegend": false,
         "type": "violin",
         "x": [
          12024983.20900669,
          36074949.62702007,
          78162390.85854347,
          24049966.41801338,
          88984875.74664952,
          108224848.8810602
         ],
         "xaxis": "x2",
         "yaxis": "y2"
        },
        {
         "alignmentgroup": "True",
         "bingroup": "x",
         "histnorm": "probability density",
         "hovertemplate": "Region=EAST ASIA AND PACIFIC<br>Original Principal Amount=%{x}<br>count=%{y}<extra></extra>",
         "legendgroup": "EAST ASIA AND PACIFIC",
         "marker": {
          "color": "#ab63fa",
          "opacity": 0.8
         },
         "name": "EAST ASIA AND PACIFIC",
         "offsetgroup": "EAST ASIA AND PACIFIC",
         "orientation": "v",
         "showlegend": true,
         "type": "histogram",
         "x": [
          82972384.14214616,
          96199865.67205352,
          60124916.04503345,
          28859959.701616056,
          19239973.134410698
         ],
         "xaxis": "x",
         "yaxis": "y"
        },
        {
         "alignmentgroup": "True",
         "customdata": [
          [
           1590883200000000000,
           "IDA08350",
           "EAST ASIA AND PACIFIC",
           "MM",
           "Myanmar",
           "Ministry of Planning and Finance",
           "Repaying",
           0.75,
           "USD",
           "Agriculture",
           82972384.14214616,
           1756317.267929819,
           0,
           81216066.87421633,
           60515078.65023288,
           20700988.22398345,
           0,
           20700988.22398345,
           0,
           0,
           0,
           20700988.22398345,
           598147200000000000,
           1844640000000000000,
           270432000000000000,
           268531200000000000,
           277084800000000000,
           641433600000000000,
           651888000000000000,
           "USD",
           1576108800000000000,
           49.94489962148435,
           253756800000000000,
           8.041232879525246,
           11512.03378577246,
           632.2456997748071,
           "LOWER BURMA PADDY DE",
           2876856982.9227605
          ],
          [
           1590883200000000000,
           "IDA09230",
           "EAST ASIA AND PACIFIC",
           "PH",
           "Philippines",
           "Department of Finance",
           "Repaying",
           0.75,
           "USD",
           "Credit and Finance",
           96199865.67205352,
           18703173.290417057,
           0,
           77496692.38163647,
           55410131.7684864,
           22086560.613150056,
           0,
           22086560.613150056,
           0,
           0,
           0,
           22086560.613150056,
           628473600000000000,
           1874966400000000000,
           299289600000000000,
           297388800000000000,
           308793600000000000,
           583632000000000000,
           608428800000000000,
           "USD",
           1577577600000000000,
           49.99144404060316,
           284083200000000000,
           9.002238238978213,
           11512.03378577246,
           29.717242653853262,
           "POPULAT. II",
           2876856982.9227605
          ],
          [
           1590883200000000000,
           "IDA09290",
           "EAST ASIA AND PACIFIC",
           "TH",
           "Thailand",
           "MINISTRY OF FINANCE",
           "Fully Repaid",
           0.75,
           "USD",
           "Others",
           60124916.04503345,
           7415629.127142998,
           0,
           52709286.91789045,
           52709286.91789045,
           0,
           0,
           0,
           0,
           0,
           0,
           0,
           620611200000000000,
           1867017600000000000,
           299376000000000000,
           297993600000000000,
           308534400000000000,
           599529600000000000,
           613872000000000000,
           "USD",
           1569024000000000000,
           49.7203912469113,
           276134400000000000,
           8.75035079433527,
           11512.03378577246,
           8.75035079433527,
           "NO. AG DEVL",
           2876856982.9227605
          ],
          [
           1590883200000000000,
           "IDA09460",
           "EAST ASIA AND PACIFIC",
           "ID",
           "Indonesia",
           "Ministry of Finance",
           "Repaying",
           0.75,
           "USD",
           "Rural Development",
           28859959.701616056,
           2049259.3509323825,
           0,
           26810700.350683674,
           22790724.41394632,
           4019975.936737355,
           0,
           4019975.936737355,
           0,
           0,
           0,
           4019975.936737355,
           623203200000000000,
           1869696000000000000,
           303350400000000000,
           300585600000000000,
           313200000000000000,
           607305600000000000,
           671328000000000000,
           "USD",
           1569110400000000000,
           49.723129153918286,
           278812800000000000,
           8.835225911551914,
           11512.03378577246,
           562.8808257527535,
           "YOGYAKARTA RURAL DEV",
           2876856982.9227605
          ],
          [
           1590883200000000000,
           "IDA09510",
           "EAST ASIA AND PACIFIC",
           "WS",
           "Samoa",
           "TREASURY DEPARTMENT",
           "Repaying",
           0.75,
           "USD",
           "Others",
           19239973.134410698,
           3551821.8878406794,
           0,
           15688151.246570025,
           11216969.272270767,
           4471181.974299257,
           0,
           4471181.974299257,
           0,
           0,
           0,
           4471181.974299257,
           632361600000000000,
           1878768000000000000,
           312508800000000000,
           306460800000000000,
           320889600000000000,
           583632000000000000,
           604886400000000000,
           "USD",
           1572307200000000000,
           49.824431713176864,
           287884800000000000,
           9.122706147285708,
           11512.03378577246,
           466.5256644558067,
           "AGRIC DEVT",
           2876856982.9227605
          ]
         ],
         "hovertemplate": "Region=%{customdata[2]}<br>Original Principal Amount=%{customdata[10]}<br>End of Period=%{customdata[0]}<br>Credit Number=%{customdata[1]}<br>Country Code=%{customdata[3]}<br>Country=%{customdata[4]}<br>Borrower=%{customdata[5]}<br>Credit Status=%{customdata[6]}<br>Service Charge Rate=%{customdata[7]}<br>Currency of Commitment=%{customdata[8]}<br>Project Name=%{customdata[9]}<br>Cancelled Amount=%{customdata[11]}<br>Undisbursed Amount=%{customdata[12]}<br>Disbursed Amount=%{customdata[13]}<br>Repaid to IDA=%{customdata[14]}<br>Due to IDA=%{customdata[15]}<br>Exchange Adjustment=%{customdata[16]}<br>Borrower's Obligation=%{customdata[17]}<br>Sold 3rd Party=%{customdata[18]}<br>Repaid 3rd Party=%{customdata[19]}<br>Due 3rd Party=%{customdata[20]}<br>Credits Held=%{customdata[21]}<br>First Repayment Date=%{customdata[22]}<br>Last Repayment Date=%{customdata[23]}<br>Agreement Signing Date=%{customdata[24]}<br>Board Approval Date=%{customdata[25]}<br>Effective Date (Most Recent)=%{customdata[26]}<br>Closed Date (Most Recent)=%{customdata[27]}<br>Last Disbursement Date=%{customdata[28]}<br>Currency of Commitment_USD=%{customdata[29]}<br>Loan Duration=%{customdata[30]}<br>Loan Duration in Years=%{customdata[31]}<br>Time to Repay=%{customdata[32]}<br>Time to Repay in Years=%{customdata[33]}<br>Region Total=%{customdata[34]}<br>Debt Left in Years=%{customdata[35]}<br>Original Project Name=%{customdata[36]}<br>Total Principal Amount=%{customdata[37]}<extra></extra>",
         "legendgroup": "EAST ASIA AND PACIFIC",
         "marker": {
          "color": "#ab63fa"
         },
         "name": "EAST ASIA AND PACIFIC",
         "offsetgroup": "EAST ASIA AND PACIFIC",
         "scalegroup": "x",
         "showlegend": false,
         "type": "violin",
         "x": [
          82972384.14214616,
          96199865.67205352,
          60124916.04503345,
          28859959.701616056,
          19239973.134410698
         ],
         "xaxis": "x2",
         "yaxis": "y2"
        },
        {
         "alignmentgroup": "True",
         "bingroup": "x",
         "histnorm": "probability density",
         "hovertemplate": "Region=LATIN AMERICA AND CARIBBEAN<br>Original Principal Amount=%{x}<br>count=%{y}<extra></extra>",
         "legendgroup": "LATIN AMERICA AND CARIBBEAN",
         "marker": {
          "color": "#FFA15A",
          "opacity": 0.8
         },
         "name": "LATIN AMERICA AND CARIBBEAN",
         "offsetgroup": "LATIN AMERICA AND CARIBBEAN",
         "orientation": "v",
         "showlegend": true,
         "type": "histogram",
         "x": [
          7214989.925404014,
          18037474.813510034,
          21644969.77621204,
          16834976.492609367,
          52909926.11962944
         ],
         "xaxis": "x",
         "yaxis": "y"
        },
        {
         "alignmentgroup": "True",
         "customdata": [
          [
           1590883200000000000,
           "IDA09330",
           "LATIN AMERICA AND CARIBBEAN",
           "BO",
           "Bolivia",
           "MINISTRO DE ECONOMIA Y",
           "Fully Repaid",
           0.75,
           "USD",
           "Rural Development",
           7214989.925404014,
           2422355.2341628005,
           0,
           4792634.691241213,
           4792634.691241213,
           0,
           0,
           0,
           0,
           0,
           0,
           0,
           628473600000000000,
           1874966400000000000,
           301881600000000000,
           298166400000000000,
           324086400000000000,
           536371200000000000,
           612489600000000000,
           "USD",
           1576800000000000000,
           49.96680287754027,
           284083200000000000,
           9.002238238978213,
           7346.091979985898,
           1494.9629355838938,
           "OMASUYOS-LOS ANDES R",
           2876856982.9227605
          ],
          [
           1590883200000000000,
           "IDA09400",
           "LATIN AMERICA AND CARIBBEAN",
           "BO",
           "Bolivia",
           "MINISTRO DE ECONOMIA Y",
           "Fully Repaid",
           0.75,
           "USD",
           "Mining",
           18037474.813510034,
           8796240.224687256,
           0,
           9241234.588822778,
           9241234.588822778,
           0,
           0,
           0,
           0,
           0,
           0,
           0,
           623203200000000000,
           1869696000000000000,
           301881600000000000,
           299203200000000000,
           317260800000000000,
           567907200000000000,
           585187200000000000,
           "USD",
           1570492800000000000,
           49.7669356660301,
           278812800000000000,
           8.835225911551914,
           7346.091979985898,
           1494.9629355838938,
           "MINING EXPLORATION F",
           2876856982.9227605
          ],
          [
           1590883200000000000,
           "IDA09480",
           "LATIN AMERICA AND CARIBBEAN",
           "BO",
           "Bolivia",
           "MINISTRO DE ECONOMIA Y",
           "Fully Repaid",
           0.75,
           "USD",
           "Water",
           21644969.77621204,
           240.1389146838636,
           0,
           21644729.63729736,
           21644729.63729736,
           0,
           0,
           0,
           0,
           0,
           0,
           0,
           623203200000000000,
           1869696000000000000,
           301881600000000000,
           300585600000000000,
           310003200000000000,
           520473600000000000,
           539308800000000000,
           "USD",
           1569110400000000000,
           49.723129153918286,
           278812800000000000,
           8.835225911551914,
           7346.091979985898,
           1494.9629355838938,
           "SANTA CRUZ W/S & SGE",
           2876856982.9227605
          ],
          [
           1590883200000000000,
           "IDA09600",
           "LATIN AMERICA AND CARIBBEAN",
           "6R",
           "Caribbean",
           "CARIBBEAN DEVELOPMENT BANK",
           "Repaying",
           0.75,
           "USD",
           "Others",
           16834976.492609367,
           1249591.8107420348,
           0,
           15585384.68186733,
           11143518.269833516,
           4441866.412033818,
           0,
           4441866.412033818,
           0,
           0,
           0,
           4441866.412033818,
           633830400000000000,
           1880236800000000000,
           316224000000000000,
           313718400000000000,
           319852800000000000,
           536371200000000000,
           552528000000000000,
           "USD",
           1566518400000000000,
           49.640991943708634,
           289353600000000000,
           9.169250566404513,
           7346.091979985898,
           48.78676495752822,
           "CARIBBEAN DEVT BANK",
           2876856982.9227605
          ],
          [
           1590883200000000000,
           "IDA09650",
           "LATIN AMERICA AND CARIBBEAN",
           "NI",
           "Nicaragua",
           "MINISTERIO DE HACIENDA Y CREDITO PUBLICO",
           "Fully Repaid",
           0.75,
           "USD",
           "Urbanization",
           52909926.11962944,
           4082.4577494913533,
           0,
           52905843.66187995,
           52905843.66187995,
           0,
           0,
           0,
           0,
           0,
           0,
           0,
           638928000000000000,
           1885507200000000000,
           315792000000000000,
           314323200000000000,
           317606400000000000,
           425779200000000000,
           465436800000000000,
           "USD",
           1571184000000000000,
           49.788838922086015,
           294624000000000000,
           9.336262893830812,
           7346.091979985898,
           1647.2781781966773,
           "URBAN RECONSTRUCTION",
           2876856982.9227605
          ]
         ],
         "hovertemplate": "Region=%{customdata[2]}<br>Original Principal Amount=%{customdata[10]}<br>End of Period=%{customdata[0]}<br>Credit Number=%{customdata[1]}<br>Country Code=%{customdata[3]}<br>Country=%{customdata[4]}<br>Borrower=%{customdata[5]}<br>Credit Status=%{customdata[6]}<br>Service Charge Rate=%{customdata[7]}<br>Currency of Commitment=%{customdata[8]}<br>Project Name=%{customdata[9]}<br>Cancelled Amount=%{customdata[11]}<br>Undisbursed Amount=%{customdata[12]}<br>Disbursed Amount=%{customdata[13]}<br>Repaid to IDA=%{customdata[14]}<br>Due to IDA=%{customdata[15]}<br>Exchange Adjustment=%{customdata[16]}<br>Borrower's Obligation=%{customdata[17]}<br>Sold 3rd Party=%{customdata[18]}<br>Repaid 3rd Party=%{customdata[19]}<br>Due 3rd Party=%{customdata[20]}<br>Credits Held=%{customdata[21]}<br>First Repayment Date=%{customdata[22]}<br>Last Repayment Date=%{customdata[23]}<br>Agreement Signing Date=%{customdata[24]}<br>Board Approval Date=%{customdata[25]}<br>Effective Date (Most Recent)=%{customdata[26]}<br>Closed Date (Most Recent)=%{customdata[27]}<br>Last Disbursement Date=%{customdata[28]}<br>Currency of Commitment_USD=%{customdata[29]}<br>Loan Duration=%{customdata[30]}<br>Loan Duration in Years=%{customdata[31]}<br>Time to Repay=%{customdata[32]}<br>Time to Repay in Years=%{customdata[33]}<br>Region Total=%{customdata[34]}<br>Debt Left in Years=%{customdata[35]}<br>Original Project Name=%{customdata[36]}<br>Total Principal Amount=%{customdata[37]}<extra></extra>",
         "legendgroup": "LATIN AMERICA AND CARIBBEAN",
         "marker": {
          "color": "#FFA15A"
         },
         "name": "LATIN AMERICA AND CARIBBEAN",
         "offsetgroup": "LATIN AMERICA AND CARIBBEAN",
         "scalegroup": "x",
         "showlegend": false,
         "type": "violin",
         "x": [
          7214989.925404014,
          18037474.813510034,
          21644969.77621204,
          16834976.492609367,
          52909926.11962944
         ],
         "xaxis": "x2",
         "yaxis": "y2"
        }
       ],
       "layout": {
        "barmode": "relative",
        "legend": {
         "title": {
          "text": "Region"
         },
         "tracegroupgap": 0
        },
        "margin": {
         "t": 60
        },
        "template": {
         "data": {
          "bar": [
           {
            "error_x": {
             "color": "#2a3f5f"
            },
            "error_y": {
             "color": "#2a3f5f"
            },
            "marker": {
             "line": {
              "color": "#E5ECF6",
              "width": 0.5
             }
            },
            "type": "bar"
           }
          ],
          "barpolar": [
           {
            "marker": {
             "line": {
              "color": "#E5ECF6",
              "width": 0.5
             }
            },
            "type": "barpolar"
           }
          ],
          "carpet": [
           {
            "aaxis": {
             "endlinecolor": "#2a3f5f",
             "gridcolor": "white",
             "linecolor": "white",
             "minorgridcolor": "white",
             "startlinecolor": "#2a3f5f"
            },
            "baxis": {
             "endlinecolor": "#2a3f5f",
             "gridcolor": "white",
             "linecolor": "white",
             "minorgridcolor": "white",
             "startlinecolor": "#2a3f5f"
            },
            "type": "carpet"
           }
          ],
          "choropleth": [
           {
            "colorbar": {
             "outlinewidth": 0,
             "ticks": ""
            },
            "type": "choropleth"
           }
          ],
          "contour": [
           {
            "colorbar": {
             "outlinewidth": 0,
             "ticks": ""
            },
            "colorscale": [
             [
              0,
              "#0d0887"
             ],
             [
              0.1111111111111111,
              "#46039f"
             ],
             [
              0.2222222222222222,
              "#7201a8"
             ],
             [
              0.3333333333333333,
              "#9c179e"
             ],
             [
              0.4444444444444444,
              "#bd3786"
             ],
             [
              0.5555555555555556,
              "#d8576b"
             ],
             [
              0.6666666666666666,
              "#ed7953"
             ],
             [
              0.7777777777777778,
              "#fb9f3a"
             ],
             [
              0.8888888888888888,
              "#fdca26"
             ],
             [
              1,
              "#f0f921"
             ]
            ],
            "type": "contour"
           }
          ],
          "contourcarpet": [
           {
            "colorbar": {
             "outlinewidth": 0,
             "ticks": ""
            },
            "type": "contourcarpet"
           }
          ],
          "heatmap": [
           {
            "colorbar": {
             "outlinewidth": 0,
             "ticks": ""
            },
            "colorscale": [
             [
              0,
              "#0d0887"
             ],
             [
              0.1111111111111111,
              "#46039f"
             ],
             [
              0.2222222222222222,
              "#7201a8"
             ],
             [
              0.3333333333333333,
              "#9c179e"
             ],
             [
              0.4444444444444444,
              "#bd3786"
             ],
             [
              0.5555555555555556,
              "#d8576b"
             ],
             [
              0.6666666666666666,
              "#ed7953"
             ],
             [
              0.7777777777777778,
              "#fb9f3a"
             ],
             [
              0.8888888888888888,
              "#fdca26"
             ],
             [
              1,
              "#f0f921"
             ]
            ],
            "type": "heatmap"
           }
          ],
          "heatmapgl": [
           {
            "colorbar": {
             "outlinewidth": 0,
             "ticks": ""
            },
            "colorscale": [
             [
              0,
              "#0d0887"
             ],
             [
              0.1111111111111111,
              "#46039f"
             ],
             [
              0.2222222222222222,
              "#7201a8"
             ],
             [
              0.3333333333333333,
              "#9c179e"
             ],
             [
              0.4444444444444444,
              "#bd3786"
             ],
             [
              0.5555555555555556,
              "#d8576b"
             ],
             [
              0.6666666666666666,
              "#ed7953"
             ],
             [
              0.7777777777777778,
              "#fb9f3a"
             ],
             [
              0.8888888888888888,
              "#fdca26"
             ],
             [
              1,
              "#f0f921"
             ]
            ],
            "type": "heatmapgl"
           }
          ],
          "histogram": [
           {
            "marker": {
             "colorbar": {
              "outlinewidth": 0,
              "ticks": ""
             }
            },
            "type": "histogram"
           }
          ],
          "histogram2d": [
           {
            "colorbar": {
             "outlinewidth": 0,
             "ticks": ""
            },
            "colorscale": [
             [
              0,
              "#0d0887"
             ],
             [
              0.1111111111111111,
              "#46039f"
             ],
             [
              0.2222222222222222,
              "#7201a8"
             ],
             [
              0.3333333333333333,
              "#9c179e"
             ],
             [
              0.4444444444444444,
              "#bd3786"
             ],
             [
              0.5555555555555556,
              "#d8576b"
             ],
             [
              0.6666666666666666,
              "#ed7953"
             ],
             [
              0.7777777777777778,
              "#fb9f3a"
             ],
             [
              0.8888888888888888,
              "#fdca26"
             ],
             [
              1,
              "#f0f921"
             ]
            ],
            "type": "histogram2d"
           }
          ],
          "histogram2dcontour": [
           {
            "colorbar": {
             "outlinewidth": 0,
             "ticks": ""
            },
            "colorscale": [
             [
              0,
              "#0d0887"
             ],
             [
              0.1111111111111111,
              "#46039f"
             ],
             [
              0.2222222222222222,
              "#7201a8"
             ],
             [
              0.3333333333333333,
              "#9c179e"
             ],
             [
              0.4444444444444444,
              "#bd3786"
             ],
             [
              0.5555555555555556,
              "#d8576b"
             ],
             [
              0.6666666666666666,
              "#ed7953"
             ],
             [
              0.7777777777777778,
              "#fb9f3a"
             ],
             [
              0.8888888888888888,
              "#fdca26"
             ],
             [
              1,
              "#f0f921"
             ]
            ],
            "type": "histogram2dcontour"
           }
          ],
          "mesh3d": [
           {
            "colorbar": {
             "outlinewidth": 0,
             "ticks": ""
            },
            "type": "mesh3d"
           }
          ],
          "parcoords": [
           {
            "line": {
             "colorbar": {
              "outlinewidth": 0,
              "ticks": ""
             }
            },
            "type": "parcoords"
           }
          ],
          "pie": [
           {
            "automargin": true,
            "type": "pie"
           }
          ],
          "scatter": [
           {
            "marker": {
             "colorbar": {
              "outlinewidth": 0,
              "ticks": ""
             }
            },
            "type": "scatter"
           }
          ],
          "scatter3d": [
           {
            "line": {
             "colorbar": {
              "outlinewidth": 0,
              "ticks": ""
             }
            },
            "marker": {
             "colorbar": {
              "outlinewidth": 0,
              "ticks": ""
             }
            },
            "type": "scatter3d"
           }
          ],
          "scattercarpet": [
           {
            "marker": {
             "colorbar": {
              "outlinewidth": 0,
              "ticks": ""
             }
            },
            "type": "scattercarpet"
           }
          ],
          "scattergeo": [
           {
            "marker": {
             "colorbar": {
              "outlinewidth": 0,
              "ticks": ""
             }
            },
            "type": "scattergeo"
           }
          ],
          "scattergl": [
           {
            "marker": {
             "colorbar": {
              "outlinewidth": 0,
              "ticks": ""
             }
            },
            "type": "scattergl"
           }
          ],
          "scattermapbox": [
           {
            "marker": {
             "colorbar": {
              "outlinewidth": 0,
              "ticks": ""
             }
            },
            "type": "scattermapbox"
           }
          ],
          "scatterpolar": [
           {
            "marker": {
             "colorbar": {
              "outlinewidth": 0,
              "ticks": ""
             }
            },
            "type": "scatterpolar"
           }
          ],
          "scatterpolargl": [
           {
            "marker": {
             "colorbar": {
              "outlinewidth": 0,
              "ticks": ""
             }
            },
            "type": "scatterpolargl"
           }
          ],
          "scatterternary": [
           {
            "marker": {
             "colorbar": {
              "outlinewidth": 0,
              "ticks": ""
             }
            },
            "type": "scatterternary"
           }
          ],
          "surface": [
           {
            "colorbar": {
             "outlinewidth": 0,
             "ticks": ""
            },
            "colorscale": [
             [
              0,
              "#0d0887"
             ],
             [
              0.1111111111111111,
              "#46039f"
             ],
             [
              0.2222222222222222,
              "#7201a8"
             ],
             [
              0.3333333333333333,
              "#9c179e"
             ],
             [
              0.4444444444444444,
              "#bd3786"
             ],
             [
              0.5555555555555556,
              "#d8576b"
             ],
             [
              0.6666666666666666,
              "#ed7953"
             ],
             [
              0.7777777777777778,
              "#fb9f3a"
             ],
             [
              0.8888888888888888,
              "#fdca26"
             ],
             [
              1,
              "#f0f921"
             ]
            ],
            "type": "surface"
           }
          ],
          "table": [
           {
            "cells": {
             "fill": {
              "color": "#EBF0F8"
             },
             "line": {
              "color": "white"
             }
            },
            "header": {
             "fill": {
              "color": "#C8D4E3"
             },
             "line": {
              "color": "white"
             }
            },
            "type": "table"
           }
          ]
         },
         "layout": {
          "annotationdefaults": {
           "arrowcolor": "#2a3f5f",
           "arrowhead": 0,
           "arrowwidth": 1
          },
          "coloraxis": {
           "colorbar": {
            "outlinewidth": 0,
            "ticks": ""
           }
          },
          "colorscale": {
           "diverging": [
            [
             0,
             "#8e0152"
            ],
            [
             0.1,
             "#c51b7d"
            ],
            [
             0.2,
             "#de77ae"
            ],
            [
             0.3,
             "#f1b6da"
            ],
            [
             0.4,
             "#fde0ef"
            ],
            [
             0.5,
             "#f7f7f7"
            ],
            [
             0.6,
             "#e6f5d0"
            ],
            [
             0.7,
             "#b8e186"
            ],
            [
             0.8,
             "#7fbc41"
            ],
            [
             0.9,
             "#4d9221"
            ],
            [
             1,
             "#276419"
            ]
           ],
           "sequential": [
            [
             0,
             "#0d0887"
            ],
            [
             0.1111111111111111,
             "#46039f"
            ],
            [
             0.2222222222222222,
             "#7201a8"
            ],
            [
             0.3333333333333333,
             "#9c179e"
            ],
            [
             0.4444444444444444,
             "#bd3786"
            ],
            [
             0.5555555555555556,
             "#d8576b"
            ],
            [
             0.6666666666666666,
             "#ed7953"
            ],
            [
             0.7777777777777778,
             "#fb9f3a"
            ],
            [
             0.8888888888888888,
             "#fdca26"
            ],
            [
             1,
             "#f0f921"
            ]
           ],
           "sequentialminus": [
            [
             0,
             "#0d0887"
            ],
            [
             0.1111111111111111,
             "#46039f"
            ],
            [
             0.2222222222222222,
             "#7201a8"
            ],
            [
             0.3333333333333333,
             "#9c179e"
            ],
            [
             0.4444444444444444,
             "#bd3786"
            ],
            [
             0.5555555555555556,
             "#d8576b"
            ],
            [
             0.6666666666666666,
             "#ed7953"
            ],
            [
             0.7777777777777778,
             "#fb9f3a"
            ],
            [
             0.8888888888888888,
             "#fdca26"
            ],
            [
             1,
             "#f0f921"
            ]
           ]
          },
          "colorway": [
           "#636efa",
           "#EF553B",
           "#00cc96",
           "#ab63fa",
           "#FFA15A",
           "#19d3f3",
           "#FF6692",
           "#B6E880",
           "#FF97FF",
           "#FECB52"
          ],
          "font": {
           "color": "#2a3f5f"
          },
          "geo": {
           "bgcolor": "white",
           "lakecolor": "white",
           "landcolor": "#E5ECF6",
           "showlakes": true,
           "showland": true,
           "subunitcolor": "white"
          },
          "hoverlabel": {
           "align": "left"
          },
          "hovermode": "closest",
          "mapbox": {
           "style": "light"
          },
          "paper_bgcolor": "white",
          "plot_bgcolor": "#E5ECF6",
          "polar": {
           "angularaxis": {
            "gridcolor": "white",
            "linecolor": "white",
            "ticks": ""
           },
           "bgcolor": "#E5ECF6",
           "radialaxis": {
            "gridcolor": "white",
            "linecolor": "white",
            "ticks": ""
           }
          },
          "scene": {
           "xaxis": {
            "backgroundcolor": "#E5ECF6",
            "gridcolor": "white",
            "gridwidth": 2,
            "linecolor": "white",
            "showbackground": true,
            "ticks": "",
            "zerolinecolor": "white"
           },
           "yaxis": {
            "backgroundcolor": "#E5ECF6",
            "gridcolor": "white",
            "gridwidth": 2,
            "linecolor": "white",
            "showbackground": true,
            "ticks": "",
            "zerolinecolor": "white"
           },
           "zaxis": {
            "backgroundcolor": "#E5ECF6",
            "gridcolor": "white",
            "gridwidth": 2,
            "linecolor": "white",
            "showbackground": true,
            "ticks": "",
            "zerolinecolor": "white"
           }
          },
          "shapedefaults": {
           "line": {
            "color": "#2a3f5f"
           }
          },
          "ternary": {
           "aaxis": {
            "gridcolor": "white",
            "linecolor": "white",
            "ticks": ""
           },
           "baxis": {
            "gridcolor": "white",
            "linecolor": "white",
            "ticks": ""
           },
           "bgcolor": "#E5ECF6",
           "caxis": {
            "gridcolor": "white",
            "linecolor": "white",
            "ticks": ""
           }
          },
          "title": {
           "x": 0.05
          },
          "xaxis": {
           "automargin": true,
           "gridcolor": "white",
           "linecolor": "white",
           "ticks": "",
           "title": {
            "standoff": 15
           },
           "zerolinecolor": "white",
           "zerolinewidth": 2
          },
          "yaxis": {
           "automargin": true,
           "gridcolor": "white",
           "linecolor": "white",
           "ticks": "",
           "title": {
            "standoff": 15
           },
           "zerolinecolor": "white",
           "zerolinewidth": 2
          }
         }
        },
        "xaxis": {
         "anchor": "y",
         "domain": [
          0,
          1
         ],
         "title": {
          "text": "Original Principal Amount"
         }
        },
        "xaxis2": {
         "anchor": "y2",
         "domain": [
          0,
          1
         ],
         "matches": "x",
         "showgrid": true,
         "showticklabels": false
        },
        "yaxis": {
         "anchor": "x",
         "domain": [
          0,
          0.7326
         ],
         "title": {
          "text": "count"
         }
        },
        "yaxis2": {
         "anchor": "x2",
         "domain": [
          0.7426,
          1
         ],
         "matches": "y2",
         "showgrid": false,
         "showline": false,
         "showticklabels": false,
         "ticks": ""
        }
       }
      },
      "text/html": [
       "<div>\n",
       "        \n",
       "        \n",
       "            <div id=\"1396b3ab-a566-4689-a8cb-0c07c5c1c2b4\" class=\"plotly-graph-div\" style=\"height:525px; width:100%;\"></div>\n",
       "            <script type=\"text/javascript\">\n",
       "                require([\"plotly\"], function(Plotly) {\n",
       "                    window.PLOTLYENV=window.PLOTLYENV || {};\n",
       "                    \n",
       "                if (document.getElementById(\"1396b3ab-a566-4689-a8cb-0c07c5c1c2b4\")) {\n",
       "                    Plotly.newPlot(\n",
       "                        '1396b3ab-a566-4689-a8cb-0c07c5c1c2b4',\n",
       "                        [{\"alignmentgroup\": \"True\", \"bingroup\": \"x\", \"histnorm\": \"probability density\", \"hovertemplate\": \"Region=AFRICA<br>Original Principal Amount=%{x}<br>count=%{y}<extra></extra>\", \"legendgroup\": \"AFRICA\", \"marker\": {\"color\": \"#636efa\", \"opacity\": 0.8}, \"name\": \"AFRICA\", \"offsetgroup\": \"AFRICA\", \"orientation\": \"v\", \"showlegend\": true, \"type\": \"histogram\", \"x\": [19239973.134410698, 4569493.619422542, 19720972.46277097, 60124916.04503345, 21644969.77621204, 66137407.64953679, 19961472.126951106, 48099932.83602676, 28859959.701616056, 98604862.31385486, 28859959.701616056, 48099932.83602676, 19239973.134410698, 33669952.98521873, 15632478.171708696, 7214989.925404014, 28859959.701616056, 19239973.134410698, 26454963.05981472, 33188953.656858467, 24049966.41801338, 156324781.71708694, 70947400.93313946, 38479946.268821396, 103414855.59745754], \"xaxis\": \"x\", \"yaxis\": \"y\"}, {\"alignmentgroup\": \"True\", \"customdata\": [[1590883200000000000, \"IDA04891\", \"AFRICA\", \"TD\", \"Chad\", \"Ministere des Finances et du Budget\", \"Fully Repaid\", 0.75, \"USD\", \"Irrigation\", 19239973.134410698, 115014.51515036164, 0.0, 19124958.61926034, 19124958.61926034, 0.0, 0, 0.0, 0.0, 0.0, 0.0, 0.0, 454896000000000000, 1701388800000000000, 213494400000000000, 208483200000000000, 224294400000000000, 552009600000000000, 678931200000000000, \"USD\", 1492905600000000000, 47.30829517375442, 110505600000000000, 3.5017830619383012, 61335.58663079993, 829.514637535336, \"IRRIG. SATEGUI DERES\", 2876856982.9227605], [1590883200000000000, \"IDA07390\", \"AFRICA\", \"TD\", \"Chad\", \"Ministere des Finances et du Budget\", \"Fully Repaid\", 0.75, \"USD\", \"Irrigation\", 4569493.619422542, 0.0, 0.0, 4569493.619422542, 4569493.619422542, 0.0, 0, 0.0, 0.0, 0.0, 0.0, 0.0, 565315200000000000, 1811808000000000000, 244252800000000000, 242352000000000000, 264038400000000000, 552009600000000000, 559267200000000000, \"USD\", 1569456000000000000, 49.73408078194624, 220924800000000000, 7.000828216869614, 61335.58663079993, 829.514637535336, \"SAHELIAN ZONE PROJEC\", 2876856982.9227605], [1590883200000000000, \"IDA07660\", \"AFRICA\", \"BF\", \"Burkina Faso\", \"DIRECTION DE LA DETTE PUBLIQUE\", \"Fully Repaid\", 0.75, \"USD\", \"Urbanization\", 19720972.46277097, 13553.454774737113, 0.0, 19707419.007996235, 19707419.007996235, 0.0, 0, 0.0, 0.0, 0.0, 0.0, 0.0, 574387200000000000, 1820966400000000000, 258854400000000000, 255052800000000000, 286761600000000000, 504835200000000000, 522892800000000000, \"USD\", 1565913600000000000, 49.621826594659716, 230083200000000000, 7.291046359610396, 61335.58663079993, 2184.8799085539063, \"URBAN\", 2876856982.9227605], [1590883200000000000, \"IDA07820\", \"AFRICA\", \"SD\", \"Sudan\", \"Ministry of Finance and National Economy\", \"Repaying\", 0.75, \"USD\", \"Livestock\", 60124916.04503345, 3508040.5112744686, 0.0, 56616875.53375898, 3680072.951358288, 52936802.58240069, 0, 52936802.58240069, 0.0, 0.0, 0.0, 52936802.58240069, 589075200000000000, 1835481600000000000, 266803200000000000, 259459200000000000, 300326400000000000, 536371200000000000, 552787200000000000, \"USD\", 1576022400000000000, 49.942161714477365, 244598400000000000, 7.751014736784465, 61335.58663079993, 319.24269492186704, \"LIVESTOCK MARKETING\", 2876856982.9227605], [1590883200000000000, \"IDA07960\", \"AFRICA\", \"ZR\", \"Congo, Democratic Republic of\", \"MINISTERE DES FINANCES\", \"Fully Repaid\", 0.75, \"USD\", \"Energy\", 21644969.77621204, 6153792.9253483275, 0.0, 15491176.850863716, 15491176.850863716, 0.0, 0, 0.0, 0.0, 0.0, 0.0, 0.0, 590284800000000000, 1836691200000000000, 266112000000000000, 262915200000000000, 349660800000000000, 567907200000000000, 593308800000000000, \"USD\", 1573776000000000000, 49.87097613229567, 245808000000000000, 7.789345434882304, 61335.58663079993, 1140.2616070145177, \"OIL PALM DEVELOPMENT\", 2876856982.9227605], [1590883200000000000, \"IDA08010\", \"AFRICA\", \"TZ\", \"Tanzania\", \"Ministry of Finance and Planning\", \"Fully Repaid\", 0.75, \"USD\", \"Agriculture\", 66137407.64953679, 8210221.066220625, 0.0, 57927186.58331617, 57927186.58331617, 0.0, 0, 0.0, 0.0, 0.0, 0.0, 0.0, 587606400000000000, 1834185600000000000, 266630400000000000, 264124800000000000, 276134400000000000, 615168000000000000, 645840000000000000, \"USD\", 1570060800000000000, 49.75324613099516, 243302400000000000, 7.709946131679637, 61335.58663079993, 4279.269252619835, \"CASHEW NUTS II\", 2876856982.9227605], [1590883200000000000, \"IDA08110\", \"AFRICA\", \"TD\", \"Chad\", \"Ministere des Finances et du Budget\", \"Fully Repaid\", 0.75, \"USD\", \"Education\", 19961472.126951106, 1096489.5321252304, 0.0, 18864982.594825875, 18864982.594825875, 0.0, 0, 0.0, 0.0, 0.0, 0.0, 0.0, 596937600000000000, 1843430400000000000, 265852800000000000, 264729600000000000, 284860800000000000, 599529600000000000, 616291200000000000, \"USD\", 1578700800000000000, 50.02703683169401, 252547200000000000, 8.002902181427407, 61335.58663079993, 829.514637535336, \"EDUCATION\", 2876856982.9227605], [1590883200000000000, \"IDA08330\", \"AFRICA\", \"TZ\", \"Tanzania\", \"Ministry of Finance and Planning\", \"Fully Repaid\", 0.75, \"USD\", \"Industrialization\", 48099932.83602676, 0.0, 0.0, 48099932.83602676, 48099932.83602676, 0.0, 0, 0.0, 0.0, 0.0, 0.0, 0.0, 591667200000000000, 1838160000000000000, 270432000000000000, 267926400000000000, 294883200000000000, 552009600000000000, 516326400000000000, \"USD\", 1570233600000000000, 49.758721945009135, 247276800000000000, 7.835889854001109, 61335.58663079993, 4279.269252619835, \"MOROGORO TEXTILE\", 2876856982.9227605], [1590883200000000000, \"IDA08610\", \"AFRICA\", \"TZ\", \"Tanzania\", \"Ministry of Finance and Planning\", \"Fully Repaid\", 0.75, \"USD\", \"Education\", 28859959.701616056, 0.0, 0.0, 28859959.701616056, 28859959.701616056, 0.0, 0, 0.0, 0.0, 0.0, 0.0, 0.0, 609984000000000000, 1856649600000000000, 285811200000000000, 282268800000000000, 299116800000000000, 583632000000000000, 613612800000000000, \"USD\", 1574380800000000000, 49.890141481344585, 265766400000000000, 8.421801953496649, 61335.58663079993, 4279.269252619835, \"EDUCATION-VI\", 2876856982.9227605], [1590883200000000000, \"IDA08820\", \"AFRICA\", \"SD\", \"Sudan\", \"Ministry of Finance and National Economy\", \"Repaying\", 0.75, \"USD\", \"Roads and Transport\", 98604862.31385486, 51547.543621981815, 0.0, 98553314.77023289, 5913174.863183518, 92640139.90704934, 0, 92640139.90704934, 0.0, 0.0, 0.0, 92640139.90704934, 600825600000000000, 1847232000000000000, 290390400000000000, 289526400000000000, 317433600000000000, 473299200000000000, 495763200000000000, \"USD\", 1557705600000000000, 49.361725428995804, 256348800000000000, 8.123370089734902, 61335.58663079993, 319.24269492186704, \"HIGHWAYS II\", 2876856982.9227605], [1590883200000000000, \"IDA08850\", \"AFRICA\", \"NE\", \"Niger\", \"Ministre du Plan\", \"Fully Repaid\", 0.75, \"USD\", \"Livestock\", 28859959.701616056, 0.0, 0.0, 28859959.701616056, 28859959.701616056, 0.0, 0, 0.0, 0.0, 0.0, 0.0, 0.0, 615254400000000000, 1861920000000000000, 294019200000000000, 290131200000000000, 308534400000000000, 607305600000000000, 624499200000000000, \"USD\", 1571788800000000000, 49.808004271134934, 271036800000000000, 8.588814280922948, 61335.58663079993, 1837.2971382027008, \"LIVESTOCK I\", 2876856982.9227605], [1590883200000000000, \"IDA09020\", \"AFRICA\", \"ZR\", \"Congo, Democratic Republic of\", \"MINISTERE DES FINANCES\", \"Fully Repaid\", 0.75, \"USD\", \"Roads and Transport\", 48099932.83602676, 1414315.754631016, 0.0, 46685617.08139575, 46685617.08139575, 0.0, 0, 0.0, 0.0, 0.0, 0.0, 0.0, 611193600000000000, 1857859200000000000, 298166400000000000, 294969600000000000, 349401600000000000, 549417600000000000, 547257600000000000, \"USD\", 1562889600000000000, 49.525999849415115, 266976000000000000, 8.460132651594488, 61335.58663079993, 1140.2616070145177, \"RAILWAYS(SNCZ)\", 2876856982.9227605], [1590883200000000000, \"IDA09060\", \"AFRICA\", \"SO\", \"Somalia\", \"MINISTRY OF FINANCE\", \"Repaying\", 0.75, \"USD\", \"Energy\", 19239973.134410698, 0.0, 0.0, 19239973.134410698, 14045180.388119813, 5194792.7462908905, 0, 5194792.7462908905, 0.0, 0.0, 0.0, 5194792.7462908905, 616464000000000000, 1863129600000000000, 309571200000000000, 295142400000000000, 331171200000000000, 567907200000000000, 586656000000000000, \"USD\", 1567987200000000000, 49.68753636282744, 272246400000000000, 8.627144979020787, 61335.58663079993, 245.0700561955413, \"CENTRAL RANGELANDS D\", 2876856982.9227605], [1590883200000000000, \"IDA09450\", \"AFRICA\", \"TG\", \"Togo\", \"Ministere Des Finances Et De L'Economie\", \"Fully Repaid\", 0.75, \"USD\", \"Agriculture\", 33669952.98521873, 703503.3406184922, 0.0, 32966449.644600235, 32966449.644600235, 0.0, 0, 0.0, 0.0, 0.0, 0.0, 0.0, 628473600000000000, 1874966400000000000, 301536000000000000, 299376000000000000, 332121600000000000, 552009600000000000, 556848000000000000, \"USD\", 1575590400000000000, 49.92847217944242, 284083200000000000, 9.002238238978213, 61335.58663079993, 909.2753444629252, \"COCOA/COFFEE II\", 2876856982.9227605], [1590883200000000000, \"IDA09620\", \"AFRICA\", \"KE\", \"Kenya\", \"National Treasury  (Ministry of Finance)\", \"Repaying\", 0.75, \"USD\", \"Irrigation\", 15632478.171708696, 6012491.604503345, 0.0, 9619986.56720535, 6878191.790689512, 2741794.776515839, 0, 2741794.776515839, 0.0, 0.0, 0.0, 2741794.776515839, 632361600000000000, 1878768000000000000, 321667200000000000, 313718400000000000, 329443200000000000, 557366400000000000, 554688000000000000, \"USD\", 1565049600000000000, 49.594447524589825, 287884800000000000, 9.122706147285708, 61335.58663079993, 3211.7730001300497, \"BARINGO SEMI-ARID AR\", 2876856982.9227605], [1590883200000000000, \"IDA09690\", \"AFRICA\", \"3W\", \"Western Africa\", \"BANQUE OUEST-AFRICAINE DE DEVELOPPEMENT\", \"Repaying\", 0.75, \"USD\", \"BOAD\", 7214989.925404014, 475036.4277865182, 0.0, 6739953.497617495, 4717930.0121545205, 2022023.4854629748, 0, 2022023.4854629748, 0.0, 0.0, 0.0, 2022023.4854629748, 644198400000000000, 1890777600000000000, 317606400000000000, 315100800000000000, 321580800000000000, 567907200000000000, 568425600000000000, \"USD\", 1575676800000000000, 49.93121008644941, 299894400000000000, 9.50327522125711, 61335.58663079993, 103.76119975085047, \"BOAD\", 2876856982.9227605], [1590883200000000000, \"IDA09720\", \"AFRICA\", \"SO\", \"Somalia\", \"MINISTRY OF FINANCE\", \"Repaying\", 0.75, \"USD\", \"Others\", 28859959.701616056, 220834.36738962046, 0.0, 28639125.33422644, 20047282.407130577, 8591842.927095858, 0, 8591842.927095858, 0.0, 0.0, 0.0, 8591842.927095858, 644198400000000000, 1890777600000000000, 322876800000000000, 315100800000000000, 337564800000000000, 607305600000000000, 630892800000000000, \"USD\", 1575676800000000000, 49.93121008644941, 299894400000000000, 9.50327522125711, 61335.58663079993, 245.0700561955413, \"AGRIC III(BAY AREA)\", 2876856982.9227605], [1590883200000000000, \"IDA09860\", \"AFRICA\", \"ML\", \"Mali\", \"MINISTERE DE L'ECONOMIE ET FINANCES MALI\", \"Fully Repaid\", 0.75, \"USD\", \"Industrialization\", 19239973.134410698, 62253.31402306122, 0.0, 19177719.820387647, 19177719.820387647, 0.0, 0, 0.0, 0.0, 0.0, 0.0, 0.0, 646790400000000000, 1893456000000000000, 327888000000000000, 320371200000000000, 338774400000000000, 583632000000000000, 603504000000000000, \"USD\", 1573084800000000000, 49.84907287623976, 302572800000000000, 9.588150338473755, 61335.58663079993, 2467.7111781898334, \"SMALL SCALE INDUSTRI\", 2876856982.9227605], [1590883200000000000, \"IDA09910\", \"AFRICA\", \"SN\", \"Senegal\", \"Ministere De L'Economie Et Des Finances\", \"Fully Repaid\", 0.75, \"USD\", \"Rural Development\", 26454963.05981472, 13315.36010719878, 0.0, 26441647.69970753, 21153318.16457601, 0.0, 0, 0.0, 5288329.535131511, 5288329.535131511, 0.0, 0.0, 642729600000000000, 1889395200000000000, 323568000000000000, 321580800000000000, 337392000000000000, 567907200000000000, 614995200000000000, \"USD\", 1567814400000000000, 49.68206054881346, 298512000000000000, 9.459468709145295, 61335.58663079993, 3445.8147669014406, \"SMALL RURAL PROJECTS\", 2876856982.9227605], [1590883200000000000, \"IDA09920\", \"AFRICA\", \"MW\", \"Malawi\", \"Min of Finance Economic Planning & Dev\", \"Fully Repaid\", 0.75, \"USD\", \"Energy\", 33188953.656858467, 0.0, 0.0, 33188953.656858467, 33188953.656858467, 0.0, 0, 0.0, 0.0, 0.0, 0.0, 0.0, 646790400000000000, 1893456000000000000, 325468800000000000, 321753600000000000, 329356800000000000, 567907200000000000, 587001600000000000, \"USD\", 1571702400000000000, 49.805266364127945, 302572800000000000, 9.588150338473755, 61335.58663079993, 1978.770269067811, \"NRDP II/WOOD ENERGY\", 2876856982.9227605], [1590883200000000000, \"IDA09970\", \"AFRICA\", \"BJ\", \"Benin\", \"MINISTERE DE L'ECONOMIE ET DES FINANCES\", \"Fully Repaid\", 0.75, \"USD\", \"Credit and Finance\", 24049966.41801338, 7934769.537745259, 0.0, 16115196.88026812, 16115196.88026812, 0.0, 0, 0.0, 0.0, 0.0, 0.0, 0.0, 646790400000000000, 1893456000000000000, 324691200000000000, 322358400000000000, 366249600000000000, 615168000000000000, 633657600000000000, \"USD\", 1571097600000000000, 49.78610101507902, 302572800000000000, 9.588150338473755, 61335.58663079993, 2006.5572872817365, \"DFC/SME\", 2876856982.9227605], [1590883200000000000, \"IDA10060\", \"AFRICA\", \"SD\", \"Sudan\", \"Ministry of Finance and National Economy\", \"Repaying\", 0.75, \"USD\", \"Energy\", 156324781.71708694, 109527.85201162174, 0.0, 156215253.86507538, 7029680.124159938, 149185573.74091542, 0, 149185573.74091542, 0.0, 0.0, 0.0, 149185573.74091542, 650678400000000000, 1897344000000000000, 325382400000000000, 324777600000000000, 335059200000000000, 567907200000000000, 593740800000000000, \"USD\", 1572566400000000000, 49.83264543419783, 306460800000000000, 9.711356153788236, 61335.58663079993, 319.24269492186704, \"POWER III\", 2876856982.9227605], [1590883200000000000, \"IDA10090\", \"AFRICA\", \"GH\", \"Ghana\", \"MINISTRY FOR FINANCE\", \"Fully Repaid\", 0.75, \"USD\", \"Others\", 70947400.93313946, 26878.67536816728, 0.0, 70920522.25777131, 70920522.25777131, 0.0, 0, 0.0, 0.0, 0.0, 0.0, 0.0, 645408000000000000, 1891987200000000000, 336182400000000000, 325209600000000000, 354844800000000000, 599529600000000000, 652924800000000000, \"USD\", 1566777600000000000, 49.6492056647296, 301104000000000000, 9.541605919354948, 61335.58663079993, 3428.17990786943, \"VOLTA REGION AG. DEV\", 2876856982.9227605], [1590883200000000000, \"IDA10100\", \"AFRICA\", \"CM\", \"Cameroon\", \"Ministry of Eco, Planning and RegionDev\", \"Fully Repaid\", 0.75, \"USD\", \"Livestock\", 38479946.268821396, 0.0, 0.0, 38479946.268821396, 38479946.268821396, 0.0, 0, 0.0, 0.0, 0.0, 0.0, 0.0, 654739200000000000, 1901232000000000000, 330307200000000000, 325209600000000000, 358473600000000000, 567907200000000000, 604540800000000000, \"USD\", 1576022400000000000, 49.942161714477365, 310348800000000000, 9.834561969102719, 61335.58663079993, 1434.1321177026218, \"LIVESTOCK II\", 2876856982.9227605], [1590883200000000000, \"IDA10150\", \"AFRICA\", \"TZ\", \"Tanzania\", \"Ministry of Finance and Planning\", \"Fully Repaid\", 0.75, \"USD\", \"Others\", 103414855.59745754, 2936289.3080348875, 0.0, 100478566.28942265, 100478566.28942265, 0.0, 0, 0.0, 0.0, 0.0, 0.0, 0.0, 653356800000000000, 1899763200000000000, 356140800000000000, 326419200000000000, 364003200000000000, 709862400000000000, 754617600000000000, \"USD\", 1573344000000000000, 49.857286597260725, 308880000000000000, 9.788017549983914, 61335.58663079993, 4279.269252619835, \"GRAIN STORAGE & MILL\", 2876856982.9227605]], \"hovertemplate\": \"Region=%{customdata[2]}<br>Original Principal Amount=%{customdata[10]}<br>End of Period=%{customdata[0]}<br>Credit Number=%{customdata[1]}<br>Country Code=%{customdata[3]}<br>Country=%{customdata[4]}<br>Borrower=%{customdata[5]}<br>Credit Status=%{customdata[6]}<br>Service Charge Rate=%{customdata[7]}<br>Currency of Commitment=%{customdata[8]}<br>Project Name=%{customdata[9]}<br>Cancelled Amount=%{customdata[11]}<br>Undisbursed Amount=%{customdata[12]}<br>Disbursed Amount=%{customdata[13]}<br>Repaid to IDA=%{customdata[14]}<br>Due to IDA=%{customdata[15]}<br>Exchange Adjustment=%{customdata[16]}<br>Borrower's Obligation=%{customdata[17]}<br>Sold 3rd Party=%{customdata[18]}<br>Repaid 3rd Party=%{customdata[19]}<br>Due 3rd Party=%{customdata[20]}<br>Credits Held=%{customdata[21]}<br>First Repayment Date=%{customdata[22]}<br>Last Repayment Date=%{customdata[23]}<br>Agreement Signing Date=%{customdata[24]}<br>Board Approval Date=%{customdata[25]}<br>Effective Date (Most Recent)=%{customdata[26]}<br>Closed Date (Most Recent)=%{customdata[27]}<br>Last Disbursement Date=%{customdata[28]}<br>Currency of Commitment_USD=%{customdata[29]}<br>Loan Duration=%{customdata[30]}<br>Loan Duration in Years=%{customdata[31]}<br>Time to Repay=%{customdata[32]}<br>Time to Repay in Years=%{customdata[33]}<br>Region Total=%{customdata[34]}<br>Debt Left in Years=%{customdata[35]}<br>Original Project Name=%{customdata[36]}<br>Total Principal Amount=%{customdata[37]}<extra></extra>\", \"legendgroup\": \"AFRICA\", \"marker\": {\"color\": \"#636efa\"}, \"name\": \"AFRICA\", \"offsetgroup\": \"AFRICA\", \"scalegroup\": \"x\", \"showlegend\": false, \"type\": \"violin\", \"x\": [19239973.134410698, 4569493.619422542, 19720972.46277097, 60124916.04503345, 21644969.77621204, 66137407.64953679, 19961472.126951106, 48099932.83602676, 28859959.701616056, 98604862.31385486, 28859959.701616056, 48099932.83602676, 19239973.134410698, 33669952.98521873, 15632478.171708696, 7214989.925404014, 28859959.701616056, 19239973.134410698, 26454963.05981472, 33188953.656858467, 24049966.41801338, 156324781.71708694, 70947400.93313946, 38479946.268821396, 103414855.59745754], \"xaxis\": \"x2\", \"yaxis\": \"y2\"}, {\"alignmentgroup\": \"True\", \"bingroup\": \"x\", \"histnorm\": \"probability density\", \"hovertemplate\": \"Region=SOUTH ASIA<br>Original Principal Amount=%{x}<br>count=%{y}<extra></extra>\", \"legendgroup\": \"SOUTH ASIA\", \"marker\": {\"color\": \"#EF553B\", \"opacity\": 0.8}, \"name\": \"SOUTH ASIA\", \"offsetgroup\": \"SOUTH ASIA\", \"orientation\": \"v\", \"showlegend\": true, \"type\": \"histogram\", \"x\": [168349764.92609367, 144299798.50808027, 26454963.05981472, 48099932.83602676, 110629845.52286153, 48099932.83602676, 76959892.53764279, 40884942.910622746, 420874412.3152341], \"xaxis\": \"x\", \"yaxis\": \"y\"}, {\"alignmentgroup\": \"True\", \"customdata\": [[1590883200000000000, \"IDA07540\", \"SOUTH ASIA\", \"PK\", \"Pakistan\", \"MINISTRY OF FINANCE AND ECONOMIC AFFAIRS\", \"Repaying\", 0.75, \"USD\", \"Irrigation\", 168349764.92609367, 9766899.009765286, 0.0, 158582865.91632843, 123017297.80073732, 35565568.11559104, 0, 35565568.11559104, 0.0, 0.0, 0.0, 35565568.11559104, 575856000000000000, 1822348800000000000, 254016000000000000, 250214400000000000, 283651200000000000, 709862400000000000, 722131200000000000, \"USD\", 1572134400000000000, 49.81895589916289, 231465600000000000, 7.334852871722212, 18121.995660417382, 3299.1177094669974, \"IRRIGATION (SCARP-VI\", 2876856982.9227605], [1590883200000000000, \"IDA08770\", \"SOUTH ASIA\", \"PK\", \"Pakistan\", \"MINISTRY OF FINANCE AND ECONOMIC AFFAIRS\", \"Repaying\", 0.75, \"USD\", \"Irrigation\", 144299798.50808027, 0.0, 0.0, 144299798.50808027, 107503349.8885198, 36796448.61956047, 0, 36796448.61956047, 0.0, 0.0, 0.0, 36796448.61956047, 607392000000000000, 1853971200000000000, 287193600000000000, 285897600000000000, 308880000000000000, 709862400000000000, 715478400000000000, \"USD\", 1568073600000000000, 49.690274269834426, 263088000000000000, 8.336926836280005, 18121.995660417382, 3299.1177094669974, \"SCARP MARDAN (PHASE\", 2876856982.9227605], [1590883200000000000, \"IDA09390\", \"SOUTH ASIA\", \"NP\", \"Nepal\", \"Ministry of Finance\", \"Repaying\", 0.75, \"USD\", \"Rural Development\", 26454963.05981472, 11143475.821642786, 0.0, 15311487.238171935, 11177255.562724704, 4134231.675447228, 0, 4134231.675447228, 0.0, 0.0, 0.0, 4134231.675447228, 621820800000000000, 1868227200000000000, 303004800000000000, 298771200000000000, 316742400000000000, 584928000000000000, 601862400000000000, \"USD\", 1569456000000000000, 49.73408078194624, 277344000000000000, 8.78868149243311, 18121.995660417382, 2376.089858107969, \"RURAL DEV II\", 2876856982.9227605], [1590883200000000000, \"IDA09630\", \"SOUTH ASIA\", \"IN\", \"India\", \"CONTROLLER OF AID ACCOUNTS & AUDIT\", \"Repaying\", 0.75, \"USD\", \"Fishery\", 48099932.83602676, 1571284.5463488447, 0.0, 46528648.28967792, 33267883.241645746, 13260765.048032172, 0, 13260765.048032172, 0.0, 0.0, 0.0, 13260765.048032172, 635040000000000000, 1881446400000000000, 317001600000000000, 313891200000000000, 326332800000000000, 591580800000000000, 606009600000000000, \"USD\", 1567555200000000000, 49.673846827792495, 290563200000000000, 9.207581264502352, 18121.995660417382, 4572.000793993029, \"FISHERIES IV-INLAND\", 2876856982.9227605], [1590883200000000000, \"IDA09810\", \"SOUTH ASIA\", \"IN\", \"India\", \"CONTROLLER OF AID ACCOUNTS & AUDIT\", \"Repaying\", 0.75, \"USD\", \"Others\", 110629845.52286153, 4237779.743808675, 0.0, 106392065.77905288, 76070207.31994797, 30321858.459104914, 0, 30321858.459104914, 0.0, 0.0, 0.0, 30321858.459104914, 638928000000000000, 1885507200000000000, 324518400000000000, 319161600000000000, 330825600000000000, 575769600000000000, 595641600000000000, \"USD\", 1566345600000000000, 49.63551612969466, 294624000000000000, 9.336262893830812, 18121.995660417382, 4572.000793993029, \"POPULATION II\", 2876856982.9227605], [1590883200000000000, \"IDA10010\", \"SOUTH ASIA\", \"BD\", \"Bangladesh\", \"MINISTRY OF FINANCE\", \"Repaying\", 0.75, \"USD\", \"Others\", 48099932.83602676, 0.0, 0.0, 48099932.83602676, 33669952.98521873, 14429979.850808028, 0, 14429979.850808028, 0.0, 0.0, 0.0, 14429979.850808028, 646790400000000000, 1893456000000000000, 323654400000000000, 322790400000000000, 355622400000000000, 567907200000000000, 594259200000000000, \"USD\", 1570665600000000000, 49.77241148004408, 302572800000000000, 9.588150338473755, 18121.995660417382, 5157.521372786575, \"CHITTAGONG WATER II\", 2876856982.9227605], [1590883200000000000, \"IDA10030\", \"SOUTH ASIA\", \"IN\", \"India\", \"CONTROLLER OF AID ACCOUNTS & AUDIT\", \"Repaying\", 0.75, \"USD\", \"Health\", 76959892.53764279, 55489.044518297196, 0.0, 76904403.49312453, 53832963.83075278, 23071439.66237173, 0, 23071439.66237173, 0.0, 0.0, 0.0, 23071439.66237173, 649468800000000000, 1896134400000000000, 326937600000000000, 324604800000000000, 334281600000000000, 607305600000000000, 624585600000000000, \"USD\", 1571529600000000000, 49.79979055011397, 305251200000000000, 9.673025455690398, 18121.995660417382, 4572.000793993029, \"NUTRITION\", 2876856982.9227605], [1590883200000000000, \"IDA10080\", \"SOUTH ASIA\", \"NP\", \"Nepal\", \"Ministry of Finance\", \"Repaying\", 0.75, \"USD\", \"Forests\", 40884942.910622746, 0.0, 0.0, 40884942.910622746, 28619460.037435926, 12265482.873186825, 0, 12265482.873186825, 0.0, 0.0, 0.0, 12265482.873186825, 648000000000000000, 1894665600000000000, 327801600000000000, 325209600000000000, 338169600000000000, 615168000000000000, 600048000000000000, \"USD\", 1569456000000000000, 49.73408078194624, 303782400000000000, 9.626481036571592, 18121.995660417382, 2376.089858107969, \"FORESTRY I\", 2876856982.9227605], [1590883200000000000, \"IDA10110\", \"SOUTH ASIA\", \"IN\", \"India\", \"CONTROLLER OF AID ACCOUNTS & AUDIT\", \"Repaying\", 0.75, \"USD\", \"Irrigation\", 420874412.3152341, 37844849.61853376, 0.0, 383029562.6967004, 268120665.81175953, 114908896.88494092, 0, 114908896.88494092, 0.0, 0.0, 0.0, 114908896.88494092, 652147200000000000, 1898553600000000000, 326937600000000000, 325814400000000000, 330912000000000000, 609897600000000000, 626659200000000000, \"USD\", 1572739200000000000, 49.838121248211806, 307670400000000000, 9.749686851886075, 18121.995660417382, 4572.000793993029, \"GUJARAT IRRIG. II\", 2876856982.9227605]], \"hovertemplate\": \"Region=%{customdata[2]}<br>Original Principal Amount=%{customdata[10]}<br>End of Period=%{customdata[0]}<br>Credit Number=%{customdata[1]}<br>Country Code=%{customdata[3]}<br>Country=%{customdata[4]}<br>Borrower=%{customdata[5]}<br>Credit Status=%{customdata[6]}<br>Service Charge Rate=%{customdata[7]}<br>Currency of Commitment=%{customdata[8]}<br>Project Name=%{customdata[9]}<br>Cancelled Amount=%{customdata[11]}<br>Undisbursed Amount=%{customdata[12]}<br>Disbursed Amount=%{customdata[13]}<br>Repaid to IDA=%{customdata[14]}<br>Due to IDA=%{customdata[15]}<br>Exchange Adjustment=%{customdata[16]}<br>Borrower's Obligation=%{customdata[17]}<br>Sold 3rd Party=%{customdata[18]}<br>Repaid 3rd Party=%{customdata[19]}<br>Due 3rd Party=%{customdata[20]}<br>Credits Held=%{customdata[21]}<br>First Repayment Date=%{customdata[22]}<br>Last Repayment Date=%{customdata[23]}<br>Agreement Signing Date=%{customdata[24]}<br>Board Approval Date=%{customdata[25]}<br>Effective Date (Most Recent)=%{customdata[26]}<br>Closed Date (Most Recent)=%{customdata[27]}<br>Last Disbursement Date=%{customdata[28]}<br>Currency of Commitment_USD=%{customdata[29]}<br>Loan Duration=%{customdata[30]}<br>Loan Duration in Years=%{customdata[31]}<br>Time to Repay=%{customdata[32]}<br>Time to Repay in Years=%{customdata[33]}<br>Region Total=%{customdata[34]}<br>Debt Left in Years=%{customdata[35]}<br>Original Project Name=%{customdata[36]}<br>Total Principal Amount=%{customdata[37]}<extra></extra>\", \"legendgroup\": \"SOUTH ASIA\", \"marker\": {\"color\": \"#EF553B\"}, \"name\": \"SOUTH ASIA\", \"offsetgroup\": \"SOUTH ASIA\", \"scalegroup\": \"x\", \"showlegend\": false, \"type\": \"violin\", \"x\": [168349764.92609367, 144299798.50808027, 26454963.05981472, 48099932.83602676, 110629845.52286153, 48099932.83602676, 76959892.53764279, 40884942.910622746, 420874412.3152341], \"xaxis\": \"x2\", \"yaxis\": \"y2\"}, {\"alignmentgroup\": \"True\", \"bingroup\": \"x\", \"histnorm\": \"probability density\", \"hovertemplate\": \"Region=MIDDLE EAST AND NORTH AFRICA<br>Original Principal Amount=%{x}<br>count=%{y}<extra></extra>\", \"legendgroup\": \"MIDDLE EAST AND NORTH AFRICA\", \"marker\": {\"color\": \"#00cc96\", \"opacity\": 0.8}, \"name\": \"MIDDLE EAST AND NORTH AFRICA\", \"offsetgroup\": \"MIDDLE EAST AND NORTH AFRICA\", \"orientation\": \"v\", \"showlegend\": true, \"type\": \"histogram\", \"x\": [12024983.20900669, 36074949.62702007, 78162390.85854347, 24049966.41801338, 88984875.74664952, 108224848.8810602], \"xaxis\": \"x\", \"yaxis\": \"y\"}, {\"alignmentgroup\": \"True\", \"customdata\": [[1590883200000000000, \"IDA08290\", \"MIDDLE EAST AND NORTH AFRICA\", \"RY\", \"Yemen, Republic of\", \"Minister of Planning & Intl Co-operation\", \"Repaying\", 0.75, \"USD\", \"Energy\", 12024983.20900669, 0.0, 0.0, 12024983.20900669, 9138987.238845084, 2885995.9701616056, 0, 2885995.9701616056, 0.0, 0.0, 0.0, 2885995.9701616056, 591667200000000000, 1838160000000000000, 269222400000000000, 266544000000000000, 306460800000000000, 567907200000000000, 599184000000000000, \"USD\", 1571616000000000000, 49.80252845712096, 247276800000000000, 7.835889854001109, 2767.9281573201365, 1577.9297316166653, \"POWER\", 2876856982.9227605], [1590883200000000000, \"IDA08800\", \"MIDDLE EAST AND NORTH AFRICA\", \"RY\", \"Yemen, Republic of\", \"MINISTRY OF AGRICULTURE & FISHERIES\", \"Repaying\", 0.75, \"USD\", \"Agriculture\", 36074949.62702007, 1514693.4602193746, 0.0, 34560256.16680069, 25751244.20744716, 8809011.959353542, 0, 8809011.959353542, 0.0, 0.0, 0.0, 8809011.959353542, 608601600000000000, 1855180800000000000, 293414400000000000, 289526400000000000, 320630400000000000, 591580800000000000, 628387200000000000, \"USD\", 1565654400000000000, 49.61361287363874, 264297600000000000, 8.375257534377845, 2767.9281573201365, 1577.9297316166653, \"TIHAMA III (WADI MAWR)\", 2876856982.9227605], [1590883200000000000, \"IDA09090\", \"MIDDLE EAST AND NORTH AFRICA\", \"EG\", \"Egypt, Arab Republic of\", \"Ministry of International Cooperation\", \"Repaying\", 0.75, \"USD\", \"Tourism\", 78162390.85854347, 22689576.19553386, 0.0, 55472814.66300963, 40556968.70858701, 14915845.95442261, 0, 14915845.95442261, 0.0, 0.0, 0.0, 14915845.95442261, 624412800000000000, 1870905600000000000, 298080000000000000, 295747200000000000, 322876800000000000, 631065600000000000, 641001600000000000, \"USD\", 1575158400000000000, 49.91478264440748, 280022400000000000, 8.873556609649754, 2767.9281573201365, 286.0264071130824, \"LUXOR TOURISM DEVT.\", 2876856982.9227605], [1590883200000000000, \"IDA09150\", \"MIDDLE EAST AND NORTH AFRICA\", \"RY\", \"Yemen, Republic of\", \"THE MINISTER OF EDUCATION\", \"Repaying\", 0.75, \"USD\", \"Education\", 24049966.41801338, 33254.850564843815, 0.0, 24016711.567448534, 17532165.77909444, 6484545.788354096, 0, 6484545.788354096, 0.0, 0.0, 0.0, 6484545.788354096, 611193600000000000, 1857859200000000000, 299289600000000000, 296179200000000000, 314582400000000000, 586310400000000000, 613872000000000000, \"USD\", 1561680000000000000, 49.48766915131728, 266976000000000000, 8.460132651594488, 2767.9281573201365, 1577.9297316166653, \"EDUCATION III\", 2876856982.9227605], [1590883200000000000, \"IDA09350\", \"MIDDLE EAST AND NORTH AFRICA\", \"EG\", \"Egypt, Arab Republic of\", \"Ministry of International Cooperation\", \"Repaying\", 0.75, \"USD\", \"Energy\", 88984875.74664952, 0.0, 0.0, 88984875.74664952, 63624186.158854395, 25360689.58779511, 0, 25360689.58779511, 0.0, 0.0, 0.0, 25360689.58779511, 628473600000000000, 1874966400000000000, 305424000000000000, 298598400000000000, 324000000000000000, 583632000000000000, 564105600000000000, \"USD\", 1576368000000000000, 49.95311334250532, 284083200000000000, 9.002238238978213, 2767.9281573201365, 286.0264071130824, \"POWER GENERATION\", 2876856982.9227605], [1590883200000000000, \"IDA09880\", \"MIDDLE EAST AND NORTH AFRICA\", \"EG\", \"Egypt, Arab Republic of\", \"Ministry of International Cooperation\", \"Repaying\", 0.75, \"USD\", \"Others\", 108224848.8810602, 2831152.378642035, 0.0, 105393696.5024182, 75356486.08654715, 30037210.41587103, 0, 30037210.41587103, 0.0, 0.0, 0.0, 30037210.41587103, 642729600000000000, 1889395200000000000, 325987200000000000, 321580800000000000, 344649600000000000, 583632000000000000, 598752000000000000, \"USD\", 1567814400000000000, 49.68206054881346, 298512000000000000, 9.459468709145295, 2767.9281573201365, 286.0264071130824, \"AGRO-INDUSTRY\", 2876856982.9227605]], \"hovertemplate\": \"Region=%{customdata[2]}<br>Original Principal Amount=%{customdata[10]}<br>End of Period=%{customdata[0]}<br>Credit Number=%{customdata[1]}<br>Country Code=%{customdata[3]}<br>Country=%{customdata[4]}<br>Borrower=%{customdata[5]}<br>Credit Status=%{customdata[6]}<br>Service Charge Rate=%{customdata[7]}<br>Currency of Commitment=%{customdata[8]}<br>Project Name=%{customdata[9]}<br>Cancelled Amount=%{customdata[11]}<br>Undisbursed Amount=%{customdata[12]}<br>Disbursed Amount=%{customdata[13]}<br>Repaid to IDA=%{customdata[14]}<br>Due to IDA=%{customdata[15]}<br>Exchange Adjustment=%{customdata[16]}<br>Borrower's Obligation=%{customdata[17]}<br>Sold 3rd Party=%{customdata[18]}<br>Repaid 3rd Party=%{customdata[19]}<br>Due 3rd Party=%{customdata[20]}<br>Credits Held=%{customdata[21]}<br>First Repayment Date=%{customdata[22]}<br>Last Repayment Date=%{customdata[23]}<br>Agreement Signing Date=%{customdata[24]}<br>Board Approval Date=%{customdata[25]}<br>Effective Date (Most Recent)=%{customdata[26]}<br>Closed Date (Most Recent)=%{customdata[27]}<br>Last Disbursement Date=%{customdata[28]}<br>Currency of Commitment_USD=%{customdata[29]}<br>Loan Duration=%{customdata[30]}<br>Loan Duration in Years=%{customdata[31]}<br>Time to Repay=%{customdata[32]}<br>Time to Repay in Years=%{customdata[33]}<br>Region Total=%{customdata[34]}<br>Debt Left in Years=%{customdata[35]}<br>Original Project Name=%{customdata[36]}<br>Total Principal Amount=%{customdata[37]}<extra></extra>\", \"legendgroup\": \"MIDDLE EAST AND NORTH AFRICA\", \"marker\": {\"color\": \"#00cc96\"}, \"name\": \"MIDDLE EAST AND NORTH AFRICA\", \"offsetgroup\": \"MIDDLE EAST AND NORTH AFRICA\", \"scalegroup\": \"x\", \"showlegend\": false, \"type\": \"violin\", \"x\": [12024983.20900669, 36074949.62702007, 78162390.85854347, 24049966.41801338, 88984875.74664952, 108224848.8810602], \"xaxis\": \"x2\", \"yaxis\": \"y2\"}, {\"alignmentgroup\": \"True\", \"bingroup\": \"x\", \"histnorm\": \"probability density\", \"hovertemplate\": \"Region=EAST ASIA AND PACIFIC<br>Original Principal Amount=%{x}<br>count=%{y}<extra></extra>\", \"legendgroup\": \"EAST ASIA AND PACIFIC\", \"marker\": {\"color\": \"#ab63fa\", \"opacity\": 0.8}, \"name\": \"EAST ASIA AND PACIFIC\", \"offsetgroup\": \"EAST ASIA AND PACIFIC\", \"orientation\": \"v\", \"showlegend\": true, \"type\": \"histogram\", \"x\": [82972384.14214616, 96199865.67205352, 60124916.04503345, 28859959.701616056, 19239973.134410698], \"xaxis\": \"x\", \"yaxis\": \"y\"}, {\"alignmentgroup\": \"True\", \"customdata\": [[1590883200000000000, \"IDA08350\", \"EAST ASIA AND PACIFIC\", \"MM\", \"Myanmar\", \"Ministry of Planning and Finance\", \"Repaying\", 0.75, \"USD\", \"Agriculture\", 82972384.14214616, 1756317.267929819, 0.0, 81216066.87421633, 60515078.65023288, 20700988.22398345, 0, 20700988.22398345, 0.0, 0.0, 0.0, 20700988.22398345, 598147200000000000, 1844640000000000000, 270432000000000000, 268531200000000000, 277084800000000000, 641433600000000000, 651888000000000000, \"USD\", 1576108800000000000, 49.94489962148435, 253756800000000000, 8.041232879525246, 11512.03378577246, 632.2456997748071, \"LOWER BURMA PADDY DE\", 2876856982.9227605], [1590883200000000000, \"IDA09230\", \"EAST ASIA AND PACIFIC\", \"PH\", \"Philippines\", \"Department of Finance\", \"Repaying\", 0.75, \"USD\", \"Credit and Finance\", 96199865.67205352, 18703173.290417057, 0.0, 77496692.38163647, 55410131.7684864, 22086560.613150056, 0, 22086560.613150056, 0.0, 0.0, 0.0, 22086560.613150056, 628473600000000000, 1874966400000000000, 299289600000000000, 297388800000000000, 308793600000000000, 583632000000000000, 608428800000000000, \"USD\", 1577577600000000000, 49.99144404060316, 284083200000000000, 9.002238238978213, 11512.03378577246, 29.717242653853262, \"POPULAT. II\", 2876856982.9227605], [1590883200000000000, \"IDA09290\", \"EAST ASIA AND PACIFIC\", \"TH\", \"Thailand\", \"MINISTRY OF FINANCE\", \"Fully Repaid\", 0.75, \"USD\", \"Others\", 60124916.04503345, 7415629.127142998, 0.0, 52709286.91789045, 52709286.91789045, 0.0, 0, 0.0, 0.0, 0.0, 0.0, 0.0, 620611200000000000, 1867017600000000000, 299376000000000000, 297993600000000000, 308534400000000000, 599529600000000000, 613872000000000000, \"USD\", 1569024000000000000, 49.7203912469113, 276134400000000000, 8.75035079433527, 11512.03378577246, 8.75035079433527, \"NO. AG DEVL\", 2876856982.9227605], [1590883200000000000, \"IDA09460\", \"EAST ASIA AND PACIFIC\", \"ID\", \"Indonesia\", \"Ministry of Finance\", \"Repaying\", 0.75, \"USD\", \"Rural Development\", 28859959.701616056, 2049259.3509323825, 0.0, 26810700.350683674, 22790724.41394632, 4019975.936737355, 0, 4019975.936737355, 0.0, 0.0, 0.0, 4019975.936737355, 623203200000000000, 1869696000000000000, 303350400000000000, 300585600000000000, 313200000000000000, 607305600000000000, 671328000000000000, \"USD\", 1569110400000000000, 49.723129153918286, 278812800000000000, 8.835225911551914, 11512.03378577246, 562.8808257527535, \"YOGYAKARTA RURAL DEV\", 2876856982.9227605], [1590883200000000000, \"IDA09510\", \"EAST ASIA AND PACIFIC\", \"WS\", \"Samoa\", \"TREASURY DEPARTMENT\", \"Repaying\", 0.75, \"USD\", \"Others\", 19239973.134410698, 3551821.8878406794, 0.0, 15688151.246570025, 11216969.272270767, 4471181.974299257, 0, 4471181.974299257, 0.0, 0.0, 0.0, 4471181.974299257, 632361600000000000, 1878768000000000000, 312508800000000000, 306460800000000000, 320889600000000000, 583632000000000000, 604886400000000000, \"USD\", 1572307200000000000, 49.824431713176864, 287884800000000000, 9.122706147285708, 11512.03378577246, 466.5256644558067, \"AGRIC DEVT\", 2876856982.9227605]], \"hovertemplate\": \"Region=%{customdata[2]}<br>Original Principal Amount=%{customdata[10]}<br>End of Period=%{customdata[0]}<br>Credit Number=%{customdata[1]}<br>Country Code=%{customdata[3]}<br>Country=%{customdata[4]}<br>Borrower=%{customdata[5]}<br>Credit Status=%{customdata[6]}<br>Service Charge Rate=%{customdata[7]}<br>Currency of Commitment=%{customdata[8]}<br>Project Name=%{customdata[9]}<br>Cancelled Amount=%{customdata[11]}<br>Undisbursed Amount=%{customdata[12]}<br>Disbursed Amount=%{customdata[13]}<br>Repaid to IDA=%{customdata[14]}<br>Due to IDA=%{customdata[15]}<br>Exchange Adjustment=%{customdata[16]}<br>Borrower's Obligation=%{customdata[17]}<br>Sold 3rd Party=%{customdata[18]}<br>Repaid 3rd Party=%{customdata[19]}<br>Due 3rd Party=%{customdata[20]}<br>Credits Held=%{customdata[21]}<br>First Repayment Date=%{customdata[22]}<br>Last Repayment Date=%{customdata[23]}<br>Agreement Signing Date=%{customdata[24]}<br>Board Approval Date=%{customdata[25]}<br>Effective Date (Most Recent)=%{customdata[26]}<br>Closed Date (Most Recent)=%{customdata[27]}<br>Last Disbursement Date=%{customdata[28]}<br>Currency of Commitment_USD=%{customdata[29]}<br>Loan Duration=%{customdata[30]}<br>Loan Duration in Years=%{customdata[31]}<br>Time to Repay=%{customdata[32]}<br>Time to Repay in Years=%{customdata[33]}<br>Region Total=%{customdata[34]}<br>Debt Left in Years=%{customdata[35]}<br>Original Project Name=%{customdata[36]}<br>Total Principal Amount=%{customdata[37]}<extra></extra>\", \"legendgroup\": \"EAST ASIA AND PACIFIC\", \"marker\": {\"color\": \"#ab63fa\"}, \"name\": \"EAST ASIA AND PACIFIC\", \"offsetgroup\": \"EAST ASIA AND PACIFIC\", \"scalegroup\": \"x\", \"showlegend\": false, \"type\": \"violin\", \"x\": [82972384.14214616, 96199865.67205352, 60124916.04503345, 28859959.701616056, 19239973.134410698], \"xaxis\": \"x2\", \"yaxis\": \"y2\"}, {\"alignmentgroup\": \"True\", \"bingroup\": \"x\", \"histnorm\": \"probability density\", \"hovertemplate\": \"Region=LATIN AMERICA AND CARIBBEAN<br>Original Principal Amount=%{x}<br>count=%{y}<extra></extra>\", \"legendgroup\": \"LATIN AMERICA AND CARIBBEAN\", \"marker\": {\"color\": \"#FFA15A\", \"opacity\": 0.8}, \"name\": \"LATIN AMERICA AND CARIBBEAN\", \"offsetgroup\": \"LATIN AMERICA AND CARIBBEAN\", \"orientation\": \"v\", \"showlegend\": true, \"type\": \"histogram\", \"x\": [7214989.925404014, 18037474.813510034, 21644969.77621204, 16834976.492609367, 52909926.11962944], \"xaxis\": \"x\", \"yaxis\": \"y\"}, {\"alignmentgroup\": \"True\", \"customdata\": [[1590883200000000000, \"IDA09330\", \"LATIN AMERICA AND CARIBBEAN\", \"BO\", \"Bolivia\", \"MINISTRO DE ECONOMIA Y\", \"Fully Repaid\", 0.75, \"USD\", \"Rural Development\", 7214989.925404014, 2422355.2341628005, 0.0, 4792634.691241213, 4792634.691241213, 0.0, 0, 0.0, 0.0, 0.0, 0.0, 0.0, 628473600000000000, 1874966400000000000, 301881600000000000, 298166400000000000, 324086400000000000, 536371200000000000, 612489600000000000, \"USD\", 1576800000000000000, 49.96680287754027, 284083200000000000, 9.002238238978213, 7346.091979985898, 1494.9629355838938, \"OMASUYOS-LOS ANDES R\", 2876856982.9227605], [1590883200000000000, \"IDA09400\", \"LATIN AMERICA AND CARIBBEAN\", \"BO\", \"Bolivia\", \"MINISTRO DE ECONOMIA Y\", \"Fully Repaid\", 0.75, \"USD\", \"Mining\", 18037474.813510034, 8796240.224687256, 0.0, 9241234.588822778, 9241234.588822778, 0.0, 0, 0.0, 0.0, 0.0, 0.0, 0.0, 623203200000000000, 1869696000000000000, 301881600000000000, 299203200000000000, 317260800000000000, 567907200000000000, 585187200000000000, \"USD\", 1570492800000000000, 49.7669356660301, 278812800000000000, 8.835225911551914, 7346.091979985898, 1494.9629355838938, \"MINING EXPLORATION F\", 2876856982.9227605], [1590883200000000000, \"IDA09480\", \"LATIN AMERICA AND CARIBBEAN\", \"BO\", \"Bolivia\", \"MINISTRO DE ECONOMIA Y\", \"Fully Repaid\", 0.75, \"USD\", \"Water\", 21644969.77621204, 240.1389146838636, 0.0, 21644729.63729736, 21644729.63729736, 0.0, 0, 0.0, 0.0, 0.0, 0.0, 0.0, 623203200000000000, 1869696000000000000, 301881600000000000, 300585600000000000, 310003200000000000, 520473600000000000, 539308800000000000, \"USD\", 1569110400000000000, 49.723129153918286, 278812800000000000, 8.835225911551914, 7346.091979985898, 1494.9629355838938, \"SANTA CRUZ W/S & SGE\", 2876856982.9227605], [1590883200000000000, \"IDA09600\", \"LATIN AMERICA AND CARIBBEAN\", \"6R\", \"Caribbean\", \"CARIBBEAN DEVELOPMENT BANK\", \"Repaying\", 0.75, \"USD\", \"Others\", 16834976.492609367, 1249591.8107420348, 0.0, 15585384.68186733, 11143518.269833516, 4441866.412033818, 0, 4441866.412033818, 0.0, 0.0, 0.0, 4441866.412033818, 633830400000000000, 1880236800000000000, 316224000000000000, 313718400000000000, 319852800000000000, 536371200000000000, 552528000000000000, \"USD\", 1566518400000000000, 49.640991943708634, 289353600000000000, 9.169250566404513, 7346.091979985898, 48.78676495752822, \"CARIBBEAN DEVT BANK\", 2876856982.9227605], [1590883200000000000, \"IDA09650\", \"LATIN AMERICA AND CARIBBEAN\", \"NI\", \"Nicaragua\", \"MINISTERIO DE HACIENDA Y CREDITO PUBLICO\", \"Fully Repaid\", 0.75, \"USD\", \"Urbanization\", 52909926.11962944, 4082.4577494913533, 0.0, 52905843.66187995, 52905843.66187995, 0.0, 0, 0.0, 0.0, 0.0, 0.0, 0.0, 638928000000000000, 1885507200000000000, 315792000000000000, 314323200000000000, 317606400000000000, 425779200000000000, 465436800000000000, \"USD\", 1571184000000000000, 49.788838922086015, 294624000000000000, 9.336262893830812, 7346.091979985898, 1647.2781781966773, \"URBAN RECONSTRUCTION\", 2876856982.9227605]], \"hovertemplate\": \"Region=%{customdata[2]}<br>Original Principal Amount=%{customdata[10]}<br>End of Period=%{customdata[0]}<br>Credit Number=%{customdata[1]}<br>Country Code=%{customdata[3]}<br>Country=%{customdata[4]}<br>Borrower=%{customdata[5]}<br>Credit Status=%{customdata[6]}<br>Service Charge Rate=%{customdata[7]}<br>Currency of Commitment=%{customdata[8]}<br>Project Name=%{customdata[9]}<br>Cancelled Amount=%{customdata[11]}<br>Undisbursed Amount=%{customdata[12]}<br>Disbursed Amount=%{customdata[13]}<br>Repaid to IDA=%{customdata[14]}<br>Due to IDA=%{customdata[15]}<br>Exchange Adjustment=%{customdata[16]}<br>Borrower's Obligation=%{customdata[17]}<br>Sold 3rd Party=%{customdata[18]}<br>Repaid 3rd Party=%{customdata[19]}<br>Due 3rd Party=%{customdata[20]}<br>Credits Held=%{customdata[21]}<br>First Repayment Date=%{customdata[22]}<br>Last Repayment Date=%{customdata[23]}<br>Agreement Signing Date=%{customdata[24]}<br>Board Approval Date=%{customdata[25]}<br>Effective Date (Most Recent)=%{customdata[26]}<br>Closed Date (Most Recent)=%{customdata[27]}<br>Last Disbursement Date=%{customdata[28]}<br>Currency of Commitment_USD=%{customdata[29]}<br>Loan Duration=%{customdata[30]}<br>Loan Duration in Years=%{customdata[31]}<br>Time to Repay=%{customdata[32]}<br>Time to Repay in Years=%{customdata[33]}<br>Region Total=%{customdata[34]}<br>Debt Left in Years=%{customdata[35]}<br>Original Project Name=%{customdata[36]}<br>Total Principal Amount=%{customdata[37]}<extra></extra>\", \"legendgroup\": \"LATIN AMERICA AND CARIBBEAN\", \"marker\": {\"color\": \"#FFA15A\"}, \"name\": \"LATIN AMERICA AND CARIBBEAN\", \"offsetgroup\": \"LATIN AMERICA AND CARIBBEAN\", \"scalegroup\": \"x\", \"showlegend\": false, \"type\": \"violin\", \"x\": [7214989.925404014, 18037474.813510034, 21644969.77621204, 16834976.492609367, 52909926.11962944], \"xaxis\": \"x2\", \"yaxis\": \"y2\"}],\n",
       "                        {\"barmode\": \"relative\", \"legend\": {\"title\": {\"text\": \"Region\"}, \"tracegroupgap\": 0}, \"margin\": {\"t\": 60}, \"template\": {\"data\": {\"bar\": [{\"error_x\": {\"color\": \"#2a3f5f\"}, \"error_y\": {\"color\": \"#2a3f5f\"}, \"marker\": {\"line\": {\"color\": \"#E5ECF6\", \"width\": 0.5}}, \"type\": \"bar\"}], \"barpolar\": [{\"marker\": {\"line\": {\"color\": \"#E5ECF6\", \"width\": 0.5}}, \"type\": \"barpolar\"}], \"carpet\": [{\"aaxis\": {\"endlinecolor\": \"#2a3f5f\", \"gridcolor\": \"white\", \"linecolor\": \"white\", \"minorgridcolor\": \"white\", \"startlinecolor\": \"#2a3f5f\"}, \"baxis\": {\"endlinecolor\": \"#2a3f5f\", \"gridcolor\": \"white\", \"linecolor\": \"white\", \"minorgridcolor\": \"white\", \"startlinecolor\": \"#2a3f5f\"}, \"type\": \"carpet\"}], \"choropleth\": [{\"colorbar\": {\"outlinewidth\": 0, \"ticks\": \"\"}, \"type\": \"choropleth\"}], \"contour\": [{\"colorbar\": {\"outlinewidth\": 0, \"ticks\": \"\"}, \"colorscale\": [[0.0, \"#0d0887\"], [0.1111111111111111, \"#46039f\"], [0.2222222222222222, \"#7201a8\"], [0.3333333333333333, \"#9c179e\"], [0.4444444444444444, \"#bd3786\"], [0.5555555555555556, \"#d8576b\"], [0.6666666666666666, \"#ed7953\"], [0.7777777777777778, \"#fb9f3a\"], [0.8888888888888888, \"#fdca26\"], [1.0, \"#f0f921\"]], \"type\": \"contour\"}], \"contourcarpet\": [{\"colorbar\": {\"outlinewidth\": 0, \"ticks\": \"\"}, \"type\": \"contourcarpet\"}], \"heatmap\": [{\"colorbar\": {\"outlinewidth\": 0, \"ticks\": \"\"}, \"colorscale\": [[0.0, \"#0d0887\"], [0.1111111111111111, \"#46039f\"], [0.2222222222222222, \"#7201a8\"], [0.3333333333333333, \"#9c179e\"], [0.4444444444444444, \"#bd3786\"], [0.5555555555555556, \"#d8576b\"], [0.6666666666666666, \"#ed7953\"], [0.7777777777777778, \"#fb9f3a\"], [0.8888888888888888, \"#fdca26\"], [1.0, \"#f0f921\"]], \"type\": \"heatmap\"}], \"heatmapgl\": [{\"colorbar\": {\"outlinewidth\": 0, \"ticks\": \"\"}, \"colorscale\": [[0.0, \"#0d0887\"], [0.1111111111111111, \"#46039f\"], [0.2222222222222222, \"#7201a8\"], [0.3333333333333333, \"#9c179e\"], [0.4444444444444444, \"#bd3786\"], [0.5555555555555556, \"#d8576b\"], [0.6666666666666666, \"#ed7953\"], [0.7777777777777778, \"#fb9f3a\"], [0.8888888888888888, \"#fdca26\"], [1.0, \"#f0f921\"]], \"type\": \"heatmapgl\"}], \"histogram\": [{\"marker\": {\"colorbar\": {\"outlinewidth\": 0, \"ticks\": \"\"}}, \"type\": \"histogram\"}], \"histogram2d\": [{\"colorbar\": {\"outlinewidth\": 0, \"ticks\": \"\"}, \"colorscale\": [[0.0, \"#0d0887\"], [0.1111111111111111, \"#46039f\"], [0.2222222222222222, \"#7201a8\"], [0.3333333333333333, \"#9c179e\"], [0.4444444444444444, \"#bd3786\"], [0.5555555555555556, \"#d8576b\"], [0.6666666666666666, \"#ed7953\"], [0.7777777777777778, \"#fb9f3a\"], [0.8888888888888888, \"#fdca26\"], [1.0, \"#f0f921\"]], \"type\": \"histogram2d\"}], \"histogram2dcontour\": [{\"colorbar\": {\"outlinewidth\": 0, \"ticks\": \"\"}, \"colorscale\": [[0.0, \"#0d0887\"], [0.1111111111111111, \"#46039f\"], [0.2222222222222222, \"#7201a8\"], [0.3333333333333333, \"#9c179e\"], [0.4444444444444444, \"#bd3786\"], [0.5555555555555556, \"#d8576b\"], [0.6666666666666666, \"#ed7953\"], [0.7777777777777778, \"#fb9f3a\"], [0.8888888888888888, \"#fdca26\"], [1.0, \"#f0f921\"]], \"type\": \"histogram2dcontour\"}], \"mesh3d\": [{\"colorbar\": {\"outlinewidth\": 0, \"ticks\": \"\"}, \"type\": \"mesh3d\"}], \"parcoords\": [{\"line\": {\"colorbar\": {\"outlinewidth\": 0, \"ticks\": \"\"}}, \"type\": \"parcoords\"}], \"pie\": [{\"automargin\": true, \"type\": \"pie\"}], \"scatter\": [{\"marker\": {\"colorbar\": {\"outlinewidth\": 0, \"ticks\": \"\"}}, \"type\": \"scatter\"}], \"scatter3d\": [{\"line\": {\"colorbar\": {\"outlinewidth\": 0, \"ticks\": \"\"}}, \"marker\": {\"colorbar\": {\"outlinewidth\": 0, \"ticks\": \"\"}}, \"type\": \"scatter3d\"}], \"scattercarpet\": [{\"marker\": {\"colorbar\": {\"outlinewidth\": 0, \"ticks\": \"\"}}, \"type\": \"scattercarpet\"}], \"scattergeo\": [{\"marker\": {\"colorbar\": {\"outlinewidth\": 0, \"ticks\": \"\"}}, \"type\": \"scattergeo\"}], \"scattergl\": [{\"marker\": {\"colorbar\": {\"outlinewidth\": 0, \"ticks\": \"\"}}, \"type\": \"scattergl\"}], \"scattermapbox\": [{\"marker\": {\"colorbar\": {\"outlinewidth\": 0, \"ticks\": \"\"}}, \"type\": \"scattermapbox\"}], \"scatterpolar\": [{\"marker\": {\"colorbar\": {\"outlinewidth\": 0, \"ticks\": \"\"}}, \"type\": \"scatterpolar\"}], \"scatterpolargl\": [{\"marker\": {\"colorbar\": {\"outlinewidth\": 0, \"ticks\": \"\"}}, \"type\": \"scatterpolargl\"}], \"scatterternary\": [{\"marker\": {\"colorbar\": {\"outlinewidth\": 0, \"ticks\": \"\"}}, \"type\": \"scatterternary\"}], \"surface\": [{\"colorbar\": {\"outlinewidth\": 0, \"ticks\": \"\"}, \"colorscale\": [[0.0, \"#0d0887\"], [0.1111111111111111, \"#46039f\"], [0.2222222222222222, \"#7201a8\"], [0.3333333333333333, \"#9c179e\"], [0.4444444444444444, \"#bd3786\"], [0.5555555555555556, \"#d8576b\"], [0.6666666666666666, \"#ed7953\"], [0.7777777777777778, \"#fb9f3a\"], [0.8888888888888888, \"#fdca26\"], [1.0, \"#f0f921\"]], \"type\": \"surface\"}], \"table\": [{\"cells\": {\"fill\": {\"color\": \"#EBF0F8\"}, \"line\": {\"color\": \"white\"}}, \"header\": {\"fill\": {\"color\": \"#C8D4E3\"}, \"line\": {\"color\": \"white\"}}, \"type\": \"table\"}]}, \"layout\": {\"annotationdefaults\": {\"arrowcolor\": \"#2a3f5f\", \"arrowhead\": 0, \"arrowwidth\": 1}, \"coloraxis\": {\"colorbar\": {\"outlinewidth\": 0, \"ticks\": \"\"}}, \"colorscale\": {\"diverging\": [[0, \"#8e0152\"], [0.1, \"#c51b7d\"], [0.2, \"#de77ae\"], [0.3, \"#f1b6da\"], [0.4, \"#fde0ef\"], [0.5, \"#f7f7f7\"], [0.6, \"#e6f5d0\"], [0.7, \"#b8e186\"], [0.8, \"#7fbc41\"], [0.9, \"#4d9221\"], [1, \"#276419\"]], \"sequential\": [[0.0, \"#0d0887\"], [0.1111111111111111, \"#46039f\"], [0.2222222222222222, \"#7201a8\"], [0.3333333333333333, \"#9c179e\"], [0.4444444444444444, \"#bd3786\"], [0.5555555555555556, \"#d8576b\"], [0.6666666666666666, \"#ed7953\"], [0.7777777777777778, \"#fb9f3a\"], [0.8888888888888888, \"#fdca26\"], [1.0, \"#f0f921\"]], \"sequentialminus\": [[0.0, \"#0d0887\"], [0.1111111111111111, \"#46039f\"], [0.2222222222222222, \"#7201a8\"], [0.3333333333333333, \"#9c179e\"], [0.4444444444444444, \"#bd3786\"], [0.5555555555555556, \"#d8576b\"], [0.6666666666666666, \"#ed7953\"], [0.7777777777777778, \"#fb9f3a\"], [0.8888888888888888, \"#fdca26\"], [1.0, \"#f0f921\"]]}, \"colorway\": [\"#636efa\", \"#EF553B\", \"#00cc96\", \"#ab63fa\", \"#FFA15A\", \"#19d3f3\", \"#FF6692\", \"#B6E880\", \"#FF97FF\", \"#FECB52\"], \"font\": {\"color\": \"#2a3f5f\"}, \"geo\": {\"bgcolor\": \"white\", \"lakecolor\": \"white\", \"landcolor\": \"#E5ECF6\", \"showlakes\": true, \"showland\": true, \"subunitcolor\": \"white\"}, \"hoverlabel\": {\"align\": \"left\"}, \"hovermode\": \"closest\", \"mapbox\": {\"style\": \"light\"}, \"paper_bgcolor\": \"white\", \"plot_bgcolor\": \"#E5ECF6\", \"polar\": {\"angularaxis\": {\"gridcolor\": \"white\", \"linecolor\": \"white\", \"ticks\": \"\"}, \"bgcolor\": \"#E5ECF6\", \"radialaxis\": {\"gridcolor\": \"white\", \"linecolor\": \"white\", \"ticks\": \"\"}}, \"scene\": {\"xaxis\": {\"backgroundcolor\": \"#E5ECF6\", \"gridcolor\": \"white\", \"gridwidth\": 2, \"linecolor\": \"white\", \"showbackground\": true, \"ticks\": \"\", \"zerolinecolor\": \"white\"}, \"yaxis\": {\"backgroundcolor\": \"#E5ECF6\", \"gridcolor\": \"white\", \"gridwidth\": 2, \"linecolor\": \"white\", \"showbackground\": true, \"ticks\": \"\", \"zerolinecolor\": \"white\"}, \"zaxis\": {\"backgroundcolor\": \"#E5ECF6\", \"gridcolor\": \"white\", \"gridwidth\": 2, \"linecolor\": \"white\", \"showbackground\": true, \"ticks\": \"\", \"zerolinecolor\": \"white\"}}, \"shapedefaults\": {\"line\": {\"color\": \"#2a3f5f\"}}, \"ternary\": {\"aaxis\": {\"gridcolor\": \"white\", \"linecolor\": \"white\", \"ticks\": \"\"}, \"baxis\": {\"gridcolor\": \"white\", \"linecolor\": \"white\", \"ticks\": \"\"}, \"bgcolor\": \"#E5ECF6\", \"caxis\": {\"gridcolor\": \"white\", \"linecolor\": \"white\", \"ticks\": \"\"}}, \"title\": {\"x\": 0.05}, \"xaxis\": {\"automargin\": true, \"gridcolor\": \"white\", \"linecolor\": \"white\", \"ticks\": \"\", \"title\": {\"standoff\": 15}, \"zerolinecolor\": \"white\", \"zerolinewidth\": 2}, \"yaxis\": {\"automargin\": true, \"gridcolor\": \"white\", \"linecolor\": \"white\", \"ticks\": \"\", \"title\": {\"standoff\": 15}, \"zerolinecolor\": \"white\", \"zerolinewidth\": 2}}}, \"xaxis\": {\"anchor\": \"y\", \"domain\": [0.0, 1.0], \"title\": {\"text\": \"Original Principal Amount\"}}, \"xaxis2\": {\"anchor\": \"y2\", \"domain\": [0.0, 1.0], \"matches\": \"x\", \"showgrid\": true, \"showticklabels\": false}, \"yaxis\": {\"anchor\": \"x\", \"domain\": [0.0, 0.7326], \"title\": {\"text\": \"count\"}}, \"yaxis2\": {\"anchor\": \"x2\", \"domain\": [0.7426, 1.0], \"matches\": \"y2\", \"showgrid\": false, \"showline\": false, \"showticklabels\": false, \"ticks\": \"\"}},\n",
       "                        {\"responsive\": true}\n",
       "                    ).then(function(){\n",
       "                            \n",
       "var gd = document.getElementById('1396b3ab-a566-4689-a8cb-0c07c5c1c2b4');\n",
       "var x = new MutationObserver(function (mutations, observer) {{\n",
       "        var display = window.getComputedStyle(gd).display;\n",
       "        if (!display || display === 'none') {{\n",
       "            console.log([gd, 'removed!']);\n",
       "            Plotly.purge(gd);\n",
       "            observer.disconnect();\n",
       "        }}\n",
       "}});\n",
       "\n",
       "// Listen for the removal of the full notebook cells\n",
       "var notebookContainer = gd.closest('#notebook-container');\n",
       "if (notebookContainer) {{\n",
       "    x.observe(notebookContainer, {childList: true});\n",
       "}}\n",
       "\n",
       "// Listen for the clearing of the current output cell\n",
       "var outputEl = gd.closest('.output');\n",
       "if (outputEl) {{\n",
       "    x.observe(outputEl, {childList: true});\n",
       "}}\n",
       "\n",
       "                        })\n",
       "                };\n",
       "                });\n",
       "            </script>\n",
       "        </div>"
      ]
     },
     "metadata": {},
     "output_type": "display_data"
    }
   ],
   "source": [
    "fig = px.histogram(df_head, x=\"Original Principal Amount\", \n",
    "                   color=\"Region\", marginal=\"violin\", \n",
    "                   hover_data=df_head.columns,\n",
    "                   histnorm='probability density',\n",
    "                   opacity=0.8,\n",
    "                   log_y=False\n",
    "                         )\n",
    "fig.show()"
   ]
  },
  {
   "cell_type": "markdown",
   "metadata": {},
   "source": [
    "#### A Treemap as an Alternative Representation"
   ]
  },
  {
   "cell_type": "code",
   "execution_count": 576,
   "metadata": {},
   "outputs": [
    {
     "data": {
      "application/vnd.plotly.v1+json": {
       "config": {
        "plotlyServerURL": "https://plot.ly"
       },
       "data": [
        {
         "branchvalues": "total",
         "customdata": [
          [
           95412775.86200948
          ],
          [
           33597803.08596469
          ],
          [
           108085130.02853653
          ],
          [
           51301857.91049771
          ],
          [
           60297006.91584679
          ],
          [
           291751449.29291517
          ],
          [
           61680147.91834344
          ],
          [
           36453486.07762026
          ],
          [
           58169420.02348663
          ],
          [
           51207459.48277115
          ],
          [
           87921086.05009039
          ],
          [
           46774164.45469516
          ],
          [
           26093190.16071822
          ],
          [
           70960705.16988136
          ],
          [
           113161881.35151784
          ],
          [
           19239973.134410705
          ],
          [
           57319086.62959854
          ],
          [
           51891238.25635216
          ],
          [
           49348126.09312165
          ],
          [
           178054920.92324546
          ],
          [
           16313893.886885742
          ],
          [
           130587247.65549573
          ],
          [
           46601651.99480643
          ],
          [
           152547470.52809194
          ],
          [
           20898713.465300154
          ],
          [
           9323125.09937265
          ],
          [
           121790747.79556392
          ],
          [
           12567443.562657436
          ],
          [
           84992581.3212593
          ],
          [
           304774892.54553765
          ],
          [
           69744902.6122388
          ],
          [
           24404679.478864238
          ],
          [
           58273068.6308464
          ],
          [
           114501146.78226967
          ],
          [
           14822510.932329884
          ],
          [
           55368881.019419886
          ],
          [
           32272439.61937583
          ],
          [
           25013767.651115518
          ],
          [
           51038211.34187971
          ],
          [
           70368712.68142803
          ],
          [
           344279803.2839239
          ],
          [
           142514270.69825807
          ],
          [
           244588158.47119606
          ],
          [
           240499664.1801338
          ],
          [
           220691916.83853027
          ],
          [
           37538297.58368535
          ],
          [
           39146968.44349069
          ],
          [
           48706073.51507057
          ],
          [
           240499664.1801338
          ],
          [
           37662770.23596586
          ],
          [
           50928633.29795722
          ],
          [
           78042853.58501077
          ],
          [
           72970284.83789702
          ],
          [
           21509158.20114561
          ],
          [
           80394363.36232282
          ],
          [
           35273185.18016066
          ],
          [
           38434210.569972225
          ],
          [
           49912498.63839769
          ],
          [
           17918060.47069425
          ],
          [
           119992826.49836247
          ],
          [
           230543807.3922631
          ],
          [
           114984483.13272521
          ],
          [
           53905774.24153452
          ],
          [
           82280392.6753963
          ],
          [
           363915791.4064909
          ],
          [
           46277198.5390826
          ],
          [
           271621886.47806513
          ],
          [
           85101439.06399347
          ],
          [
           127464822.01547092
          ],
          [
           94711277.1878898
          ],
          [
           16478053.127360215
          ],
          [
           14307839.585907655
          ],
          [
           86036363.0878017
          ],
          [
           83928835.94372517
          ],
          [
           43481498.21288033
          ],
          [
           23218238.412723754
          ],
          [
           45995560.77445059
          ],
          [
           81769885.82124549
          ],
          [
           123742243.42572922
          ],
          [
           3607494.962702007
          ],
          [
           15066822.961557021
          ],
          [
           15041155.088307252
          ],
          [
           79934962.45750077
          ],
          [
           44083212.66349324
          ],
          [
           176864742.18867615
          ],
          [
           60124916.04503345
          ],
          [
           72391909.25611132
          ],
          [
           46376351.90940247
          ],
          [
           10176835.789653203
          ],
          [
           144855494.6803665
          ],
          [
           206094558.02789223
          ],
          [
           35684137.67272735
          ],
          [
           292177253.2719348
          ],
          [
           117371852.77537796
          ],
          [
           53988840.94972863
          ],
          [
           93760032.76200376
          ],
          [
           140091054.38492796
          ],
          [
           117578575.97448577
          ],
          [
           160401308.50757736
          ],
          [
           55951678.72842934
          ],
          [
           45969154.48787757
          ],
          [
           66338295.60432256
          ],
          [
           254168641.9622138
          ],
          [
           133120373.06007254
          ]
         ],
         "domain": {
          "x": [
           0,
           1
          ],
          "y": [
           0,
           1
          ]
         },
         "hovertemplate": "labels=%{label}<br>Total Principal Amount=%{value}<br>parent=%{parent}<br>id=%{id}<br>Original Principal Amount=%{color}<extra></extra>",
         "ids": [
          "IDA Regions/SOUTH ASIA/Afghanistan",
          "IDA Regions/EUROPE AND CENTRAL ASIA/Albania",
          "IDA Regions/AFRICA/Angola",
          "IDA Regions/EUROPE AND CENTRAL ASIA/Armenia",
          "IDA Regions/EUROPE AND CENTRAL ASIA/Azerbaijan",
          "IDA Regions/SOUTH ASIA/Bangladesh",
          "IDA Regions/AFRICA/Benin",
          "IDA Regions/SOUTH ASIA/Bhutan",
          "IDA Regions/LATIN AMERICA AND CARIBBEAN/Bolivia",
          "IDA Regions/EUROPE AND CENTRAL ASIA/Bosnia and Herzegovina",
          "IDA Regions/AFRICA/Burkina Faso",
          "IDA Regions/AFRICA/Burundi",
          "IDA Regions/AFRICA/Cabo Verde",
          "IDA Regions/EAST ASIA AND PACIFIC/Cambodia",
          "IDA Regions/AFRICA/Cameroon",
          "IDA Regions/LATIN AMERICA AND CARIBBEAN/Caribbean",
          "IDA Regions/AFRICA/Central Africa",
          "IDA Regions/AFRICA/Central African Republic",
          "IDA Regions/AFRICA/Chad",
          "IDA Regions/EAST ASIA AND PACIFIC/China",
          "IDA Regions/AFRICA/Comoros",
          "IDA Regions/AFRICA/Congo, Democratic Republic of",
          "IDA Regions/AFRICA/Congo, Republic of",
          "IDA Regions/AFRICA/Cote d'Ivoire",
          "IDA Regions/MIDDLE EAST AND NORTH AFRICA/Djibouti",
          "IDA Regions/LATIN AMERICA AND CARIBBEAN/Dominica",
          "IDA Regions/MIDDLE EAST AND NORTH AFRICA/Egypt, Arab Republic of",
          "IDA Regions/AFRICA/Equatorial Guinea",
          "IDA Regions/AFRICA/Eritrea",
          "IDA Regions/AFRICA/Ethiopia",
          "IDA Regions/EAST ASIA AND PACIFIC/Fiji",
          "IDA Regions/AFRICA/Gambia, The",
          "IDA Regions/EUROPE AND CENTRAL ASIA/Georgia",
          "IDA Regions/AFRICA/Ghana",
          "IDA Regions/LATIN AMERICA AND CARIBBEAN/Grenada",
          "IDA Regions/AFRICA/Guinea",
          "IDA Regions/AFRICA/Guinea-Bissau",
          "IDA Regions/LATIN AMERICA AND CARIBBEAN/Guyana",
          "IDA Regions/LATIN AMERICA AND CARIBBEAN/Haiti",
          "IDA Regions/LATIN AMERICA AND CARIBBEAN/Honduras",
          "IDA Regions/SOUTH ASIA/India",
          "IDA Regions/EAST ASIA AND PACIFIC/Indonesia",
          "IDA Regions/MIDDLE EAST AND NORTH AFRICA/Iraq",
          "IDA Regions/MIDDLE EAST AND NORTH AFRICA/Jordan",
          "IDA Regions/AFRICA/Kenya",
          "IDA Regions/EUROPE AND CENTRAL ASIA/Kosovo",
          "IDA Regions/EUROPE AND CENTRAL ASIA/Kyrgyz Republic",
          "IDA Regions/EAST ASIA AND PACIFIC/Lao People's Democratic Republic",
          "IDA Regions/MIDDLE EAST AND NORTH AFRICA/Lebanon",
          "IDA Regions/AFRICA/Lesotho",
          "IDA Regions/AFRICA/Liberia",
          "IDA Regions/AFRICA/Madagascar",
          "IDA Regions/AFRICA/Malawi",
          "IDA Regions/SOUTH ASIA/Maldives",
          "IDA Regions/AFRICA/Mali",
          "IDA Regions/AFRICA/Mauritania",
          "IDA Regions/EUROPE AND CENTRAL ASIA/Moldova",
          "IDA Regions/EAST ASIA AND PACIFIC/Mongolia",
          "IDA Regions/EUROPE AND CENTRAL ASIA/Montenegro",
          "IDA Regions/AFRICA/Mozambique",
          "IDA Regions/EAST ASIA AND PACIFIC/Myanmar",
          "IDA Regions/SOUTH ASIA/Nepal",
          "IDA Regions/LATIN AMERICA AND CARIBBEAN/Nicaragua",
          "IDA Regions/AFRICA/Niger",
          "IDA Regions/AFRICA/Nigeria",
          "IDA Regions/EUROPE AND CENTRAL ASIA/North Macedonia",
          "IDA Regions/SOUTH ASIA/Pakistan",
          "IDA Regions/EAST ASIA AND PACIFIC/Papua New Guinea",
          "IDA Regions/EAST ASIA AND PACIFIC/Philippines",
          "IDA Regions/AFRICA/Rwanda",
          "IDA Regions/EAST ASIA AND PACIFIC/Samoa",
          "IDA Regions/AFRICA/Sao Tome and Principe",
          "IDA Regions/AFRICA/Senegal",
          "IDA Regions/EUROPE AND CENTRAL ASIA/Serbia",
          "IDA Regions/AFRICA/Sierra Leone",
          "IDA Regions/EAST ASIA AND PACIFIC/Solomon Islands",
          "IDA Regions/AFRICA/Somalia",
          "IDA Regions/AFRICA/South Sudan",
          "IDA Regions/SOUTH ASIA/Sri Lanka",
          "IDA Regions/LATIN AMERICA AND CARIBBEAN/St. Kitts and Nevis",
          "IDA Regions/LATIN AMERICA AND CARIBBEAN/St. Lucia",
          "IDA Regions/LATIN AMERICA AND CARIBBEAN/St. Vincent and the Grenadines",
          "IDA Regions/AFRICA/Sudan",
          "IDA Regions/EUROPE AND CENTRAL ASIA/Tajikistan",
          "IDA Regions/AFRICA/Tanzania",
          "IDA Regions/EAST ASIA AND PACIFIC/Thailand",
          "IDA Regions/EAST ASIA AND PACIFIC/Timor-Leste",
          "IDA Regions/AFRICA/Togo",
          "IDA Regions/EAST ASIA AND PACIFIC/Tonga",
          "IDA Regions/AFRICA/Uganda",
          "IDA Regions/EUROPE AND CENTRAL ASIA/Uzbekistan",
          "IDA Regions/EAST ASIA AND PACIFIC/Vanuatu",
          "IDA Regions/EAST ASIA AND PACIFIC/Vietnam",
          "IDA Regions/AFRICA/Western Africa",
          "IDA Regions/MIDDLE EAST AND NORTH AFRICA/Yemen, Republic of",
          "IDA Regions/AFRICA/Zambia",
          "IDA Regions/AFRICA/Zimbabwe",
          "IDA Regions/AFRICA",
          "IDA Regions/EAST ASIA AND PACIFIC",
          "IDA Regions/EUROPE AND CENTRAL ASIA",
          "IDA Regions/LATIN AMERICA AND CARIBBEAN",
          "IDA Regions/MIDDLE EAST AND NORTH AFRICA",
          "IDA Regions/SOUTH ASIA",
          "IDA Regions"
         ],
         "labels": [
          "Afghanistan",
          "Albania",
          "Angola",
          "Armenia",
          "Azerbaijan",
          "Bangladesh",
          "Benin",
          "Bhutan",
          "Bolivia",
          "Bosnia and Herzegovina",
          "Burkina Faso",
          "Burundi",
          "Cabo Verde",
          "Cambodia",
          "Cameroon",
          "Caribbean",
          "Central Africa",
          "Central African Republic",
          "Chad",
          "China",
          "Comoros",
          "Congo, Democratic Republic of",
          "Congo, Republic of",
          "Cote d'Ivoire",
          "Djibouti",
          "Dominica",
          "Egypt, Arab Republic of",
          "Equatorial Guinea",
          "Eritrea",
          "Ethiopia",
          "Fiji",
          "Gambia, The",
          "Georgia",
          "Ghana",
          "Grenada",
          "Guinea",
          "Guinea-Bissau",
          "Guyana",
          "Haiti",
          "Honduras",
          "India",
          "Indonesia",
          "Iraq",
          "Jordan",
          "Kenya",
          "Kosovo",
          "Kyrgyz Republic",
          "Lao People's Democratic Republic",
          "Lebanon",
          "Lesotho",
          "Liberia",
          "Madagascar",
          "Malawi",
          "Maldives",
          "Mali",
          "Mauritania",
          "Moldova",
          "Mongolia",
          "Montenegro",
          "Mozambique",
          "Myanmar",
          "Nepal",
          "Nicaragua",
          "Niger",
          "Nigeria",
          "North Macedonia",
          "Pakistan",
          "Papua New Guinea",
          "Philippines",
          "Rwanda",
          "Samoa",
          "Sao Tome and Principe",
          "Senegal",
          "Serbia",
          "Sierra Leone",
          "Solomon Islands",
          "Somalia",
          "South Sudan",
          "Sri Lanka",
          "St. Kitts and Nevis",
          "St. Lucia",
          "St. Vincent and the Grenadines",
          "Sudan",
          "Tajikistan",
          "Tanzania",
          "Thailand",
          "Timor-Leste",
          "Togo",
          "Tonga",
          "Uganda",
          "Uzbekistan",
          "Vanuatu",
          "Vietnam",
          "Western Africa",
          "Yemen, Republic of",
          "Zambia",
          "Zimbabwe",
          "AFRICA",
          "EAST ASIA AND PACIFIC",
          "EUROPE AND CENTRAL ASIA",
          "LATIN AMERICA AND CARIBBEAN",
          "MIDDLE EAST AND NORTH AFRICA",
          "SOUTH ASIA",
          "IDA Regions"
         ],
         "marker": {
          "coloraxis": "coloraxis",
          "colors": [
           95412775.86200948,
           33597803.08596469,
           108085130.02853653,
           51301857.91049771,
           60297006.91584679,
           291751449.29291517,
           61680147.91834344,
           36453486.07762026,
           58169420.02348663,
           51207459.48277115,
           87921086.05009039,
           46774164.45469516,
           26093190.16071822,
           70960705.16988136,
           113161881.35151784,
           19239973.134410705,
           57319086.62959854,
           51891238.25635216,
           49348126.09312165,
           178054920.92324546,
           16313893.886885742,
           130587247.65549573,
           46601651.99480643,
           152547470.52809194,
           20898713.465300154,
           9323125.09937265,
           121790747.79556392,
           12567443.562657436,
           84992581.3212593,
           304774892.54553765,
           69744902.6122388,
           24404679.478864238,
           58273068.6308464,
           114501146.78226967,
           14822510.932329884,
           55368881.019419886,
           32272439.61937583,
           25013767.651115518,
           51038211.34187971,
           70368712.68142803,
           344279803.2839239,
           142514270.69825807,
           244588158.47119606,
           240499664.1801338,
           220691916.83853027,
           37538297.58368535,
           39146968.44349069,
           48706073.51507057,
           240499664.1801338,
           37662770.23596586,
           50928633.29795722,
           78042853.58501077,
           72970284.83789702,
           21509158.20114561,
           80394363.36232282,
           35273185.18016066,
           38434210.569972225,
           49912498.63839769,
           17918060.47069425,
           119992826.49836247,
           230543807.3922631,
           114984483.13272521,
           53905774.24153452,
           82280392.6753963,
           363915791.4064909,
           46277198.5390826,
           271621886.47806513,
           85101439.06399347,
           127464822.01547092,
           94711277.1878898,
           16478053.127360215,
           14307839.585907655,
           86036363.0878017,
           83928835.94372517,
           43481498.21288033,
           23218238.412723754,
           45995560.77445059,
           81769885.82124549,
           123742243.42572922,
           3607494.962702007,
           15066822.961557021,
           15041155.088307252,
           79934962.45750077,
           44083212.66349324,
           176864742.18867615,
           60124916.04503345,
           72391909.25611132,
           46376351.90940247,
           10176835.789653203,
           144855494.6803665,
           206094558.02789223,
           35684137.67272735,
           292177253.2719348,
           117371852.77537796,
           53988840.94972863,
           93760032.76200376,
           140091054.38492796,
           117578575.97448577,
           160401308.50757736,
           55951678.72842934,
           45969154.48787757,
           66338295.60432256,
           254168641.9622138,
           133120373.06007254
          ]
         },
         "name": "",
         "parents": [
          "IDA Regions/SOUTH ASIA",
          "IDA Regions/EUROPE AND CENTRAL ASIA",
          "IDA Regions/AFRICA",
          "IDA Regions/EUROPE AND CENTRAL ASIA",
          "IDA Regions/EUROPE AND CENTRAL ASIA",
          "IDA Regions/SOUTH ASIA",
          "IDA Regions/AFRICA",
          "IDA Regions/SOUTH ASIA",
          "IDA Regions/LATIN AMERICA AND CARIBBEAN",
          "IDA Regions/EUROPE AND CENTRAL ASIA",
          "IDA Regions/AFRICA",
          "IDA Regions/AFRICA",
          "IDA Regions/AFRICA",
          "IDA Regions/EAST ASIA AND PACIFIC",
          "IDA Regions/AFRICA",
          "IDA Regions/LATIN AMERICA AND CARIBBEAN",
          "IDA Regions/AFRICA",
          "IDA Regions/AFRICA",
          "IDA Regions/AFRICA",
          "IDA Regions/EAST ASIA AND PACIFIC",
          "IDA Regions/AFRICA",
          "IDA Regions/AFRICA",
          "IDA Regions/AFRICA",
          "IDA Regions/AFRICA",
          "IDA Regions/MIDDLE EAST AND NORTH AFRICA",
          "IDA Regions/LATIN AMERICA AND CARIBBEAN",
          "IDA Regions/MIDDLE EAST AND NORTH AFRICA",
          "IDA Regions/AFRICA",
          "IDA Regions/AFRICA",
          "IDA Regions/AFRICA",
          "IDA Regions/EAST ASIA AND PACIFIC",
          "IDA Regions/AFRICA",
          "IDA Regions/EUROPE AND CENTRAL ASIA",
          "IDA Regions/AFRICA",
          "IDA Regions/LATIN AMERICA AND CARIBBEAN",
          "IDA Regions/AFRICA",
          "IDA Regions/AFRICA",
          "IDA Regions/LATIN AMERICA AND CARIBBEAN",
          "IDA Regions/LATIN AMERICA AND CARIBBEAN",
          "IDA Regions/LATIN AMERICA AND CARIBBEAN",
          "IDA Regions/SOUTH ASIA",
          "IDA Regions/EAST ASIA AND PACIFIC",
          "IDA Regions/MIDDLE EAST AND NORTH AFRICA",
          "IDA Regions/MIDDLE EAST AND NORTH AFRICA",
          "IDA Regions/AFRICA",
          "IDA Regions/EUROPE AND CENTRAL ASIA",
          "IDA Regions/EUROPE AND CENTRAL ASIA",
          "IDA Regions/EAST ASIA AND PACIFIC",
          "IDA Regions/MIDDLE EAST AND NORTH AFRICA",
          "IDA Regions/AFRICA",
          "IDA Regions/AFRICA",
          "IDA Regions/AFRICA",
          "IDA Regions/AFRICA",
          "IDA Regions/SOUTH ASIA",
          "IDA Regions/AFRICA",
          "IDA Regions/AFRICA",
          "IDA Regions/EUROPE AND CENTRAL ASIA",
          "IDA Regions/EAST ASIA AND PACIFIC",
          "IDA Regions/EUROPE AND CENTRAL ASIA",
          "IDA Regions/AFRICA",
          "IDA Regions/EAST ASIA AND PACIFIC",
          "IDA Regions/SOUTH ASIA",
          "IDA Regions/LATIN AMERICA AND CARIBBEAN",
          "IDA Regions/AFRICA",
          "IDA Regions/AFRICA",
          "IDA Regions/EUROPE AND CENTRAL ASIA",
          "IDA Regions/SOUTH ASIA",
          "IDA Regions/EAST ASIA AND PACIFIC",
          "IDA Regions/EAST ASIA AND PACIFIC",
          "IDA Regions/AFRICA",
          "IDA Regions/EAST ASIA AND PACIFIC",
          "IDA Regions/AFRICA",
          "IDA Regions/AFRICA",
          "IDA Regions/EUROPE AND CENTRAL ASIA",
          "IDA Regions/AFRICA",
          "IDA Regions/EAST ASIA AND PACIFIC",
          "IDA Regions/AFRICA",
          "IDA Regions/AFRICA",
          "IDA Regions/SOUTH ASIA",
          "IDA Regions/LATIN AMERICA AND CARIBBEAN",
          "IDA Regions/LATIN AMERICA AND CARIBBEAN",
          "IDA Regions/LATIN AMERICA AND CARIBBEAN",
          "IDA Regions/AFRICA",
          "IDA Regions/EUROPE AND CENTRAL ASIA",
          "IDA Regions/AFRICA",
          "IDA Regions/EAST ASIA AND PACIFIC",
          "IDA Regions/EAST ASIA AND PACIFIC",
          "IDA Regions/AFRICA",
          "IDA Regions/EAST ASIA AND PACIFIC",
          "IDA Regions/AFRICA",
          "IDA Regions/EUROPE AND CENTRAL ASIA",
          "IDA Regions/EAST ASIA AND PACIFIC",
          "IDA Regions/EAST ASIA AND PACIFIC",
          "IDA Regions/AFRICA",
          "IDA Regions/MIDDLE EAST AND NORTH AFRICA",
          "IDA Regions/AFRICA",
          "IDA Regions/AFRICA",
          "IDA Regions",
          "IDA Regions",
          "IDA Regions",
          "IDA Regions",
          "IDA Regions",
          "IDA Regions",
          ""
         ],
         "type": "treemap",
         "values": [
          8258787944646.898,
          51054325475999.07,
          15766776985234.984,
          49552727667881.445,
          33785950682646.39,
          170431351221350.25,
          67571901365292.945,
          18019173697411.41,
          76581488213998.69,
          53306722188175.51,
          71325895885587,
          32284352874528.773,
          35287548490764.01,
          35287548490764.01,
          47300330955705.01,
          3003195616235.2363,
          2252396712176.4272,
          21022369313646.645,
          37539945202940.445,
          99856254239821.88,
          15766776985234.984,
          48801928763822.63,
          22523967121764.26,
          61565510132822.445,
          25527162737999.496,
          12763581368999.75,
          21022369313646.645,
          6757190136529.281,
          9760385752764.516,
          99105455335763.06,
          1501597808117.6182,
          21773168217705.453,
          47300330955705.01,
          138897797250880.12,
          20271570409587.836,
          58562314516587.195,
          30031956162352.348,
          27028760546117.113,
          17268374793352.602,
          58562314516587.195,
          228993665737937.62,
          24776363833940.688,
          3753994520294.0454,
          750798904058.8091,
          111118237800704.06,
          9760385752764.516,
          49552727667881.445,
          44297135339469.76,
          750798904058.8091,
          34536749586705.2,
          25527162737999.496,
          96853058623586.62,
          75079890405881.06,
          12763581368999.75,
          81837080542410.38,
          51054325475999.07,
          44297135339469.76,
          33785950682646.39,
          8258787944646.898,
          81086281638351.56,
          21773168217705.453,
          78833884926175.12,
          55559118900351.945,
          60063912324704.82,
          84840276158645.62,
          14265179177117.367,
          144153389579291.8,
          14265179177117.367,
          3003195616235.2363,
          68322700269351.76,
          16517575889293.793,
          9760385752764.516,
          114121433416939.31,
          14265179177117.367,
          39792341915116.88,
          9009586848705.707,
          15015978081176.176,
          3753994520294.0454,
          79584683830233.94,
          750798904058.8091,
          19520771505529.027,
          16517575889293.793,
          20271570409587.836,
          24025564929881.88,
          141150193963056.56,
          750798904058.8091,
          1501597808117.6182,
          36038347394822.82,
          9760385752764.516,
          102108650951998.31,
          23274766025823.07,
          7507989040588.09,
          125383416977821.5,
          4504793424352.8545,
          75830689309939.88,
          77332287118057.5,
          8258787944646.898,
          2186326408619126.8,
          448977744627169.7,
          422699782985111.25,
          307827550664112.94,
          127635813689997.94,
          741038518306032.9,
          4234505818892057
         ]
        }
       ],
       "layout": {
        "coloraxis": {
         "colorbar": {
          "title": {
           "text": "Original Principal Amount"
          }
         },
         "colorscale": [
          [
           0,
           "#0d0887"
          ],
          [
           0.1111111111111111,
           "#46039f"
          ],
          [
           0.2222222222222222,
           "#7201a8"
          ],
          [
           0.3333333333333333,
           "#9c179e"
          ],
          [
           0.4444444444444444,
           "#bd3786"
          ],
          [
           0.5555555555555556,
           "#d8576b"
          ],
          [
           0.6666666666666666,
           "#ed7953"
          ],
          [
           0.7777777777777778,
           "#fb9f3a"
          ],
          [
           0.8888888888888888,
           "#fdca26"
          ],
          [
           1,
           "#f0f921"
          ]
         ]
        },
        "legend": {
         "tracegroupgap": 0
        },
        "margin": {
         "t": 60
        },
        "template": {
         "data": {
          "bar": [
           {
            "error_x": {
             "color": "#2a3f5f"
            },
            "error_y": {
             "color": "#2a3f5f"
            },
            "marker": {
             "line": {
              "color": "#E5ECF6",
              "width": 0.5
             }
            },
            "type": "bar"
           }
          ],
          "barpolar": [
           {
            "marker": {
             "line": {
              "color": "#E5ECF6",
              "width": 0.5
             }
            },
            "type": "barpolar"
           }
          ],
          "carpet": [
           {
            "aaxis": {
             "endlinecolor": "#2a3f5f",
             "gridcolor": "white",
             "linecolor": "white",
             "minorgridcolor": "white",
             "startlinecolor": "#2a3f5f"
            },
            "baxis": {
             "endlinecolor": "#2a3f5f",
             "gridcolor": "white",
             "linecolor": "white",
             "minorgridcolor": "white",
             "startlinecolor": "#2a3f5f"
            },
            "type": "carpet"
           }
          ],
          "choropleth": [
           {
            "colorbar": {
             "outlinewidth": 0,
             "ticks": ""
            },
            "type": "choropleth"
           }
          ],
          "contour": [
           {
            "colorbar": {
             "outlinewidth": 0,
             "ticks": ""
            },
            "colorscale": [
             [
              0,
              "#0d0887"
             ],
             [
              0.1111111111111111,
              "#46039f"
             ],
             [
              0.2222222222222222,
              "#7201a8"
             ],
             [
              0.3333333333333333,
              "#9c179e"
             ],
             [
              0.4444444444444444,
              "#bd3786"
             ],
             [
              0.5555555555555556,
              "#d8576b"
             ],
             [
              0.6666666666666666,
              "#ed7953"
             ],
             [
              0.7777777777777778,
              "#fb9f3a"
             ],
             [
              0.8888888888888888,
              "#fdca26"
             ],
             [
              1,
              "#f0f921"
             ]
            ],
            "type": "contour"
           }
          ],
          "contourcarpet": [
           {
            "colorbar": {
             "outlinewidth": 0,
             "ticks": ""
            },
            "type": "contourcarpet"
           }
          ],
          "heatmap": [
           {
            "colorbar": {
             "outlinewidth": 0,
             "ticks": ""
            },
            "colorscale": [
             [
              0,
              "#0d0887"
             ],
             [
              0.1111111111111111,
              "#46039f"
             ],
             [
              0.2222222222222222,
              "#7201a8"
             ],
             [
              0.3333333333333333,
              "#9c179e"
             ],
             [
              0.4444444444444444,
              "#bd3786"
             ],
             [
              0.5555555555555556,
              "#d8576b"
             ],
             [
              0.6666666666666666,
              "#ed7953"
             ],
             [
              0.7777777777777778,
              "#fb9f3a"
             ],
             [
              0.8888888888888888,
              "#fdca26"
             ],
             [
              1,
              "#f0f921"
             ]
            ],
            "type": "heatmap"
           }
          ],
          "heatmapgl": [
           {
            "colorbar": {
             "outlinewidth": 0,
             "ticks": ""
            },
            "colorscale": [
             [
              0,
              "#0d0887"
             ],
             [
              0.1111111111111111,
              "#46039f"
             ],
             [
              0.2222222222222222,
              "#7201a8"
             ],
             [
              0.3333333333333333,
              "#9c179e"
             ],
             [
              0.4444444444444444,
              "#bd3786"
             ],
             [
              0.5555555555555556,
              "#d8576b"
             ],
             [
              0.6666666666666666,
              "#ed7953"
             ],
             [
              0.7777777777777778,
              "#fb9f3a"
             ],
             [
              0.8888888888888888,
              "#fdca26"
             ],
             [
              1,
              "#f0f921"
             ]
            ],
            "type": "heatmapgl"
           }
          ],
          "histogram": [
           {
            "marker": {
             "colorbar": {
              "outlinewidth": 0,
              "ticks": ""
             }
            },
            "type": "histogram"
           }
          ],
          "histogram2d": [
           {
            "colorbar": {
             "outlinewidth": 0,
             "ticks": ""
            },
            "colorscale": [
             [
              0,
              "#0d0887"
             ],
             [
              0.1111111111111111,
              "#46039f"
             ],
             [
              0.2222222222222222,
              "#7201a8"
             ],
             [
              0.3333333333333333,
              "#9c179e"
             ],
             [
              0.4444444444444444,
              "#bd3786"
             ],
             [
              0.5555555555555556,
              "#d8576b"
             ],
             [
              0.6666666666666666,
              "#ed7953"
             ],
             [
              0.7777777777777778,
              "#fb9f3a"
             ],
             [
              0.8888888888888888,
              "#fdca26"
             ],
             [
              1,
              "#f0f921"
             ]
            ],
            "type": "histogram2d"
           }
          ],
          "histogram2dcontour": [
           {
            "colorbar": {
             "outlinewidth": 0,
             "ticks": ""
            },
            "colorscale": [
             [
              0,
              "#0d0887"
             ],
             [
              0.1111111111111111,
              "#46039f"
             ],
             [
              0.2222222222222222,
              "#7201a8"
             ],
             [
              0.3333333333333333,
              "#9c179e"
             ],
             [
              0.4444444444444444,
              "#bd3786"
             ],
             [
              0.5555555555555556,
              "#d8576b"
             ],
             [
              0.6666666666666666,
              "#ed7953"
             ],
             [
              0.7777777777777778,
              "#fb9f3a"
             ],
             [
              0.8888888888888888,
              "#fdca26"
             ],
             [
              1,
              "#f0f921"
             ]
            ],
            "type": "histogram2dcontour"
           }
          ],
          "mesh3d": [
           {
            "colorbar": {
             "outlinewidth": 0,
             "ticks": ""
            },
            "type": "mesh3d"
           }
          ],
          "parcoords": [
           {
            "line": {
             "colorbar": {
              "outlinewidth": 0,
              "ticks": ""
             }
            },
            "type": "parcoords"
           }
          ],
          "pie": [
           {
            "automargin": true,
            "type": "pie"
           }
          ],
          "scatter": [
           {
            "marker": {
             "colorbar": {
              "outlinewidth": 0,
              "ticks": ""
             }
            },
            "type": "scatter"
           }
          ],
          "scatter3d": [
           {
            "line": {
             "colorbar": {
              "outlinewidth": 0,
              "ticks": ""
             }
            },
            "marker": {
             "colorbar": {
              "outlinewidth": 0,
              "ticks": ""
             }
            },
            "type": "scatter3d"
           }
          ],
          "scattercarpet": [
           {
            "marker": {
             "colorbar": {
              "outlinewidth": 0,
              "ticks": ""
             }
            },
            "type": "scattercarpet"
           }
          ],
          "scattergeo": [
           {
            "marker": {
             "colorbar": {
              "outlinewidth": 0,
              "ticks": ""
             }
            },
            "type": "scattergeo"
           }
          ],
          "scattergl": [
           {
            "marker": {
             "colorbar": {
              "outlinewidth": 0,
              "ticks": ""
             }
            },
            "type": "scattergl"
           }
          ],
          "scattermapbox": [
           {
            "marker": {
             "colorbar": {
              "outlinewidth": 0,
              "ticks": ""
             }
            },
            "type": "scattermapbox"
           }
          ],
          "scatterpolar": [
           {
            "marker": {
             "colorbar": {
              "outlinewidth": 0,
              "ticks": ""
             }
            },
            "type": "scatterpolar"
           }
          ],
          "scatterpolargl": [
           {
            "marker": {
             "colorbar": {
              "outlinewidth": 0,
              "ticks": ""
             }
            },
            "type": "scatterpolargl"
           }
          ],
          "scatterternary": [
           {
            "marker": {
             "colorbar": {
              "outlinewidth": 0,
              "ticks": ""
             }
            },
            "type": "scatterternary"
           }
          ],
          "surface": [
           {
            "colorbar": {
             "outlinewidth": 0,
             "ticks": ""
            },
            "colorscale": [
             [
              0,
              "#0d0887"
             ],
             [
              0.1111111111111111,
              "#46039f"
             ],
             [
              0.2222222222222222,
              "#7201a8"
             ],
             [
              0.3333333333333333,
              "#9c179e"
             ],
             [
              0.4444444444444444,
              "#bd3786"
             ],
             [
              0.5555555555555556,
              "#d8576b"
             ],
             [
              0.6666666666666666,
              "#ed7953"
             ],
             [
              0.7777777777777778,
              "#fb9f3a"
             ],
             [
              0.8888888888888888,
              "#fdca26"
             ],
             [
              1,
              "#f0f921"
             ]
            ],
            "type": "surface"
           }
          ],
          "table": [
           {
            "cells": {
             "fill": {
              "color": "#EBF0F8"
             },
             "line": {
              "color": "white"
             }
            },
            "header": {
             "fill": {
              "color": "#C8D4E3"
             },
             "line": {
              "color": "white"
             }
            },
            "type": "table"
           }
          ]
         },
         "layout": {
          "annotationdefaults": {
           "arrowcolor": "#2a3f5f",
           "arrowhead": 0,
           "arrowwidth": 1
          },
          "coloraxis": {
           "colorbar": {
            "outlinewidth": 0,
            "ticks": ""
           }
          },
          "colorscale": {
           "diverging": [
            [
             0,
             "#8e0152"
            ],
            [
             0.1,
             "#c51b7d"
            ],
            [
             0.2,
             "#de77ae"
            ],
            [
             0.3,
             "#f1b6da"
            ],
            [
             0.4,
             "#fde0ef"
            ],
            [
             0.5,
             "#f7f7f7"
            ],
            [
             0.6,
             "#e6f5d0"
            ],
            [
             0.7,
             "#b8e186"
            ],
            [
             0.8,
             "#7fbc41"
            ],
            [
             0.9,
             "#4d9221"
            ],
            [
             1,
             "#276419"
            ]
           ],
           "sequential": [
            [
             0,
             "#0d0887"
            ],
            [
             0.1111111111111111,
             "#46039f"
            ],
            [
             0.2222222222222222,
             "#7201a8"
            ],
            [
             0.3333333333333333,
             "#9c179e"
            ],
            [
             0.4444444444444444,
             "#bd3786"
            ],
            [
             0.5555555555555556,
             "#d8576b"
            ],
            [
             0.6666666666666666,
             "#ed7953"
            ],
            [
             0.7777777777777778,
             "#fb9f3a"
            ],
            [
             0.8888888888888888,
             "#fdca26"
            ],
            [
             1,
             "#f0f921"
            ]
           ],
           "sequentialminus": [
            [
             0,
             "#0d0887"
            ],
            [
             0.1111111111111111,
             "#46039f"
            ],
            [
             0.2222222222222222,
             "#7201a8"
            ],
            [
             0.3333333333333333,
             "#9c179e"
            ],
            [
             0.4444444444444444,
             "#bd3786"
            ],
            [
             0.5555555555555556,
             "#d8576b"
            ],
            [
             0.6666666666666666,
             "#ed7953"
            ],
            [
             0.7777777777777778,
             "#fb9f3a"
            ],
            [
             0.8888888888888888,
             "#fdca26"
            ],
            [
             1,
             "#f0f921"
            ]
           ]
          },
          "colorway": [
           "#636efa",
           "#EF553B",
           "#00cc96",
           "#ab63fa",
           "#FFA15A",
           "#19d3f3",
           "#FF6692",
           "#B6E880",
           "#FF97FF",
           "#FECB52"
          ],
          "font": {
           "color": "#2a3f5f"
          },
          "geo": {
           "bgcolor": "white",
           "lakecolor": "white",
           "landcolor": "#E5ECF6",
           "showlakes": true,
           "showland": true,
           "subunitcolor": "white"
          },
          "hoverlabel": {
           "align": "left"
          },
          "hovermode": "closest",
          "mapbox": {
           "style": "light"
          },
          "paper_bgcolor": "white",
          "plot_bgcolor": "#E5ECF6",
          "polar": {
           "angularaxis": {
            "gridcolor": "white",
            "linecolor": "white",
            "ticks": ""
           },
           "bgcolor": "#E5ECF6",
           "radialaxis": {
            "gridcolor": "white",
            "linecolor": "white",
            "ticks": ""
           }
          },
          "scene": {
           "xaxis": {
            "backgroundcolor": "#E5ECF6",
            "gridcolor": "white",
            "gridwidth": 2,
            "linecolor": "white",
            "showbackground": true,
            "ticks": "",
            "zerolinecolor": "white"
           },
           "yaxis": {
            "backgroundcolor": "#E5ECF6",
            "gridcolor": "white",
            "gridwidth": 2,
            "linecolor": "white",
            "showbackground": true,
            "ticks": "",
            "zerolinecolor": "white"
           },
           "zaxis": {
            "backgroundcolor": "#E5ECF6",
            "gridcolor": "white",
            "gridwidth": 2,
            "linecolor": "white",
            "showbackground": true,
            "ticks": "",
            "zerolinecolor": "white"
           }
          },
          "shapedefaults": {
           "line": {
            "color": "#2a3f5f"
           }
          },
          "ternary": {
           "aaxis": {
            "gridcolor": "white",
            "linecolor": "white",
            "ticks": ""
           },
           "baxis": {
            "gridcolor": "white",
            "linecolor": "white",
            "ticks": ""
           },
           "bgcolor": "#E5ECF6",
           "caxis": {
            "gridcolor": "white",
            "linecolor": "white",
            "ticks": ""
           }
          },
          "title": {
           "x": 0.05
          },
          "xaxis": {
           "automargin": true,
           "gridcolor": "white",
           "linecolor": "white",
           "ticks": "",
           "title": {
            "standoff": 15
           },
           "zerolinecolor": "white",
           "zerolinewidth": 2
          },
          "yaxis": {
           "automargin": true,
           "gridcolor": "white",
           "linecolor": "white",
           "ticks": "",
           "title": {
            "standoff": 15
           },
           "zerolinecolor": "white",
           "zerolinewidth": 2
          }
         }
        }
       }
      },
      "text/html": [
       "<div>\n",
       "        \n",
       "        \n",
       "            <div id=\"67a7e6af-52bf-46e2-a57f-ebe9f80aabac\" class=\"plotly-graph-div\" style=\"height:525px; width:100%;\"></div>\n",
       "            <script type=\"text/javascript\">\n",
       "                require([\"plotly\"], function(Plotly) {\n",
       "                    window.PLOTLYENV=window.PLOTLYENV || {};\n",
       "                    \n",
       "                if (document.getElementById(\"67a7e6af-52bf-46e2-a57f-ebe9f80aabac\")) {\n",
       "                    Plotly.newPlot(\n",
       "                        '67a7e6af-52bf-46e2-a57f-ebe9f80aabac',\n",
       "                        [{\"branchvalues\": \"total\", \"customdata\": [[95412775.86200948], [33597803.08596469], [108085130.02853653], [51301857.91049771], [60297006.91584679], [291751449.29291517], [61680147.91834344], [36453486.07762026], [58169420.02348663], [51207459.48277115], [87921086.05009039], [46774164.45469516], [26093190.16071822], [70960705.16988136], [113161881.35151784], [19239973.134410705], [57319086.62959854], [51891238.25635216], [49348126.09312165], [178054920.92324546], [16313893.886885742], [130587247.65549573], [46601651.99480643], [152547470.52809194], [20898713.465300154], [9323125.09937265], [121790747.79556392], [12567443.562657436], [84992581.3212593], [304774892.54553765], [69744902.6122388], [24404679.478864238], [58273068.6308464], [114501146.78226967], [14822510.932329884], [55368881.019419886], [32272439.61937583], [25013767.651115518], [51038211.34187971], [70368712.68142803], [344279803.2839239], [142514270.69825807], [244588158.47119606], [240499664.1801338], [220691916.83853027], [37538297.58368535], [39146968.44349069], [48706073.51507057], [240499664.1801338], [37662770.23596586], [50928633.29795722], [78042853.58501077], [72970284.83789702], [21509158.20114561], [80394363.36232282], [35273185.18016066], [38434210.569972225], [49912498.63839769], [17918060.47069425], [119992826.49836247], [230543807.3922631], [114984483.13272521], [53905774.24153452], [82280392.6753963], [363915791.4064909], [46277198.5390826], [271621886.47806513], [85101439.06399347], [127464822.01547092], [94711277.1878898], [16478053.127360215], [14307839.585907655], [86036363.0878017], [83928835.94372517], [43481498.21288033], [23218238.412723754], [45995560.77445059], [81769885.82124549], [123742243.42572922], [3607494.962702007], [15066822.961557021], [15041155.088307252], [79934962.45750077], [44083212.66349324], [176864742.18867615], [60124916.04503345], [72391909.25611132], [46376351.90940247], [10176835.789653203], [144855494.6803665], [206094558.02789223], [35684137.67272735], [292177253.2719348], [117371852.77537796], [53988840.94972863], [93760032.76200376], [140091054.38492796], [117578575.97448577], [160401308.50757736], [55951678.72842934], [45969154.48787757], [66338295.60432256], [254168641.9622138], [133120373.06007254]], \"domain\": {\"x\": [0.0, 1.0], \"y\": [0.0, 1.0]}, \"hovertemplate\": \"labels=%{label}<br>Total Principal Amount=%{value}<br>parent=%{parent}<br>id=%{id}<br>Original Principal Amount=%{color}<extra></extra>\", \"ids\": [\"IDA Regions/SOUTH ASIA/Afghanistan\", \"IDA Regions/EUROPE AND CENTRAL ASIA/Albania\", \"IDA Regions/AFRICA/Angola\", \"IDA Regions/EUROPE AND CENTRAL ASIA/Armenia\", \"IDA Regions/EUROPE AND CENTRAL ASIA/Azerbaijan\", \"IDA Regions/SOUTH ASIA/Bangladesh\", \"IDA Regions/AFRICA/Benin\", \"IDA Regions/SOUTH ASIA/Bhutan\", \"IDA Regions/LATIN AMERICA AND CARIBBEAN/Bolivia\", \"IDA Regions/EUROPE AND CENTRAL ASIA/Bosnia and Herzegovina\", \"IDA Regions/AFRICA/Burkina Faso\", \"IDA Regions/AFRICA/Burundi\", \"IDA Regions/AFRICA/Cabo Verde\", \"IDA Regions/EAST ASIA AND PACIFIC/Cambodia\", \"IDA Regions/AFRICA/Cameroon\", \"IDA Regions/LATIN AMERICA AND CARIBBEAN/Caribbean\", \"IDA Regions/AFRICA/Central Africa\", \"IDA Regions/AFRICA/Central African Republic\", \"IDA Regions/AFRICA/Chad\", \"IDA Regions/EAST ASIA AND PACIFIC/China\", \"IDA Regions/AFRICA/Comoros\", \"IDA Regions/AFRICA/Congo, Democratic Republic of\", \"IDA Regions/AFRICA/Congo, Republic of\", \"IDA Regions/AFRICA/Cote d'Ivoire\", \"IDA Regions/MIDDLE EAST AND NORTH AFRICA/Djibouti\", \"IDA Regions/LATIN AMERICA AND CARIBBEAN/Dominica\", \"IDA Regions/MIDDLE EAST AND NORTH AFRICA/Egypt, Arab Republic of\", \"IDA Regions/AFRICA/Equatorial Guinea\", \"IDA Regions/AFRICA/Eritrea\", \"IDA Regions/AFRICA/Ethiopia\", \"IDA Regions/EAST ASIA AND PACIFIC/Fiji\", \"IDA Regions/AFRICA/Gambia, The\", \"IDA Regions/EUROPE AND CENTRAL ASIA/Georgia\", \"IDA Regions/AFRICA/Ghana\", \"IDA Regions/LATIN AMERICA AND CARIBBEAN/Grenada\", \"IDA Regions/AFRICA/Guinea\", \"IDA Regions/AFRICA/Guinea-Bissau\", \"IDA Regions/LATIN AMERICA AND CARIBBEAN/Guyana\", \"IDA Regions/LATIN AMERICA AND CARIBBEAN/Haiti\", \"IDA Regions/LATIN AMERICA AND CARIBBEAN/Honduras\", \"IDA Regions/SOUTH ASIA/India\", \"IDA Regions/EAST ASIA AND PACIFIC/Indonesia\", \"IDA Regions/MIDDLE EAST AND NORTH AFRICA/Iraq\", \"IDA Regions/MIDDLE EAST AND NORTH AFRICA/Jordan\", \"IDA Regions/AFRICA/Kenya\", \"IDA Regions/EUROPE AND CENTRAL ASIA/Kosovo\", \"IDA Regions/EUROPE AND CENTRAL ASIA/Kyrgyz Republic\", \"IDA Regions/EAST ASIA AND PACIFIC/Lao People's Democratic Republic\", \"IDA Regions/MIDDLE EAST AND NORTH AFRICA/Lebanon\", \"IDA Regions/AFRICA/Lesotho\", \"IDA Regions/AFRICA/Liberia\", \"IDA Regions/AFRICA/Madagascar\", \"IDA Regions/AFRICA/Malawi\", \"IDA Regions/SOUTH ASIA/Maldives\", \"IDA Regions/AFRICA/Mali\", \"IDA Regions/AFRICA/Mauritania\", \"IDA Regions/EUROPE AND CENTRAL ASIA/Moldova\", \"IDA Regions/EAST ASIA AND PACIFIC/Mongolia\", \"IDA Regions/EUROPE AND CENTRAL ASIA/Montenegro\", \"IDA Regions/AFRICA/Mozambique\", \"IDA Regions/EAST ASIA AND PACIFIC/Myanmar\", \"IDA Regions/SOUTH ASIA/Nepal\", \"IDA Regions/LATIN AMERICA AND CARIBBEAN/Nicaragua\", \"IDA Regions/AFRICA/Niger\", \"IDA Regions/AFRICA/Nigeria\", \"IDA Regions/EUROPE AND CENTRAL ASIA/North Macedonia\", \"IDA Regions/SOUTH ASIA/Pakistan\", \"IDA Regions/EAST ASIA AND PACIFIC/Papua New Guinea\", \"IDA Regions/EAST ASIA AND PACIFIC/Philippines\", \"IDA Regions/AFRICA/Rwanda\", \"IDA Regions/EAST ASIA AND PACIFIC/Samoa\", \"IDA Regions/AFRICA/Sao Tome and Principe\", \"IDA Regions/AFRICA/Senegal\", \"IDA Regions/EUROPE AND CENTRAL ASIA/Serbia\", \"IDA Regions/AFRICA/Sierra Leone\", \"IDA Regions/EAST ASIA AND PACIFIC/Solomon Islands\", \"IDA Regions/AFRICA/Somalia\", \"IDA Regions/AFRICA/South Sudan\", \"IDA Regions/SOUTH ASIA/Sri Lanka\", \"IDA Regions/LATIN AMERICA AND CARIBBEAN/St. Kitts and Nevis\", \"IDA Regions/LATIN AMERICA AND CARIBBEAN/St. Lucia\", \"IDA Regions/LATIN AMERICA AND CARIBBEAN/St. Vincent and the Grenadines\", \"IDA Regions/AFRICA/Sudan\", \"IDA Regions/EUROPE AND CENTRAL ASIA/Tajikistan\", \"IDA Regions/AFRICA/Tanzania\", \"IDA Regions/EAST ASIA AND PACIFIC/Thailand\", \"IDA Regions/EAST ASIA AND PACIFIC/Timor-Leste\", \"IDA Regions/AFRICA/Togo\", \"IDA Regions/EAST ASIA AND PACIFIC/Tonga\", \"IDA Regions/AFRICA/Uganda\", \"IDA Regions/EUROPE AND CENTRAL ASIA/Uzbekistan\", \"IDA Regions/EAST ASIA AND PACIFIC/Vanuatu\", \"IDA Regions/EAST ASIA AND PACIFIC/Vietnam\", \"IDA Regions/AFRICA/Western Africa\", \"IDA Regions/MIDDLE EAST AND NORTH AFRICA/Yemen, Republic of\", \"IDA Regions/AFRICA/Zambia\", \"IDA Regions/AFRICA/Zimbabwe\", \"IDA Regions/AFRICA\", \"IDA Regions/EAST ASIA AND PACIFIC\", \"IDA Regions/EUROPE AND CENTRAL ASIA\", \"IDA Regions/LATIN AMERICA AND CARIBBEAN\", \"IDA Regions/MIDDLE EAST AND NORTH AFRICA\", \"IDA Regions/SOUTH ASIA\", \"IDA Regions\"], \"labels\": [\"Afghanistan\", \"Albania\", \"Angola\", \"Armenia\", \"Azerbaijan\", \"Bangladesh\", \"Benin\", \"Bhutan\", \"Bolivia\", \"Bosnia and Herzegovina\", \"Burkina Faso\", \"Burundi\", \"Cabo Verde\", \"Cambodia\", \"Cameroon\", \"Caribbean\", \"Central Africa\", \"Central African Republic\", \"Chad\", \"China\", \"Comoros\", \"Congo, Democratic Republic of\", \"Congo, Republic of\", \"Cote d'Ivoire\", \"Djibouti\", \"Dominica\", \"Egypt, Arab Republic of\", \"Equatorial Guinea\", \"Eritrea\", \"Ethiopia\", \"Fiji\", \"Gambia, The\", \"Georgia\", \"Ghana\", \"Grenada\", \"Guinea\", \"Guinea-Bissau\", \"Guyana\", \"Haiti\", \"Honduras\", \"India\", \"Indonesia\", \"Iraq\", \"Jordan\", \"Kenya\", \"Kosovo\", \"Kyrgyz Republic\", \"Lao People's Democratic Republic\", \"Lebanon\", \"Lesotho\", \"Liberia\", \"Madagascar\", \"Malawi\", \"Maldives\", \"Mali\", \"Mauritania\", \"Moldova\", \"Mongolia\", \"Montenegro\", \"Mozambique\", \"Myanmar\", \"Nepal\", \"Nicaragua\", \"Niger\", \"Nigeria\", \"North Macedonia\", \"Pakistan\", \"Papua New Guinea\", \"Philippines\", \"Rwanda\", \"Samoa\", \"Sao Tome and Principe\", \"Senegal\", \"Serbia\", \"Sierra Leone\", \"Solomon Islands\", \"Somalia\", \"South Sudan\", \"Sri Lanka\", \"St. Kitts and Nevis\", \"St. Lucia\", \"St. Vincent and the Grenadines\", \"Sudan\", \"Tajikistan\", \"Tanzania\", \"Thailand\", \"Timor-Leste\", \"Togo\", \"Tonga\", \"Uganda\", \"Uzbekistan\", \"Vanuatu\", \"Vietnam\", \"Western Africa\", \"Yemen, Republic of\", \"Zambia\", \"Zimbabwe\", \"AFRICA\", \"EAST ASIA AND PACIFIC\", \"EUROPE AND CENTRAL ASIA\", \"LATIN AMERICA AND CARIBBEAN\", \"MIDDLE EAST AND NORTH AFRICA\", \"SOUTH ASIA\", \"IDA Regions\"], \"marker\": {\"coloraxis\": \"coloraxis\", \"colors\": [95412775.86200948, 33597803.08596469, 108085130.02853653, 51301857.91049771, 60297006.91584679, 291751449.29291517, 61680147.91834344, 36453486.07762026, 58169420.02348663, 51207459.48277115, 87921086.05009039, 46774164.45469516, 26093190.16071822, 70960705.16988136, 113161881.35151784, 19239973.134410705, 57319086.62959854, 51891238.25635216, 49348126.09312165, 178054920.92324546, 16313893.886885742, 130587247.65549573, 46601651.99480643, 152547470.52809194, 20898713.465300154, 9323125.09937265, 121790747.79556392, 12567443.562657436, 84992581.3212593, 304774892.54553765, 69744902.6122388, 24404679.478864238, 58273068.6308464, 114501146.78226967, 14822510.932329884, 55368881.019419886, 32272439.61937583, 25013767.651115518, 51038211.34187971, 70368712.68142803, 344279803.2839239, 142514270.69825807, 244588158.47119606, 240499664.1801338, 220691916.83853027, 37538297.58368535, 39146968.44349069, 48706073.51507057, 240499664.1801338, 37662770.23596586, 50928633.29795722, 78042853.58501077, 72970284.83789702, 21509158.20114561, 80394363.36232282, 35273185.18016066, 38434210.569972225, 49912498.63839769, 17918060.47069425, 119992826.49836247, 230543807.3922631, 114984483.13272521, 53905774.24153452, 82280392.6753963, 363915791.4064909, 46277198.5390826, 271621886.47806513, 85101439.06399347, 127464822.01547092, 94711277.1878898, 16478053.127360215, 14307839.585907655, 86036363.0878017, 83928835.94372517, 43481498.21288033, 23218238.412723754, 45995560.77445059, 81769885.82124549, 123742243.42572922, 3607494.962702007, 15066822.961557021, 15041155.088307252, 79934962.45750077, 44083212.66349324, 176864742.18867615, 60124916.04503345, 72391909.25611132, 46376351.90940247, 10176835.789653203, 144855494.6803665, 206094558.02789223, 35684137.67272735, 292177253.2719348, 117371852.77537796, 53988840.94972863, 93760032.76200376, 140091054.38492796, 117578575.97448577, 160401308.50757736, 55951678.72842934, 45969154.48787757, 66338295.60432256, 254168641.9622138, 133120373.06007254]}, \"name\": \"\", \"parents\": [\"IDA Regions/SOUTH ASIA\", \"IDA Regions/EUROPE AND CENTRAL ASIA\", \"IDA Regions/AFRICA\", \"IDA Regions/EUROPE AND CENTRAL ASIA\", \"IDA Regions/EUROPE AND CENTRAL ASIA\", \"IDA Regions/SOUTH ASIA\", \"IDA Regions/AFRICA\", \"IDA Regions/SOUTH ASIA\", \"IDA Regions/LATIN AMERICA AND CARIBBEAN\", \"IDA Regions/EUROPE AND CENTRAL ASIA\", \"IDA Regions/AFRICA\", \"IDA Regions/AFRICA\", \"IDA Regions/AFRICA\", \"IDA Regions/EAST ASIA AND PACIFIC\", \"IDA Regions/AFRICA\", \"IDA Regions/LATIN AMERICA AND CARIBBEAN\", \"IDA Regions/AFRICA\", \"IDA Regions/AFRICA\", \"IDA Regions/AFRICA\", \"IDA Regions/EAST ASIA AND PACIFIC\", \"IDA Regions/AFRICA\", \"IDA Regions/AFRICA\", \"IDA Regions/AFRICA\", \"IDA Regions/AFRICA\", \"IDA Regions/MIDDLE EAST AND NORTH AFRICA\", \"IDA Regions/LATIN AMERICA AND CARIBBEAN\", \"IDA Regions/MIDDLE EAST AND NORTH AFRICA\", \"IDA Regions/AFRICA\", \"IDA Regions/AFRICA\", \"IDA Regions/AFRICA\", \"IDA Regions/EAST ASIA AND PACIFIC\", \"IDA Regions/AFRICA\", \"IDA Regions/EUROPE AND CENTRAL ASIA\", \"IDA Regions/AFRICA\", \"IDA Regions/LATIN AMERICA AND CARIBBEAN\", \"IDA Regions/AFRICA\", \"IDA Regions/AFRICA\", \"IDA Regions/LATIN AMERICA AND CARIBBEAN\", \"IDA Regions/LATIN AMERICA AND CARIBBEAN\", \"IDA Regions/LATIN AMERICA AND CARIBBEAN\", \"IDA Regions/SOUTH ASIA\", \"IDA Regions/EAST ASIA AND PACIFIC\", \"IDA Regions/MIDDLE EAST AND NORTH AFRICA\", \"IDA Regions/MIDDLE EAST AND NORTH AFRICA\", \"IDA Regions/AFRICA\", \"IDA Regions/EUROPE AND CENTRAL ASIA\", \"IDA Regions/EUROPE AND CENTRAL ASIA\", \"IDA Regions/EAST ASIA AND PACIFIC\", \"IDA Regions/MIDDLE EAST AND NORTH AFRICA\", \"IDA Regions/AFRICA\", \"IDA Regions/AFRICA\", \"IDA Regions/AFRICA\", \"IDA Regions/AFRICA\", \"IDA Regions/SOUTH ASIA\", \"IDA Regions/AFRICA\", \"IDA Regions/AFRICA\", \"IDA Regions/EUROPE AND CENTRAL ASIA\", \"IDA Regions/EAST ASIA AND PACIFIC\", \"IDA Regions/EUROPE AND CENTRAL ASIA\", \"IDA Regions/AFRICA\", \"IDA Regions/EAST ASIA AND PACIFIC\", \"IDA Regions/SOUTH ASIA\", \"IDA Regions/LATIN AMERICA AND CARIBBEAN\", \"IDA Regions/AFRICA\", \"IDA Regions/AFRICA\", \"IDA Regions/EUROPE AND CENTRAL ASIA\", \"IDA Regions/SOUTH ASIA\", \"IDA Regions/EAST ASIA AND PACIFIC\", \"IDA Regions/EAST ASIA AND PACIFIC\", \"IDA Regions/AFRICA\", \"IDA Regions/EAST ASIA AND PACIFIC\", \"IDA Regions/AFRICA\", \"IDA Regions/AFRICA\", \"IDA Regions/EUROPE AND CENTRAL ASIA\", \"IDA Regions/AFRICA\", \"IDA Regions/EAST ASIA AND PACIFIC\", \"IDA Regions/AFRICA\", \"IDA Regions/AFRICA\", \"IDA Regions/SOUTH ASIA\", \"IDA Regions/LATIN AMERICA AND CARIBBEAN\", \"IDA Regions/LATIN AMERICA AND CARIBBEAN\", \"IDA Regions/LATIN AMERICA AND CARIBBEAN\", \"IDA Regions/AFRICA\", \"IDA Regions/EUROPE AND CENTRAL ASIA\", \"IDA Regions/AFRICA\", \"IDA Regions/EAST ASIA AND PACIFIC\", \"IDA Regions/EAST ASIA AND PACIFIC\", \"IDA Regions/AFRICA\", \"IDA Regions/EAST ASIA AND PACIFIC\", \"IDA Regions/AFRICA\", \"IDA Regions/EUROPE AND CENTRAL ASIA\", \"IDA Regions/EAST ASIA AND PACIFIC\", \"IDA Regions/EAST ASIA AND PACIFIC\", \"IDA Regions/AFRICA\", \"IDA Regions/MIDDLE EAST AND NORTH AFRICA\", \"IDA Regions/AFRICA\", \"IDA Regions/AFRICA\", \"IDA Regions\", \"IDA Regions\", \"IDA Regions\", \"IDA Regions\", \"IDA Regions\", \"IDA Regions\", \"\"], \"type\": \"treemap\", \"values\": [8258787944646.898, 51054325475999.07, 15766776985234.984, 49552727667881.445, 33785950682646.39, 170431351221350.25, 67571901365292.945, 18019173697411.41, 76581488213998.69, 53306722188175.51, 71325895885587.0, 32284352874528.773, 35287548490764.01, 35287548490764.01, 47300330955705.01, 3003195616235.2363, 2252396712176.4272, 21022369313646.645, 37539945202940.445, 99856254239821.88, 15766776985234.984, 48801928763822.63, 22523967121764.26, 61565510132822.445, 25527162737999.496, 12763581368999.75, 21022369313646.645, 6757190136529.281, 9760385752764.516, 99105455335763.06, 1501597808117.6182, 21773168217705.453, 47300330955705.01, 138897797250880.12, 20271570409587.836, 58562314516587.195, 30031956162352.348, 27028760546117.113, 17268374793352.602, 58562314516587.195, 228993665737937.62, 24776363833940.688, 3753994520294.0454, 750798904058.8091, 111118237800704.06, 9760385752764.516, 49552727667881.445, 44297135339469.76, 750798904058.8091, 34536749586705.2, 25527162737999.496, 96853058623586.62, 75079890405881.06, 12763581368999.75, 81837080542410.38, 51054325475999.07, 44297135339469.76, 33785950682646.39, 8258787944646.898, 81086281638351.56, 21773168217705.453, 78833884926175.12, 55559118900351.945, 60063912324704.82, 84840276158645.62, 14265179177117.367, 144153389579291.8, 14265179177117.367, 3003195616235.2363, 68322700269351.76, 16517575889293.793, 9760385752764.516, 114121433416939.31, 14265179177117.367, 39792341915116.88, 9009586848705.707, 15015978081176.176, 3753994520294.0454, 79584683830233.94, 750798904058.8091, 19520771505529.027, 16517575889293.793, 20271570409587.836, 24025564929881.88, 141150193963056.56, 750798904058.8091, 1501597808117.6182, 36038347394822.82, 9760385752764.516, 102108650951998.31, 23274766025823.07, 7507989040588.09, 125383416977821.5, 4504793424352.8545, 75830689309939.88, 77332287118057.5, 8258787944646.898, 2186326408619126.8, 448977744627169.7, 422699782985111.25, 307827550664112.94, 127635813689997.94, 741038518306032.9, 4234505818892057.0]}],\n",
       "                        {\"coloraxis\": {\"colorbar\": {\"title\": {\"text\": \"Original Principal Amount\"}}, \"colorscale\": [[0.0, \"#0d0887\"], [0.1111111111111111, \"#46039f\"], [0.2222222222222222, \"#7201a8\"], [0.3333333333333333, \"#9c179e\"], [0.4444444444444444, \"#bd3786\"], [0.5555555555555556, \"#d8576b\"], [0.6666666666666666, \"#ed7953\"], [0.7777777777777778, \"#fb9f3a\"], [0.8888888888888888, \"#fdca26\"], [1.0, \"#f0f921\"]]}, \"legend\": {\"tracegroupgap\": 0}, \"margin\": {\"t\": 60}, \"template\": {\"data\": {\"bar\": [{\"error_x\": {\"color\": \"#2a3f5f\"}, \"error_y\": {\"color\": \"#2a3f5f\"}, \"marker\": {\"line\": {\"color\": \"#E5ECF6\", \"width\": 0.5}}, \"type\": \"bar\"}], \"barpolar\": [{\"marker\": {\"line\": {\"color\": \"#E5ECF6\", \"width\": 0.5}}, \"type\": \"barpolar\"}], \"carpet\": [{\"aaxis\": {\"endlinecolor\": \"#2a3f5f\", \"gridcolor\": \"white\", \"linecolor\": \"white\", \"minorgridcolor\": \"white\", \"startlinecolor\": \"#2a3f5f\"}, \"baxis\": {\"endlinecolor\": \"#2a3f5f\", \"gridcolor\": \"white\", \"linecolor\": \"white\", \"minorgridcolor\": \"white\", \"startlinecolor\": \"#2a3f5f\"}, \"type\": \"carpet\"}], \"choropleth\": [{\"colorbar\": {\"outlinewidth\": 0, \"ticks\": \"\"}, \"type\": \"choropleth\"}], \"contour\": [{\"colorbar\": {\"outlinewidth\": 0, \"ticks\": \"\"}, \"colorscale\": [[0.0, \"#0d0887\"], [0.1111111111111111, \"#46039f\"], [0.2222222222222222, \"#7201a8\"], [0.3333333333333333, \"#9c179e\"], [0.4444444444444444, \"#bd3786\"], [0.5555555555555556, \"#d8576b\"], [0.6666666666666666, \"#ed7953\"], [0.7777777777777778, \"#fb9f3a\"], [0.8888888888888888, \"#fdca26\"], [1.0, \"#f0f921\"]], \"type\": \"contour\"}], \"contourcarpet\": [{\"colorbar\": {\"outlinewidth\": 0, \"ticks\": \"\"}, \"type\": \"contourcarpet\"}], \"heatmap\": [{\"colorbar\": {\"outlinewidth\": 0, \"ticks\": \"\"}, \"colorscale\": [[0.0, \"#0d0887\"], [0.1111111111111111, \"#46039f\"], [0.2222222222222222, \"#7201a8\"], [0.3333333333333333, \"#9c179e\"], [0.4444444444444444, \"#bd3786\"], [0.5555555555555556, \"#d8576b\"], [0.6666666666666666, \"#ed7953\"], [0.7777777777777778, \"#fb9f3a\"], [0.8888888888888888, \"#fdca26\"], [1.0, \"#f0f921\"]], \"type\": \"heatmap\"}], \"heatmapgl\": [{\"colorbar\": {\"outlinewidth\": 0, \"ticks\": \"\"}, \"colorscale\": [[0.0, \"#0d0887\"], [0.1111111111111111, \"#46039f\"], [0.2222222222222222, \"#7201a8\"], [0.3333333333333333, \"#9c179e\"], [0.4444444444444444, \"#bd3786\"], [0.5555555555555556, \"#d8576b\"], [0.6666666666666666, \"#ed7953\"], [0.7777777777777778, \"#fb9f3a\"], [0.8888888888888888, \"#fdca26\"], [1.0, \"#f0f921\"]], \"type\": \"heatmapgl\"}], \"histogram\": [{\"marker\": {\"colorbar\": {\"outlinewidth\": 0, \"ticks\": \"\"}}, \"type\": \"histogram\"}], \"histogram2d\": [{\"colorbar\": {\"outlinewidth\": 0, \"ticks\": \"\"}, \"colorscale\": [[0.0, \"#0d0887\"], [0.1111111111111111, \"#46039f\"], [0.2222222222222222, \"#7201a8\"], [0.3333333333333333, \"#9c179e\"], [0.4444444444444444, \"#bd3786\"], [0.5555555555555556, \"#d8576b\"], [0.6666666666666666, \"#ed7953\"], [0.7777777777777778, \"#fb9f3a\"], [0.8888888888888888, \"#fdca26\"], [1.0, \"#f0f921\"]], \"type\": \"histogram2d\"}], \"histogram2dcontour\": [{\"colorbar\": {\"outlinewidth\": 0, \"ticks\": \"\"}, \"colorscale\": [[0.0, \"#0d0887\"], [0.1111111111111111, \"#46039f\"], [0.2222222222222222, \"#7201a8\"], [0.3333333333333333, \"#9c179e\"], [0.4444444444444444, \"#bd3786\"], [0.5555555555555556, \"#d8576b\"], [0.6666666666666666, \"#ed7953\"], [0.7777777777777778, \"#fb9f3a\"], [0.8888888888888888, \"#fdca26\"], [1.0, \"#f0f921\"]], \"type\": \"histogram2dcontour\"}], \"mesh3d\": [{\"colorbar\": {\"outlinewidth\": 0, \"ticks\": \"\"}, \"type\": \"mesh3d\"}], \"parcoords\": [{\"line\": {\"colorbar\": {\"outlinewidth\": 0, \"ticks\": \"\"}}, \"type\": \"parcoords\"}], \"pie\": [{\"automargin\": true, \"type\": \"pie\"}], \"scatter\": [{\"marker\": {\"colorbar\": {\"outlinewidth\": 0, \"ticks\": \"\"}}, \"type\": \"scatter\"}], \"scatter3d\": [{\"line\": {\"colorbar\": {\"outlinewidth\": 0, \"ticks\": \"\"}}, \"marker\": {\"colorbar\": {\"outlinewidth\": 0, \"ticks\": \"\"}}, \"type\": \"scatter3d\"}], \"scattercarpet\": [{\"marker\": {\"colorbar\": {\"outlinewidth\": 0, \"ticks\": \"\"}}, \"type\": \"scattercarpet\"}], \"scattergeo\": [{\"marker\": {\"colorbar\": {\"outlinewidth\": 0, \"ticks\": \"\"}}, \"type\": \"scattergeo\"}], \"scattergl\": [{\"marker\": {\"colorbar\": {\"outlinewidth\": 0, \"ticks\": \"\"}}, \"type\": \"scattergl\"}], \"scattermapbox\": [{\"marker\": {\"colorbar\": {\"outlinewidth\": 0, \"ticks\": \"\"}}, \"type\": \"scattermapbox\"}], \"scatterpolar\": [{\"marker\": {\"colorbar\": {\"outlinewidth\": 0, \"ticks\": \"\"}}, \"type\": \"scatterpolar\"}], \"scatterpolargl\": [{\"marker\": {\"colorbar\": {\"outlinewidth\": 0, \"ticks\": \"\"}}, \"type\": \"scatterpolargl\"}], \"scatterternary\": [{\"marker\": {\"colorbar\": {\"outlinewidth\": 0, \"ticks\": \"\"}}, \"type\": \"scatterternary\"}], \"surface\": [{\"colorbar\": {\"outlinewidth\": 0, \"ticks\": \"\"}, \"colorscale\": [[0.0, \"#0d0887\"], [0.1111111111111111, \"#46039f\"], [0.2222222222222222, \"#7201a8\"], [0.3333333333333333, \"#9c179e\"], [0.4444444444444444, \"#bd3786\"], [0.5555555555555556, \"#d8576b\"], [0.6666666666666666, \"#ed7953\"], [0.7777777777777778, \"#fb9f3a\"], [0.8888888888888888, \"#fdca26\"], [1.0, \"#f0f921\"]], \"type\": \"surface\"}], \"table\": [{\"cells\": {\"fill\": {\"color\": \"#EBF0F8\"}, \"line\": {\"color\": \"white\"}}, \"header\": {\"fill\": {\"color\": \"#C8D4E3\"}, \"line\": {\"color\": \"white\"}}, \"type\": \"table\"}]}, \"layout\": {\"annotationdefaults\": {\"arrowcolor\": \"#2a3f5f\", \"arrowhead\": 0, \"arrowwidth\": 1}, \"coloraxis\": {\"colorbar\": {\"outlinewidth\": 0, \"ticks\": \"\"}}, \"colorscale\": {\"diverging\": [[0, \"#8e0152\"], [0.1, \"#c51b7d\"], [0.2, \"#de77ae\"], [0.3, \"#f1b6da\"], [0.4, \"#fde0ef\"], [0.5, \"#f7f7f7\"], [0.6, \"#e6f5d0\"], [0.7, \"#b8e186\"], [0.8, \"#7fbc41\"], [0.9, \"#4d9221\"], [1, \"#276419\"]], \"sequential\": [[0.0, \"#0d0887\"], [0.1111111111111111, \"#46039f\"], [0.2222222222222222, \"#7201a8\"], [0.3333333333333333, \"#9c179e\"], [0.4444444444444444, \"#bd3786\"], [0.5555555555555556, \"#d8576b\"], [0.6666666666666666, \"#ed7953\"], [0.7777777777777778, \"#fb9f3a\"], [0.8888888888888888, \"#fdca26\"], [1.0, \"#f0f921\"]], \"sequentialminus\": [[0.0, \"#0d0887\"], [0.1111111111111111, \"#46039f\"], [0.2222222222222222, \"#7201a8\"], [0.3333333333333333, \"#9c179e\"], [0.4444444444444444, \"#bd3786\"], [0.5555555555555556, \"#d8576b\"], [0.6666666666666666, \"#ed7953\"], [0.7777777777777778, \"#fb9f3a\"], [0.8888888888888888, \"#fdca26\"], [1.0, \"#f0f921\"]]}, \"colorway\": [\"#636efa\", \"#EF553B\", \"#00cc96\", \"#ab63fa\", \"#FFA15A\", \"#19d3f3\", \"#FF6692\", \"#B6E880\", \"#FF97FF\", \"#FECB52\"], \"font\": {\"color\": \"#2a3f5f\"}, \"geo\": {\"bgcolor\": \"white\", \"lakecolor\": \"white\", \"landcolor\": \"#E5ECF6\", \"showlakes\": true, \"showland\": true, \"subunitcolor\": \"white\"}, \"hoverlabel\": {\"align\": \"left\"}, \"hovermode\": \"closest\", \"mapbox\": {\"style\": \"light\"}, \"paper_bgcolor\": \"white\", \"plot_bgcolor\": \"#E5ECF6\", \"polar\": {\"angularaxis\": {\"gridcolor\": \"white\", \"linecolor\": \"white\", \"ticks\": \"\"}, \"bgcolor\": \"#E5ECF6\", \"radialaxis\": {\"gridcolor\": \"white\", \"linecolor\": \"white\", \"ticks\": \"\"}}, \"scene\": {\"xaxis\": {\"backgroundcolor\": \"#E5ECF6\", \"gridcolor\": \"white\", \"gridwidth\": 2, \"linecolor\": \"white\", \"showbackground\": true, \"ticks\": \"\", \"zerolinecolor\": \"white\"}, \"yaxis\": {\"backgroundcolor\": \"#E5ECF6\", \"gridcolor\": \"white\", \"gridwidth\": 2, \"linecolor\": \"white\", \"showbackground\": true, \"ticks\": \"\", \"zerolinecolor\": \"white\"}, \"zaxis\": {\"backgroundcolor\": \"#E5ECF6\", \"gridcolor\": \"white\", \"gridwidth\": 2, \"linecolor\": \"white\", \"showbackground\": true, \"ticks\": \"\", \"zerolinecolor\": \"white\"}}, \"shapedefaults\": {\"line\": {\"color\": \"#2a3f5f\"}}, \"ternary\": {\"aaxis\": {\"gridcolor\": \"white\", \"linecolor\": \"white\", \"ticks\": \"\"}, \"baxis\": {\"gridcolor\": \"white\", \"linecolor\": \"white\", \"ticks\": \"\"}, \"bgcolor\": \"#E5ECF6\", \"caxis\": {\"gridcolor\": \"white\", \"linecolor\": \"white\", \"ticks\": \"\"}}, \"title\": {\"x\": 0.05}, \"xaxis\": {\"automargin\": true, \"gridcolor\": \"white\", \"linecolor\": \"white\", \"ticks\": \"\", \"title\": {\"standoff\": 15}, \"zerolinecolor\": \"white\", \"zerolinewidth\": 2}, \"yaxis\": {\"automargin\": true, \"gridcolor\": \"white\", \"linecolor\": \"white\", \"ticks\": \"\", \"title\": {\"standoff\": 15}, \"zerolinecolor\": \"white\", \"zerolinewidth\": 2}}}},\n",
       "                        {\"responsive\": true}\n",
       "                    ).then(function(){\n",
       "                            \n",
       "var gd = document.getElementById('67a7e6af-52bf-46e2-a57f-ebe9f80aabac');\n",
       "var x = new MutationObserver(function (mutations, observer) {{\n",
       "        var display = window.getComputedStyle(gd).display;\n",
       "        if (!display || display === 'none') {{\n",
       "            console.log([gd, 'removed!']);\n",
       "            Plotly.purge(gd);\n",
       "            observer.disconnect();\n",
       "        }}\n",
       "}});\n",
       "\n",
       "// Listen for the removal of the full notebook cells\n",
       "var notebookContainer = gd.closest('#notebook-container');\n",
       "if (notebookContainer) {{\n",
       "    x.observe(notebookContainer, {childList: true});\n",
       "}}\n",
       "\n",
       "// Listen for the clearing of the current output cell\n",
       "var outputEl = gd.closest('.output');\n",
       "if (outputEl) {{\n",
       "    x.observe(outputEl, {childList: true});\n",
       "}}\n",
       "\n",
       "                        })\n",
       "                };\n",
       "                });\n",
       "            </script>\n",
       "        </div>"
      ]
     },
     "metadata": {},
     "output_type": "display_data"
    }
   ],
   "source": [
    "fig = px.treemap(df, path=[px.Constant('IDA Regions'), 'Region', 'Country'], \n",
    "                 values='Total Principal Amount',\n",
    "                 color='Original Principal Amount'\n",
    "                  )\n",
    "fig.show()"
   ]
  },
  {
   "cell_type": "code",
   "execution_count": 577,
   "metadata": {},
   "outputs": [],
   "source": [
    "df.to_csv('ida_fe.csv', index = False)"
   ]
  },
  {
   "cell_type": "code",
   "execution_count": null,
   "metadata": {},
   "outputs": [],
   "source": []
  }
 ],
 "metadata": {
  "kernelspec": {
   "display_name": "Python 3",
   "language": "python",
   "name": "python3"
  },
  "language_info": {
   "codemirror_mode": {
    "name": "ipython",
    "version": 3
   },
   "file_extension": ".py",
   "mimetype": "text/x-python",
   "name": "python",
   "nbconvert_exporter": "python",
   "pygments_lexer": "ipython3",
   "version": "3.7.6"
  }
 },
 "nbformat": 4,
 "nbformat_minor": 4
}
